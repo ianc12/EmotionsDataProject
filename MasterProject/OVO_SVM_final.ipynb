{
 "cells": [
  {
   "cell_type": "markdown",
   "id": "f5c91bcb",
   "metadata": {},
   "source": [
    "## SVM using OVO\n",
    "\n",
    "First, we read the combined dataset and split it into train and test datasets. Then we stratify the train and test datasets to obtain a balanced dataset. "
   ]
  },
  {
   "cell_type": "code",
   "execution_count": 1,
   "id": "41d0e190",
   "metadata": {},
   "outputs": [],
   "source": [
    "import pandas as pd\n",
    "import numpy as np\n",
    "import matplotlib.pyplot as plt"
   ]
  },
  {
   "cell_type": "code",
   "execution_count": 2,
   "id": "2458a7dd",
   "metadata": {},
   "outputs": [
    {
     "data": {
      "text/html": [
       "<div>\n",
       "<style scoped>\n",
       "    .dataframe tbody tr th:only-of-type {\n",
       "        vertical-align: middle;\n",
       "    }\n",
       "\n",
       "    .dataframe tbody tr th {\n",
       "        vertical-align: top;\n",
       "    }\n",
       "\n",
       "    .dataframe thead th {\n",
       "        text-align: right;\n",
       "    }\n",
       "</style>\n",
       "<table border=\"1\" class=\"dataframe\">\n",
       "  <thead>\n",
       "    <tr style=\"text-align: right;\">\n",
       "      <th></th>\n",
       "      <th>sentiment</th>\n",
       "      <th>Text</th>\n",
       "    </tr>\n",
       "  </thead>\n",
       "  <tbody>\n",
       "    <tr>\n",
       "      <th>0</th>\n",
       "      <td>sadness</td>\n",
       "      <td>@tiffanylue i know  i was listenin to bad habi...</td>\n",
       "    </tr>\n",
       "    <tr>\n",
       "      <th>1</th>\n",
       "      <td>sadness</td>\n",
       "      <td>Layin n bed with a headache  ughhhh...waitin o...</td>\n",
       "    </tr>\n",
       "    <tr>\n",
       "      <th>2</th>\n",
       "      <td>sadness</td>\n",
       "      <td>Funeral ceremony...gloomy friday...</td>\n",
       "    </tr>\n",
       "    <tr>\n",
       "      <th>3</th>\n",
       "      <td>happy</td>\n",
       "      <td>wants to hang out with friends SOON!</td>\n",
       "    </tr>\n",
       "    <tr>\n",
       "      <th>4</th>\n",
       "      <td>neutral</td>\n",
       "      <td>@dannycastillo We want to trade with someone w...</td>\n",
       "    </tr>\n",
       "  </tbody>\n",
       "</table>\n",
       "</div>"
      ],
      "text/plain": [
       "  sentiment                                               Text\n",
       "0   sadness  @tiffanylue i know  i was listenin to bad habi...\n",
       "1   sadness  Layin n bed with a headache  ughhhh...waitin o...\n",
       "2   sadness                Funeral ceremony...gloomy friday...\n",
       "3     happy               wants to hang out with friends SOON!\n",
       "4   neutral  @dannycastillo We want to trade with someone w..."
      ]
     },
     "execution_count": 2,
     "metadata": {},
     "output_type": "execute_result"
    }
   ],
   "source": [
    "df = pd.read_csv('combined_data.csv')\n",
    "df.head()"
   ]
  },
  {
   "cell_type": "markdown",
   "id": "7b8eac87",
   "metadata": {},
   "source": [
    "Remove Stopwords:"
   ]
  },
  {
   "cell_type": "code",
   "execution_count": 3,
   "id": "554fe7f4",
   "metadata": {},
   "outputs": [],
   "source": [
    "import nltk\n",
    "from nltk.corpus import stopwords\n",
    "from nltk.tokenize import word_tokenize\n",
    "import re\n",
    "\n",
    "stopWords = stopwords.words(\"english\")\n",
    "\n",
    "def cleanText(text):\n",
    "    \n",
    "    output = \"\"\n",
    "    \n",
    "    \n",
    "    for word in text.split():\n",
    "        cleanWord = re.sub(\"[^a-zA-Z]\",  # Search for all non-letters\n",
    "                          \" \",          # Replace all non-letters with spaces\n",
    "                          str(word))\n",
    "        if cleanWord in stopWords:\n",
    "            pass\n",
    "        else:\n",
    "            output = output + \" \" + cleanWord\n",
    "    return output"
   ]
  },
  {
   "cell_type": "code",
   "execution_count": 4,
   "id": "b43b32d7",
   "metadata": {},
   "outputs": [],
   "source": [
    "df.Text = df.Text.apply(lambda x: cleanText(x))"
   ]
  },
  {
   "cell_type": "code",
   "execution_count": 5,
   "id": "5692ae13",
   "metadata": {},
   "outputs": [],
   "source": [
    "import re\n",
    "df['Text'] = df['Text'].apply(lambda x: re.sub(\"(@[A-Za-z0-9]+)|([^A-Za-z \\t])|(\\w+:\\/\\/\\S+)\",'',x))\n",
    "df.dropna(inplace=True)"
   ]
  },
  {
   "cell_type": "markdown",
   "id": "193fba96",
   "metadata": {},
   "source": [
    "Apply a snowball stemmer"
   ]
  },
  {
   "cell_type": "code",
   "execution_count": 6,
   "id": "e5b472f8",
   "metadata": {},
   "outputs": [
    {
     "data": {
      "text/html": [
       "<div>\n",
       "<style scoped>\n",
       "    .dataframe tbody tr th:only-of-type {\n",
       "        vertical-align: middle;\n",
       "    }\n",
       "\n",
       "    .dataframe tbody tr th {\n",
       "        vertical-align: top;\n",
       "    }\n",
       "\n",
       "    .dataframe thead th {\n",
       "        text-align: right;\n",
       "    }\n",
       "</style>\n",
       "<table border=\"1\" class=\"dataframe\">\n",
       "  <thead>\n",
       "    <tr style=\"text-align: right;\">\n",
       "      <th></th>\n",
       "      <th>sentiment</th>\n",
       "      <th>Text</th>\n",
       "    </tr>\n",
       "  </thead>\n",
       "  <tbody>\n",
       "    <tr>\n",
       "      <th>0</th>\n",
       "      <td>sadness</td>\n",
       "      <td>tiffanylu know listenin bad habit earlier star...</td>\n",
       "    </tr>\n",
       "    <tr>\n",
       "      <th>1</th>\n",
       "      <td>sadness</td>\n",
       "      <td>Layin n bed headach ughhhh waitin call</td>\n",
       "    </tr>\n",
       "    <tr>\n",
       "      <th>2</th>\n",
       "      <td>sadness</td>\n",
       "      <td>Funer ceremoni gloomi friday</td>\n",
       "    </tr>\n",
       "    <tr>\n",
       "      <th>3</th>\n",
       "      <td>happy</td>\n",
       "      <td>want hang friend SOON</td>\n",
       "    </tr>\n",
       "    <tr>\n",
       "      <th>4</th>\n",
       "      <td>neutral</td>\n",
       "      <td>dannycastillo We want trade someon Houston tic...</td>\n",
       "    </tr>\n",
       "  </tbody>\n",
       "</table>\n",
       "</div>"
      ],
      "text/plain": [
       "  sentiment                                               Text\n",
       "0   sadness  tiffanylu know listenin bad habit earlier star...\n",
       "1   sadness            Layin n bed headach ughhhh waitin call \n",
       "2   sadness                      Funer ceremoni gloomi friday \n",
       "3     happy                             want hang friend SOON \n",
       "4   neutral  dannycastillo We want trade someon Houston tic..."
      ]
     },
     "execution_count": 6,
     "metadata": {},
     "output_type": "execute_result"
    }
   ],
   "source": [
    "import snowballstemmer\n",
    "ss = snowballstemmer.stemmer('english')\n",
    "def replace(x):\n",
    "    words = x.split()\n",
    "    newtext = ''\n",
    "    for w in words:\n",
    "        n = ss.stemWord(w)\n",
    "        newtext += n\n",
    "        newtext += \" \"\n",
    "    return newtext\n",
    "df['Text'] = df['Text'].apply(lambda x: replace(x))\n",
    "df.head()"
   ]
  },
  {
   "cell_type": "markdown",
   "id": "e4db7fc8",
   "metadata": {},
   "source": [
    "Stratify:"
   ]
  },
  {
   "cell_type": "code",
   "execution_count": 7,
   "id": "ec2193f2",
   "metadata": {},
   "outputs": [],
   "source": [
    "def stratify(data, N):\n",
    "    rows = []\n",
    "    fear = data[data['sentiment'] == 'fear']\n",
    "    happy = data[data['sentiment'] == 'happy']\n",
    "    sad = data[data['sentiment'] == 'sadness']\n",
    "    neutral = data[data['sentiment'] == 'neutral']\n",
    "    love = data[data['sentiment'] == 'love']\n",
    "    anger = data[data['sentiment'] == 'anger']\n",
    "    surprise = data[data['sentiment'] == 'surprise']\n",
    "    relief = data[data['sentiment'] == 'relief']\n",
    "    \n",
    "    for i in range(N):\n",
    "        #print(fear.loc[np.random.choice(fear.index)])\n",
    "        rows.append(fear.loc[np.random.choice(fear.index)])\n",
    "        rows.append(happy.loc[np.random.choice(happy.index)])\n",
    "        rows.append(sad.loc[np.random.choice(sad.index)])\n",
    "        rows.append(neutral.loc[np.random.choice(neutral.index)])\n",
    "        rows.append(love.loc[np.random.choice(love.index)])\n",
    "        rows.append(anger.loc[np.random.choice(anger.index)])\n",
    "        rows.append(surprise.loc[np.random.choice(surprise.index)])\n",
    "        rows.append(relief.loc[np.random.choice(relief.index)])\n",
    "    sentiments = [x['sentiment'] for x in rows]\n",
    "    texts = [x['Text'] for x in rows]\n",
    "    d = {'sentiment': sentiments, 'Text': texts}\n",
    "    return pd.DataFrame(d)"
   ]
  },
  {
   "cell_type": "markdown",
   "id": "93ae0618",
   "metadata": {},
   "source": [
    "Split into train and test"
   ]
  },
  {
   "cell_type": "code",
   "execution_count": 8,
   "id": "ed0d03da",
   "metadata": {},
   "outputs": [],
   "source": [
    "from sklearn.model_selection import train_test_split\n",
    "import time\n",
    "from sklearn import svm\n",
    "from sklearn.feature_extraction.text import TfidfVectorizer\n",
    "from sklearn.metrics import classification_report\n",
    "Balanced_Train, Balanced_Test = train_test_split(df, test_size=0.2, random_state=42)"
   ]
  },
  {
   "cell_type": "markdown",
   "id": "56afb568",
   "metadata": {},
   "source": [
    "Stratify Train"
   ]
  },
  {
   "cell_type": "code",
   "execution_count": 9,
   "id": "f8269d61",
   "metadata": {},
   "outputs": [
    {
     "data": {
      "text/plain": [
       "sadness     8000\n",
       "fear        8000\n",
       "surprise    8000\n",
       "neutral     8000\n",
       "love        8000\n",
       "happy       8000\n",
       "relief      8000\n",
       "anger       8000\n",
       "Name: sentiment, dtype: int64"
      ]
     },
     "execution_count": 9,
     "metadata": {},
     "output_type": "execute_result"
    }
   ],
   "source": [
    "balanced_df_train = stratify(Balanced_Train, 8000)\n",
    "balanced_df_train['sentiment'].value_counts()"
   ]
  },
  {
   "cell_type": "markdown",
   "id": "8536bc8e",
   "metadata": {},
   "source": [
    "Stratify Test"
   ]
  },
  {
   "cell_type": "code",
   "execution_count": 10,
   "id": "d8d1f5a4",
   "metadata": {},
   "outputs": [
    {
     "data": {
      "text/plain": [
       "relief      2000\n",
       "surprise    2000\n",
       "neutral     2000\n",
       "love        2000\n",
       "anger       2000\n",
       "sadness     2000\n",
       "fear        2000\n",
       "happy       2000\n",
       "Name: sentiment, dtype: int64"
      ]
     },
     "execution_count": 10,
     "metadata": {},
     "output_type": "execute_result"
    }
   ],
   "source": [
    "balanced_df_test = stratify(Balanced_Test, 2000)\n",
    "balanced_df_test['sentiment'].value_counts()"
   ]
  },
  {
   "cell_type": "markdown",
   "id": "b758a77d",
   "metadata": {},
   "source": [
    "Unbalanced Data"
   ]
  },
  {
   "cell_type": "code",
   "execution_count": 11,
   "id": "354daff9",
   "metadata": {},
   "outputs": [
    {
     "data": {
      "text/html": [
       "<div>\n",
       "<style scoped>\n",
       "    .dataframe tbody tr th:only-of-type {\n",
       "        vertical-align: middle;\n",
       "    }\n",
       "\n",
       "    .dataframe tbody tr th {\n",
       "        vertical-align: top;\n",
       "    }\n",
       "\n",
       "    .dataframe thead th {\n",
       "        text-align: right;\n",
       "    }\n",
       "</style>\n",
       "<table border=\"1\" class=\"dataframe\">\n",
       "  <thead>\n",
       "    <tr style=\"text-align: right;\">\n",
       "      <th></th>\n",
       "      <th>sentiment</th>\n",
       "      <th>Text</th>\n",
       "    </tr>\n",
       "  </thead>\n",
       "  <tbody>\n",
       "    <tr>\n",
       "      <th>0</th>\n",
       "      <td>sadness</td>\n",
       "      <td>@tiffanylue i know  i was listenin to bad habi...</td>\n",
       "    </tr>\n",
       "    <tr>\n",
       "      <th>1</th>\n",
       "      <td>sadness</td>\n",
       "      <td>Layin n bed with a headache  ughhhh...waitin o...</td>\n",
       "    </tr>\n",
       "    <tr>\n",
       "      <th>2</th>\n",
       "      <td>sadness</td>\n",
       "      <td>Funeral ceremony...gloomy friday...</td>\n",
       "    </tr>\n",
       "    <tr>\n",
       "      <th>3</th>\n",
       "      <td>happy</td>\n",
       "      <td>wants to hang out with friends SOON!</td>\n",
       "    </tr>\n",
       "    <tr>\n",
       "      <th>4</th>\n",
       "      <td>neutral</td>\n",
       "      <td>@dannycastillo We want to trade with someone w...</td>\n",
       "    </tr>\n",
       "  </tbody>\n",
       "</table>\n",
       "</div>"
      ],
      "text/plain": [
       "  sentiment                                               Text\n",
       "0   sadness  @tiffanylue i know  i was listenin to bad habi...\n",
       "1   sadness  Layin n bed with a headache  ughhhh...waitin o...\n",
       "2   sadness                Funeral ceremony...gloomy friday...\n",
       "3     happy               wants to hang out with friends SOON!\n",
       "4   neutral  @dannycastillo We want to trade with someone w..."
      ]
     },
     "execution_count": 11,
     "metadata": {},
     "output_type": "execute_result"
    }
   ],
   "source": [
    "unbalanced = pd.read_csv('combined_data.csv')\n",
    "unbalanced.head()"
   ]
  },
  {
   "cell_type": "code",
   "execution_count": 12,
   "id": "3bc37770",
   "metadata": {},
   "outputs": [],
   "source": [
    "import nltk\n",
    "from nltk.corpus import stopwords\n",
    "from nltk.tokenize import word_tokenize\n",
    "import re\n",
    "\n",
    "stopWords = stopwords.words(\"english\")\n",
    "\n",
    "def cleanText(text):\n",
    "    \n",
    "    output = \"\"\n",
    "    \n",
    "    \n",
    "    for word in text.split():\n",
    "        cleanWord = re.sub(\"[^a-zA-Z]\",  # Search for all non-letters\n",
    "                          \" \",          # Replace all non-letters with spaces\n",
    "                          str(word))\n",
    "        if cleanWord in stopWords:\n",
    "            pass\n",
    "        else:\n",
    "            output = output + \" \" + cleanWord\n",
    "    return output"
   ]
  },
  {
   "cell_type": "code",
   "execution_count": 13,
   "id": "6f350045",
   "metadata": {},
   "outputs": [],
   "source": [
    "unbalanced.Text = unbalanced.Text.apply(lambda x: cleanText(x))"
   ]
  },
  {
   "cell_type": "code",
   "execution_count": 14,
   "id": "f49e509d",
   "metadata": {},
   "outputs": [],
   "source": [
    "import re\n",
    "unbalanced['Text'] = unbalanced['Text'].apply(lambda x: re.sub(\"(@[A-Za-z0-9]+)|([^A-Za-z \\t])|(\\w+:\\/\\/\\S+)\",'',x))\n",
    "unbalanced.dropna(inplace=True)"
   ]
  },
  {
   "cell_type": "code",
   "execution_count": 15,
   "id": "ae642a36",
   "metadata": {},
   "outputs": [
    {
     "data": {
      "text/html": [
       "<div>\n",
       "<style scoped>\n",
       "    .dataframe tbody tr th:only-of-type {\n",
       "        vertical-align: middle;\n",
       "    }\n",
       "\n",
       "    .dataframe tbody tr th {\n",
       "        vertical-align: top;\n",
       "    }\n",
       "\n",
       "    .dataframe thead th {\n",
       "        text-align: right;\n",
       "    }\n",
       "</style>\n",
       "<table border=\"1\" class=\"dataframe\">\n",
       "  <thead>\n",
       "    <tr style=\"text-align: right;\">\n",
       "      <th></th>\n",
       "      <th>sentiment</th>\n",
       "      <th>Text</th>\n",
       "    </tr>\n",
       "  </thead>\n",
       "  <tbody>\n",
       "    <tr>\n",
       "      <th>0</th>\n",
       "      <td>sadness</td>\n",
       "      <td>tiffanylu know listenin bad habit earlier star...</td>\n",
       "    </tr>\n",
       "    <tr>\n",
       "      <th>1</th>\n",
       "      <td>sadness</td>\n",
       "      <td>Layin n bed headach ughhhh waitin call</td>\n",
       "    </tr>\n",
       "    <tr>\n",
       "      <th>2</th>\n",
       "      <td>sadness</td>\n",
       "      <td>Funer ceremoni gloomi friday</td>\n",
       "    </tr>\n",
       "    <tr>\n",
       "      <th>3</th>\n",
       "      <td>happy</td>\n",
       "      <td>want hang friend SOON</td>\n",
       "    </tr>\n",
       "    <tr>\n",
       "      <th>4</th>\n",
       "      <td>neutral</td>\n",
       "      <td>dannycastillo We want trade someon Houston tic...</td>\n",
       "    </tr>\n",
       "  </tbody>\n",
       "</table>\n",
       "</div>"
      ],
      "text/plain": [
       "  sentiment                                               Text\n",
       "0   sadness  tiffanylu know listenin bad habit earlier star...\n",
       "1   sadness            Layin n bed headach ughhhh waitin call \n",
       "2   sadness                      Funer ceremoni gloomi friday \n",
       "3     happy                             want hang friend SOON \n",
       "4   neutral  dannycastillo We want trade someon Houston tic..."
      ]
     },
     "execution_count": 15,
     "metadata": {},
     "output_type": "execute_result"
    }
   ],
   "source": [
    "import snowballstemmer\n",
    "ss = snowballstemmer.stemmer('english')\n",
    "def replace(x):\n",
    "    words = x.split()\n",
    "    newtext = ''\n",
    "    for w in words:\n",
    "        n = ss.stemWord(w)\n",
    "        newtext += n\n",
    "        newtext += \" \"\n",
    "    return newtext\n",
    "unbalanced['Text'] = unbalanced['Text'].apply(lambda x: replace(x))\n",
    "unbalanced.head()"
   ]
  },
  {
   "cell_type": "code",
   "execution_count": 16,
   "id": "88fbb6ad",
   "metadata": {},
   "outputs": [
    {
     "data": {
      "text/plain": [
       "fear        16241\n",
       "happy       13508\n",
       "sadness      9796\n",
       "neutral      8960\n",
       "love         4720\n",
       "anger        4069\n",
       "surprise     2639\n",
       "relief       1526\n",
       "Name: sentiment, dtype: int64"
      ]
     },
     "execution_count": 16,
     "metadata": {},
     "output_type": "execute_result"
    }
   ],
   "source": [
    "unbalanced['sentiment'].value_counts()"
   ]
  },
  {
   "cell_type": "code",
   "execution_count": 17,
   "id": "b59d014d",
   "metadata": {},
   "outputs": [],
   "source": [
    "from sklearn.model_selection import train_test_split\n",
    "\n",
    "#overall train and test\n",
    "Unbalanced_train, Unbalanced_test = train_test_split(unbalanced, test_size=0.2, random_state=42)"
   ]
  },
  {
   "cell_type": "markdown",
   "id": "72b53771",
   "metadata": {},
   "source": [
    "Unbalanced Train and Test"
   ]
  },
  {
   "cell_type": "code",
   "execution_count": 18,
   "id": "a25ac5b2",
   "metadata": {},
   "outputs": [
    {
     "name": "stdout",
     "output_type": "stream",
     "text": [
      "Training time: 757.262862s; Prediction time: 49.833889s\n",
      "happy:  {'precision': 0.440261356565028, 'recall': 0.514171511627907, 'f1-score': 0.47435467650016755, 'support': 2752}\n",
      "fear:  {'precision': 0.3882760112481073, 'recall': 0.5489296636085627, 'f1-score': 0.4548333966806031, 'support': 3270}\n",
      "sadness:  {'precision': 0.46486028789161726, 'recall': 0.28197226502311246, 'f1-score': 0.3510230179028133, 'support': 1947}\n",
      "neutral:  {'precision': 0.35406091370558374, 'recall': 0.4761092150170648, 'f1-score': 0.4061135371179039, 'support': 1758}\n",
      "love:  {'precision': 0.5133779264214047, 'recall': 0.3184647302904564, 'f1-score': 0.39308578745198464, 'support': 964}\n",
      "anger:  {'precision': 0.4946236559139785, 'recall': 0.17534942820838628, 'f1-score': 0.2589118198874297, 'support': 787}\n",
      "surprise:  {'precision': 0.4074074074074074, 'recall': 0.021739130434782608, 'f1-score': 0.04127579737335835, 'support': 506}\n",
      "relief:  {'precision': 0.5, 'recall': 0.00974025974025974, 'f1-score': 0.01910828025477707, 'support': 308}\n"
     ]
    }
   ],
   "source": [
    "for i,s in enumerate(unbalanced['sentiment']):\n",
    "    if s == 'happy':\n",
    "        unbalanced.loc[i,'sentiment'] = '1'\n",
    "    if s == 'fear':\n",
    "        unbalanced.loc[i,'sentiment'] = '2'\n",
    "    if s == 'sadness':\n",
    "        unbalanced.loc[i,'sentiment'] = '3'\n",
    "    if s == 'neutral':\n",
    "        unbalanced.loc[i,'sentiment'] = '4'\n",
    "    if s == 'love':\n",
    "        unbalanced.loc[i,'sentiment'] = '5'\n",
    "    if s == 'anger':\n",
    "        unbalanced.loc[i,'sentiment'] = '6'\n",
    "    if s == 'surprise':\n",
    "        unbalanced.loc[i,'sentiment'] = '7'\n",
    "    if s == 'relief':\n",
    "        unbalanced.loc[i,'sentiment'] = '8'\n",
    "        \n",
    "\n",
    "from sklearn.preprocessing import StandardScaler\n",
    "\n",
    "unbalanced_train, unbalanced_test = train_test_split(unbalanced, test_size=0.2, random_state=42)\n",
    "\n",
    "vectorizer_untrainuntest = TfidfVectorizer(min_df = 5,\n",
    "                             max_df = 0.8,\n",
    "                             sublinear_tf = True,\n",
    "                             use_idf = True)\n",
    "train_vectors_ovo_untrainuntest = vectorizer_untrainuntest.fit_transform(unbalanced_train['Text'])\n",
    "test_vectors_ovo_untrainuntest = vectorizer_untrainuntest.transform(unbalanced_test['Text'])\n",
    "\n",
    "classifier_ovo_untrainuntest = svm.SVC(decision_function_shape='ovo')\n",
    "t0 = time.time()\n",
    "classifier_ovo_untrainuntest.fit(train_vectors_ovo_untrainuntest, unbalanced_train['sentiment'])\n",
    "t1 = time.time()\n",
    "#svm.SVC(decision_function_shape='ovo')\n",
    "prediction_ovo_untrainuntest = classifier_ovo_untrainuntest.predict(test_vectors_ovo_untrainuntest)\n",
    "t2 = time.time()\n",
    "time_ovo_train = t1-t0\n",
    "time_ovo_predict = t2-t1\n",
    "\n",
    "print(\"Training time: %fs; Prediction time: %fs\" % (time_ovo_train, time_ovo_predict))\n",
    "report = classification_report(unbalanced_test['sentiment'], prediction_ovo_untrainuntest, output_dict=True)\n",
    "print('happy: ', report['1'])\n",
    "print('fear: ', report['2'])\n",
    "print('sadness: ', report['3'])\n",
    "print('neutral: ', report['4'])\n",
    "print('love: ', report['5'])\n",
    "print('anger: ', report['6'])\n",
    "print('surprise: ', report['7'])\n",
    "print('relief: ', report['8'])"
   ]
  },
  {
   "cell_type": "code",
   "execution_count": 52,
   "id": "b3161173",
   "metadata": {},
   "outputs": [
    {
     "name": "stdout",
     "output_type": "stream",
     "text": [
      "Unbalanced training model tested on unbalanced test data:\n",
      "Accuracy score: 0.4112430849332899\n",
      "precision score: 0.4453584448941409\n",
      "recall score: 0.2933095254938165\n",
      "f1 score: 0.2998382891461297\n",
      "\n"
     ]
    }
   ],
   "source": [
    "from sklearn.metrics import accuracy_score, precision_score, recall_score, f1_score\n",
    "print('Unbalanced training model tested on unbalanced test data:')\n",
    "print('Accuracy score: {}'.format(accuracy_score(unbalanced_test['sentiment'], prediction_ovo_untrainuntest)))\n",
    "print('precision score: {}'.format(precision_score(unbalanced_test['sentiment'], prediction_ovo_untrainuntest, average='macro')))\n",
    "print('recall score: {}'.format(recall_score(unbalanced_test['sentiment'], prediction_ovo_untrainuntest,average='macro')))\n",
    "print('f1 score: {}'.format(f1_score(unbalanced_test['sentiment'], prediction_ovo_untrainuntest,average='macro')))\n",
    "print()"
   ]
  },
  {
   "cell_type": "code",
   "execution_count": 36,
   "id": "6d5a82d9",
   "metadata": {},
   "outputs": [
    {
     "data": {
      "image/png": "[encoded data removed]",
      "text/plain": [
       "<Figure size 432x288 with 2 Axes>"
      ]
     },
     "metadata": {
      "needs_background": "light"
     },
     "output_type": "display_data"
    }
   ],
   "source": [
    "#Unbalanced\n",
    "from sklearn.metrics import plot_confusion_matrix\n",
    "from mlxtend.plotting import plot_decision_regions\n",
    "matrix = plot_confusion_matrix(classifier_ovo_untrainuntest, test_vectors_ovo_untrainuntest, unbalanced_test['sentiment'],\n",
    "                                 cmap=plt.cm.Blues,\n",
    "                                 normalize='true')\n",
    "plt.title('Confusion matrix for OvO classifier Unbalanced Train and Test')\n",
    "plt.show(matrix)\n",
    "plt.show()"
   ]
  },
  {
   "cell_type": "markdown",
   "id": "e120d75b",
   "metadata": {},
   "source": [
    "Balanced Train and Test"
   ]
  },
  {
   "cell_type": "code",
   "execution_count": 20,
   "id": "bf87c808",
   "metadata": {},
   "outputs": [
    {
     "name": "stdout",
     "output_type": "stream",
     "text": [
      "Training time: 1037.191583s; Prediction time: 68.450906s\n",
      "happy:  {'precision': 0.2882197220383852, 'recall': 0.4355, 'f1-score': 0.34687375547590604, 'support': 2000}\n",
      "fear:  {'precision': 0.24144634525660963, 'recall': 0.3105, 'f1-score': 0.27165354330708663, 'support': 2000}\n",
      "sadness:  {'precision': 0.38787295476419636, 'recall': 0.403, 'f1-score': 0.3952918097106425, 'support': 2000}\n",
      "neutral:  {'precision': 0.2646264626462646, 'recall': 0.588, 'f1-score': 0.3649906890130354, 'support': 2000}\n",
      "love:  {'precision': 0.5127272727272727, 'recall': 0.423, 'f1-score': 0.4635616438356164, 'support': 2000}\n",
      "anger:  {'precision': 0.6134723336006416, 'recall': 0.3825, 'f1-score': 0.4712041884816754, 'support': 2000}\n",
      "surprise:  {'precision': 0.5184049079754601, 'recall': 0.169, 'f1-score': 0.25490196078431376, 'support': 2000}\n",
      "relief:  {'precision': 0.6208955223880597, 'recall': 0.104, 'f1-score': 0.17815845824411136, 'support': 2000}\n"
     ]
    }
   ],
   "source": [
    "#Balanced\n",
    "from sklearn.model_selection import train_test_split\n",
    "import time\n",
    "from sklearn import svm\n",
    "from sklearn.feature_extraction.text import TfidfVectorizer\n",
    "from sklearn.metrics import classification_report\n",
    "for i,s in enumerate(balanced_df_train['sentiment']):\n",
    "    if s == 'happy':\n",
    "        balanced_df_train.loc[i,'sentiment'] = '1'\n",
    "    if s == 'fear':\n",
    "        balanced_df_train.loc[i,'sentiment'] = '2'\n",
    "    if s == 'sadness':\n",
    "        balanced_df_train.loc[i,'sentiment'] = '3'\n",
    "    if s == 'neutral':\n",
    "        balanced_df_train.loc[i,'sentiment'] = '4'\n",
    "    if s == 'love':\n",
    "        balanced_df_train.loc[i,'sentiment'] = '5'\n",
    "    if s == 'anger':\n",
    "        balanced_df_train.loc[i,'sentiment'] = '6'\n",
    "    if s == 'surprise':\n",
    "        balanced_df_train.loc[i,'sentiment'] = '7'\n",
    "    if s == 'relief':\n",
    "        balanced_df_train.loc[i,'sentiment'] = '8'\n",
    "\n",
    "for i,s in enumerate(balanced_df_test['sentiment']):\n",
    "    if s == 'happy':\n",
    "        balanced_df_test.loc[i,'sentiment'] = '1'\n",
    "    if s == 'fear':\n",
    "        balanced_df_test.loc[i,'sentiment'] = '2'\n",
    "    if s == 'sadness':\n",
    "        balanced_df_test.loc[i,'sentiment'] = '3'\n",
    "    if s == 'neutral':\n",
    "        balanced_df_test.loc[i,'sentiment'] = '4'\n",
    "    if s == 'love':\n",
    "        balanced_df_test.loc[i,'sentiment'] = '5'\n",
    "    if s == 'anger':\n",
    "        balanced_df_test.loc[i,'sentiment'] = '6'\n",
    "    if s == 'surprise':\n",
    "        balanced_df_test.loc[i,'sentiment'] = '7'\n",
    "    if s == 'relief':\n",
    "        balanced_df_test.loc[i,'sentiment'] = '8'\n",
    "\n",
    "#1.4.1.1. Multi-class classification\n",
    "#SVC and NuSVC implement the “one-versus-one” approach for multi-class classification. \n",
    "#In total, n_classes * (n_classes - 1) / 2 classifiers are constructed and each one trains data from two classes. \n",
    "#To provide a consistent interface with other classifiers, the decision_function_shape option allows to \n",
    "#monotonically transform the results of the “one-versus-one” classifiers to a “one-vs-rest” decision \n",
    "#function of shape (n_samples, n_classes).\n",
    "\n",
    "#We have 8 Classes ==> 8*(8-1)/2 = 28 classifiers.\n",
    "\n",
    "#balanced_train, balanced_test = train_test_split(balanced_df, test_size=0.2, random_state=42)\n",
    "\n",
    "vectorizer_balanced = TfidfVectorizer(min_df = 5,\n",
    "                             max_df = 0.8,\n",
    "                             sublinear_tf = True,\n",
    "                             use_idf = True)\n",
    "train_vectors_ovo_balanced = vectorizer_balanced.fit_transform(balanced_df_train['Text'])\n",
    "test_vectors_ovo_balanced = vectorizer_balanced.transform(balanced_df_test['Text'])\n",
    "\n",
    "classifier_ovo_balanced = svm.SVC(decision_function_shape='ovo')\n",
    "t0 = time.time()\n",
    "classifier_ovo_balanced.fit(train_vectors_ovo_balanced, balanced_df_train['sentiment'])\n",
    "t1 = time.time()\n",
    "#svm.SVC(decision_function_shape='ovo')\n",
    "prediction_ovo_balanced = classifier_ovo_balanced.predict(test_vectors_ovo_balanced)\n",
    "t2 = time.time()\n",
    "time_ovo_train = t1-t0\n",
    "time_ovo_predict = t2-t1\n",
    "\n",
    "print(\"Training time: %fs; Prediction time: %fs\" % (time_ovo_train, time_ovo_predict))\n",
    "report = classification_report(balanced_df_test['sentiment'], prediction_ovo_balanced, output_dict=True)\n",
    "print('happy: ', report['1'])\n",
    "print('fear: ', report['2'])\n",
    "print('sadness: ', report['3'])\n",
    "print('neutral: ', report['4'])\n",
    "print('love: ', report['5'])\n",
    "print('anger: ', report['6'])\n",
    "print('surprise: ', report['7'])\n",
    "print('relief: ', report['8'])\n",
    "\n",
    "\n",
    "#dec = classifier_multi.decision_function([[1]])\n",
    "#dec.shape[1] # 4 classes: 4*3/2 = 6\n",
    "\n",
    "#clf.decision_function_shape = \"ovr\"\n",
    "#dec = clf.decision_function([[1]])\n",
    "#dec.shape[1] # 4 classes"
   ]
  },
  {
   "cell_type": "code",
   "execution_count": 53,
   "id": "a3667c76",
   "metadata": {},
   "outputs": [
    {
     "name": "stdout",
     "output_type": "stream",
     "text": [
      "Balanced training model tested on Balanced test data:\n",
      "Accuracy score: 0.3519375\n",
      "precision score: 0.43095819017461123\n",
      "recall score: 0.3519375\n",
      "f1 score: 0.34332950610654844\n",
      "\n"
     ]
    }
   ],
   "source": [
    "from sklearn.metrics import accuracy_score, precision_score, recall_score, f1_score\n",
    "print('Balanced training model tested on Balanced test data:')\n",
    "print('Accuracy score: {}'.format(accuracy_score(balanced_df_test['sentiment'], prediction_ovo_balanced)))\n",
    "print('precision score: {}'.format(precision_score(balanced_df_test['sentiment'], prediction_ovo_balanced, average='macro')))\n",
    "print('recall score: {}'.format(recall_score(balanced_df_test['sentiment'], prediction_ovo_balanced,average='macro')))\n",
    "print('f1 score: {}'.format(f1_score(balanced_df_test['sentiment'], prediction_ovo_balanced,average='macro')))\n",
    "print()"
   ]
  },
  {
   "cell_type": "code",
   "execution_count": 37,
   "id": "8aacb0ba",
   "metadata": {},
   "outputs": [
    {
     "data": {
      "image/png": "[encoded data removed]",
      "text/plain": [
       "<Figure size 432x288 with 2 Axes>"
      ]
     },
     "metadata": {
      "needs_background": "light"
     },
     "output_type": "display_data"
    }
   ],
   "source": [
    "#Balanced\n",
    "from sklearn.metrics import plot_confusion_matrix\n",
    "from mlxtend.plotting import plot_decision_regions\n",
    "matrix = plot_confusion_matrix(classifier_ovo_balanced, test_vectors_ovo_balanced, balanced_df_test['sentiment'],\n",
    "                                 cmap=plt.cm.Blues,\n",
    "                                 normalize='true')\n",
    "plt.title('Confusion matrix for OvO classifier Balanced Train and Test')\n",
    "plt.show(matrix)\n",
    "plt.show()"
   ]
  },
  {
   "cell_type": "markdown",
   "id": "74f50bb3",
   "metadata": {},
   "source": [
    "Balanced Train and Unbalanced Test"
   ]
  },
  {
   "cell_type": "code",
   "execution_count": 22,
   "id": "f49deb56",
   "metadata": {},
   "outputs": [
    {
     "name": "stdout",
     "output_type": "stream",
     "text": [
      "Training time: 1036.578969s; Prediction time: 52.932603s\n",
      "happy:  {'precision': 0.45913936044216347, 'recall': 0.4226017441860465, 'f1-score': 0.44011352885525074, 'support': 2752}\n",
      "fear:  {'precision': 0.4406852248394004, 'recall': 0.3146788990825688, 'f1-score': 0.36717216770740413, 'support': 3270}\n",
      "sadness:  {'precision': 0.41372141372141374, 'recall': 0.40883410374935797, 'f1-score': 0.41126323947300436, 'support': 1947}\n",
      "neutral:  {'precision': 0.31979855209316965, 'recall': 0.5779294653014789, 'f1-score': 0.4117527862208713, 'support': 1758}\n",
      "love:  {'precision': 0.41609421000981356, 'recall': 0.43983402489626555, 'f1-score': 0.42763489662128096, 'support': 964}\n",
      "anger:  {'precision': 0.3872611464968153, 'recall': 0.386277001270648, 'f1-score': 0.38676844783715014, 'support': 787}\n",
      "surprise:  {'precision': 0.20680628272251309, 'recall': 0.15612648221343872, 'f1-score': 0.17792792792792791, 'support': 506}\n",
      "relief:  {'precision': 0.24087591240875914, 'recall': 0.10714285714285714, 'f1-score': 0.14831460674157304, 'support': 308}\n"
     ]
    }
   ],
   "source": [
    "#Balanced Train and Unbalanced Test\n",
    "for i,s in enumerate(unbalanced['sentiment']):\n",
    "    if s == 'happy':\n",
    "        unbalanced.loc[i,'sentiment'] = '1'\n",
    "    if s == 'fear':\n",
    "        unbalanced.loc[i,'sentiment'] = '2'\n",
    "    if s == 'sadness':\n",
    "        unbalanced.loc[i,'sentiment'] = '3'\n",
    "    if s == 'neutral':\n",
    "        unbalanced.loc[i,'sentiment'] = '4'\n",
    "    if s == 'love':\n",
    "        unbalanced.loc[i,'sentiment'] = '5'\n",
    "    if s == 'anger':\n",
    "        unbalanced.loc[i,'sentiment'] = '6'\n",
    "    if s == 'surprise':\n",
    "        unbalanced.loc[i,'sentiment'] = '7'\n",
    "    if s == 'relief':\n",
    "        unbalanced.loc[i,'sentiment'] = '8'\n",
    "        \n",
    "\n",
    "from sklearn.preprocessing import StandardScaler\n",
    "\n",
    "unbalanced_train, unbalanced_test = train_test_split(unbalanced, test_size=0.2, random_state=42)\n",
    "\n",
    "vectorizer_btrainuntest = TfidfVectorizer(min_df = 5,\n",
    "                             max_df = 0.8,\n",
    "                             sublinear_tf = True,\n",
    "                             use_idf = True)\n",
    "train_vectors_ovo_btrainuntest = vectorizer_btrainuntest.fit_transform(balanced_df_train['Text'])\n",
    "test_vectors_ovo_btrainuntest = vectorizer_btrainuntest.transform(unbalanced_test['Text'])\n",
    "\n",
    "classifier_ovo_btrainuntest = svm.SVC(decision_function_shape='ovo')\n",
    "t0 = time.time()\n",
    "classifier_ovo_btrainuntest.fit(train_vectors_ovo_btrainuntest, balanced_df_train['sentiment'])\n",
    "t1 = time.time()\n",
    "#svm.SVC(decision_function_shape='ovo')\n",
    "prediction_ovo_btrainuntest = classifier_ovo_btrainuntest.predict(test_vectors_ovo_btrainuntest)\n",
    "t2 = time.time()\n",
    "time_ovo_train = t1-t0\n",
    "time_ovo_predict = t2-t1\n",
    "\n",
    "print(\"Training time: %fs; Prediction time: %fs\" % (time_ovo_train, time_ovo_predict))\n",
    "report = classification_report(unbalanced_test['sentiment'], prediction_ovo_btrainuntest, output_dict=True)\n",
    "print('happy: ', report['1'])\n",
    "print('fear: ', report['2'])\n",
    "print('sadness: ', report['3'])\n",
    "print('neutral: ', report['4'])\n",
    "print('love: ', report['5'])\n",
    "print('anger: ', report['6'])\n",
    "print('surprise: ', report['7'])\n",
    "print('relief: ', report['8'])"
   ]
  },
  {
   "cell_type": "code",
   "execution_count": 50,
   "id": "4aa1fff9",
   "metadata": {},
   "outputs": [
    {
     "name": "stdout",
     "output_type": "stream",
     "text": [
      "Balanced training model tested on UnBalanced train data:\n",
      "Accuracy score: 0.3940774487471526\n",
      "precision score: 0.36054776284175605\n",
      "recall score: 0.35167807223033276\n",
      "f1 score: 0.34636845017305784\n",
      "\n"
     ]
    }
   ],
   "source": [
    "from sklearn.metrics import accuracy_score, precision_score, recall_score, f1_score\n",
    "print('Balanced training model tested on UnBalanced train data:')\n",
    "print('Accuracy score: {}'.format(accuracy_score(unbalanced_test['sentiment'], prediction_ovo_btrainuntest)))\n",
    "print('precision score: {}'.format(precision_score(unbalanced_test['sentiment'], prediction_ovo_btrainuntest, average='macro')))\n",
    "print('recall score: {}'.format(recall_score(unbalanced_test['sentiment'], prediction_ovo_btrainuntest,average='macro')))\n",
    "print('f1 score: {}'.format(f1_score(unbalanced_test['sentiment'], prediction_ovo_btrainuntest,average='macro')))\n",
    "print()"
   ]
  },
  {
   "cell_type": "code",
   "execution_count": 23,
   "id": "8f419b28",
   "metadata": {},
   "outputs": [
    {
     "data": {
      "image/png": "[encoded data removed]",
      "text/plain": [
       "<Figure size 432x288 with 2 Axes>"
      ]
     },
     "metadata": {
      "needs_background": "light"
     },
     "output_type": "display_data"
    }
   ],
   "source": [
    "#Balanced Train and Unbalanced Test\n",
    "from sklearn.metrics import plot_confusion_matrix\n",
    "from mlxtend.plotting import plot_decision_regions\n",
    "matrix = plot_confusion_matrix(classifier_ovo_btrainuntest, test_vectors_ovo_btrainuntest, unbalanced_test['sentiment'],\n",
    "                                 cmap=plt.cm.Blues,\n",
    "                                 normalize='true')\n",
    "plt.title('Confusion matrix for OvO classifier Train Balance, Test Imbalance')\n",
    "plt.show(matrix)\n",
    "plt.show()"
   ]
  },
  {
   "cell_type": "markdown",
   "id": "c05f01d7",
   "metadata": {},
   "source": [
    "Unbalanced Train and Balanced Test"
   ]
  },
  {
   "cell_type": "code",
   "execution_count": 24,
   "id": "8f3b9819",
   "metadata": {},
   "outputs": [
    {
     "name": "stdout",
     "output_type": "stream",
     "text": [
      "Training time: 769.573903s; Prediction time: 62.229713s\n",
      "happy:  {'precision': 0.2593137254901961, 'recall': 0.529, 'f1-score': 0.3480263157894737, 'support': 2000}\n",
      "fear:  {'precision': 0.19681232091690545, 'recall': 0.5495, 'f1-score': 0.28982067510548526, 'support': 2000}\n",
      "sadness:  {'precision': 0.4567116759332804, 'recall': 0.2875, 'f1-score': 0.35286897821417607, 'support': 2000}\n",
      "neutral:  {'precision': 0.2766809728183119, 'recall': 0.4835, 'f1-score': 0.3519563239308462, 'support': 2000}\n",
      "love:  {'precision': 0.6051332675222113, 'recall': 0.3065, 'f1-score': 0.4069034185197478, 'support': 2000}\n",
      "anger:  {'precision': 0.7705263157894737, 'recall': 0.183, 'f1-score': 0.2957575757575758, 'support': 2000}\n",
      "surprise:  {'precision': 0.7241379310344828, 'recall': 0.021, 'f1-score': 0.04081632653061225, 'support': 2000}\n",
      "relief:  {'precision': 0.6944444444444444, 'recall': 0.0125, 'f1-score': 0.024557956777996073, 'support': 2000}\n"
     ]
    }
   ],
   "source": [
    "#Imbalance Train and Balanced Test\n",
    "vectorizer_untrainbtest = TfidfVectorizer(min_df = 5,\n",
    "                             max_df = 0.8,\n",
    "                             sublinear_tf = True,\n",
    "                             use_idf = True)\n",
    "train_vectors_ovo_untrainbtest = vectorizer_untrainbtest.fit_transform(unbalanced_train['Text'])\n",
    "test_vectors_ovo_untrainbtest = vectorizer_untrainbtest.transform(balanced_df_test['Text'])\n",
    "\n",
    "classifier_ovo_untrainbtest = svm.SVC(decision_function_shape='ovo')\n",
    "t0 = time.time()\n",
    "classifier_ovo_untrainbtest.fit(train_vectors_ovo_untrainbtest, unbalanced_train['sentiment'])\n",
    "t1 = time.time()\n",
    "#svm.SVC(decision_function_shape='ovo')\n",
    "prediction_ovo_untrainbtest = classifier_ovo_untrainbtest.predict(test_vectors_ovo_untrainbtest)\n",
    "t2 = time.time()\n",
    "time_ovo_train = t1-t0\n",
    "time_ovo_predict = t2-t1\n",
    "\n",
    "print(\"Training time: %fs; Prediction time: %fs\" % (time_ovo_train, time_ovo_predict))\n",
    "report = classification_report(balanced_df_test['sentiment'], prediction_ovo_untrainbtest, output_dict=True)\n",
    "print('happy: ', report['1'])\n",
    "print('fear: ', report['2'])\n",
    "print('sadness: ', report['3'])\n",
    "print('neutral: ', report['4'])\n",
    "print('love: ', report['5'])\n",
    "print('anger: ', report['6'])\n",
    "print('surprise: ', report['7'])\n",
    "print('relief: ', report['8'])"
   ]
  },
  {
   "cell_type": "code",
   "execution_count": 51,
   "id": "c73cf06d",
   "metadata": {},
   "outputs": [
    {
     "name": "stdout",
     "output_type": "stream",
     "text": [
      "Unbalanced training model tested on Balanced test data:\n",
      "Accuracy score: 0.2965625\n",
      "precision score: 0.49797008174366325\n",
      "recall score: 0.2965625\n",
      "f1 score: 0.2638384463282391\n",
      "\n"
     ]
    }
   ],
   "source": [
    "from sklearn.metrics import accuracy_score, precision_score, recall_score, f1_score\n",
    "print('Unbalanced training model tested on Balanced test data:')\n",
    "print('Accuracy score: {}'.format(accuracy_score(balanced_df_test['sentiment'], prediction_ovo_untrainbtest)))\n",
    "print('precision score: {}'.format(precision_score(balanced_df_test['sentiment'], prediction_ovo_untrainbtest, average='macro')))\n",
    "print('recall score: {}'.format(recall_score(balanced_df_test['sentiment'], prediction_ovo_untrainbtest,average='macro')))\n",
    "print('f1 score: {}'.format(f1_score(balanced_df_test['sentiment'], prediction_ovo_untrainbtest,average='macro')))\n",
    "print()"
   ]
  },
  {
   "cell_type": "code",
   "execution_count": 38,
   "id": "1600ff03",
   "metadata": {},
   "outputs": [
    {
     "name": "stdout",
     "output_type": "stream",
     "text": [
      "{'1': {'precision': 0.2593137254901961, 'recall': 0.529, 'f1-score': 0.3480263157894737, 'support': 2000}, '2': {'precision': 0.19681232091690545, 'recall': 0.5495, 'f1-score': 0.28982067510548526, 'support': 2000}, '3': {'precision': 0.4567116759332804, 'recall': 0.2875, 'f1-score': 0.35286897821417607, 'support': 2000}, '4': {'precision': 0.2766809728183119, 'recall': 0.4835, 'f1-score': 0.3519563239308462, 'support': 2000}, '5': {'precision': 0.6051332675222113, 'recall': 0.3065, 'f1-score': 0.4069034185197478, 'support': 2000}, '6': {'precision': 0.7705263157894737, 'recall': 0.183, 'f1-score': 0.2957575757575758, 'support': 2000}, '7': {'precision': 0.7241379310344828, 'recall': 0.021, 'f1-score': 0.04081632653061225, 'support': 2000}, '8': {'precision': 0.6944444444444444, 'recall': 0.0125, 'f1-score': 0.024557956777996073, 'support': 2000}, 'accuracy': 0.2965625, 'macro avg': {'precision': 0.49797008174366325, 'recall': 0.2965625, 'f1-score': 0.2638384463282391, 'support': 16000}, 'weighted avg': {'precision': 0.4979700817436633, 'recall': 0.2965625, 'f1-score': 0.26383844632823916, 'support': 16000}}\n"
     ]
    },
    {
     "data": {
      "image/png": "[encoded data removed]",
      "text/plain": [
       "<Figure size 432x288 with 2 Axes>"
      ]
     },
     "metadata": {
      "needs_background": "light"
     },
     "output_type": "display_data"
    }
   ],
   "source": [
    "#Imbalance Train and Balanced Test\n",
    "\n",
    "report = classification_report(balanced_df_test['sentiment'], prediction_ovo_untrainbtest, output_dict=True)\n",
    "print(report)\n",
    "\n",
    "from sklearn.metrics import plot_confusion_matrix\n",
    "from mlxtend.plotting import plot_decision_regions\n",
    "matrix = plot_confusion_matrix(classifier_ovo_untrainbtest, test_vectors_ovo_untrainbtest, balanced_df_test['sentiment'],\n",
    "                                 cmap=plt.cm.Blues,\n",
    "                                 normalize='true')\n",
    "plt.title('Confusion matrix for OvO classifier Train Imbalance, Test Balance')\n",
    "plt.show(matrix)\n",
    "plt.show()"
   ]
  },
  {
   "cell_type": "markdown",
   "id": "83b0a323",
   "metadata": {},
   "source": [
    "## Testing on Real World Dataset"
   ]
  },
  {
   "cell_type": "code",
   "execution_count": 26,
   "id": "b5a17590",
   "metadata": {},
   "outputs": [],
   "source": [
    "realWorldTest = pd.read_csv('realWorldEmotions.csv')\n",
    "realWorldTest['Text'] = realWorldTest['Text'].apply(lambda x: re.sub(\"(@[A-Za-z0-9]+)|([^A-Za-z \\t])|(\\w+:\\/\\/\\S+)\",'',x))\n",
    "realWorldTest.dropna(inplace=True)\n",
    "\n",
    "realWorldTest['Text'] = realWorldTest['Text'].apply(lambda x: replace(x))\n",
    "realWorldTest['Sentiment'] = np.where((realWorldTest.Sentiment == 'joy'),'happy', realWorldTest.Sentiment)\n",
    "realWorldTest['Sentiment'].value_counts()\n",
    "\n",
    "for i,s in enumerate(realWorldTest['Sentiment']):\n",
    "    if s == 'happy':\n",
    "        realWorldTest.loc[i,'Sentiment'] = '1'\n",
    "    if s == 'fear':\n",
    "        realWorldTest.loc[i,'Sentiment'] = '2'\n",
    "    if s == 'sadness':\n",
    "        realWorldTest.loc[i,'Sentiment'] = '3'\n",
    "    if s == 'neutral':\n",
    "        realWorldTest.loc[i,'Sentiment'] = '4'\n",
    "    if s == 'love':\n",
    "        realWorldTest.loc[i,'Sentiment'] = '5'\n",
    "    if s == 'anger':\n",
    "        realWorldTest.loc[i,'Sentiment'] = '6'\n",
    "    if s == 'surprise':\n",
    "        realWorldTest.loc[i,'Sentiment'] = '7'\n",
    "    if s == 'relief':\n",
    "        realWorldTest.loc[i,'Sentiment'] = '8'\n",
    "        \n"
   ]
  },
  {
   "cell_type": "code",
   "execution_count": 35,
   "id": "1b88aa2e",
   "metadata": {},
   "outputs": [
    {
     "data": {
      "text/plain": [
       "1    695\n",
       "3    581\n",
       "6    275\n",
       "2    224\n",
       "5    159\n",
       "7     66\n",
       "Name: Sentiment, dtype: int64"
      ]
     },
     "execution_count": 35,
     "metadata": {},
     "output_type": "execute_result"
    }
   ],
   "source": [
    "realWorldTest['Sentiment'].value_counts()"
   ]
  },
  {
   "cell_type": "code",
   "execution_count": 34,
   "id": "8af02497",
   "metadata": {},
   "outputs": [
    {
     "data": {
      "text/plain": [
       "Text         2000\n",
       "Sentiment    2000\n",
       "dtype: int64"
      ]
     },
     "execution_count": 34,
     "metadata": {},
     "output_type": "execute_result"
    }
   ],
   "source": [
    "realWorldTest.count()"
   ]
  },
  {
   "cell_type": "code",
   "execution_count": 33,
   "id": "65280cbd",
   "metadata": {},
   "outputs": [
    {
     "name": "stdout",
     "output_type": "stream",
     "text": [
      "happy:  {'precision': 0.8383838383838383, 'recall': 0.4776978417266187, 'f1-score': 0.608615948670944, 'support': 695}\n",
      "fear:  {'precision': 0.2615803814713896, 'recall': 0.8571428571428571, 'f1-score': 0.4008350730688935, 'support': 224}\n",
      "sadness:  {'precision': 0.7840172786177105, 'recall': 0.6247848537005164, 'f1-score': 0.6954022988505747, 'support': 581}\n",
      "love:  {'precision': 0.6435643564356436, 'recall': 0.4088050314465409, 'f1-score': 0.5, 'support': 159}\n",
      "surprise:  {'precision': 0.75, 'recall': 0.5, 'f1-score': 0.6, 'support': 66}\n",
      "anger:  {'precision': 0.6398305084745762, 'recall': 0.5490909090909091, 'f1-score': 0.5909980430528374, 'support': 275}\n"
     ]
    },
    {
     "name": "stderr",
     "output_type": "stream",
     "text": [
      "/opt/anaconda3/lib/python3.8/site-packages/sklearn/metrics/_classification.py:1245: UndefinedMetricWarning: Recall and F-score are ill-defined and being set to 0.0 in labels with no true samples. Use `zero_division` parameter to control this behavior.\n",
      "  _warn_prf(average, modifier, msg_start, len(result))\n",
      "/opt/anaconda3/lib/python3.8/site-packages/sklearn/metrics/_classification.py:1245: UndefinedMetricWarning: Recall and F-score are ill-defined and being set to 0.0 in labels with no true samples. Use `zero_division` parameter to control this behavior.\n",
      "  _warn_prf(average, modifier, msg_start, len(result))\n",
      "/opt/anaconda3/lib/python3.8/site-packages/sklearn/metrics/_classification.py:1245: UndefinedMetricWarning: Recall and F-score are ill-defined and being set to 0.0 in labels with no true samples. Use `zero_division` parameter to control this behavior.\n",
      "  _warn_prf(average, modifier, msg_start, len(result))\n"
     ]
    }
   ],
   "source": [
    "#Balanced\n",
    "\n",
    "test_vectors_real_balanced = vectorizer_balanced.transform(realWorldTest['Text'])\n",
    "prediction_ovotest_vectors_real_balanced = classifier_ovo_balanced.predict(test_vectors_real_balanced)\n",
    "report = classification_report(realWorldTest['Sentiment'], prediction_ovotest_vectors_real_balanced, output_dict=True)\n",
    "\n",
    "\n",
    "\n",
    "print('happy: ', report['1'])\n",
    "print('fear: ', report['2'])\n",
    "print('sadness: ', report['3'])\n",
    "print('love: ', report['5'])\n",
    "print('surprise: ', report['7'])\n",
    "print('anger: ', report['6'])\n"
   ]
  },
  {
   "cell_type": "code",
   "execution_count": 39,
   "id": "d9b4182b",
   "metadata": {},
   "outputs": [
    {
     "data": {
      "text/plain": [
       "array(['3', '3', '2', ..., '2', '1', '2'], dtype=object)"
      ]
     },
     "execution_count": 39,
     "metadata": {},
     "output_type": "execute_result"
    }
   ],
   "source": [
    "prediction_ovotest_vectors_real_balanced "
   ]
  },
  {
   "cell_type": "code",
   "execution_count": 44,
   "id": "62fbb242",
   "metadata": {},
   "outputs": [
    {
     "name": "stdout",
     "output_type": "stream",
     "text": [
      "Balanced training model tested on unseen data:\n",
      "Accuracy score: 0.568\n",
      "precision score: 0.5596251947690226\n",
      "recall score: 0.4882173561582061\n",
      "f1 score: 0.4851216233776071\n",
      "\n"
     ]
    },
    {
     "name": "stderr",
     "output_type": "stream",
     "text": [
      "/opt/anaconda3/lib/python3.8/site-packages/sklearn/metrics/_classification.py:1245: UndefinedMetricWarning: Recall is ill-defined and being set to 0.0 in labels with no true samples. Use `zero_division` parameter to control this behavior.\n",
      "  _warn_prf(average, modifier, msg_start, len(result))\n"
     ]
    }
   ],
   "source": [
    "from sklearn.metrics import accuracy_score, precision_score, recall_score, f1_score\n",
    "print('Balanced training model tested on unseen data:')\n",
    "print('Accuracy score: {}'.format(accuracy_score(realWorldTest['Sentiment'], prediction_ovotest_vectors_real_balanced)))\n",
    "print('precision score: {}'.format(precision_score(realWorldTest['Sentiment'], prediction_ovotest_vectors_real_balanced, average='macro')))\n",
    "print('recall score: {}'.format(recall_score(realWorldTest['Sentiment'], prediction_ovotest_vectors_real_balanced,average='macro')))\n",
    "print('f1 score: {}'.format(f1_score(realWorldTest['Sentiment'], prediction_ovotest_vectors_real_balanced,average='macro')))\n",
    "print()\n"
   ]
  },
  {
   "cell_type": "code",
   "execution_count": 31,
   "id": "2f428b5d",
   "metadata": {},
   "outputs": [
    {
     "name": "stdout",
     "output_type": "stream",
     "text": [
      "happy:  {'precision': 0.8251121076233184, 'recall': 0.5294964028776978, 'f1-score': 0.6450482033304119, 'support': 695}\n",
      "fear:  {'precision': 0.183206106870229, 'recall': 0.9642857142857143, 'f1-score': 0.30791161796151106, 'support': 224}\n",
      "sadness:  {'precision': 0.9534883720930233, 'recall': 0.423407917383821, 'f1-score': 0.5864123957091776, 'support': 581}\n",
      "love:  {'precision': 0.7714285714285715, 'recall': 0.16981132075471697, 'f1-score': 0.2783505154639175, 'support': 159}\n",
      "surprise:  {'precision': 0.75, 'recall': 0.045454545454545456, 'f1-score': 0.08571428571428572, 'support': 66}\n",
      "anger:  {'precision': 0.8823529411764706, 'recall': 0.21818181818181817, 'f1-score': 0.3498542274052478, 'support': 275}\n"
     ]
    },
    {
     "name": "stderr",
     "output_type": "stream",
     "text": [
      "/opt/anaconda3/lib/python3.8/site-packages/sklearn/metrics/_classification.py:1245: UndefinedMetricWarning: Recall and F-score are ill-defined and being set to 0.0 in labels with no true samples. Use `zero_division` parameter to control this behavior.\n",
      "  _warn_prf(average, modifier, msg_start, len(result))\n",
      "/opt/anaconda3/lib/python3.8/site-packages/sklearn/metrics/_classification.py:1245: UndefinedMetricWarning: Recall and F-score are ill-defined and being set to 0.0 in labels with no true samples. Use `zero_division` parameter to control this behavior.\n",
      "  _warn_prf(average, modifier, msg_start, len(result))\n",
      "/opt/anaconda3/lib/python3.8/site-packages/sklearn/metrics/_classification.py:1245: UndefinedMetricWarning: Recall and F-score are ill-defined and being set to 0.0 in labels with no true samples. Use `zero_division` parameter to control this behavior.\n",
      "  _warn_prf(average, modifier, msg_start, len(result))\n"
     ]
    }
   ],
   "source": [
    "#Unbalanced\n",
    "\n",
    "test_vectors_real_untrainuntest = vectorizer_untrainuntest.transform(realWorldTest['Text'])\n",
    "prediction_ovotest_vectors_real_unbalanced = classifier_ovo_untrainuntest.predict(test_vectors_real_untrainuntest)\n",
    "report = classification_report(realWorldTest['Sentiment'], prediction_ovotest_vectors_real_unbalanced, output_dict=True)\n",
    "\n",
    "print('happy: ', report['1'])\n",
    "print('fear: ', report['2'])\n",
    "print('sadness: ', report['3'])\n",
    "print('love: ', report['5'])\n",
    "print('surprise: ', report['7'])\n",
    "print('anger: ', report['6'])"
   ]
  },
  {
   "cell_type": "code",
   "execution_count": 45,
   "id": "3ba05c48",
   "metadata": {},
   "outputs": [
    {
     "name": "stdout",
     "output_type": "stream",
     "text": [
      "Unbalanced training model tested on unseen data:\n",
      "Accuracy score: 0.46\n",
      "precision score: 0.6236554427416588\n",
      "recall score: 0.33580538841975915\n",
      "f1 score: 0.3218987493692217\n",
      "\n"
     ]
    },
    {
     "name": "stderr",
     "output_type": "stream",
     "text": [
      "/opt/anaconda3/lib/python3.8/site-packages/sklearn/metrics/_classification.py:1245: UndefinedMetricWarning: Recall is ill-defined and being set to 0.0 in labels with no true samples. Use `zero_division` parameter to control this behavior.\n",
      "  _warn_prf(average, modifier, msg_start, len(result))\n"
     ]
    }
   ],
   "source": [
    "from sklearn.metrics import accuracy_score, precision_score, recall_score, f1_score\n",
    "print('Unbalanced training model tested on unseen data:')\n",
    "print('Accuracy score: {}'.format(accuracy_score(realWorldTest['Sentiment'], prediction_ovotest_vectors_real_unbalanced)))\n",
    "print('precision score: {}'.format(precision_score(realWorldTest['Sentiment'], prediction_ovotest_vectors_real_unbalanced, average='macro')))\n",
    "print('recall score: {}'.format(recall_score(realWorldTest['Sentiment'], prediction_ovotest_vectors_real_unbalanced,average='macro')))\n",
    "print('f1 score: {}'.format(f1_score(realWorldTest['Sentiment'], prediction_ovotest_vectors_real_unbalanced,average='macro')))\n",
    "print()"
   ]
  },
  {
   "cell_type": "code",
   "execution_count": null,
   "id": "4e4a7225",
   "metadata": {},
   "outputs": [],
   "source": []
  }
 ],
 "metadata": {
  "hide_input": false,
  "kernelspec": {
   "display_name": "Python 3",
   "language": "python",
   "name": "python3"
  },
  "language_info": {
   "codemirror_mode": {
    "name": "ipython",
    "version": 3
   },
   "file_extension": ".py",
   "mimetype": "text/x-python",
   "name": "python",
   "nbconvert_exporter": "python",
   "pygments_lexer": "ipython3",
   "version": "3.8.8"
  }
 },
 "nbformat": 4,
 "nbformat_minor": 5
}
