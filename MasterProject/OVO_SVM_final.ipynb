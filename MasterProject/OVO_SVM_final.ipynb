{
 "cells": [
  {
   "cell_type": "markdown",
   "id": "e51240a2",
   "metadata": {},
   "source": [
    "## SVM using OVO\n",
    "\n",
    "First, we read the combined dataset and split it into train and test datasets. Then we stratify the train and test datasets to obtain a balanced dataset. "
   ]
  },
  {
   "cell_type": "code",
   "execution_count": 1,
   "id": "41d0e190",
   "metadata": {},
   "outputs": [],
   "source": [
    "import pandas as pd\n",
    "import numpy as np\n",
    "import matplotlib.pyplot as plt"
   ]
  },
  {
   "cell_type": "code",
   "execution_count": 2,
   "id": "2458a7dd",
   "metadata": {},
   "outputs": [
    {
     "data": {
      "text/html": [
       "<div>\n",
       "<style scoped>\n",
       "    .dataframe tbody tr th:only-of-type {\n",
       "        vertical-align: middle;\n",
       "    }\n",
       "\n",
       "    .dataframe tbody tr th {\n",
       "        vertical-align: top;\n",
       "    }\n",
       "\n",
       "    .dataframe thead th {\n",
       "        text-align: right;\n",
       "    }\n",
       "</style>\n",
       "<table border=\"1\" class=\"dataframe\">\n",
       "  <thead>\n",
       "    <tr style=\"text-align: right;\">\n",
       "      <th></th>\n",
       "      <th>sentiment</th>\n",
       "      <th>Text</th>\n",
       "    </tr>\n",
       "  </thead>\n",
       "  <tbody>\n",
       "    <tr>\n",
       "      <th>0</th>\n",
       "      <td>sadness</td>\n",
       "      <td>@tiffanylue i know  i was listenin to bad habi...</td>\n",
       "    </tr>\n",
       "    <tr>\n",
       "      <th>1</th>\n",
       "      <td>sadness</td>\n",
       "      <td>Layin n bed with a headache  ughhhh...waitin o...</td>\n",
       "    </tr>\n",
       "    <tr>\n",
       "      <th>2</th>\n",
       "      <td>sadness</td>\n",
       "      <td>Funeral ceremony...gloomy friday...</td>\n",
       "    </tr>\n",
       "    <tr>\n",
       "      <th>3</th>\n",
       "      <td>happy</td>\n",
       "      <td>wants to hang out with friends SOON!</td>\n",
       "    </tr>\n",
       "    <tr>\n",
       "      <th>4</th>\n",
       "      <td>neutral</td>\n",
       "      <td>@dannycastillo We want to trade with someone w...</td>\n",
       "    </tr>\n",
       "  </tbody>\n",
       "</table>\n",
       "</div>"
      ],
      "text/plain": [
       "  sentiment                                               Text\n",
       "0   sadness  @tiffanylue i know  i was listenin to bad habi...\n",
       "1   sadness  Layin n bed with a headache  ughhhh...waitin o...\n",
       "2   sadness                Funeral ceremony...gloomy friday...\n",
       "3     happy               wants to hang out with friends SOON!\n",
       "4   neutral  @dannycastillo We want to trade with someone w..."
      ]
     },
     "execution_count": 2,
     "metadata": {},
     "output_type": "execute_result"
    }
   ],
   "source": [
    "df = pd.read_csv('combined_data.csv')\n",
    "df.head()"
   ]
  },
  {
   "cell_type": "markdown",
   "id": "2c887a4e",
   "metadata": {},
   "source": [
    "Remove Stopwords:"
   ]
  },
  {
   "cell_type": "code",
   "execution_count": 3,
   "id": "554fe7f4",
   "metadata": {},
   "outputs": [],
   "source": [
    "import nltk\n",
    "from nltk.corpus import stopwords\n",
    "from nltk.tokenize import word_tokenize\n",
    "import re\n",
    "\n",
    "stopWords = stopwords.words(\"english\")\n",
    "\n",
    "def cleanText(text):\n",
    "    \n",
    "    output = \"\"\n",
    "    \n",
    "    \n",
    "    for word in text.split():\n",
    "        cleanWord = re.sub(\"[^a-zA-Z]\",  # Search for all non-letters\n",
    "                          \" \",          # Replace all non-letters with spaces\n",
    "                          str(word))\n",
    "        if cleanWord in stopWords:\n",
    "            pass\n",
    "        else:\n",
    "            output = output + \" \" + cleanWord\n",
    "    return output"
   ]
  },
  {
   "cell_type": "code",
   "execution_count": 4,
   "id": "b43b32d7",
   "metadata": {},
   "outputs": [],
   "source": [
    "df.Text = df.Text.apply(lambda x: cleanText(x))"
   ]
  },
  {
   "cell_type": "code",
   "execution_count": 5,
   "id": "5692ae13",
   "metadata": {},
   "outputs": [],
   "source": [
    "import re\n",
    "df['Text'] = df['Text'].apply(lambda x: re.sub(\"(@[A-Za-z0-9]+)|([^A-Za-z \\t])|(\\w+:\\/\\/\\S+)\",'',x))\n",
    "df.dropna(inplace=True)"
   ]
  },
  {
   "cell_type": "markdown",
   "id": "993485f4",
   "metadata": {},
   "source": [
    "Apply a snowball stemmer"
   ]
  },
  {
   "cell_type": "code",
   "execution_count": 6,
   "id": "e5b472f8",
   "metadata": {},
   "outputs": [
    {
     "data": {
      "text/html": [
       "<div>\n",
       "<style scoped>\n",
       "    .dataframe tbody tr th:only-of-type {\n",
       "        vertical-align: middle;\n",
       "    }\n",
       "\n",
       "    .dataframe tbody tr th {\n",
       "        vertical-align: top;\n",
       "    }\n",
       "\n",
       "    .dataframe thead th {\n",
       "        text-align: right;\n",
       "    }\n",
       "</style>\n",
       "<table border=\"1\" class=\"dataframe\">\n",
       "  <thead>\n",
       "    <tr style=\"text-align: right;\">\n",
       "      <th></th>\n",
       "      <th>sentiment</th>\n",
       "      <th>Text</th>\n",
       "    </tr>\n",
       "  </thead>\n",
       "  <tbody>\n",
       "    <tr>\n",
       "      <th>0</th>\n",
       "      <td>sadness</td>\n",
       "      <td>tiffanylu know listenin bad habit earlier star...</td>\n",
       "    </tr>\n",
       "    <tr>\n",
       "      <th>1</th>\n",
       "      <td>sadness</td>\n",
       "      <td>Layin n bed headach ughhhh waitin call</td>\n",
       "    </tr>\n",
       "    <tr>\n",
       "      <th>2</th>\n",
       "      <td>sadness</td>\n",
       "      <td>Funer ceremoni gloomi friday</td>\n",
       "    </tr>\n",
       "    <tr>\n",
       "      <th>3</th>\n",
       "      <td>happy</td>\n",
       "      <td>want hang friend SOON</td>\n",
       "    </tr>\n",
       "    <tr>\n",
       "      <th>4</th>\n",
       "      <td>neutral</td>\n",
       "      <td>dannycastillo We want trade someon Houston tic...</td>\n",
       "    </tr>\n",
       "  </tbody>\n",
       "</table>\n",
       "</div>"
      ],
      "text/plain": [
       "  sentiment                                               Text\n",
       "0   sadness  tiffanylu know listenin bad habit earlier star...\n",
       "1   sadness            Layin n bed headach ughhhh waitin call \n",
       "2   sadness                      Funer ceremoni gloomi friday \n",
       "3     happy                             want hang friend SOON \n",
       "4   neutral  dannycastillo We want trade someon Houston tic..."
      ]
     },
     "execution_count": 6,
     "metadata": {},
     "output_type": "execute_result"
    }
   ],
   "source": [
    "import snowballstemmer\n",
    "ss = snowballstemmer.stemmer('english')\n",
    "def replace(x):\n",
    "    words = x.split()\n",
    "    newtext = ''\n",
    "    for w in words:\n",
    "        n = ss.stemWord(w)\n",
    "        newtext += n\n",
    "        newtext += \" \"\n",
    "    return newtext\n",
    "df['Text'] = df['Text'].apply(lambda x: replace(x))\n",
    "df.head()"
   ]
  },
  {
   "cell_type": "markdown",
   "id": "470b00ae",
   "metadata": {},
   "source": [
    "Stratify:"
   ]
  },
  {
   "cell_type": "code",
   "execution_count": 7,
   "id": "ec2193f2",
   "metadata": {},
   "outputs": [],
   "source": [
    "def stratify(data, N):\n",
    "    rows = []\n",
    "    fear = data[data['sentiment'] == 'fear']\n",
    "    happy = data[data['sentiment'] == 'happy']\n",
    "    sad = data[data['sentiment'] == 'sadness']\n",
    "    neutral = data[data['sentiment'] == 'neutral']\n",
    "    love = data[data['sentiment'] == 'love']\n",
    "    anger = data[data['sentiment'] == 'anger']\n",
    "    surprise = data[data['sentiment'] == 'surprise']\n",
    "    relief = data[data['sentiment'] == 'relief']\n",
    "    \n",
    "    for i in range(N):\n",
    "        #print(fear.loc[np.random.choice(fear.index)])\n",
    "        rows.append(fear.loc[np.random.choice(fear.index)])\n",
    "        rows.append(happy.loc[np.random.choice(happy.index)])\n",
    "        rows.append(sad.loc[np.random.choice(sad.index)])\n",
    "        rows.append(neutral.loc[np.random.choice(neutral.index)])\n",
    "        rows.append(love.loc[np.random.choice(love.index)])\n",
    "        rows.append(anger.loc[np.random.choice(anger.index)])\n",
    "        rows.append(surprise.loc[np.random.choice(surprise.index)])\n",
    "        rows.append(relief.loc[np.random.choice(relief.index)])\n",
    "    sentiments = [x['sentiment'] for x in rows]\n",
    "    texts = [x['Text'] for x in rows]\n",
    "    d = {'sentiment': sentiments, 'Text': texts}\n",
    "    return pd.DataFrame(d)"
   ]
  },
  {
   "cell_type": "markdown",
   "id": "26bcddce",
   "metadata": {},
   "source": [
    "Split into train and test"
   ]
  },
  {
   "cell_type": "code",
   "execution_count": 8,
   "id": "ed0d03da",
   "metadata": {},
   "outputs": [],
   "source": [
    "from sklearn.model_selection import train_test_split\n",
    "import time\n",
    "from sklearn import svm\n",
    "from sklearn.feature_extraction.text import TfidfVectorizer\n",
    "from sklearn.metrics import classification_report\n",
    "Balanced_Train, Balanced_Test = train_test_split(df, test_size=0.2, random_state=42)"
   ]
  },
  {
   "cell_type": "markdown",
   "id": "6559f962",
   "metadata": {},
   "source": [
    "Stratify Train"
   ]
  },
  {
   "cell_type": "code",
   "execution_count": 9,
   "id": "f8269d61",
   "metadata": {},
   "outputs": [
    {
     "data": {
      "text/plain": [
       "fear        8000\n",
       "relief      8000\n",
       "happy       8000\n",
       "neutral     8000\n",
       "love        8000\n",
       "anger       8000\n",
       "sadness     8000\n",
       "surprise    8000\n",
       "Name: sentiment, dtype: int64"
      ]
     },
     "execution_count": 9,
     "metadata": {},
     "output_type": "execute_result"
    }
   ],
   "source": [
    "balanced_df_train = stratify(Balanced_Train, 8000)\n",
    "balanced_df_train['sentiment'].value_counts()"
   ]
  },
  {
   "cell_type": "markdown",
   "id": "64f0446a",
   "metadata": {},
   "source": [
    "Stratify Test"
   ]
  },
  {
   "cell_type": "code",
   "execution_count": 10,
   "id": "d8d1f5a4",
   "metadata": {},
   "outputs": [
    {
     "data": {
      "text/plain": [
       "sadness     2000\n",
       "neutral     2000\n",
       "fear        2000\n",
       "happy       2000\n",
       "love        2000\n",
       "relief      2000\n",
       "surprise    2000\n",
       "anger       2000\n",
       "Name: sentiment, dtype: int64"
      ]
     },
     "execution_count": 10,
     "metadata": {},
     "output_type": "execute_result"
    }
   ],
   "source": [
    "balanced_df_test = stratify(Balanced_Test, 2000)\n",
    "balanced_df_test['sentiment'].value_counts()"
   ]
  },
  {
   "cell_type": "markdown",
   "id": "f9de3506",
   "metadata": {},
   "source": [
    "Unbalanced Data"
   ]
  },
  {
   "cell_type": "code",
   "execution_count": 11,
   "id": "354daff9",
   "metadata": {},
   "outputs": [
    {
     "data": {
      "text/html": [
       "<div>\n",
       "<style scoped>\n",
       "    .dataframe tbody tr th:only-of-type {\n",
       "        vertical-align: middle;\n",
       "    }\n",
       "\n",
       "    .dataframe tbody tr th {\n",
       "        vertical-align: top;\n",
       "    }\n",
       "\n",
       "    .dataframe thead th {\n",
       "        text-align: right;\n",
       "    }\n",
       "</style>\n",
       "<table border=\"1\" class=\"dataframe\">\n",
       "  <thead>\n",
       "    <tr style=\"text-align: right;\">\n",
       "      <th></th>\n",
       "      <th>sentiment</th>\n",
       "      <th>Text</th>\n",
       "    </tr>\n",
       "  </thead>\n",
       "  <tbody>\n",
       "    <tr>\n",
       "      <th>0</th>\n",
       "      <td>sadness</td>\n",
       "      <td>@tiffanylue i know  i was listenin to bad habi...</td>\n",
       "    </tr>\n",
       "    <tr>\n",
       "      <th>1</th>\n",
       "      <td>sadness</td>\n",
       "      <td>Layin n bed with a headache  ughhhh...waitin o...</td>\n",
       "    </tr>\n",
       "    <tr>\n",
       "      <th>2</th>\n",
       "      <td>sadness</td>\n",
       "      <td>Funeral ceremony...gloomy friday...</td>\n",
       "    </tr>\n",
       "    <tr>\n",
       "      <th>3</th>\n",
       "      <td>happy</td>\n",
       "      <td>wants to hang out with friends SOON!</td>\n",
       "    </tr>\n",
       "    <tr>\n",
       "      <th>4</th>\n",
       "      <td>neutral</td>\n",
       "      <td>@dannycastillo We want to trade with someone w...</td>\n",
       "    </tr>\n",
       "  </tbody>\n",
       "</table>\n",
       "</div>"
      ],
      "text/plain": [
       "  sentiment                                               Text\n",
       "0   sadness  @tiffanylue i know  i was listenin to bad habi...\n",
       "1   sadness  Layin n bed with a headache  ughhhh...waitin o...\n",
       "2   sadness                Funeral ceremony...gloomy friday...\n",
       "3     happy               wants to hang out with friends SOON!\n",
       "4   neutral  @dannycastillo We want to trade with someone w..."
      ]
     },
     "execution_count": 11,
     "metadata": {},
     "output_type": "execute_result"
    }
   ],
   "source": [
    "unbalanced = pd.read_csv('combined_data.csv')\n",
    "unbalanced.head()"
   ]
  },
  {
   "cell_type": "code",
   "execution_count": 12,
   "id": "3bc37770",
   "metadata": {},
   "outputs": [],
   "source": [
    "import nltk\n",
    "from nltk.corpus import stopwords\n",
    "from nltk.tokenize import word_tokenize\n",
    "import re\n",
    "\n",
    "stopWords = stopwords.words(\"english\")\n",
    "\n",
    "def cleanText(text):\n",
    "    \n",
    "    output = \"\"\n",
    "    \n",
    "    \n",
    "    for word in text.split():\n",
    "        cleanWord = re.sub(\"[^a-zA-Z]\",  # Search for all non-letters\n",
    "                          \" \",          # Replace all non-letters with spaces\n",
    "                          str(word))\n",
    "        if cleanWord in stopWords:\n",
    "            pass\n",
    "        else:\n",
    "            output = output + \" \" + cleanWord\n",
    "    return output"
   ]
  },
  {
   "cell_type": "code",
   "execution_count": 13,
   "id": "6f350045",
   "metadata": {},
   "outputs": [],
   "source": [
    "unbalanced.Text = unbalanced.Text.apply(lambda x: cleanText(x))"
   ]
  },
  {
   "cell_type": "code",
   "execution_count": 14,
   "id": "f49e509d",
   "metadata": {},
   "outputs": [],
   "source": [
    "import re\n",
    "unbalanced['Text'] = unbalanced['Text'].apply(lambda x: re.sub(\"(@[A-Za-z0-9]+)|([^A-Za-z \\t])|(\\w+:\\/\\/\\S+)\",'',x))\n",
    "unbalanced.dropna(inplace=True)"
   ]
  },
  {
   "cell_type": "code",
   "execution_count": 15,
   "id": "ae642a36",
   "metadata": {},
   "outputs": [
    {
     "data": {
      "text/html": [
       "<div>\n",
       "<style scoped>\n",
       "    .dataframe tbody tr th:only-of-type {\n",
       "        vertical-align: middle;\n",
       "    }\n",
       "\n",
       "    .dataframe tbody tr th {\n",
       "        vertical-align: top;\n",
       "    }\n",
       "\n",
       "    .dataframe thead th {\n",
       "        text-align: right;\n",
       "    }\n",
       "</style>\n",
       "<table border=\"1\" class=\"dataframe\">\n",
       "  <thead>\n",
       "    <tr style=\"text-align: right;\">\n",
       "      <th></th>\n",
       "      <th>sentiment</th>\n",
       "      <th>Text</th>\n",
       "    </tr>\n",
       "  </thead>\n",
       "  <tbody>\n",
       "    <tr>\n",
       "      <th>0</th>\n",
       "      <td>sadness</td>\n",
       "      <td>tiffanylu know listenin bad habit earlier star...</td>\n",
       "    </tr>\n",
       "    <tr>\n",
       "      <th>1</th>\n",
       "      <td>sadness</td>\n",
       "      <td>Layin n bed headach ughhhh waitin call</td>\n",
       "    </tr>\n",
       "    <tr>\n",
       "      <th>2</th>\n",
       "      <td>sadness</td>\n",
       "      <td>Funer ceremoni gloomi friday</td>\n",
       "    </tr>\n",
       "    <tr>\n",
       "      <th>3</th>\n",
       "      <td>happy</td>\n",
       "      <td>want hang friend SOON</td>\n",
       "    </tr>\n",
       "    <tr>\n",
       "      <th>4</th>\n",
       "      <td>neutral</td>\n",
       "      <td>dannycastillo We want trade someon Houston tic...</td>\n",
       "    </tr>\n",
       "  </tbody>\n",
       "</table>\n",
       "</div>"
      ],
      "text/plain": [
       "  sentiment                                               Text\n",
       "0   sadness  tiffanylu know listenin bad habit earlier star...\n",
       "1   sadness            Layin n bed headach ughhhh waitin call \n",
       "2   sadness                      Funer ceremoni gloomi friday \n",
       "3     happy                             want hang friend SOON \n",
       "4   neutral  dannycastillo We want trade someon Houston tic..."
      ]
     },
     "execution_count": 15,
     "metadata": {},
     "output_type": "execute_result"
    }
   ],
   "source": [
    "import snowballstemmer\n",
    "ss = snowballstemmer.stemmer('english')\n",
    "def replace(x):\n",
    "    words = x.split()\n",
    "    newtext = ''\n",
    "    for w in words:\n",
    "        n = ss.stemWord(w)\n",
    "        newtext += n\n",
    "        newtext += \" \"\n",
    "    return newtext\n",
    "unbalanced['Text'] = unbalanced['Text'].apply(lambda x: replace(x))\n",
    "unbalanced.head()"
   ]
  },
  {
   "cell_type": "code",
   "execution_count": 16,
   "id": "88fbb6ad",
   "metadata": {},
   "outputs": [
    {
     "data": {
      "text/plain": [
       "fear        16241\n",
       "happy       13508\n",
       "sadness      9796\n",
       "neutral      8960\n",
       "love         4720\n",
       "anger        4069\n",
       "surprise     2639\n",
       "relief       1526\n",
       "Name: sentiment, dtype: int64"
      ]
     },
     "execution_count": 16,
     "metadata": {},
     "output_type": "execute_result"
    }
   ],
   "source": [
    "unbalanced['sentiment'].value_counts()"
   ]
  },
  {
   "cell_type": "code",
   "execution_count": 17,
   "id": "b59d014d",
   "metadata": {},
   "outputs": [],
   "source": [
    "from sklearn.model_selection import train_test_split\n",
    "\n",
    "#overall train and test\n",
    "Unbalanced_train, Unbalanced_test = train_test_split(unbalanced, test_size=0.2, random_state=42)"
   ]
  },
  {
   "cell_type": "markdown",
   "id": "328f455f",
   "metadata": {},
   "source": [
    "Balanced Train and Test"
   ]
  },
  {
   "cell_type": "code",
   "execution_count": 18,
   "id": "bf87c808",
   "metadata": {},
   "outputs": [
    {
     "name": "stdout",
     "output_type": "stream",
     "text": [
      "Training time: 1031.195117s; Prediction time: 68.425735s\n",
      "happy:  {'precision': 0.2770430654459139, 'recall': 0.4085, 'f1-score': 0.33016771064861594, 'support': 2000}\n",
      "fear:  {'precision': 0.2206922218087086, 'recall': 0.2965, 'f1-score': 0.2530403243012588, 'support': 2000}\n",
      "sadness:  {'precision': 0.363345521023766, 'recall': 0.3975, 'f1-score': 0.37965616045845274, 'support': 2000}\n",
      "neutral:  {'precision': 0.2610277398817644, 'recall': 0.574, 'f1-score': 0.35886214442013126, 'support': 2000}\n",
      "love:  {'precision': 0.5267034990791897, 'recall': 0.429, 'f1-score': 0.47285753651143564, 'support': 2000}\n",
      "anger:  {'precision': 0.6300429184549357, 'recall': 0.367, 'f1-score': 0.46382306477093205, 'support': 2000}\n",
      "surprise:  {'precision': 0.5122324159021406, 'recall': 0.1675, 'f1-score': 0.252449133383572, 'support': 2000}\n",
      "relief:  {'precision': 0.6757575757575758, 'recall': 0.1115, 'f1-score': 0.19141630901287554, 'support': 2000}\n"
     ]
    }
   ],
   "source": [
    "#Balanced\n",
    "from sklearn.model_selection import train_test_split\n",
    "import time\n",
    "from sklearn import svm\n",
    "from sklearn.feature_extraction.text import TfidfVectorizer\n",
    "from sklearn.metrics import classification_report\n",
    "for i,s in enumerate(balanced_df_train['sentiment']):\n",
    "    if s == 'happy':\n",
    "        balanced_df_train.loc[i,'sentiment'] = '1'\n",
    "    if s == 'fear':\n",
    "        balanced_df_train.loc[i,'sentiment'] = '2'\n",
    "    if s == 'sadness':\n",
    "        balanced_df_train.loc[i,'sentiment'] = '3'\n",
    "    if s == 'neutral':\n",
    "        balanced_df_train.loc[i,'sentiment'] = '4'\n",
    "    if s == 'love':\n",
    "        balanced_df_train.loc[i,'sentiment'] = '5'\n",
    "    if s == 'anger':\n",
    "        balanced_df_train.loc[i,'sentiment'] = '6'\n",
    "    if s == 'surprise':\n",
    "        balanced_df_train.loc[i,'sentiment'] = '7'\n",
    "    if s == 'relief':\n",
    "        balanced_df_train.loc[i,'sentiment'] = '8'\n",
    "\n",
    "for i,s in enumerate(balanced_df_test['sentiment']):\n",
    "    if s == 'happy':\n",
    "        balanced_df_test.loc[i,'sentiment'] = '1'\n",
    "    if s == 'fear':\n",
    "        balanced_df_test.loc[i,'sentiment'] = '2'\n",
    "    if s == 'sadness':\n",
    "        balanced_df_test.loc[i,'sentiment'] = '3'\n",
    "    if s == 'neutral':\n",
    "        balanced_df_test.loc[i,'sentiment'] = '4'\n",
    "    if s == 'love':\n",
    "        balanced_df_test.loc[i,'sentiment'] = '5'\n",
    "    if s == 'anger':\n",
    "        balanced_df_test.loc[i,'sentiment'] = '6'\n",
    "    if s == 'surprise':\n",
    "        balanced_df_test.loc[i,'sentiment'] = '7'\n",
    "    if s == 'relief':\n",
    "        balanced_df_test.loc[i,'sentiment'] = '8'\n",
    "\n",
    "#1.4.1.1. Multi-class classification\n",
    "#SVC and NuSVC implement the “one-versus-one” approach for multi-class classification. \n",
    "#In total, n_classes * (n_classes - 1) / 2 classifiers are constructed and each one trains data from two classes. \n",
    "#To provide a consistent interface with other classifiers, the decision_function_shape option allows to \n",
    "#monotonically transform the results of the “one-versus-one” classifiers to a “one-vs-rest” decision \n",
    "#function of shape (n_samples, n_classes).\n",
    "\n",
    "#We have 8 Classes ==> 8*(8-1)/2 = 28 classifiers.\n",
    "\n",
    "#balanced_train, balanced_test = train_test_split(balanced_df, test_size=0.2, random_state=42)\n",
    "\n",
    "vectorizer_balanced = TfidfVectorizer(min_df = 5,\n",
    "                             max_df = 0.8,\n",
    "                             sublinear_tf = True,\n",
    "                             use_idf = True)\n",
    "train_vectors_ovo_balanced = vectorizer_balanced.fit_transform(balanced_df_train['Text'])\n",
    "test_vectors_ovo_balanced = vectorizer_balanced.transform(balanced_df_test['Text'])\n",
    "\n",
    "classifier_ovo_balanced = svm.SVC(decision_function_shape='ovo')\n",
    "t0 = time.time()\n",
    "classifier_ovo_balanced.fit(train_vectors_ovo_balanced, balanced_df_train['sentiment'])\n",
    "t1 = time.time()\n",
    "#svm.SVC(decision_function_shape='ovo')\n",
    "prediction_ovo_balanced = classifier_ovo_balanced.predict(test_vectors_ovo_balanced)\n",
    "t2 = time.time()\n",
    "time_ovo_train = t1-t0\n",
    "time_ovo_predict = t2-t1\n",
    "\n",
    "print(\"Training time: %fs; Prediction time: %fs\" % (time_ovo_train, time_ovo_predict))\n",
    "report = classification_report(balanced_df_test['sentiment'], prediction_ovo_balanced, output_dict=True)\n",
    "print('happy: ', report['1'])\n",
    "print('fear: ', report['2'])\n",
    "print('sadness: ', report['3'])\n",
    "print('neutral: ', report['4'])\n",
    "print('love: ', report['5'])\n",
    "print('anger: ', report['6'])\n",
    "print('surprise: ', report['7'])\n",
    "print('relief: ', report['8'])\n",
    "\n",
    "\n",
    "#dec = classifier_multi.decision_function([[1]])\n",
    "#dec.shape[1] # 4 classes: 4*3/2 = 6\n",
    "\n",
    "#clf.decision_function_shape = \"ovr\"\n",
    "#dec = clf.decision_function([[1]])\n",
    "#dec.shape[1] # 4 classes"
   ]
  },
  {
   "cell_type": "code",
   "execution_count": 19,
   "id": "8aacb0ba",
   "metadata": {},
   "outputs": [
    {
     "data": {
      "image/png": "[encoded data removed]",
      "text/plain": [
       "<Figure size 432x288 with 2 Axes>"
      ]
     },
     "metadata": {
      "needs_background": "light"
     },
     "output_type": "display_data"
    }
   ],
   "source": [
    "#Balanced\n",
    "from sklearn.metrics import plot_confusion_matrix\n",
    "from mlxtend.plotting import plot_decision_regions\n",
    "matrix = plot_confusion_matrix(classifier_ovo_balanced, test_vectors_ovo_balanced, balanced_df_test['sentiment'],\n",
    "                                 cmap=plt.cm.Blues,\n",
    "                                 normalize='true')\n",
    "plt.title('Confusion matrix for OvO classifier Balanced')\n",
    "plt.show(matrix)\n",
    "plt.show()"
   ]
  },
  {
   "cell_type": "markdown",
   "id": "07011009",
   "metadata": {},
   "source": [
    "Balanced Train and Unbalanced Test"
   ]
  },
  {
   "cell_type": "code",
   "execution_count": 20,
   "id": "f49deb56",
   "metadata": {},
   "outputs": [
    {
     "name": "stdout",
     "output_type": "stream",
     "text": [
      "Training time: 3496.260725s; Prediction time: 69.837319s\n",
      "happy:  {'precision': 0.45558626135017766, 'recall': 0.41933139534883723, 'f1-score': 0.43670766319772947, 'support': 2752}\n",
      "fear:  {'precision': 0.4280222127296027, 'recall': 0.30642201834862387, 'f1-score': 0.35715558723935126, 'support': 3270}\n",
      "sadness:  {'precision': 0.4048603929679421, 'recall': 0.40215716486902925, 'f1-score': 0.40350425148157687, 'support': 1947}\n",
      "neutral:  {'precision': 0.3164319248826291, 'recall': 0.5750853242320819, 'f1-score': 0.4082374318594791, 'support': 1758}\n",
      "love:  {'precision': 0.4086444007858546, 'recall': 0.4315352697095436, 'f1-score': 0.4197780020181635, 'support': 964}\n",
      "anger:  {'precision': 0.3949129852744311, 'recall': 0.3748411689961881, 'f1-score': 0.38461538461538464, 'support': 787}\n",
      "surprise:  {'precision': 0.20512820512820512, 'recall': 0.15810276679841898, 'f1-score': 0.17857142857142855, 'support': 506}\n",
      "relief:  {'precision': 0.22388059701492538, 'recall': 0.09740259740259741, 'f1-score': 0.13574660633484165, 'support': 308}\n"
     ]
    }
   ],
   "source": [
    "#Balanced Train and Unbalanced Test\n",
    "for i,s in enumerate(unbalanced['sentiment']):\n",
    "    if s == 'happy':\n",
    "        unbalanced.loc[i,'sentiment'] = '1'\n",
    "    if s == 'fear':\n",
    "        unbalanced.loc[i,'sentiment'] = '2'\n",
    "    if s == 'sadness':\n",
    "        unbalanced.loc[i,'sentiment'] = '3'\n",
    "    if s == 'neutral':\n",
    "        unbalanced.loc[i,'sentiment'] = '4'\n",
    "    if s == 'love':\n",
    "        unbalanced.loc[i,'sentiment'] = '5'\n",
    "    if s == 'anger':\n",
    "        unbalanced.loc[i,'sentiment'] = '6'\n",
    "    if s == 'surprise':\n",
    "        unbalanced.loc[i,'sentiment'] = '7'\n",
    "    if s == 'relief':\n",
    "        unbalanced.loc[i,'sentiment'] = '8'\n",
    "        \n",
    "\n",
    "from sklearn.preprocessing import StandardScaler\n",
    "\n",
    "unbalanced_train, unbalanced_test = train_test_split(unbalanced, test_size=0.2, random_state=42)\n",
    "\n",
    "vectorizer_btrainuntest = TfidfVectorizer(min_df = 5,\n",
    "                             max_df = 0.8,\n",
    "                             sublinear_tf = True,\n",
    "                             use_idf = True)\n",
    "train_vectors_ovo_btrainuntest = vectorizer_btrainuntest.fit_transform(balanced_df_train['Text'])\n",
    "test_vectors_ovo_btrainuntest = vectorizer_btrainuntest.transform(unbalanced_test['Text'])\n",
    "\n",
    "classifier_ovo_btrainuntest = svm.SVC(decision_function_shape='ovo')\n",
    "t0 = time.time()\n",
    "classifier_ovo_btrainuntest.fit(train_vectors_ovo_btrainuntest, balanced_df_train['sentiment'])\n",
    "t1 = time.time()\n",
    "#svm.SVC(decision_function_shape='ovo')\n",
    "prediction_ovo_btrainuntest = classifier_ovo_btrainuntest.predict(test_vectors_ovo_btrainuntest)\n",
    "t2 = time.time()\n",
    "time_ovo_train = t1-t0\n",
    "time_ovo_predict = t2-t1\n",
    "\n",
    "print(\"Training time: %fs; Prediction time: %fs\" % (time_ovo_train, time_ovo_predict))\n",
    "report = classification_report(unbalanced_test['sentiment'], prediction_ovo_btrainuntest, output_dict=True)\n",
    "print('happy: ', report['1'])\n",
    "print('fear: ', report['2'])\n",
    "print('sadness: ', report['3'])\n",
    "print('neutral: ', report['4'])\n",
    "print('love: ', report['5'])\n",
    "print('anger: ', report['6'])\n",
    "print('surprise: ', report['7'])\n",
    "print('relief: ', report['8'])"
   ]
  },
  {
   "cell_type": "code",
   "execution_count": 21,
   "id": "8f419b28",
   "metadata": {},
   "outputs": [
    {
     "data": {
      "image/png": "[encoded data removed]",
      "text/plain": [
       "<Figure size 432x288 with 2 Axes>"
      ]
     },
     "metadata": {
      "needs_background": "light"
     },
     "output_type": "display_data"
    }
   ],
   "source": [
    "#Balanced Train and Unbalanced Test\n",
    "from sklearn.metrics import plot_confusion_matrix\n",
    "from mlxtend.plotting import plot_decision_regions\n",
    "matrix = plot_confusion_matrix(classifier_ovo_btrainuntest, test_vectors_ovo_btrainuntest, unbalanced_test['sentiment'],\n",
    "                                 cmap=plt.cm.Blues,\n",
    "                                 normalize='true')\n",
    "plt.title('Confusion matrix for OvO classifier Train Balance, Test Imbalance')\n",
    "plt.show(matrix)\n",
    "plt.show()"
   ]
  },
  {
   "cell_type": "markdown",
   "id": "b1824a99",
   "metadata": {},
   "source": [
    "Unbalanced Train and Balanced Test"
   ]
  },
  {
   "cell_type": "code",
   "execution_count": 29,
   "id": "8f3b9819",
   "metadata": {},
   "outputs": [
    {
     "name": "stdout",
     "output_type": "stream",
     "text": [
      "Training time: 3810.344158s; Prediction time: 63.098491s\n",
      "happy:  {'precision': 0.2557682866961217, 'recall': 0.521, 'f1-score': 0.34310174514323344, 'support': 2000}\n",
      "fear:  {'precision': 0.19529579472558803, 'recall': 0.548, 'f1-score': 0.2879663688912244, 'support': 2000}\n",
      "sadness:  {'precision': 0.438871473354232, 'recall': 0.28, 'f1-score': 0.3418803418803419, 'support': 2000}\n",
      "neutral:  {'precision': 0.28112333526346267, 'recall': 0.4855, 'f1-score': 0.35606894022735613, 'support': 2000}\n",
      "love:  {'precision': 0.6098741529525653, 'recall': 0.315, 'f1-score': 0.4154302670623145, 'support': 2000}\n",
      "anger:  {'precision': 0.7461368653421634, 'recall': 0.169, 'f1-score': 0.2755809213208317, 'support': 2000}\n",
      "surprise:  {'precision': 0.7313432835820896, 'recall': 0.0245, 'f1-score': 0.04741170778906628, 'support': 2000}\n",
      "relief:  {'precision': 0.9032258064516129, 'recall': 0.014, 'f1-score': 0.027572624322993598, 'support': 2000}\n"
     ]
    }
   ],
   "source": [
    "#Imbalance Train and Balanced Test\n",
    "vectorizer_untrainbtest = TfidfVectorizer(min_df = 5,\n",
    "                             max_df = 0.8,\n",
    "                             sublinear_tf = True,\n",
    "                             use_idf = True)\n",
    "train_vectors_ovo_untrainbtest = vectorizer_untrainbtest.fit_transform(unbalanced_train['Text'])\n",
    "test_vectors_ovo_untrainbtest = vectorizer_untrainbtest.transform(balanced_df_test['Text'])\n",
    "\n",
    "classifier_ovo_untrainbtest = svm.SVC(decision_function_shape='ovo')\n",
    "t0 = time.time()\n",
    "classifier_ovo_untrainbtest.fit(train_vectors_ovo_untrainbtest, unbalanced_train['sentiment'])\n",
    "t1 = time.time()\n",
    "#svm.SVC(decision_function_shape='ovo')\n",
    "prediction_ovo_untrainbtest = classifier_ovo_untrainbtest.predict(test_vectors_ovo_untrainbtest)\n",
    "t2 = time.time()\n",
    "time_ovo_train = t1-t0\n",
    "time_ovo_predict = t2-t1\n",
    "\n",
    "print(\"Training time: %fs; Prediction time: %fs\" % (time_ovo_train, time_ovo_predict))\n",
    "report = classification_report(balanced_df_test['sentiment'], prediction_ovo_untrainbtest, output_dict=True)\n",
    "print('happy: ', report['1'])\n",
    "print('fear: ', report['2'])\n",
    "print('sadness: ', report['3'])\n",
    "print('neutral: ', report['4'])\n",
    "print('love: ', report['5'])\n",
    "print('anger: ', report['6'])\n",
    "print('surprise: ', report['7'])\n",
    "print('relief: ', report['8'])"
   ]
  },
  {
   "cell_type": "code",
   "execution_count": 23,
   "id": "1600ff03",
   "metadata": {},
   "outputs": [
    {
     "data": {
      "image/png": "[encoded data removed]",
      "text/plain": [
       "<Figure size 432x288 with 2 Axes>"
      ]
     },
     "metadata": {
      "needs_background": "light"
     },
     "output_type": "display_data"
    }
   ],
   "source": [
    "#Imbalance Train and Balanced Test\n",
    "from sklearn.metrics import plot_confusion_matrix\n",
    "from mlxtend.plotting import plot_decision_regions\n",
    "matrix = plot_confusion_matrix(classifier_ovo_untrainbtest, test_vectors_ovo_untrainbtest, balanced_df_test['sentiment'],\n",
    "                                 cmap=plt.cm.Blues,\n",
    "                                 normalize='true')\n",
    "plt.title('Confusion matrix for OvO classifier Train Imbalance, Test Balance')\n",
    "plt.show(matrix)\n",
    "plt.show()"
   ]
  },
  {
   "cell_type": "markdown",
   "id": "61abbdd4",
   "metadata": {},
   "source": [
    "## Testing on Real World Dataset"
   ]
  },
  {
   "cell_type": "code",
   "execution_count": 35,
   "id": "b5a17590",
   "metadata": {},
   "outputs": [],
   "source": [
    "realWorldTest = pd.read_csv('realWorldEmotions.csv')\n",
    "realWorldTest['Text'] = realWorldTest['Text'].apply(lambda x: re.sub(\"(@[A-Za-z0-9]+)|([^A-Za-z \\t])|(\\w+:\\/\\/\\S+)\",'',x))\n",
    "realWorldTest.dropna(inplace=True)\n",
    "\n",
    "realWorldTest['Text'] = realWorldTest['Text'].apply(lambda x: replace(x))\n",
    "realWorldTest['Sentiment'] = np.where((realWorldTest.Sentiment == 'joy'),'happy', realWorldTest.Sentiment)\n",
    "realWorldTest['Sentiment'].value_counts()\n",
    "\n",
    "for i,s in enumerate(realWorldTest['Sentiment']):\n",
    "    if s == 'happy':\n",
    "        realWorldTest.loc[i,'Sentiment'] = '1'\n",
    "    if s == 'fear':\n",
    "        realWorldTest.loc[i,'Sentiment'] = '2'\n",
    "    if s == 'sadness':\n",
    "        realWorldTest.loc[i,'Sentiment'] = '3'\n",
    "    if s == 'neutral':\n",
    "        realWorldTest.loc[i,'Sentiment'] = '4'\n",
    "    if s == 'love':\n",
    "        realWorldTest.loc[i,'Sentiment'] = '5'\n",
    "    if s == 'anger':\n",
    "        realWorldTest.loc[i,'Sentiment'] = '6'\n",
    "    if s == 'surprise':\n",
    "        realWorldTest.loc[i,'Sentiment'] = '7'\n",
    "    if s == 'relief':\n",
    "        realWorldTest.loc[i,'Sentiment'] = '8'\n",
    "        \n"
   ]
  },
  {
   "cell_type": "code",
   "execution_count": 36,
   "id": "3a409853",
   "metadata": {},
   "outputs": [
    {
     "data": {
      "text/html": [
       "<div>\n",
       "<style scoped>\n",
       "    .dataframe tbody tr th:only-of-type {\n",
       "        vertical-align: middle;\n",
       "    }\n",
       "\n",
       "    .dataframe tbody tr th {\n",
       "        vertical-align: top;\n",
       "    }\n",
       "\n",
       "    .dataframe thead th {\n",
       "        text-align: right;\n",
       "    }\n",
       "</style>\n",
       "<table border=\"1\" class=\"dataframe\">\n",
       "  <thead>\n",
       "    <tr style=\"text-align: right;\">\n",
       "      <th></th>\n",
       "      <th>Text</th>\n",
       "      <th>Sentiment</th>\n",
       "    </tr>\n",
       "  </thead>\n",
       "  <tbody>\n",
       "    <tr>\n",
       "      <th>0</th>\n",
       "      <td>im feel rather rotten so im not veri ambiti ri...</td>\n",
       "      <td>3</td>\n",
       "    </tr>\n",
       "    <tr>\n",
       "      <th>1</th>\n",
       "      <td>im updat my blog becaus i feel shitti</td>\n",
       "      <td>3</td>\n",
       "    </tr>\n",
       "    <tr>\n",
       "      <th>2</th>\n",
       "      <td>i never make her separ from me becaus i don t ...</td>\n",
       "      <td>3</td>\n",
       "    </tr>\n",
       "    <tr>\n",
       "      <th>3</th>\n",
       "      <td>i left with my bouquet of red and yellow tulip...</td>\n",
       "      <td>1</td>\n",
       "    </tr>\n",
       "    <tr>\n",
       "      <th>4</th>\n",
       "      <td>i was feel a littl vain when i did this one</td>\n",
       "      <td>3</td>\n",
       "    </tr>\n",
       "  </tbody>\n",
       "</table>\n",
       "</div>"
      ],
      "text/plain": [
       "                                                Text Sentiment\n",
       "0  im feel rather rotten so im not veri ambiti ri...         3\n",
       "1             im updat my blog becaus i feel shitti          3\n",
       "2  i never make her separ from me becaus i don t ...         3\n",
       "3  i left with my bouquet of red and yellow tulip...         1\n",
       "4       i was feel a littl vain when i did this one          3"
      ]
     },
     "execution_count": 36,
     "metadata": {},
     "output_type": "execute_result"
    }
   ],
   "source": [
    "realWorldTest.head()"
   ]
  },
  {
   "cell_type": "code",
   "execution_count": 38,
   "id": "270cf649",
   "metadata": {},
   "outputs": [
    {
     "name": "stdout",
     "output_type": "stream",
     "text": [
      "happy:  {'precision': 0.802547770700637, 'recall': 0.543884892086331, 'f1-score': 0.6483704974271012, 'support': 695}\n",
      "fear:  {'precision': 0.24833110814419226, 'recall': 0.8303571428571429, 'f1-score': 0.38232271325796513, 'support': 224}\n",
      "sadness:  {'precision': 0.8391959798994975, 'recall': 0.5748709122203098, 'f1-score': 0.6823289070480082, 'support': 581}\n",
      "love:  {'precision': 0.71875, 'recall': 0.4339622641509434, 'f1-score': 0.5411764705882353, 'support': 159}\n",
      "surprise:  {'precision': 0.7317073170731707, 'recall': 0.45454545454545453, 'f1-score': 0.5607476635514018, 'support': 66}\n",
      "anger:  {'precision': 0.6497695852534562, 'recall': 0.5127272727272727, 'f1-score': 0.573170731707317, 'support': 275}\n"
     ]
    },
    {
     "name": "stderr",
     "output_type": "stream",
     "text": [
      "/opt/anaconda3/lib/python3.8/site-packages/sklearn/metrics/_classification.py:1245: UndefinedMetricWarning: Recall and F-score are ill-defined and being set to 0.0 in labels with no true samples. Use `zero_division` parameter to control this behavior.\n",
      "  _warn_prf(average, modifier, msg_start, len(result))\n",
      "/opt/anaconda3/lib/python3.8/site-packages/sklearn/metrics/_classification.py:1245: UndefinedMetricWarning: Recall and F-score are ill-defined and being set to 0.0 in labels with no true samples. Use `zero_division` parameter to control this behavior.\n",
      "  _warn_prf(average, modifier, msg_start, len(result))\n",
      "/opt/anaconda3/lib/python3.8/site-packages/sklearn/metrics/_classification.py:1245: UndefinedMetricWarning: Recall and F-score are ill-defined and being set to 0.0 in labels with no true samples. Use `zero_division` parameter to control this behavior.\n",
      "  _warn_prf(average, modifier, msg_start, len(result))\n"
     ]
    }
   ],
   "source": [
    "#Balanced\n",
    "\n",
    "test_vectors_real_balanced = vectorizer_balanced.transform(realWorldTest['Text'])\n",
    "prediction_ovotest_vectors_real_balanced = classifier_ovo_balanced.predict(test_vectors_real_balanced)\n",
    "report = classification_report(realWorldTest['Sentiment'], prediction_ovotest_vectors_real_balanced, output_dict=True)\n",
    "\n",
    "print('happy: ', report['1'])\n",
    "print('fear: ', report['2'])\n",
    "print('sadness: ', report['3'])\n",
    "print('love: ', report['5'])\n",
    "print('surprise: ', report['7'])\n",
    "print('anger: ', report['6'])\n"
   ]
  },
  {
   "cell_type": "code",
   "execution_count": 39,
   "id": "f465b867",
   "metadata": {},
   "outputs": [
    {
     "name": "stdout",
     "output_type": "stream",
     "text": [
      "happy:  {'precision': 0.802547770700637, 'recall': 0.543884892086331, 'f1-score': 0.6483704974271012, 'support': 695}\n",
      "fear:  {'precision': 0.24833110814419226, 'recall': 0.8303571428571429, 'f1-score': 0.38232271325796513, 'support': 224}\n",
      "sadness:  {'precision': 0.8391959798994975, 'recall': 0.5748709122203098, 'f1-score': 0.6823289070480082, 'support': 581}\n",
      "love:  {'precision': 0.71875, 'recall': 0.4339622641509434, 'f1-score': 0.5411764705882353, 'support': 159}\n",
      "surprise:  {'precision': 0.7317073170731707, 'recall': 0.45454545454545453, 'f1-score': 0.5607476635514018, 'support': 66}\n",
      "anger:  {'precision': 0.6497695852534562, 'recall': 0.5127272727272727, 'f1-score': 0.573170731707317, 'support': 275}\n"
     ]
    },
    {
     "name": "stderr",
     "output_type": "stream",
     "text": [
      "/opt/anaconda3/lib/python3.8/site-packages/sklearn/metrics/_classification.py:1245: UndefinedMetricWarning: Recall and F-score are ill-defined and being set to 0.0 in labels with no true samples. Use `zero_division` parameter to control this behavior.\n",
      "  _warn_prf(average, modifier, msg_start, len(result))\n",
      "/opt/anaconda3/lib/python3.8/site-packages/sklearn/metrics/_classification.py:1245: UndefinedMetricWarning: Recall and F-score are ill-defined and being set to 0.0 in labels with no true samples. Use `zero_division` parameter to control this behavior.\n",
      "  _warn_prf(average, modifier, msg_start, len(result))\n",
      "/opt/anaconda3/lib/python3.8/site-packages/sklearn/metrics/_classification.py:1245: UndefinedMetricWarning: Recall and F-score are ill-defined and being set to 0.0 in labels with no true samples. Use `zero_division` parameter to control this behavior.\n",
      "  _warn_prf(average, modifier, msg_start, len(result))\n"
     ]
    }
   ],
   "source": [
    "##Balanced Train and Unbalanced Test\n",
    "\n",
    "\n",
    "test_vectors_real_btrainuntest = vectorizer_btrainuntest.transform(realWorldTest['Text'])\n",
    "prediction_ovotest_vectors_real_btrainuntest = classifier_ovo_btrainuntest.predict(test_vectors_real_btrainuntest)\n",
    "report = classification_report(realWorldTest['Sentiment'], prediction_ovotest_vectors_real_btrainuntest, output_dict=True)\n",
    "\n",
    "print('happy: ', report['1'])\n",
    "print('fear: ', report['2'])\n",
    "print('sadness: ', report['3'])\n",
    "print('love: ', report['5'])\n",
    "print('surprise: ', report['7'])\n",
    "print('anger: ', report['6'])\n",
    "\n",
    "\n"
   ]
  },
  {
   "cell_type": "code",
   "execution_count": 40,
   "id": "dae41421",
   "metadata": {},
   "outputs": [
    {
     "name": "stdout",
     "output_type": "stream",
     "text": [
      "happy:  {'precision': 0.8251121076233184, 'recall': 0.5294964028776978, 'f1-score': 0.6450482033304119, 'support': 695}\n",
      "fear:  {'precision': 0.183206106870229, 'recall': 0.9642857142857143, 'f1-score': 0.30791161796151106, 'support': 224}\n",
      "sadness:  {'precision': 0.9534883720930233, 'recall': 0.423407917383821, 'f1-score': 0.5864123957091776, 'support': 581}\n",
      "love:  {'precision': 0.7714285714285715, 'recall': 0.16981132075471697, 'f1-score': 0.2783505154639175, 'support': 159}\n",
      "surprise:  {'precision': 0.75, 'recall': 0.045454545454545456, 'f1-score': 0.08571428571428572, 'support': 66}\n",
      "anger:  {'precision': 0.8823529411764706, 'recall': 0.21818181818181817, 'f1-score': 0.3498542274052478, 'support': 275}\n"
     ]
    },
    {
     "name": "stderr",
     "output_type": "stream",
     "text": [
      "/opt/anaconda3/lib/python3.8/site-packages/sklearn/metrics/_classification.py:1245: UndefinedMetricWarning: Recall and F-score are ill-defined and being set to 0.0 in labels with no true samples. Use `zero_division` parameter to control this behavior.\n",
      "  _warn_prf(average, modifier, msg_start, len(result))\n",
      "/opt/anaconda3/lib/python3.8/site-packages/sklearn/metrics/_classification.py:1245: UndefinedMetricWarning: Recall and F-score are ill-defined and being set to 0.0 in labels with no true samples. Use `zero_division` parameter to control this behavior.\n",
      "  _warn_prf(average, modifier, msg_start, len(result))\n",
      "/opt/anaconda3/lib/python3.8/site-packages/sklearn/metrics/_classification.py:1245: UndefinedMetricWarning: Recall and F-score are ill-defined and being set to 0.0 in labels with no true samples. Use `zero_division` parameter to control this behavior.\n",
      "  _warn_prf(average, modifier, msg_start, len(result))\n"
     ]
    }
   ],
   "source": [
    "##Imalanced Train and balanced Test\n",
    "\n",
    "\n",
    "test_vectors_real_untrainbtest = vectorizer_untrainbtest.transform(realWorldTest['Text'])\n",
    "prediction_ovotest_vectors_real_untrainbtest = classifier_ovo_untrainbtest.predict(test_vectors_real_untrainbtest)\n",
    "report = classification_report(realWorldTest['Sentiment'], prediction_ovotest_vectors_real_untrainbtest, output_dict=True)\n",
    "\n",
    "print('happy: ', report['1'])\n",
    "print('fear: ', report['2'])\n",
    "print('sadness: ', report['3'])\n",
    "print('love: ', report['5'])\n",
    "print('surprise: ', report['7'])\n",
    "print('anger: ', report['6'])\n",
    "\n"
   ]
  },
  {
   "cell_type": "code",
   "execution_count": null,
   "id": "c040c839",
   "metadata": {},
   "outputs": [],
   "source": []
  }
 ],
 "metadata": {
  "hide_input": false,
  "kernelspec": {
   "display_name": "Python 3",
   "language": "python",
   "name": "python3"
  },
  "language_info": {
   "codemirror_mode": {
    "name": "ipython",
    "version": 3
   },
   "file_extension": ".py",
   "mimetype": "text/x-python",
   "name": "python",
   "nbconvert_exporter": "python",
   "pygments_lexer": "ipython3",
   "version": "3.8.8"
  }
 },
 "nbformat": 4,
 "nbformat_minor": 5
}
