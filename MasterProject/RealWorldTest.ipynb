{
 "cells": [
  {
   "cell_type": "code",
   "execution_count": 1,
   "id": "41d0e190",
   "metadata": {},
   "outputs": [],
   "source": [
    "import pandas as pd\n",
    "import numpy as np\n",
    "import matplotlib.pyplot as plt"
   ]
  },
  {
   "cell_type": "code",
   "execution_count": 2,
   "id": "2458a7dd",
   "metadata": {},
   "outputs": [
    {
     "data": {
      "text/plain": [
       "fear        16241\n",
       "happy       13508\n",
       "sadness      9796\n",
       "neutral      8960\n",
       "love         4720\n",
       "anger        4069\n",
       "surprise     2639\n",
       "relief       1526\n",
       "Name: sentiment, dtype: int64"
      ]
     },
     "execution_count": 2,
     "metadata": {},
     "output_type": "execute_result"
    }
   ],
   "source": [
    "df = pd.read_csv('combined_data.csv')\n",
    "df.head()\n",
    "df['sentiment'].value_counts()"
   ]
  },
  {
   "cell_type": "code",
   "execution_count": 3,
   "id": "554fe7f4",
   "metadata": {},
   "outputs": [],
   "source": [
    "import nltk\n",
    "from nltk.corpus import stopwords\n",
    "from nltk.tokenize import word_tokenize\n",
    "import re\n",
    "\n",
    "stopWords = stopwords.words(\"english\")\n",
    "\n",
    "def cleanText(text):\n",
    "    \n",
    "    output = \"\"\n",
    "    \n",
    "    \n",
    "    for word in text.split():\n",
    "        cleanWord = re.sub(\"[^a-zA-Z]\",  # Search for all non-letters\n",
    "                          \" \",          # Replace all non-letters with spaces\n",
    "                          str(word))\n",
    "        if cleanWord in stopWords:\n",
    "            pass\n",
    "        else:\n",
    "            output = output + \" \" + cleanWord\n",
    "    return output"
   ]
  },
  {
   "cell_type": "code",
   "execution_count": 4,
   "id": "b43b32d7",
   "metadata": {},
   "outputs": [],
   "source": [
    "df.Text = df.Text.apply(lambda x: cleanText(x))"
   ]
  },
  {
   "cell_type": "code",
   "execution_count": 5,
   "id": "b59d014d",
   "metadata": {},
   "outputs": [],
   "source": [
    "from sklearn.model_selection import train_test_split\n",
    "from sklearn.feature_extraction.text import TfidfVectorizer,CountVectorizer\n",
    "from sklearn import svm\n",
    "from sklearn.metrics import classification_report"
   ]
  },
  {
   "cell_type": "code",
   "execution_count": 6,
   "id": "40400a2f",
   "metadata": {},
   "outputs": [],
   "source": [
    "def stratify(data, N):\n",
    "    rows = []\n",
    "    fear = data[data['sentiment'] == 'fear']\n",
    "    happy = data[data['sentiment'] == 'happy']\n",
    "    sad = data[data['sentiment'] == 'sadness']\n",
    "    neutral = data[data['sentiment'] == 'neutral']\n",
    "    love = data[data['sentiment'] == 'love']\n",
    "    anger = data[data['sentiment'] == 'anger']\n",
    "    surprise = data[data['sentiment'] == 'surprise']\n",
    "    relief = data[data['sentiment'] == 'relief']\n",
    "    \n",
    "    for i in range(N):\n",
    "        #print(fear.loc[np.random.choice(fear.index)])\n",
    "        rows.append(fear.loc[np.random.choice(fear.index)])\n",
    "        rows.append(happy.loc[np.random.choice(happy.index)])\n",
    "        rows.append(sad.loc[np.random.choice(sad.index)])\n",
    "        rows.append(neutral.loc[np.random.choice(neutral.index)])\n",
    "        rows.append(love.loc[np.random.choice(love.index)])\n",
    "        rows.append(anger.loc[np.random.choice(anger.index)])\n",
    "        rows.append(surprise.loc[np.random.choice(surprise.index)])\n",
    "        rows.append(relief.loc[np.random.choice(relief.index)])\n",
    "    sentiments = [x['sentiment'] for x in rows]\n",
    "    texts = [x['Text'] for x in rows]\n",
    "    d = {'sentiment': sentiments, 'Text': texts}\n",
    "    return pd.DataFrame(d)"
   ]
  },
  {
   "cell_type": "code",
   "execution_count": 7,
   "id": "beb02bf4",
   "metadata": {},
   "outputs": [],
   "source": [
    "#Creating a balanced dataset with 10000 records for each emotion\n",
    "balancedDf = stratify(df, 10000)\n",
    "balancedDf['sentiment'].value_counts()\n",
    "balancedDf.Text = balancedDf.Text.apply(lambda x: cleanText(x))"
   ]
  },
  {
   "cell_type": "code",
   "execution_count": 8,
   "id": "eb177387",
   "metadata": {
    "scrolled": true
   },
   "outputs": [
    {
     "name": "stdout",
     "output_type": "stream",
     "text": [
      "(10000, 2)\n",
      "relief      1477\n",
      "fear        1457\n",
      "neutral     1432\n",
      "love        1426\n",
      "surprise    1412\n",
      "anger       1410\n",
      "sadness     1386\n",
      "Name: sentiment, dtype: int64\n"
     ]
    }
   ],
   "source": [
    "happy10k = balancedDf[balancedDf['sentiment'] == 'happy']\n",
    "nonHappyDf = balancedDf[balancedDf['sentiment'] != 'happy']\n",
    "nonHappy10k = nonHappyDf.sample(n=10000)\n",
    "print(nonHappy10k.shape)\n",
    "print(nonHappy10k['sentiment'].value_counts())"
   ]
  },
  {
   "cell_type": "code",
   "execution_count": 9,
   "id": "91c0f1df",
   "metadata": {},
   "outputs": [
    {
     "name": "stdout",
     "output_type": "stream",
     "text": [
      "happy        10000\n",
      "not happy    10000\n",
      "Name: sentiment, dtype: int64\n"
     ]
    }
   ],
   "source": [
    "balancedHappyVsRest = pd.concat([happy10k, nonHappy10k], axis=0)\n",
    "\n",
    "balancedHappyVsRest['sentiment'] = np.where((balancedHappyVsRest.sentiment != 'happy'),'not happy', balancedHappyVsRest.sentiment)\n",
    "print(balancedHappyVsRest['sentiment'].value_counts())"
   ]
  },
  {
   "cell_type": "code",
   "execution_count": 10,
   "id": "e3d65303",
   "metadata": {},
   "outputs": [
    {
     "name": "stdout",
     "output_type": "stream",
     "text": [
      "Training time: 26.639510s; Prediction time: 4.784918s\n",
      "not happy:  {'precision': 0.6888128969223254, 'recall': 0.7117617364967188, 'f1-score': 0.7000993048659384, 'support': 1981}\n",
      "happy:  {'precision': 0.7076292882744496, 'recall': 0.6844972758791481, 'f1-score': 0.6958710976837865, 'support': 2019}\n"
     ]
    }
   ],
   "source": [
    "import time\n",
    "\n",
    "#Balanced Happy Vs Rest\n",
    "bhr_train, bhr_test = train_test_split(balancedHappyVsRest, test_size=0.2, random_state=42)\n",
    "\n",
    "vectorizer = TfidfVectorizer(min_df = 5,\n",
    "                             max_df = 0.8,\n",
    "                             sublinear_tf = True,\n",
    "                             use_idf = True)\n",
    "train_vectors = vectorizer.fit_transform(bhr_train['Text'])\n",
    "test_vectors = vectorizer.transform(bhr_test['Text'])\n",
    "\n",
    "# Perform classification with SVM, kernel=linear\n",
    "classifier_linear = svm.SVC(kernel='linear')\n",
    "t0 = time.time()\n",
    "classifier_linear.fit(train_vectors, bhr_train['sentiment'])\n",
    "t1 = time.time()\n",
    "prediction_linear = classifier_linear.predict(test_vectors)\n",
    "t2 = time.time()\n",
    "time_linear_train = t1-t0\n",
    "time_linear_predict = t2-t1\n",
    "\n",
    "# results\n",
    "print(\"Training time: %fs; Prediction time: %fs\" % (time_linear_train, time_linear_predict))\n",
    "report = classification_report(bhr_test['sentiment'], prediction_linear, output_dict=True)\n",
    "print('not happy: ', report['not happy'])\n",
    "print('happy: ', report['happy'])"
   ]
  },
  {
   "cell_type": "code",
   "execution_count": 11,
   "id": "ad8c9ee3",
   "metadata": {},
   "outputs": [
    {
     "name": "stdout",
     "output_type": "stream",
     "text": [
      "(10000, 2)\n",
      "surprise    1497\n",
      "sadness     1475\n",
      "neutral     1433\n",
      "anger       1417\n",
      "love        1413\n",
      "relief      1406\n",
      "happy       1359\n",
      "Name: sentiment, dtype: int64\n",
      "fear    10000\n",
      "Name: sentiment, dtype: int64\n",
      "not fear    10000\n",
      "fear        10000\n",
      "Name: sentiment, dtype: int64\n"
     ]
    }
   ],
   "source": [
    "fear10k = balancedDf[balancedDf['sentiment'] == 'fear']\n",
    "nonFearDf = balancedDf[balancedDf['sentiment'] != 'fear']\n",
    "nonFear10k = nonFearDf.sample(n=10000)\n",
    "print(nonFear10k.shape)\n",
    "print(nonFear10k['sentiment'].value_counts())\n",
    "print(fear10k['sentiment'].value_counts())\n",
    "\n",
    "balancedFearVsRest = pd.concat([fear10k, nonFear10k], axis=0)\n",
    "\n",
    "balancedFearVsRest['sentiment'] = np.where((balancedFearVsRest.sentiment != 'fear'),'not fear', balancedFearVsRest.sentiment)\n",
    "print(balancedFearVsRest['sentiment'].value_counts())"
   ]
  },
  {
   "cell_type": "code",
   "execution_count": 12,
   "id": "f5b4b0f6",
   "metadata": {},
   "outputs": [
    {
     "name": "stdout",
     "output_type": "stream",
     "text": [
      "Training time: 26.050689s; Prediction time: 4.339577s\n",
      "not fear:  {'precision': 0.66008316008316, 'recall': 0.6410903584048461, 'f1-score': 0.6504481434058899, 'support': 1981}\n",
      "fear:  {'precision': 0.6575144508670521, 'recall': 0.6760772659732541, 'f1-score': 0.6666666666666667, 'support': 2019}\n"
     ]
    }
   ],
   "source": [
    "#Balanced Fear Vs Rest\n",
    "bfr_train, bfr_test = train_test_split(balancedFearVsRest, test_size=0.2, random_state=42)\n",
    "\n",
    "vectorizer = TfidfVectorizer(min_df = 5,\n",
    "                             max_df = 0.8,\n",
    "                             sublinear_tf = True,\n",
    "                             use_idf = True)\n",
    "train_vectors = vectorizer.fit_transform(bfr_train['Text'])\n",
    "test_vectors = vectorizer.transform(bfr_test['Text'])\n",
    "\n",
    "# Perform classification with SVM, kernel=linear\n",
    "classifier_linear = svm.SVC(kernel='linear')\n",
    "t0 = time.time()\n",
    "classifier_linear.fit(train_vectors, bfr_train['sentiment'])\n",
    "t1 = time.time()\n",
    "prediction_linear = classifier_linear.predict(test_vectors)\n",
    "t2 = time.time()\n",
    "time_linear_train = t1-t0\n",
    "time_linear_predict = t2-t1\n",
    "\n",
    "# results\n",
    "print(\"Training time: %fs; Prediction time: %fs\" % (time_linear_train, time_linear_predict))\n",
    "report = classification_report(bfr_test['sentiment'], prediction_linear, output_dict=True)\n",
    "print('not fear: ', report['not fear'])\n",
    "print('fear: ', report['fear'])"
   ]
  },
  {
   "cell_type": "code",
   "execution_count": 13,
   "id": "29a1336b",
   "metadata": {},
   "outputs": [
    {
     "name": "stdout",
     "output_type": "stream",
     "text": [
      "(10000, 2)\n",
      "love        1477\n",
      "neutral     1459\n",
      "fear        1444\n",
      "relief      1416\n",
      "happy       1415\n",
      "anger       1406\n",
      "surprise    1383\n",
      "Name: sentiment, dtype: int64\n",
      "sadness    10000\n",
      "Name: sentiment, dtype: int64\n",
      "not sadness    10000\n",
      "sadness        10000\n",
      "Name: sentiment, dtype: int64\n"
     ]
    }
   ],
   "source": [
    "sadness10k = balancedDf[balancedDf['sentiment'] == 'sadness']\n",
    "nonSadnessDf = balancedDf[balancedDf['sentiment'] != 'sadness']\n",
    "nonSadness10k = nonSadnessDf.sample(n=10000)\n",
    "print(nonSadness10k.shape)\n",
    "print(nonSadness10k['sentiment'].value_counts())\n",
    "print(sadness10k['sentiment'].value_counts())\n",
    "\n",
    "balancedSadVsRest = pd.concat([sadness10k, nonSadness10k], axis=0)\n",
    "\n",
    "balancedSadVsRest['sentiment'] = np.where((balancedSadVsRest.sentiment != 'sadness'),'not sadness', balancedSadVsRest.sentiment)\n",
    "print(balancedSadVsRest['sentiment'].value_counts())"
   ]
  },
  {
   "cell_type": "code",
   "execution_count": 14,
   "id": "ac8962e8",
   "metadata": {},
   "outputs": [
    {
     "name": "stdout",
     "output_type": "stream",
     "text": [
      "Training time: 24.625421s; Prediction time: 3.983390s\n",
      "not sadness:  {'precision': 0.7275828460038987, 'recall': 0.7536597677940434, 'f1-score': 0.7403917679147037, 'support': 1981}\n",
      "sadness:  {'precision': 0.7494866529774127, 'recall': 0.7231302625061912, 'f1-score': 0.7360725989412653, 'support': 2019}\n"
     ]
    }
   ],
   "source": [
    "#Balanced Sad Vs Rest\n",
    "bsr_train, bsr_test = train_test_split(balancedSadVsRest, test_size=0.2, random_state=42)\n",
    "\n",
    "vectorizer = TfidfVectorizer(min_df = 5,\n",
    "                             max_df = 0.8,\n",
    "                             sublinear_tf = True,\n",
    "                             use_idf = True)\n",
    "train_vectors = vectorizer.fit_transform(bsr_train['Text'])\n",
    "test_vectors = vectorizer.transform(bsr_test['Text'])\n",
    "\n",
    "# Perform classification with SVM, kernel=linear\n",
    "classifier_linear = svm.SVC(kernel='linear')\n",
    "t0 = time.time()\n",
    "classifier_linear.fit(train_vectors, bsr_train['sentiment'])\n",
    "t1 = time.time()\n",
    "prediction_linear = classifier_linear.predict(test_vectors)\n",
    "t2 = time.time()\n",
    "time_linear_train = t1-t0\n",
    "time_linear_predict = t2-t1\n",
    "\n",
    "# results\n",
    "print(\"Training time: %fs; Prediction time: %fs\" % (time_linear_train, time_linear_predict))\n",
    "report = classification_report(bsr_test['sentiment'], prediction_linear, output_dict=True)\n",
    "print('not sadness: ', report['not sadness'])\n",
    "print('sadness: ', report['sadness'])"
   ]
  },
  {
   "cell_type": "code",
   "execution_count": 15,
   "id": "fdd7d4a7",
   "metadata": {},
   "outputs": [
    {
     "name": "stdout",
     "output_type": "stream",
     "text": [
      "Training time: 25.704707s; Prediction time: 12.470123s\n",
      "not sadness:  {'precision': 0.9301488833746898, 'recall': 0.724697921701305, 'f1-score': 0.8146699266503667, 'support': 10345}\n",
      "sadness:  {'precision': 0.3270321361058601, 'recall': 0.7108371854134566, 'f1-score': 0.44796892701084323, 'support': 1947}\n"
     ]
    }
   ],
   "source": [
    "#Train balanced, test unbalanced for Sad vs rest\n",
    "sadVsRestUnbalancedDf = pd.read_csv('combined_data.csv')\n",
    "sadVsRestUnbalancedDf.Text = sadVsRestUnbalancedDf.Text.apply(lambda x: cleanText(x))\n",
    "sadVsRestUnbalancedDf['sentiment'] = np.where((sadVsRestUnbalancedDf.sentiment != 'sadness'),'not sadness', sadVsRestUnbalancedDf.sentiment)\n",
    "sadU_train, sadU_test = train_test_split(sadVsRestUnbalancedDf, test_size=0.2, random_state=42)\n",
    "\n",
    "vectorizer = TfidfVectorizer(min_df = 5,\n",
    "                             max_df = 0.8,\n",
    "                             sublinear_tf = True,\n",
    "                             use_idf = True)\n",
    "train_vectors = vectorizer.fit_transform(bsr_train['Text'])\n",
    "test_vectors = vectorizer.transform(sadU_test['Text'])\n",
    "\n",
    "# Perform classification with SVM, kernel=linear\n",
    "classifier_linear = svm.SVC(kernel='linear')\n",
    "t0 = time.time()\n",
    "classifier_linear.fit(train_vectors, bsr_train['sentiment'])\n",
    "t1 = time.time()\n",
    "prediction_linear = classifier_linear.predict(test_vectors)\n",
    "t2 = time.time()\n",
    "time_linear_train = t1-t0\n",
    "time_linear_predict = t2-t1\n",
    "\n",
    "# results\n",
    "print(\"Training time: %fs; Prediction time: %fs\" % (time_linear_train, time_linear_predict))\n",
    "report = classification_report(sadU_test['sentiment'], prediction_linear, output_dict=True)\n",
    "print('not sadness: ', report['not sadness'])\n",
    "print('sadness: ', report['sadness'])"
   ]
  },
  {
   "cell_type": "code",
   "execution_count": 16,
   "id": "2b8017a4",
   "metadata": {},
   "outputs": [
    {
     "name": "stdout",
     "output_type": "stream",
     "text": [
      "Training time: 26.567516s; Prediction time: 13.091756s\n",
      "not happy:  {'precision': 0.8769433465085639, 'recall': 0.6976939203354298, 'f1-score': 0.7771161704611791, 'support': 9540}\n",
      "happy:  {'precision': 0.38664398128455973, 'recall': 0.6606104651162791, 'f1-score': 0.48779178964314457, 'support': 2752}\n"
     ]
    }
   ],
   "source": [
    "#Train balanced, test unbalanced for Happy vs rest\n",
    "happyVsRestUnbalancedDf = pd.read_csv('combined_data.csv')\n",
    "happyVsRestUnbalancedDf.Text = happyVsRestUnbalancedDf.Text.apply(lambda x: cleanText(x))\n",
    "happyVsRestUnbalancedDf['sentiment'] = np.where((happyVsRestUnbalancedDf.sentiment != 'happy'),'not happy', happyVsRestUnbalancedDf.sentiment)\n",
    "happyU_train, happyU_test = train_test_split(happyVsRestUnbalancedDf, test_size=0.2, random_state=42)\n",
    "\n",
    "vectorizer = TfidfVectorizer(min_df = 5,\n",
    "                             max_df = 0.8,\n",
    "                             sublinear_tf = True,\n",
    "                             use_idf = True)\n",
    "train_vectors = vectorizer.fit_transform(bhr_train['Text'])\n",
    "test_vectors = vectorizer.transform(happyU_test['Text'])\n",
    "\n",
    "# Perform classification with SVM, kernel=linear\n",
    "classifier_linear = svm.SVC(kernel='linear')\n",
    "t0 = time.time()\n",
    "classifier_linear.fit(train_vectors, bhr_train['sentiment'])\n",
    "t1 = time.time()\n",
    "prediction_linear = classifier_linear.predict(test_vectors)\n",
    "t2 = time.time()\n",
    "time_linear_train = t1-t0\n",
    "time_linear_predict = t2-t1\n",
    "\n",
    "# results\n",
    "print(\"Training time: %fs; Prediction time: %fs\" % (time_linear_train, time_linear_predict))\n",
    "report = classification_report(happyU_test['sentiment'], prediction_linear, output_dict=True)\n",
    "print('not happy: ', report['not happy'])\n",
    "print('happy: ', report['happy'])"
   ]
  },
  {
   "cell_type": "code",
   "execution_count": 17,
   "id": "5c55d1fe",
   "metadata": {},
   "outputs": [
    {
     "name": "stdout",
     "output_type": "stream",
     "text": [
      "Training time: 25.871855s; Prediction time: 18.864490s\n",
      "not fear:  {'precision': 0.8371115448130911, 'recall': 0.6180447794280647, 'f1-score': 0.7110884397117898, 'support': 9022}\n",
      "fear:  {'precision': 0.38803054519623514, 'recall': 0.6681957186544343, 'f1-score': 0.4909560723514212, 'support': 3270}\n"
     ]
    }
   ],
   "source": [
    "#Train balanced, test unbalanced for Fear vs rest\n",
    "fearVsRestUnbalancedDf = pd.read_csv('combined_data.csv')\n",
    "fearVsRestUnbalancedDf.Text = fearVsRestUnbalancedDf.Text.apply(lambda x: cleanText(x))\n",
    "\n",
    "fearVsRestUnbalancedDf['sentiment'] = np.where((fearVsRestUnbalancedDf.sentiment != 'fear'),'not fear', fearVsRestUnbalancedDf.sentiment)\n",
    "fearU_train, fearU_test = train_test_split(fearVsRestUnbalancedDf, test_size=0.2, random_state=42)\n",
    "\n",
    "vectorizer = TfidfVectorizer(min_df = 5,\n",
    "                             max_df = 0.8,\n",
    "                             sublinear_tf = True,\n",
    "                             use_idf = True)\n",
    "train_vectors = vectorizer.fit_transform(bfr_train['Text'])\n",
    "test_vectors = vectorizer.transform(fearU_test['Text'])\n",
    "\n",
    "# Perform classification with SVM, kernel=linear\n",
    "classifier_linear = svm.SVC(kernel='linear')\n",
    "t0 = time.time()\n",
    "classifier_linear.fit(train_vectors, bfr_train['sentiment'])\n",
    "t1 = time.time()\n",
    "prediction_linear = classifier_linear.predict(test_vectors)\n",
    "t2 = time.time()\n",
    "time_linear_train = t1-t0\n",
    "time_linear_predict = t2-t1\n",
    "\n",
    "# results\n",
    "print(\"Training time: %fs; Prediction time: %fs\" % (time_linear_train, time_linear_predict))\n",
    "report = classification_report(fearU_test['sentiment'], prediction_linear, output_dict=True)\n",
    "print('not fear: ', report['not fear'])\n",
    "print('fear: ', report['fear'])\n",
    "\n",
    "\n"
   ]
  },
  {
   "cell_type": "code",
   "execution_count": 18,
   "id": "a310d181",
   "metadata": {},
   "outputs": [
    {
     "name": "stdout",
     "output_type": "stream",
     "text": [
      "      sentiment                                               Text\n",
      "43114      fear   guess since im feeling bit less shitty random...\n",
      "26628      fear   Bank holiday   rain  Superb  But great excuse...\n",
      "44118  not fear   feel whack messed know psychologically fucked...\n",
      "14300      fear   Sad Gmail chat died  I can t help  natalidelc...\n",
      "44596  not fear              feel bitter lot wish mother son place\n",
      "...         ...                                                ...\n",
      "29972      fear   Hehe nah watching Ace Cakes  jlsegarra   legg...\n",
      "21203  not fear   Happy Birthday tooo meeee    Happy Birthday t...\n",
      "24112  not fear    Sazchik I read somewhere restoring name  hop...\n",
      "49774  not fear   feel little like traitor beloved oppies said ...\n",
      "38586  not fear                                   ruthieor THANKS \n",
      "\n",
      "[12292 rows x 2 columns]\n"
     ]
    }
   ],
   "source": [
    "print(fearU_test)"
   ]
  },
  {
   "cell_type": "code",
   "execution_count": 19,
   "id": "ce1cc737",
   "metadata": {},
   "outputs": [
    {
     "name": "stdout",
     "output_type": "stream",
     "text": [
      "Training time: 367.708798s; Prediction time: 7.451621s\n",
      "not sadness:  {'precision': 0.5211155378486055, 'recall': 0.9904088844018173, 'f1-score': 0.6829098503306648, 'support': 1981}\n",
      "sadness:  {'precision': 0.9191489361702128, 'recall': 0.10698365527488855, 'f1-score': 0.191659272404614, 'support': 2019}\n"
     ]
    }
   ],
   "source": [
    "#Train unbalanced, test balanced for Sad vs rest\n",
    "\n",
    "vectorizer = TfidfVectorizer(min_df = 5,\n",
    "                             max_df = 0.8,\n",
    "                             sublinear_tf = True,\n",
    "                             use_idf = True)\n",
    "train_vectors = vectorizer.fit_transform(sadU_train['Text'])\n",
    "test_vectors = vectorizer.transform(bsr_test['Text'])\n",
    "\n",
    "# Perform classification with SVM, kernel=linear\n",
    "classifier_linear = svm.SVC(kernel='linear')\n",
    "t0 = time.time()\n",
    "classifier_linear.fit(train_vectors, sadU_train['sentiment'])\n",
    "t1 = time.time()\n",
    "prediction_linear = classifier_linear.predict(test_vectors)\n",
    "t2 = time.time()\n",
    "time_linear_train = t1-t0\n",
    "time_linear_predict = t2-t1\n",
    "\n",
    "# results\n",
    "print(\"Training time: %fs; Prediction time: %fs\" % (time_linear_train, time_linear_predict))\n",
    "report = classification_report(bsr_test['sentiment'], prediction_linear, output_dict=True)\n",
    "print('not sadness: ', report['not sadness'])\n",
    "print('sadness: ', report['sadness'])"
   ]
  },
  {
   "cell_type": "code",
   "execution_count": 20,
   "id": "6cf448a9",
   "metadata": {},
   "outputs": [
    {
     "name": "stdout",
     "output_type": "stream",
     "text": [
      "Training time: 334.423110s; Prediction time: 9.299474s\n",
      "not happy:  {'precision': 0.5423162583518931, 'recall': 0.98334174659263, 'f1-score': 0.6990848734972188, 'support': 1981}\n",
      "happy:  {'precision': 0.9191176470588235, 'recall': 0.18573551263001487, 'f1-score': 0.3090234857849196, 'support': 2019}\n"
     ]
    }
   ],
   "source": [
    "#Train unbalanced, test balanced for Happy vs rest\n",
    "\n",
    "vectorizer = TfidfVectorizer(min_df = 5,\n",
    "                             max_df = 0.8,\n",
    "                             sublinear_tf = True,\n",
    "                             use_idf = True)\n",
    "train_vectors = vectorizer.fit_transform(happyU_train['Text'])\n",
    "test_vectors = vectorizer.transform(bhr_test['Text'])\n",
    "\n",
    "# Perform classification with SVM, kernel=linear\n",
    "classifier_linear = svm.SVC(kernel='linear')\n",
    "t0 = time.time()\n",
    "classifier_linear.fit(train_vectors, happyU_train['sentiment'])\n",
    "t1 = time.time()\n",
    "prediction_linear = classifier_linear.predict(test_vectors)\n",
    "t2 = time.time()\n",
    "time_linear_train = t1-t0\n",
    "time_linear_predict = t2-t1\n",
    "\n",
    "# results\n",
    "print(\"Training time: %fs; Prediction time: %fs\" % (time_linear_train, time_linear_predict))\n",
    "report = classification_report(bhr_test['sentiment'], prediction_linear, output_dict=True)\n",
    "print('not happy: ', report['not happy'])\n",
    "print('happy: ', report['happy'])"
   ]
  },
  {
   "cell_type": "code",
   "execution_count": 21,
   "id": "21d5c20c",
   "metadata": {},
   "outputs": [
    {
     "name": "stdout",
     "output_type": "stream",
     "text": [
      "Training time: 535.196153s; Prediction time: 12.024399s\n",
      "not fear:  {'precision': 0.5323819978046103, 'recall': 0.9793033821302373, 'f1-score': 0.6897777777777778, 'support': 1981}\n",
      "fear:  {'precision': 0.8848314606741573, 'recall': 0.15601783060921248, 'f1-score': 0.2652631578947368, 'support': 2019}\n"
     ]
    }
   ],
   "source": [
    "#Train unbalanced, test balanced for Fear vs rest\n",
    "\n",
    "vectorizer = TfidfVectorizer(min_df = 5,\n",
    "                             max_df = 0.8,\n",
    "                             sublinear_tf = True,\n",
    "                             use_idf = True)\n",
    "train_vectors = vectorizer.fit_transform(fearU_train['Text'])\n",
    "test_vectors = vectorizer.transform(bfr_test['Text'])\n",
    "\n",
    "# Perform classification with SVM, kernel=linear\n",
    "classifier_linear = svm.SVC(kernel='linear')\n",
    "t0 = time.time()\n",
    "classifier_linear.fit(train_vectors, fearU_train['sentiment'])\n",
    "t1 = time.time()\n",
    "prediction_linear = classifier_linear.predict(test_vectors)\n",
    "t2 = time.time()\n",
    "time_linear_train = t1-t0\n",
    "time_linear_predict = t2-t1\n",
    "\n",
    "# results\n",
    "print(\"Training time: %fs; Prediction time: %fs\" % (time_linear_train, time_linear_predict))\n",
    "report = classification_report(bfr_test['sentiment'], prediction_linear, output_dict=True)\n",
    "print('not fear: ', report['not fear'])\n",
    "print('fear: ', report['fear'])"
   ]
  },
  {
   "cell_type": "code",
   "execution_count": 22,
   "id": "07cb70ad",
   "metadata": {},
   "outputs": [
    {
     "data": {
      "text/plain": [
       "joy         695\n",
       "sadness     581\n",
       "anger       275\n",
       "fear        224\n",
       "love        159\n",
       "surprise     66\n",
       "Name: Sentiment, dtype: int64"
      ]
     },
     "execution_count": 22,
     "metadata": {},
     "output_type": "execute_result"
    }
   ],
   "source": [
    "#Testing on real world data\n",
    "\n",
    "dfReal = pd.read_csv('realWorldEmotions.csv')\n",
    "dfReal.Text = dfReal.Text.apply(lambda x: cleanText(x))\n",
    "dfReal.head()\n",
    "dfReal['Sentiment'].value_counts()"
   ]
  },
  {
   "cell_type": "code",
   "execution_count": 27,
   "id": "2291dacb",
   "metadata": {},
   "outputs": [
    {
     "name": "stdout",
     "output_type": "stream",
     "text": [
      "not fear:  {'precision': 0.9886039886039886, 'recall': 0.9719887955182073, 'f1-score': 0.9802259887005651, 'support': 357}\n",
      "fear:  {'precision': 0.7959183673469388, 'recall': 0.9069767441860465, 'f1-score': 0.8478260869565216, 'support': 43}\n"
     ]
    }
   ],
   "source": [
    "#Checking performance of fear vs. rest on real world data?\n",
    "dfRealFear = pd.read_csv('realWorldEmotions.csv')\n",
    "dfRealFear.Text = dfRealFear.Text.apply(lambda x: cleanText(x))\n",
    "\n",
    "dfRealFear['Sentiment'] = np.where((dfRealFear.Sentiment != 'fear'),'not fear', dfRealFear.Sentiment)\n",
    "\n",
    "dfRealFear_train, dfRealFear_test = train_test_split(dfRealFear, test_size=0.2, random_state=42)\n",
    "\n",
    "test_vectors_real = vectorizer.transform(dfRealFear_test['Text'])\n",
    "prediction_linear_fear = classifier_linear.predict(test_vectors_real)\n",
    "report = classification_report(dfRealFear_test['Sentiment'], prediction_linear_fear, output_dict=True)\n",
    "print('not fear: ', report['not fear'])\n",
    "print('fear: ', report['fear'])\n",
    "\n"
   ]
  }
 ],
 "metadata": {
  "hide_input": false,
  "kernelspec": {
   "display_name": "Python 3",
   "language": "python",
   "name": "python3"
  },
  "language_info": {
   "codemirror_mode": {
    "name": "ipython",
    "version": 3
   },
   "file_extension": ".py",
   "mimetype": "text/x-python",
   "name": "python",
   "nbconvert_exporter": "python",
   "pygments_lexer": "ipython3",
   "version": "3.8.8"
  }
 },
 "nbformat": 4,
 "nbformat_minor": 5
}
