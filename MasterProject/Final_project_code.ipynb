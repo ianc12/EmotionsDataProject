{
 "cells": [
  {
   "cell_type": "markdown",
   "id": "6276bcb7",
   "metadata": {},
   "source": [
    "# Sentiment Classification on Text Data \n",
    "\n",
    "**Authors:** <br>\n",
    "Ian Colson (colso031) <br>\n",
    "Maitrayee Deka (deka0031)<br>\n",
    "Sneha Patri(patri316) <br>\n",
    "Aditi Patil (patil112) <br>\n",
    "Benjamin Swenson(swen0754) <br>\n",
    "\n",
    "---"
   ]
  },
  {
   "cell_type": "code",
   "execution_count": null,
   "id": "d3288e03",
   "metadata": {},
   "outputs": [],
   "source": []
  }
 ],
 "metadata": {
  "kernelspec": {
   "display_name": "Python 3",
   "language": "python",
   "name": "python3"
  },
  "language_info": {
   "codemirror_mode": {
    "name": "ipython",
    "version": 3
   },
   "file_extension": ".py",
   "mimetype": "text/x-python",
   "name": "python",
   "nbconvert_exporter": "python",
   "pygments_lexer": "ipython3",
   "version": "3.8.8"
  }
 },
 "nbformat": 4,
 "nbformat_minor": 5
}
