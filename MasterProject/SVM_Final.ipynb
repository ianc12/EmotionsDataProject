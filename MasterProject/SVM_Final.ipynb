{
 "cells": [
  {
   "cell_type": "code",
   "execution_count": 28,
   "id": "41d0e190",
   "metadata": {},
   "outputs": [],
   "source": [
    "#Importiing necessary packages\n",
    "\n",
    "import pandas as pd\n",
    "import numpy as np\n",
    "import matplotlib.pyplot as plt\n",
    "from sklearn.model_selection import train_test_split\n",
    "from sklearn.feature_extraction.text import TfidfVectorizer,CountVectorizer\n",
    "from sklearn import svm\n",
    "from sklearn.metrics import classification_report\n",
    "import re\n",
    "import snowballstemmer\n",
    "import time"
   ]
  },
  {
   "cell_type": "code",
   "execution_count": 13,
   "id": "2458a7dd",
   "metadata": {},
   "outputs": [
    {
     "data": {
      "text/plain": [
       "fear        16241\n",
       "happy       13508\n",
       "sadness      9796\n",
       "neutral      8960\n",
       "love         4720\n",
       "anger        4069\n",
       "surprise     2639\n",
       "relief       1526\n",
       "Name: sentiment, dtype: int64"
      ]
     },
     "execution_count": 13,
     "metadata": {},
     "output_type": "execute_result"
    }
   ],
   "source": [
    "df = pd.read_csv('combined_data.csv')\n",
    "df.head()\n",
    "df['sentiment'].value_counts()"
   ]
  },
  {
   "cell_type": "code",
   "execution_count": 14,
   "id": "8cd94064",
   "metadata": {
    "scrolled": true
   },
   "outputs": [
    {
     "data": {
      "text/html": [
       "<div>\n",
       "<style scoped>\n",
       "    .dataframe tbody tr th:only-of-type {\n",
       "        vertical-align: middle;\n",
       "    }\n",
       "\n",
       "    .dataframe tbody tr th {\n",
       "        vertical-align: top;\n",
       "    }\n",
       "\n",
       "    .dataframe thead th {\n",
       "        text-align: right;\n",
       "    }\n",
       "</style>\n",
       "<table border=\"1\" class=\"dataframe\">\n",
       "  <thead>\n",
       "    <tr style=\"text-align: right;\">\n",
       "      <th></th>\n",
       "      <th>sentiment</th>\n",
       "      <th>Text</th>\n",
       "    </tr>\n",
       "  </thead>\n",
       "  <tbody>\n",
       "    <tr>\n",
       "      <th>0</th>\n",
       "      <td>sadness</td>\n",
       "      <td>i know i was listenin to bad habit earlier and...</td>\n",
       "    </tr>\n",
       "    <tr>\n",
       "      <th>1</th>\n",
       "      <td>sadness</td>\n",
       "      <td>Layin n bed with a headach ughhhhwaitin on you...</td>\n",
       "    </tr>\n",
       "    <tr>\n",
       "      <th>2</th>\n",
       "      <td>sadness</td>\n",
       "      <td>Funer ceremonygloomi friday</td>\n",
       "    </tr>\n",
       "    <tr>\n",
       "      <th>3</th>\n",
       "      <td>happy</td>\n",
       "      <td>want to hang out with friend SOON</td>\n",
       "    </tr>\n",
       "    <tr>\n",
       "      <th>4</th>\n",
       "      <td>neutral</td>\n",
       "      <td>We want to trade with someon who has Houston t...</td>\n",
       "    </tr>\n",
       "  </tbody>\n",
       "</table>\n",
       "</div>"
      ],
      "text/plain": [
       "  sentiment                                               Text\n",
       "0   sadness  i know i was listenin to bad habit earlier and...\n",
       "1   sadness  Layin n bed with a headach ughhhhwaitin on you...\n",
       "2   sadness                       Funer ceremonygloomi friday \n",
       "3     happy                 want to hang out with friend SOON \n",
       "4   neutral  We want to trade with someon who has Houston t..."
      ]
     },
     "execution_count": 14,
     "metadata": {},
     "output_type": "execute_result"
    }
   ],
   "source": [
    "#Doing the necessary data preprocessing to remove stop words and introduce stemming\n",
    "df['Text'] = df['Text'].apply(lambda x: re.sub(\"(@[A-Za-z0-9]+)|([^A-Za-z \\t])|(\\w+:\\/\\/\\S+)\",'',x))\n",
    "df.dropna(inplace=True)\n",
    "\n",
    "\n",
    "ss = snowballstemmer.stemmer('english')\n",
    "def replace(x):\n",
    "    words = x.split()\n",
    "    newtext = ''\n",
    "    for w in words:\n",
    "        n = ss.stemWord(w)\n",
    "        newtext += n\n",
    "        newtext += \" \"\n",
    "    return newtext\n",
    "df['Text'] = df['Text'].apply(lambda x: replace(x))\n",
    "df.head()"
   ]
  },
  {
   "cell_type": "code",
   "execution_count": 41,
   "id": "70b90f98",
   "metadata": {},
   "outputs": [
    {
     "data": {
      "text/plain": [
       "happy       695\n",
       "sadness     581\n",
       "anger       275\n",
       "fear        224\n",
       "love        159\n",
       "surprise     66\n",
       "Name: Sentiment, dtype: int64"
      ]
     },
     "execution_count": 41,
     "metadata": {},
     "output_type": "execute_result"
    }
   ],
   "source": [
    "realWorldTest = pd.read_csv('realWorldEmotions.csv')\n",
    "realWorldTest['Text'] = realWorldTest['Text'].apply(lambda x: re.sub(\"(@[A-Za-z0-9]+)|([^A-Za-z \\t])|(\\w+:\\/\\/\\S+)\",'',x))\n",
    "realWorldTest.dropna(inplace=True)\n",
    "\n",
    "realWorldTest['Text'] = realWorldTest['Text'].apply(lambda x: replace(x))\n",
    "realWorldTest['Sentiment'] = np.where((realWorldTest.Sentiment == 'joy'),'happy', realWorldTest.Sentiment)\n",
    "realWorldTest['Sentiment'].value_counts()"
   ]
  },
  {
   "cell_type": "code",
   "execution_count": 23,
   "id": "40400a2f",
   "metadata": {},
   "outputs": [],
   "source": [
    "def stratify(data, N, OVR):\n",
    "    \n",
    "    if OVR == 'Happy vs Rest':\n",
    "        rows = []\n",
    "        notHappy = data[data['sentiment'] == 'not happy']\n",
    "        happy = data[data['sentiment'] == 'happy']\n",
    "        \n",
    "        for i in range(N):\n",
    "            rows.append(notHappy.loc[np.random.choice(notHappy.index)])\n",
    "            rows.append(happy.loc[np.random.choice(happy.index)])\n",
    "        sentiments = [x['sentiment'] for x in rows]\n",
    "        texts = [x['Text'] for x in rows]\n",
    "        d = {'sentiment': sentiments, 'Text': texts}\n",
    "        return pd.DataFrame(d)\n",
    "    \n",
    "    \n",
    "    elif OVR == 'Fear vs Rest':\n",
    "        rows = []\n",
    "        notFear = data[data['sentiment'] == 'not fear']\n",
    "        fear = data[data['sentiment'] == 'fear']\n",
    "        \n",
    "        for i in range(N):\n",
    "            rows.append(notFear.loc[np.random.choice(notFear.index)])\n",
    "            rows.append(fear.loc[np.random.choice(fear.index)])\n",
    "        sentiments = [x['sentiment'] for x in rows]\n",
    "        texts = [x['Text'] for x in rows]\n",
    "        d = {'sentiment': sentiments, 'Text': texts}\n",
    "        return pd.DataFrame(d)\n",
    "    \n",
    "    \n",
    "    elif OVR == 'Sadness vs Rest':\n",
    "        rows = []\n",
    "        notSadness = data[data['sentiment'] == 'not sadness']\n",
    "        sadness = data[data['sentiment'] == 'sadness']\n",
    "        \n",
    "        for i in range(N):\n",
    "            rows.append(notSadness.loc[np.random.choice(notSadness.index)])\n",
    "            rows.append(sadness.loc[np.random.choice(sadness.index)])\n",
    "        sentiments = [x['sentiment'] for x in rows]\n",
    "        texts = [x['Text'] for x in rows]\n",
    "        d = {'sentiment': sentiments, 'Text': texts}\n",
    "        return pd.DataFrame(d)"
   ]
  },
  {
   "cell_type": "markdown",
   "id": "381a622e",
   "metadata": {},
   "source": [
    "## Analyzing Happy Vs Rest (all scenarios) below "
   ]
  },
  {
   "cell_type": "code",
   "execution_count": 26,
   "id": "91c0f1df",
   "metadata": {},
   "outputs": [
    {
     "data": {
      "text/plain": [
       "not happy    10000\n",
       "happy        10000\n",
       "Name: sentiment, dtype: int64"
      ]
     },
     "execution_count": 26,
     "metadata": {},
     "output_type": "execute_result"
    }
   ],
   "source": [
    "#Create train and test data (unbalanced for happy vs rest analysis)\n",
    "happyVsRest = df.copy()\n",
    "\n",
    "happyVsRest['sentiment'] = np.where((happyVsRest.sentiment != 'happy'),'not happy', happyVsRest.sentiment)\n",
    "\n",
    "happyVsRest_train_unbalanced, happyVsRest_test_unbalanced = train_test_split(happyVsRest, test_size=0.1, random_state=1)\n",
    "\n",
    "\n",
    "happyVsRest_train_balanced = stratify(happyVsRest_train_unbalanced, 10000, 'Happy vs Rest')\n",
    "happyVsRest_test_balanced = stratify(happyVsRest_test_unbalanced, 10000, 'Happy vs Rest')\n"
   ]
  },
  {
   "cell_type": "markdown",
   "id": "f3ad84d0",
   "metadata": {},
   "source": [
    "##### Balanced Train, Balanced Test for Happy vs Rest shown below"
   ]
  },
  {
   "cell_type": "code",
   "execution_count": 34,
   "id": "e3d65303",
   "metadata": {},
   "outputs": [
    {
     "name": "stdout",
     "output_type": "stream",
     "text": [
      "Training time: 49.970367s; Prediction time: 45.858910s\n",
      "not happy:  {'precision': 0.6462878007677184, 'recall': 0.6903, 'f1-score': 0.667569266476476, 'support': 10000}\n",
      "happy:  {'precision': 0.6676682047429982, 'recall': 0.6222, 'f1-score': 0.6441327190848387, 'support': 10000}\n",
      "\n",
      "Performance on real world data shown below\n",
      "not happy:  {'precision': 0.9068100358422939, 'recall': 0.7754789272030651, 'f1-score': 0.8360181743081371, 'support': 1305}\n",
      "happy:  {'precision': 0.668552036199095, 'recall': 0.8503597122302158, 'f1-score': 0.7485750474984167, 'support': 695}\n"
     ]
    }
   ],
   "source": [
    "#Balanced Happy Vs Rest (balanced train, balanced test)\n",
    "hvr_balanced_vectorizer = TfidfVectorizer(min_df = 5,\n",
    "                             max_df = 0.8,\n",
    "                             sublinear_tf = True,\n",
    "                             use_idf = True)\n",
    "train_vectors = hvr_balanced_vectorizer.fit_transform(happyVsRest_train_balanced['Text'])\n",
    "test_vectors = hvr_balanced_vectorizer.transform(happyVsRest_test_balanced['Text'])\n",
    "\n",
    "# Perform classification with SVM, kernel=linear\n",
    "bhvr_classifier_linear = svm.SVC(kernel='linear')\n",
    "t0 = time.time()\n",
    "bhvr_classifier_linear.fit(train_vectors, happyVsRest_train_balanced['sentiment'])\n",
    "t1 = time.time()\n",
    "prediction_linear = bhvr_classifier_linear.predict(test_vectors)\n",
    "t2 = time.time()\n",
    "time_linear_train = t1-t0\n",
    "time_linear_predict = t2-t1\n",
    "\n",
    "# results\n",
    "print(\"Training time: %fs; Prediction time: %fs\" % (time_linear_train, time_linear_predict))\n",
    "report = classification_report(happyVsRest_test_balanced['sentiment'], prediction_linear, output_dict=True)\n",
    "print('not happy: ', report['not happy'])\n",
    "print('happy: ', report['happy'])\n",
    "\n",
    "\n",
    "#REAL WORLD TEST PERFORMANCE SHOWN BELOW\n",
    "\n",
    "dfRealHappy = realWorldTest.copy()\n",
    "dfRealHappy['Sentiment'] = np.where((dfRealHappy.Sentiment == 'joy'),'happy', dfRealHappy.Sentiment)\n",
    "dfRealHappy['Sentiment'] = np.where((dfRealHappy.Sentiment != 'happy'),'not happy', dfRealHappy.Sentiment)\n",
    "\n",
    "\n",
    "test_vectors_bhvr_real = hvr_balanced_vectorizer.transform(dfRealHappy['Text'])\n",
    "prediction_linear_bhvr_real = bhvr_classifier_linear.predict(test_vectors_bhvr_real)\n",
    "report = classification_report(dfRealHappy['Sentiment'], prediction_linear_bhvr_real, output_dict=True)\n",
    "\n",
    "print()\n",
    "print(\"Performance on real world data shown below\")\n",
    "print('not happy: ', report['not happy'])\n",
    "print('happy: ', report['happy'])\n",
    "\n"
   ]
  },
  {
   "cell_type": "markdown",
   "id": "1131e7c2",
   "metadata": {},
   "source": [
    "##### Balanced Train, Unbalanced Test for Happy vs Rest shown below"
   ]
  },
  {
   "cell_type": "code",
   "execution_count": 35,
   "id": "23c01d1c",
   "metadata": {},
   "outputs": [
    {
     "name": "stdout",
     "output_type": "stream",
     "text": [
      "Training time: 47.136967s; Prediction time: 10.136422s\n",
      "not happy:  {'precision': 0.8740198640878202, 'recall': 0.6856674184949764, 'f1-score': 0.7684706423072504, 'support': 4877}\n",
      "happy:  {'precision': 0.3392241379310345, 'recall': 0.6201733648542159, 'f1-score': 0.43856227361382005, 'support': 1269}\n",
      "\n",
      "Performance on real world data shown below\n",
      "not happy:  {'precision': 0.9068100358422939, 'recall': 0.7754789272030651, 'f1-score': 0.8360181743081371, 'support': 1305}\n",
      "happy:  {'precision': 0.668552036199095, 'recall': 0.8503597122302158, 'f1-score': 0.7485750474984167, 'support': 695}\n"
     ]
    }
   ],
   "source": [
    "#Balanced Happy Vs Rest (balanced train, unbalanced test)\n",
    "hvr_bu_vectorizer = TfidfVectorizer(min_df = 5,\n",
    "                             max_df = 0.8,\n",
    "                             sublinear_tf = True,\n",
    "                             use_idf = True)\n",
    "train_vectors = hvr_bu_vectorizer.fit_transform(happyVsRest_train_balanced['Text'])\n",
    "test_vectors = hvr_bu_vectorizer.transform(happyVsRest_test_unbalanced['Text'])\n",
    "\n",
    "# Perform classification with SVM, kernel=linear\n",
    "buhvr_classifier_linear = svm.SVC(kernel='linear')\n",
    "t0 = time.time()\n",
    "buhvr_classifier_linear.fit(train_vectors, happyVsRest_train_balanced['sentiment'])\n",
    "t1 = time.time()\n",
    "prediction_linear = buhvr_classifier_linear.predict(test_vectors)\n",
    "t2 = time.time()\n",
    "time_linear_train = t1-t0\n",
    "time_linear_predict = t2-t1\n",
    "\n",
    "# results\n",
    "print(\"Training time: %fs; Prediction time: %fs\" % (time_linear_train, time_linear_predict))\n",
    "report = classification_report(happyVsRest_test_unbalanced['sentiment'], prediction_linear, output_dict=True)\n",
    "print('not happy: ', report['not happy'])\n",
    "print('happy: ', report['happy'])\n",
    "\n",
    "\n",
    "#REAL WORLD TEST PERFORMANCE SHOWN BELOW\n",
    "test_vectors_buhvr_real = hvr_bu_vectorizer.transform(dfRealHappy['Text'])\n",
    "prediction_linear_buhvr_real = buhvr_classifier_linear.predict(test_vectors_buhvr_real)\n",
    "report = classification_report(dfRealHappy['Sentiment'], prediction_linear_buhvr_real, output_dict=True)\n",
    "\n",
    "print()\n",
    "print(\"Performance on real world data shown below\")\n",
    "print('not happy: ', report['not happy'])\n",
    "print('happy: ', report['happy'])"
   ]
  },
  {
   "cell_type": "markdown",
   "id": "5d92c0cb",
   "metadata": {},
   "source": [
    "##### Unbalanced Train, Balanced Test for Happy vs Rest shown below"
   ]
  },
  {
   "cell_type": "code",
   "execution_count": 36,
   "id": "029a3006",
   "metadata": {
    "scrolled": true
   },
   "outputs": [
    {
     "name": "stdout",
     "output_type": "stream",
     "text": [
      "Training time: 521.538046s; Prediction time: 72.239591s\n",
      "not happy:  {'precision': 0.5225954117208708, 'recall': 0.9818, 'f1-score': 0.682113453989648, 'support': 10000}\n",
      "happy:  {'precision': 0.8499587798845837, 'recall': 0.1031, 'f1-score': 0.18389369481851423, 'support': 10000}\n",
      "\n",
      "Performance on real world data shown below\n",
      "not happy:  {'precision': 0.7096069868995634, 'recall': 0.9961685823754789, 'f1-score': 0.8288173414089894, 'support': 1305}\n",
      "happy:  {'precision': 0.9702380952380952, 'recall': 0.23453237410071942, 'f1-score': 0.37775202780996525, 'support': 695}\n"
     ]
    }
   ],
   "source": [
    "#Balanced Happy Vs Rest (unbalanced train, balanced test)\n",
    "hvr_unbalanced_balanced_vectorizer = TfidfVectorizer(min_df = 5,\n",
    "                             max_df = 0.8,\n",
    "                             sublinear_tf = True,\n",
    "                             use_idf = True)\n",
    "train_vectors = hvr_unbalanced_balanced_vectorizer.fit_transform(happyVsRest_train_unbalanced['Text'])\n",
    "test_vectors = hvr_unbalanced_balanced_vectorizer.transform(happyVsRest_test_balanced['Text'])\n",
    "\n",
    "# Perform classification with SVM, kernel=linear\n",
    "unbalanced_balanced_hvr_classifier_linear = svm.SVC(kernel='linear')\n",
    "t0 = time.time()\n",
    "unbalanced_balanced_hvr_classifier_linear.fit(train_vectors, happyVsRest_train_unbalanced['sentiment'])\n",
    "t1 = time.time()\n",
    "prediction_linear = unbalanced_balanced_hvr_classifier_linear.predict(test_vectors)\n",
    "t2 = time.time()\n",
    "time_linear_train = t1-t0\n",
    "time_linear_predict = t2-t1\n",
    "\n",
    "# results\n",
    "print(\"Training time: %fs; Prediction time: %fs\" % (time_linear_train, time_linear_predict))\n",
    "report = classification_report(happyVsRest_test_balanced['sentiment'], prediction_linear, output_dict=True)\n",
    "print('not happy: ', report['not happy'])\n",
    "print('happy: ', report['happy'])\n",
    "\n",
    "\n",
    "#REAL WORLD TEST PERFORMANCE SHOWN BELOW\n",
    "test_vectors_unbalanced_balanced_hvr_real = hvr_unbalanced_balanced_vectorizer.transform(dfRealHappy['Text'])\n",
    "prediction_linear_unbalanced_balanced_hvr_real = unbalanced_balanced_hvr_classifier_linear.predict(test_vectors_unbalanced_balanced_hvr_real)\n",
    "report = classification_report(dfRealHappy['Sentiment'], prediction_linear_unbalanced_balanced_hvr_real, output_dict=True)\n",
    "\n",
    "print()\n",
    "print(\"Performance on real world data shown below\")\n",
    "print('not happy: ', report['not happy'])\n",
    "print('happy: ', report['happy'])"
   ]
  },
  {
   "cell_type": "markdown",
   "id": "103dba1e",
   "metadata": {},
   "source": [
    "##### Unbalanced Train, Unbalanced Test for Happy vs Rest shown below"
   ]
  },
  {
   "cell_type": "code",
   "execution_count": 38,
   "id": "7aabd89a",
   "metadata": {
    "scrolled": true
   },
   "outputs": [
    {
     "name": "stdout",
     "output_type": "stream",
     "text": [
      "Training time: 527.741826s; Prediction time: 20.152330s\n",
      "not happy:  {'precision': 0.8086148648648649, 'recall': 0.9815460323969654, 'f1-score': 0.8867277947578031, 'support': 4877}\n",
      "happy:  {'precision': 0.6017699115044248, 'recall': 0.10717100078802207, 'f1-score': 0.18193979933110366, 'support': 1269}\n",
      "\n",
      "Performance on real world data shown below\n",
      "not happy:  {'precision': 0.7096069868995634, 'recall': 0.9961685823754789, 'f1-score': 0.8288173414089894, 'support': 1305}\n",
      "happy:  {'precision': 0.9702380952380952, 'recall': 0.23453237410071942, 'f1-score': 0.37775202780996525, 'support': 695}\n"
     ]
    }
   ],
   "source": [
    "#Balanced Happy Vs Rest (unbalanced train, unbalanced test)\n",
    "hvr_unbalanced_unbalanced_vectorizer = TfidfVectorizer(min_df = 5,\n",
    "                             max_df = 0.8,\n",
    "                             sublinear_tf = True,\n",
    "                             use_idf = True)\n",
    "train_vectors = hvr_unbalanced_unbalanced_vectorizer.fit_transform(happyVsRest_train_unbalanced['Text'])\n",
    "test_vectors = hvr_unbalanced_unbalanced_vectorizer.transform(happyVsRest_test_unbalanced['Text'])\n",
    "\n",
    "# Perform classification with SVM, kernel=linear\n",
    "unbalanced_unbalanced_hvr_classifier_linear = svm.SVC(kernel='linear')\n",
    "t0 = time.time()\n",
    "unbalanced_unbalanced_hvr_classifier_linear.fit(train_vectors, happyVsRest_train_unbalanced['sentiment'])\n",
    "t1 = time.time()\n",
    "prediction_linear = unbalanced_unbalanced_hvr_classifier_linear.predict(test_vectors)\n",
    "t2 = time.time()\n",
    "time_linear_train = t1-t0\n",
    "time_linear_predict = t2-t1\n",
    "\n",
    "# results\n",
    "print(\"Training time: %fs; Prediction time: %fs\" % (time_linear_train, time_linear_predict))\n",
    "report = classification_report(happyVsRest_test_unbalanced['sentiment'], prediction_linear, output_dict=True)\n",
    "print('not happy: ', report['not happy'])\n",
    "print('happy: ', report['happy'])\n",
    "\n",
    "\n",
    "#REAL WORLD TEST PERFORMANCE SHOWN BELOW\n",
    "test_vectors_unbalanced_unbalanced_hvr_real = hvr_unbalanced_unbalanced_vectorizer.transform(dfRealHappy['Text'])\n",
    "prediction_linear_unbalanced_unbalanced_hvr_real = unbalanced_unbalanced_hvr_classifier_linear.predict(test_vectors_unbalanced_unbalanced_hvr_real)\n",
    "report = classification_report(dfRealHappy['Sentiment'], prediction_linear_unbalanced_unbalanced_hvr_real, output_dict=True)\n",
    "\n",
    "print()\n",
    "print(\"Performance on real world data shown below\")\n",
    "print('not happy: ', report['not happy'])\n",
    "print('happy: ', report['happy'])"
   ]
  },
  {
   "cell_type": "markdown",
   "id": "93d8cda2",
   "metadata": {},
   "source": [
    "## Analyzing Fear Vs Rest (all scenarios) below "
   ]
  },
  {
   "cell_type": "code",
   "execution_count": 39,
   "id": "71db66f1",
   "metadata": {},
   "outputs": [],
   "source": [
    "#Create train and test data (for fear vs rest analysis)\n",
    "fearVsRest = df.copy()\n",
    "\n",
    "fearVsRest['sentiment'] = np.where((fearVsRest.sentiment != 'fear'),'not fear', fearVsRest.sentiment)\n",
    "\n",
    "fearVsRest_train_unbalanced, fearVsRest_test_unbalanced = train_test_split(fearVsRest, test_size=0.1, random_state=1)\n",
    "\n",
    "\n",
    "fearVsRest_train_balanced = stratify(fearVsRest_train_unbalanced, 10000, 'Fear vs Rest')\n",
    "fearVsRest_test_balanced = stratify(fearVsRest_test_unbalanced, 10000, 'Fear vs Rest')\n"
   ]
  },
  {
   "cell_type": "markdown",
   "id": "3cf1fbb1",
   "metadata": {},
   "source": [
    "##### Balanced Train, Balanced Test for Fear vs Rest shown below"
   ]
  },
  {
   "cell_type": "code",
   "execution_count": 48,
   "id": "f8fc9693",
   "metadata": {},
   "outputs": [
    {
     "name": "stdout",
     "output_type": "stream",
     "text": [
      "Training time: 45.711342s; Prediction time: 34.902468s\n",
      "not fear:  {'precision': 0.6020854021847071, 'recall': 0.6063, 'f1-score': 0.6041853512705531, 'support': 10000}\n",
      "fear:  {'precision': 0.6035246727089627, 'recall': 0.5993, 'f1-score': 0.6014049172102358, 'support': 10000}\n",
      "\n",
      "Performance on real world data shown below\n",
      "not fear:  {'precision': 0.9935379644588045, 'recall': 0.34628378378378377, 'f1-score': 0.5135699373695197, 'support': 1776}\n",
      "fear:  {'precision': 0.15930485155684287, 'recall': 0.9821428571428571, 'f1-score': 0.27414330218068533, 'support': 224}\n"
     ]
    }
   ],
   "source": [
    "#Fear Vs Rest (balanced train, balanced test)\n",
    "fvr_balanced_vectorizer = TfidfVectorizer(min_df = 5,\n",
    "                             max_df = 0.8,\n",
    "                             sublinear_tf = True,\n",
    "                             use_idf = True)\n",
    "train_vectors = fvr_balanced_vectorizer.fit_transform(fearVsRest_train_balanced['Text'])\n",
    "test_vectors = fvr_balanced_vectorizer.transform(fearVsRest_test_balanced['Text'])\n",
    "\n",
    "# Perform classification with SVM, kernel=linear\n",
    "bfvr_classifier_linear = svm.SVC(kernel='linear')\n",
    "t0 = time.time()\n",
    "bfvr_classifier_linear.fit(train_vectors, fearVsRest_train_balanced['sentiment'])\n",
    "t1 = time.time()\n",
    "prediction_linear = bfvr_classifier_linear.predict(test_vectors)\n",
    "t2 = time.time()\n",
    "time_linear_train = t1-t0\n",
    "time_linear_predict = t2-t1\n",
    "\n",
    "# results\n",
    "print(\"Training time: %fs; Prediction time: %fs\" % (time_linear_train, time_linear_predict))\n",
    "report = classification_report(fearVsRest_test_balanced['sentiment'], prediction_linear, output_dict=True)\n",
    "print('not fear: ', report['not fear'])\n",
    "print('fear: ', report['fear'])\n",
    "\n",
    "\n",
    "#REAL WORLD TEST PERFORMANCE SHOWN BELOW\n",
    "\n",
    "dfRealFear = realWorldTest.copy()\n",
    "dfRealFear['Sentiment'] = np.where((dfRealFear.Sentiment != 'fear'),'not fear', dfRealFear.Sentiment)\n",
    "\n",
    "\n",
    "test_vectors_bfvr_real = fvr_balanced_vectorizer.transform(dfRealFear['Text'])\n",
    "prediction_linear_bfvr_real = bfvr_classifier_linear.predict(test_vectors_bfvr_real)\n",
    "report = classification_report(dfRealFear['Sentiment'], prediction_linear_bfvr_real, output_dict=True)\n",
    "\n",
    "print()\n",
    "print(\"Performance on real world data shown below\")\n",
    "print('not fear: ', report['not fear'])\n",
    "print('fear: ', report['fear'])\n",
    "\n"
   ]
  },
  {
   "cell_type": "markdown",
   "id": "117d84c1",
   "metadata": {},
   "source": [
    "##### Balanced Train, Unbalanced Test for Fear vs Rest shown below"
   ]
  },
  {
   "cell_type": "code",
   "execution_count": 49,
   "id": "6d3cd041",
   "metadata": {},
   "outputs": [
    {
     "name": "stdout",
     "output_type": "stream",
     "text": [
      "Training time: 46.023930s; Prediction time: 9.357774s\n",
      "not fear:  {'precision': 0.7972893341190336, 'recall': 0.608363309352518, 'f1-score': 0.6901300688599847, 'support': 4448}\n",
      "fear:  {'precision': 0.36700581395348836, 'recall': 0.5948174322732627, 'f1-score': 0.4539325842696629, 'support': 1698}\n",
      "\n",
      "Performance on real world data shown below\n",
      "not fear:  {'precision': 0.9935379644588045, 'recall': 0.34628378378378377, 'f1-score': 0.5135699373695197, 'support': 1776}\n",
      "fear:  {'precision': 0.15930485155684287, 'recall': 0.9821428571428571, 'f1-score': 0.27414330218068533, 'support': 224}\n"
     ]
    }
   ],
   "source": [
    "#Fear Vs Rest (balanced train, unbalanced test)\n",
    "fvr_balanced_unbalanced_vectorizer = TfidfVectorizer(min_df = 5,\n",
    "                             max_df = 0.8,\n",
    "                             sublinear_tf = True,\n",
    "                             use_idf = True)\n",
    "train_vectors = fvr_balanced_unbalanced_vectorizer.fit_transform(fearVsRest_train_balanced['Text'])\n",
    "test_vectors = fvr_balanced_unbalanced_vectorizer.transform(fearVsRest_test_unbalanced['Text'])\n",
    "\n",
    "# Perform classification with SVM, kernel=linear\n",
    "balanced_unbalanced_fvr_classifier_linear = svm.SVC(kernel='linear')\n",
    "t0 = time.time()\n",
    "balanced_unbalanced_fvr_classifier_linear.fit(train_vectors, fearVsRest_train_balanced['sentiment'])\n",
    "t1 = time.time()\n",
    "prediction_linear = balanced_unbalanced_fvr_classifier_linear.predict(test_vectors)\n",
    "t2 = time.time()\n",
    "time_linear_train = t1-t0\n",
    "time_linear_predict = t2-t1\n",
    "\n",
    "# results\n",
    "print(\"Training time: %fs; Prediction time: %fs\" % (time_linear_train, time_linear_predict))\n",
    "report = classification_report(fearVsRest_test_unbalanced['sentiment'], prediction_linear, output_dict=True)\n",
    "print('not fear: ', report['not fear'])\n",
    "print('fear: ', report['fear'])\n",
    "\n",
    "\n",
    "#REAL WORLD TEST PERFORMANCE SHOWN BELOW\n",
    "\n",
    "test_vectors_balanced_unbalanced_fvr_real = fvr_balanced_unbalanced_vectorizer.transform(dfRealFear['Text'])\n",
    "prediction_linear_balanced_unbalanced_fvr_real = balanced_unbalanced_fvr_classifier_linear.predict(test_vectors_balanced_unbalanced_fvr_real)\n",
    "report = classification_report(dfRealFear['Sentiment'], prediction_linear_balanced_unbalanced_fvr_real, output_dict=True)\n",
    "\n",
    "print()\n",
    "print(\"Performance on real world data shown below\")\n",
    "print('not fear: ', report['not fear'])\n",
    "print('fear: ', report['fear'])"
   ]
  },
  {
   "cell_type": "markdown",
   "id": "a02b5ebb",
   "metadata": {},
   "source": [
    "##### Unbalanced Train, Balanced Test for Fear vs Rest shown below"
   ]
  },
  {
   "cell_type": "code",
   "execution_count": 50,
   "id": "5335484f",
   "metadata": {},
   "outputs": [
    {
     "name": "stdout",
     "output_type": "stream",
     "text": [
      "Training time: 813.404830s; Prediction time: 72.826474s\n",
      "not fear:  {'precision': 0.5298511472943199, 'recall': 0.986, 'f1-score': 0.689293578943689, 'support': 10000}\n",
      "fear:  {'precision': 0.899352983465133, 'recall': 0.1251, 'f1-score': 0.21964708980774292, 'support': 10000}\n",
      "\n",
      "Performance on real world data shown below\n",
      "not fear:  {'precision': 0.9730185497470489, 'recall': 0.9746621621621622, 'f1-score': 0.9738396624472573, 'support': 1776}\n",
      "fear:  {'precision': 0.7963800904977375, 'recall': 0.7857142857142857, 'f1-score': 0.7910112359550562, 'support': 224}\n"
     ]
    }
   ],
   "source": [
    "#Fear Vs Rest (unbalanced train, balanced test)\n",
    "fvr_unbalanced_balanced_vectorizer = TfidfVectorizer(min_df = 5,\n",
    "                             max_df = 0.8,\n",
    "                             sublinear_tf = True,\n",
    "                             use_idf = True)\n",
    "train_vectors = fvr_unbalanced_balanced_vectorizer.fit_transform(fearVsRest_train_unbalanced['Text'])\n",
    "test_vectors = fvr_unbalanced_balanced_vectorizer.transform(fearVsRest_test_balanced['Text'])\n",
    "\n",
    "# Perform classification with SVM, kernel=linear\n",
    "unbalanced_balanced_fvr_classifier_linear = svm.SVC(kernel='linear')\n",
    "t0 = time.time()\n",
    "unbalanced_balanced_fvr_classifier_linear.fit(train_vectors, fearVsRest_train_unbalanced['sentiment'])\n",
    "t1 = time.time()\n",
    "prediction_linear = unbalanced_balanced_fvr_classifier_linear.predict(test_vectors)\n",
    "t2 = time.time()\n",
    "time_linear_train = t1-t0\n",
    "time_linear_predict = t2-t1\n",
    "\n",
    "# results\n",
    "print(\"Training time: %fs; Prediction time: %fs\" % (time_linear_train, time_linear_predict))\n",
    "report = classification_report(fearVsRest_test_balanced['sentiment'], prediction_linear, output_dict=True)\n",
    "print('not fear: ', report['not fear'])\n",
    "print('fear: ', report['fear'])\n",
    "\n",
    "\n",
    "#REAL WORLD TEST PERFORMANCE SHOWN BELOW\n",
    "\n",
    "test_vectors_unbalanced_balanced_fvr_real = fvr_unbalanced_balanced_vectorizer.transform(dfRealFear['Text'])\n",
    "prediction_linear_unbalanced_balanced_fvr_real = unbalanced_balanced_fvr_classifier_linear.predict(test_vectors_unbalanced_balanced_fvr_real)\n",
    "report = classification_report(dfRealFear['Sentiment'], prediction_linear_unbalanced_balanced_fvr_real, output_dict=True)\n",
    "\n",
    "print()\n",
    "print(\"Performance on real world data shown below\")\n",
    "print('not fear: ', report['not fear'])\n",
    "print('fear: ', report['fear'])"
   ]
  },
  {
   "cell_type": "markdown",
   "id": "434428cf",
   "metadata": {},
   "source": [
    "##### Unbalanced Train, Unbalanced Test for Fear vs Rest shown below"
   ]
  },
  {
   "cell_type": "code",
   "execution_count": 51,
   "id": "21fca419",
   "metadata": {},
   "outputs": [
    {
     "name": "stdout",
     "output_type": "stream",
     "text": [
      "Training time: 800.303915s; Prediction time: 21.587022s\n",
      "not fear:  {'precision': 0.7459993190330269, 'recall': 0.9851618705035972, 'f1-score': 0.8490602596396047, 'support': 4448}\n",
      "fear:  {'precision': 0.7573529411764706, 'recall': 0.12131919905771496, 'f1-score': 0.20913705583756345, 'support': 1698}\n",
      "\n",
      "Performance on real world data shown below\n",
      "not fear:  {'precision': 0.9730185497470489, 'recall': 0.9746621621621622, 'f1-score': 0.9738396624472573, 'support': 1776}\n",
      "fear:  {'precision': 0.7963800904977375, 'recall': 0.7857142857142857, 'f1-score': 0.7910112359550562, 'support': 224}\n"
     ]
    }
   ],
   "source": [
    "#Fear Vs Rest (unbalanced train, unbalanced test)\n",
    "fvr_unbalanced_unbalanced_vectorizer = TfidfVectorizer(min_df = 5,\n",
    "                             max_df = 0.8,\n",
    "                             sublinear_tf = True,\n",
    "                             use_idf = True)\n",
    "train_vectors = fvr_unbalanced_unbalanced_vectorizer.fit_transform(fearVsRest_train_unbalanced['Text'])\n",
    "test_vectors = fvr_unbalanced_unbalanced_vectorizer.transform(fearVsRest_test_unbalanced['Text'])\n",
    "\n",
    "# Perform classification with SVM, kernel=linear\n",
    "unbalanced_unbalanced_fvr_classifier_linear = svm.SVC(kernel='linear')\n",
    "t0 = time.time()\n",
    "unbalanced_unbalanced_fvr_classifier_linear.fit(train_vectors, fearVsRest_train_unbalanced['sentiment'])\n",
    "t1 = time.time()\n",
    "prediction_linear = unbalanced_unbalanced_fvr_classifier_linear.predict(test_vectors)\n",
    "t2 = time.time()\n",
    "time_linear_train = t1-t0\n",
    "time_linear_predict = t2-t1\n",
    "\n",
    "# results\n",
    "print(\"Training time: %fs; Prediction time: %fs\" % (time_linear_train, time_linear_predict))\n",
    "report = classification_report(fearVsRest_test_unbalanced['sentiment'], prediction_linear, output_dict=True)\n",
    "print('not fear: ', report['not fear'])\n",
    "print('fear: ', report['fear'])\n",
    "\n",
    "\n",
    "#REAL WORLD TEST PERFORMANCE SHOWN BELOW\n",
    "\n",
    "test_vectors_unbalanced_unbalanced_fvr_real = fvr_unbalanced_unbalanced_vectorizer.transform(dfRealFear['Text'])\n",
    "prediction_linear_unbalanced_unbalanced_fvr_real = unbalanced_unbalanced_fvr_classifier_linear.predict(test_vectors_unbalanced_unbalanced_fvr_real)\n",
    "report = classification_report(dfRealFear['Sentiment'], prediction_linear_unbalanced_unbalanced_fvr_real, output_dict=True)\n",
    "\n",
    "print()\n",
    "print(\"Performance on real world data shown below\")\n",
    "print('not fear: ', report['not fear'])\n",
    "print('fear: ', report['fear'])"
   ]
  },
  {
   "cell_type": "markdown",
   "id": "ae057a18",
   "metadata": {},
   "source": [
    "## Analyzing Sadness Vs Rest (all scenarios) below "
   ]
  },
  {
   "cell_type": "code",
   "execution_count": 52,
   "id": "d49cb7a3",
   "metadata": {},
   "outputs": [],
   "source": [
    "#Create train and test data (for fear vs rest analysis)\n",
    "sadVsRest = df.copy()\n",
    "\n",
    "sadVsRest['sentiment'] = np.where((sadVsRest.sentiment != 'sadness'),'not sadness', sadVsRest.sentiment)\n",
    "\n",
    "sadVsRest_train_unbalanced, sadVsRest_test_unbalanced = train_test_split(sadVsRest, test_size=0.1, random_state=1)\n",
    "\n",
    "\n",
    "sadVsRest_train_balanced = stratify(sadVsRest_train_unbalanced, 10000, 'Sadness vs Rest')\n",
    "sadVsRest_test_balanced = stratify(sadVsRest_test_unbalanced, 10000, 'Sadness vs Rest')\n"
   ]
  },
  {
   "cell_type": "markdown",
   "id": "f571bc41",
   "metadata": {},
   "source": [
    "##### Balanced Train, Balanced Test for Sad vs Rest shown below"
   ]
  },
  {
   "cell_type": "code",
   "execution_count": 54,
   "id": "d6417b65",
   "metadata": {},
   "outputs": [
    {
     "name": "stdout",
     "output_type": "stream",
     "text": [
      "Training time: 50.934468s; Prediction time: 31.978887s\n",
      "not sadness:  {'precision': 0.6491897932575899, 'recall': 0.6971, 'f1-score': 0.6722924100684733, 'support': 10000}\n",
      "sadness:  {'precision': 0.6729648024184841, 'recall': 0.6233, 'f1-score': 0.6471809780915793, 'support': 10000}\n",
      "\n",
      "Performance on real world data shown below\n",
      "not sadness:  {'precision': 0.9380804953560371, 'recall': 0.854122621564482, 'f1-score': 0.8941350055330136, 'support': 1419}\n",
      "sadness:  {'precision': 0.7076271186440678, 'recall': 0.8623063683304647, 'f1-score': 0.7773467804499612, 'support': 581}\n"
     ]
    }
   ],
   "source": [
    "#Sad Vs Rest (balanced train, balanced test)\n",
    "svr_balanced_vectorizer = TfidfVectorizer(min_df = 5,\n",
    "                             max_df = 0.8,\n",
    "                             sublinear_tf = True,\n",
    "                             use_idf = True)\n",
    "train_vectors = svr_balanced_vectorizer.fit_transform(sadVsRest_train_balanced['Text'])\n",
    "test_vectors = svr_balanced_vectorizer.transform(sadVsRest_test_balanced['Text'])\n",
    "\n",
    "# Perform classification with SVM, kernel=linear\n",
    "bsvr_classifier_linear = svm.SVC(kernel='linear')\n",
    "t0 = time.time()\n",
    "bsvr_classifier_linear.fit(train_vectors, sadVsRest_train_balanced['sentiment'])\n",
    "t1 = time.time()\n",
    "prediction_linear = bsvr_classifier_linear.predict(test_vectors)\n",
    "t2 = time.time()\n",
    "time_linear_train = t1-t0\n",
    "time_linear_predict = t2-t1\n",
    "\n",
    "# results\n",
    "print(\"Training time: %fs; Prediction time: %fs\" % (time_linear_train, time_linear_predict))\n",
    "report = classification_report(sadVsRest_test_balanced['sentiment'], prediction_linear, output_dict=True)\n",
    "print('not sadness: ', report['not sadness'])\n",
    "print('sadness: ', report['sadness'])\n",
    "\n",
    "\n",
    "#REAL WORLD TEST PERFORMANCE SHOWN BELOW\n",
    "\n",
    "dfRealSadness = realWorldTest.copy()\n",
    "dfRealSadness['Sentiment'] = np.where((dfRealSadness.Sentiment != 'sadness'),'not sadness', dfRealSadness.Sentiment)\n",
    "\n",
    "\n",
    "test_vectors_bsvr_real = svr_balanced_vectorizer.transform(dfRealSadness['Text'])\n",
    "prediction_linear_bsvr_real = bsvr_classifier_linear.predict(test_vectors_bsvr_real)\n",
    "report = classification_report(dfRealSadness['Sentiment'], prediction_linear_bsvr_real, output_dict=True)\n",
    "\n",
    "print()\n",
    "print(\"Performance on real world data shown below\")\n",
    "print('not sadness: ', report['not sadness'])\n",
    "print('sadness: ', report['sadness'])\n"
   ]
  },
  {
   "cell_type": "markdown",
   "id": "da0ca168",
   "metadata": {},
   "source": [
    "##### Balanced Train, Unbalanced Test for Sad vs Rest shown below"
   ]
  },
  {
   "cell_type": "code",
   "execution_count": 55,
   "id": "44b0cc9f",
   "metadata": {},
   "outputs": [
    {
     "name": "stdout",
     "output_type": "stream",
     "text": [
      "Training time: 46.948130s; Prediction time: 9.424777s\n",
      "not sadness:  {'precision': 0.9078226208271052, 'recall': 0.7082604470359573, 'f1-score': 0.7957200567747572, 'support': 5145}\n",
      "sadness:  {'precision': 0.2959662288930582, 'recall': 0.6303696303696303, 'f1-score': 0.4028088094478136, 'support': 1001}\n",
      "\n",
      "Performance on real world data shown below\n",
      "not sadness:  {'precision': 0.9380804953560371, 'recall': 0.854122621564482, 'f1-score': 0.8941350055330136, 'support': 1419}\n",
      "sadness:  {'precision': 0.7076271186440678, 'recall': 0.8623063683304647, 'f1-score': 0.7773467804499612, 'support': 581}\n"
     ]
    }
   ],
   "source": [
    "#Sad Vs Rest (balanced train, unbalanced test)\n",
    "svr_balanced_unbalanced_vectorizer = TfidfVectorizer(min_df = 5,\n",
    "                             max_df = 0.8,\n",
    "                             sublinear_tf = True,\n",
    "                             use_idf = True)\n",
    "train_vectors = svr_balanced_unbalanced_vectorizer.fit_transform(sadVsRest_train_balanced['Text'])\n",
    "test_vectors = svr_balanced_unbalanced_vectorizer.transform(sadVsRest_test_unbalanced['Text'])\n",
    "\n",
    "# Perform classification with SVM, kernel=linear\n",
    "svr_balanced_unbalanced_classifier_linear = svm.SVC(kernel='linear')\n",
    "t0 = time.time()\n",
    "svr_balanced_unbalanced_classifier_linear.fit(train_vectors, sadVsRest_train_balanced['sentiment'])\n",
    "t1 = time.time()\n",
    "prediction_linear = svr_balanced_unbalanced_classifier_linear.predict(test_vectors)\n",
    "t2 = time.time()\n",
    "time_linear_train = t1-t0\n",
    "time_linear_predict = t2-t1\n",
    "\n",
    "# results\n",
    "print(\"Training time: %fs; Prediction time: %fs\" % (time_linear_train, time_linear_predict))\n",
    "report = classification_report(sadVsRest_test_unbalanced['sentiment'], prediction_linear, output_dict=True)\n",
    "print('not sadness: ', report['not sadness'])\n",
    "print('sadness: ', report['sadness'])\n",
    "\n",
    "\n",
    "#REAL WORLD TEST PERFORMANCE SHOWN BELOW\n",
    "\n",
    "test_vectors_svr_balanced_unbalanced_real = svr_balanced_unbalanced_vectorizer.transform(dfRealSadness['Text'])\n",
    "prediction_linear_svr_balanced_unbalanced_real = svr_balanced_unbalanced_classifier_linear.predict(test_vectors_svr_balanced_unbalanced_real)\n",
    "report = classification_report(dfRealSadness['Sentiment'], prediction_linear_svr_balanced_unbalanced_real, output_dict=True)\n",
    "\n",
    "print()\n",
    "print(\"Performance on real world data shown below\")\n",
    "print('not sadness: ', report['not sadness'])\n",
    "print('sadness: ', report['sadness'])\n"
   ]
  },
  {
   "cell_type": "markdown",
   "id": "488d8e90",
   "metadata": {},
   "source": [
    "##### Unbalanced Train, Balanced Test for Sad vs Rest shown below"
   ]
  },
  {
   "cell_type": "code",
   "execution_count": 56,
   "id": "880076d3",
   "metadata": {},
   "outputs": [
    {
     "name": "stdout",
     "output_type": "stream",
     "text": [
      "Training time: 476.914578s; Prediction time: 49.155798s\n",
      "not sadness:  {'precision': 0.5066659855953415, 'recall': 0.9919, 'f1-score': 0.6707238732799136, 'support': 10000}\n",
      "sadness:  {'precision': 0.8085106382978723, 'recall': 0.0342, 'f1-score': 0.0656241005468675, 'support': 10000}\n",
      "\n",
      "Performance on real world data shown below\n",
      "not sadness:  {'precision': 0.7306900102986612, 'recall': 1.0, 'f1-score': 0.8443915501338888, 'support': 1419}\n",
      "sadness:  {'precision': 1.0, 'recall': 0.09982788296041308, 'f1-score': 0.1815336463223787, 'support': 581}\n"
     ]
    }
   ],
   "source": [
    "#Sad Vs Rest (unbalanced train, balanced test)\n",
    "svr_unbalanced_balanced_vectorizer = TfidfVectorizer(min_df = 5,\n",
    "                             max_df = 0.8,\n",
    "                             sublinear_tf = True,\n",
    "                             use_idf = True)\n",
    "train_vectors = svr_unbalanced_balanced_vectorizer.fit_transform(sadVsRest_train_unbalanced['Text'])\n",
    "test_vectors = svr_unbalanced_balanced_vectorizer.transform(sadVsRest_test_balanced['Text'])\n",
    "\n",
    "# Perform classification with SVM, kernel=linear\n",
    "svr_unbalanced_balanced_classifier_linear = svm.SVC(kernel='linear')\n",
    "t0 = time.time()\n",
    "svr_unbalanced_balanced_classifier_linear.fit(train_vectors, sadVsRest_train_unbalanced['sentiment'])\n",
    "t1 = time.time()\n",
    "prediction_linear = svr_unbalanced_balanced_classifier_linear.predict(test_vectors)\n",
    "t2 = time.time()\n",
    "time_linear_train = t1-t0\n",
    "time_linear_predict = t2-t1\n",
    "\n",
    "# results\n",
    "print(\"Training time: %fs; Prediction time: %fs\" % (time_linear_train, time_linear_predict))\n",
    "report = classification_report(sadVsRest_test_balanced['sentiment'], prediction_linear, output_dict=True)\n",
    "print('not sadness: ', report['not sadness'])\n",
    "print('sadness: ', report['sadness'])\n",
    "\n",
    "\n",
    "#REAL WORLD TEST PERFORMANCE SHOWN BELOW\n",
    "\n",
    "test_vectors_svr_unbalanced_balanced_real = svr_unbalanced_balanced_vectorizer.transform(dfRealSadness['Text'])\n",
    "prediction_linear_svr_unbalanced_balanced_real = svr_unbalanced_balanced_classifier_linear.predict(test_vectors_svr_unbalanced_balanced_real)\n",
    "report = classification_report(dfRealSadness['Sentiment'], prediction_linear_svr_unbalanced_balanced_real, output_dict=True)\n",
    "\n",
    "print()\n",
    "print(\"Performance on real world data shown below\")\n",
    "print('not sadness: ', report['not sadness'])\n",
    "print('sadness: ', report['sadness'])\n"
   ]
  },
  {
   "cell_type": "markdown",
   "id": "4c802007",
   "metadata": {},
   "source": [
    "##### Unbalanced Train, Unbalanced Test for Sad vs Rest shown below"
   ]
  },
  {
   "cell_type": "code",
   "execution_count": 57,
   "id": "23fac614",
   "metadata": {},
   "outputs": [
    {
     "name": "stdout",
     "output_type": "stream",
     "text": [
      "Training time: 488.968851s; Prediction time: 14.895323s\n",
      "not sadness:  {'precision': 0.8405200789993417, 'recall': 0.9926141885325559, 'f1-score': 0.9102575528027805, 'support': 5145}\n",
      "sadness:  {'precision': 0.45714285714285713, 'recall': 0.03196803196803197, 'f1-score': 0.059757236227824466, 'support': 1001}\n",
      "\n",
      "Performance on real world data shown below\n",
      "not sadness:  {'precision': 0.7306900102986612, 'recall': 1.0, 'f1-score': 0.8443915501338888, 'support': 1419}\n",
      "sadness:  {'precision': 1.0, 'recall': 0.09982788296041308, 'f1-score': 0.1815336463223787, 'support': 581}\n"
     ]
    }
   ],
   "source": [
    "#Sad Vs Rest (unbalanced train, unbalanced test)\n",
    "svr_unbalanced_unbalanced_vectorizer = TfidfVectorizer(min_df = 5,\n",
    "                             max_df = 0.8,\n",
    "                             sublinear_tf = True,\n",
    "                             use_idf = True)\n",
    "train_vectors = svr_unbalanced_unbalanced_vectorizer.fit_transform(sadVsRest_train_unbalanced['Text'])\n",
    "test_vectors = svr_unbalanced_unbalanced_vectorizer.transform(sadVsRest_test_unbalanced['Text'])\n",
    "\n",
    "# Perform classification with SVM, kernel=linear\n",
    "svr_unbalanced_unbalanced_classifier_linear = svm.SVC(kernel='linear')\n",
    "t0 = time.time()\n",
    "svr_unbalanced_unbalanced_classifier_linear.fit(train_vectors, sadVsRest_train_unbalanced['sentiment'])\n",
    "t1 = time.time()\n",
    "prediction_linear = svr_unbalanced_unbalanced_classifier_linear.predict(test_vectors)\n",
    "t2 = time.time()\n",
    "time_linear_train = t1-t0\n",
    "time_linear_predict = t2-t1\n",
    "\n",
    "# results\n",
    "print(\"Training time: %fs; Prediction time: %fs\" % (time_linear_train, time_linear_predict))\n",
    "report = classification_report(sadVsRest_test_unbalanced['sentiment'], prediction_linear, output_dict=True)\n",
    "print('not sadness: ', report['not sadness'])\n",
    "print('sadness: ', report['sadness'])\n",
    "\n",
    "\n",
    "#REAL WORLD TEST PERFORMANCE SHOWN BELOW\n",
    "\n",
    "test_vectors_svr_unbalanced_unbalanced_real = svr_unbalanced_unbalanced_vectorizer.transform(dfRealSadness['Text'])\n",
    "prediction_linear_svr_unbalanced_unbalanced_real = svr_unbalanced_unbalanced_classifier_linear.predict(test_vectors_svr_unbalanced_unbalanced_real)\n",
    "report = classification_report(dfRealSadness['Sentiment'], prediction_linear_svr_unbalanced_unbalanced_real, output_dict=True)\n",
    "\n",
    "print()\n",
    "print(\"Performance on real world data shown below\")\n",
    "print('not sadness: ', report['not sadness'])\n",
    "print('sadness: ', report['sadness'])\n"
   ]
  }
 ],
 "metadata": {
  "hide_input": false,
  "kernelspec": {
   "display_name": "Python 3",
   "language": "python",
   "name": "python3"
  },
  "language_info": {
   "codemirror_mode": {
    "name": "ipython",
    "version": 3
   },
   "file_extension": ".py",
   "mimetype": "text/x-python",
   "name": "python",
   "nbconvert_exporter": "python",
   "pygments_lexer": "ipython3",
   "version": "3.8.8"
  }
 },
 "nbformat": 4,
 "nbformat_minor": 5
}
