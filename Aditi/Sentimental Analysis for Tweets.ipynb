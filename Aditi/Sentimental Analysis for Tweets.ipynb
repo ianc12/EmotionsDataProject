{
 "cells": [
  {
   "cell_type": "markdown",
   "id": "9404b3db",
   "metadata": {},
   "source": [
    "# Depression Sentimental Analysis for Tweets"
   ]
  },
  {
   "cell_type": "markdown",
   "id": "26c41974",
   "metadata": {},
   "source": [
    "The following dataset is obtained from https://www.kaggle.com/gargmanas/sentimental-analysis-for-tweets"
   ]
  },
  {
   "cell_type": "code",
   "execution_count": 4,
   "id": "bf1e8b3e",
   "metadata": {},
   "outputs": [],
   "source": [
    "import numpy as np\n",
    "import pandas as pd\n",
    "pd.set_option(\"display.precision\", 2)\n",
    "pd.set_option(\"display.max_columns\", None)"
   ]
  },
  {
   "cell_type": "code",
   "execution_count": 5,
   "id": "1f573434",
   "metadata": {},
   "outputs": [
    {
     "data": {
      "text/html": [
       "<div>\n",
       "<style scoped>\n",
       "    .dataframe tbody tr th:only-of-type {\n",
       "        vertical-align: middle;\n",
       "    }\n",
       "\n",
       "    .dataframe tbody tr th {\n",
       "        vertical-align: top;\n",
       "    }\n",
       "\n",
       "    .dataframe thead th {\n",
       "        text-align: right;\n",
       "    }\n",
       "</style>\n",
       "<table border=\"1\" class=\"dataframe\">\n",
       "  <thead>\n",
       "    <tr style=\"text-align: right;\">\n",
       "      <th></th>\n",
       "      <th>Index</th>\n",
       "      <th>message to examine</th>\n",
       "      <th>label (depression result)</th>\n",
       "    </tr>\n",
       "  </thead>\n",
       "  <tbody>\n",
       "    <tr>\n",
       "      <th>0</th>\n",
       "      <td>106</td>\n",
       "      <td>just had a real good moment. i missssssssss hi...</td>\n",
       "      <td>0</td>\n",
       "    </tr>\n",
       "    <tr>\n",
       "      <th>1</th>\n",
       "      <td>217</td>\n",
       "      <td>is reading manga  http://plurk.com/p/mzp1e</td>\n",
       "      <td>0</td>\n",
       "    </tr>\n",
       "    <tr>\n",
       "      <th>2</th>\n",
       "      <td>220</td>\n",
       "      <td>@comeagainjen http://twitpic.com/2y2lx - http:...</td>\n",
       "      <td>0</td>\n",
       "    </tr>\n",
       "    <tr>\n",
       "      <th>3</th>\n",
       "      <td>288</td>\n",
       "      <td>@lapcat Need to send 'em to my accountant tomo...</td>\n",
       "      <td>0</td>\n",
       "    </tr>\n",
       "    <tr>\n",
       "      <th>4</th>\n",
       "      <td>540</td>\n",
       "      <td>ADD ME ON MYSPACE!!!  myspace.com/LookThunder</td>\n",
       "      <td>0</td>\n",
       "    </tr>\n",
       "    <tr>\n",
       "      <th>5</th>\n",
       "      <td>624</td>\n",
       "      <td>so sleepy. good times tonight though</td>\n",
       "      <td>0</td>\n",
       "    </tr>\n",
       "    <tr>\n",
       "      <th>6</th>\n",
       "      <td>701</td>\n",
       "      <td>@SilkCharm re: #nbn as someone already said, d...</td>\n",
       "      <td>0</td>\n",
       "    </tr>\n",
       "    <tr>\n",
       "      <th>7</th>\n",
       "      <td>808</td>\n",
       "      <td>23 or 24ï¿½C possible today. Nice</td>\n",
       "      <td>0</td>\n",
       "    </tr>\n",
       "    <tr>\n",
       "      <th>8</th>\n",
       "      <td>1193</td>\n",
       "      <td>nite twitterville  workout in the am  -ciao</td>\n",
       "      <td>0</td>\n",
       "    </tr>\n",
       "    <tr>\n",
       "      <th>9</th>\n",
       "      <td>1324</td>\n",
       "      <td>@daNanner Night, darlin'!  Sweet dreams to you</td>\n",
       "      <td>0</td>\n",
       "    </tr>\n",
       "    <tr>\n",
       "      <th>10</th>\n",
       "      <td>1332</td>\n",
       "      <td>Good morning everybody!</td>\n",
       "      <td>0</td>\n",
       "    </tr>\n",
       "    <tr>\n",
       "      <th>11</th>\n",
       "      <td>1368</td>\n",
       "      <td>Finally! I just created my WordPress Blog. The...</td>\n",
       "      <td>0</td>\n",
       "    </tr>\n",
       "    <tr>\n",
       "      <th>12</th>\n",
       "      <td>1578</td>\n",
       "      <td>kisha they cnt get over u til they get out frm...</td>\n",
       "      <td>0</td>\n",
       "    </tr>\n",
       "    <tr>\n",
       "      <th>13</th>\n",
       "      <td>1595</td>\n",
       "      <td>@nicolerichie Yes i remember that band, It was...</td>\n",
       "      <td>0</td>\n",
       "    </tr>\n",
       "    <tr>\n",
       "      <th>14</th>\n",
       "      <td>1861</td>\n",
       "      <td>I really love reflections and shadows</td>\n",
       "      <td>0</td>\n",
       "    </tr>\n",
       "    <tr>\n",
       "      <th>15</th>\n",
       "      <td>1889</td>\n",
       "      <td>@blueaero ooo it's fantasy?  i like fantasy no...</td>\n",
       "      <td>0</td>\n",
       "    </tr>\n",
       "    <tr>\n",
       "      <th>16</th>\n",
       "      <td>1899</td>\n",
       "      <td>@rokchic28 no probs, I sell nothing other than...</td>\n",
       "      <td>0</td>\n",
       "    </tr>\n",
       "    <tr>\n",
       "      <th>17</th>\n",
       "      <td>1919</td>\n",
       "      <td>@shipovalov &amp;quot;NOKLA connecting people&amp;quot...</td>\n",
       "      <td>0</td>\n",
       "    </tr>\n",
       "    <tr>\n",
       "      <th>18</th>\n",
       "      <td>1992</td>\n",
       "      <td>Once again stayed up to late and have to start...</td>\n",
       "      <td>0</td>\n",
       "    </tr>\n",
       "    <tr>\n",
       "      <th>19</th>\n",
       "      <td>2097</td>\n",
       "      <td>@Kal_Penn I just read about your new job, CONG...</td>\n",
       "      <td>0</td>\n",
       "    </tr>\n",
       "  </tbody>\n",
       "</table>\n",
       "</div>"
      ],
      "text/plain": [
       "    Index                                 message to examine  \\\n",
       "0     106  just had a real good moment. i missssssssss hi...   \n",
       "1     217         is reading manga  http://plurk.com/p/mzp1e   \n",
       "2     220  @comeagainjen http://twitpic.com/2y2lx - http:...   \n",
       "3     288  @lapcat Need to send 'em to my accountant tomo...   \n",
       "4     540      ADD ME ON MYSPACE!!!  myspace.com/LookThunder   \n",
       "5     624              so sleepy. good times tonight though    \n",
       "6     701  @SilkCharm re: #nbn as someone already said, d...   \n",
       "7     808                 23 or 24ï¿½C possible today. Nice    \n",
       "8    1193        nite twitterville  workout in the am  -ciao   \n",
       "9    1324    @daNanner Night, darlin'!  Sweet dreams to you    \n",
       "10   1332                           Good morning everybody!    \n",
       "11   1368  Finally! I just created my WordPress Blog. The...   \n",
       "12   1578  kisha they cnt get over u til they get out frm...   \n",
       "13   1595  @nicolerichie Yes i remember that band, It was...   \n",
       "14   1861             I really love reflections and shadows    \n",
       "15   1889  @blueaero ooo it's fantasy?  i like fantasy no...   \n",
       "16   1899  @rokchic28 no probs, I sell nothing other than...   \n",
       "17   1919  @shipovalov &quot;NOKLA connecting people&quot...   \n",
       "18   1992  Once again stayed up to late and have to start...   \n",
       "19   2097  @Kal_Penn I just read about your new job, CONG...   \n",
       "\n",
       "    label (depression result)  \n",
       "0                           0  \n",
       "1                           0  \n",
       "2                           0  \n",
       "3                           0  \n",
       "4                           0  \n",
       "5                           0  \n",
       "6                           0  \n",
       "7                           0  \n",
       "8                           0  \n",
       "9                           0  \n",
       "10                          0  \n",
       "11                          0  \n",
       "12                          0  \n",
       "13                          0  \n",
       "14                          0  \n",
       "15                          0  \n",
       "16                          0  \n",
       "17                          0  \n",
       "18                          0  \n",
       "19                          0  "
      ]
     },
     "execution_count": 5,
     "metadata": {},
     "output_type": "execute_result"
    }
   ],
   "source": [
    "df = pd.read_csv(\"sentiment_tweets3.csv\")\n",
    "df.head(20)"
   ]
  },
  {
   "cell_type": "markdown",
   "id": "c7c4e8df",
   "metadata": {},
   "source": [
    "#### Information about the data set:\n",
    "The dataset is concerned with determining if a person is depressed or not depending on their tweets. In the dataset the attribute `label (depression result)` is a binary. The value `0` stands for NO and `1` stands for YES"
   ]
  },
  {
   "cell_type": "markdown",
   "id": "7c7ae917",
   "metadata": {},
   "source": [
    "#### Dataset exploration"
   ]
  },
  {
   "cell_type": "code",
   "execution_count": 6,
   "id": "afd5b240",
   "metadata": {},
   "outputs": [
    {
     "name": "stdout",
     "output_type": "stream",
     "text": [
      "(10314, 3)\n"
     ]
    }
   ],
   "source": [
    "# Shape of the data set\n",
    "print(df.shape)"
   ]
  },
  {
   "cell_type": "markdown",
   "id": "fc8305c2",
   "metadata": {},
   "source": [
    "There are 10314 records in this data set"
   ]
  },
  {
   "cell_type": "code",
   "execution_count": 7,
   "id": "d67cdc09",
   "metadata": {},
   "outputs": [
    {
     "name": "stdout",
     "output_type": "stream",
     "text": [
      "<class 'pandas.core.frame.DataFrame'>\n",
      "RangeIndex: 10314 entries, 0 to 10313\n",
      "Data columns (total 3 columns):\n",
      " #   Column                     Non-Null Count  Dtype \n",
      "---  ------                     --------------  ----- \n",
      " 0   Index                      10314 non-null  int64 \n",
      " 1   message to examine         10314 non-null  object\n",
      " 2   label (depression result)  10314 non-null  int64 \n",
      "dtypes: int64(2), object(1)\n",
      "memory usage: 241.9+ KB\n",
      "None\n"
     ]
    }
   ],
   "source": [
    "print(df.info()) "
   ]
  },
  {
   "cell_type": "markdown",
   "id": "5d9f6182",
   "metadata": {},
   "source": [
    "Our dataset doesn't have any missing values (null value). \n",
    "\n",
    "**Note**: that while `label (depression result)` is labled type `int64` in reality it is of type `bool`"
   ]
  },
  {
   "cell_type": "code",
   "execution_count": 8,
   "id": "7ed4b485",
   "metadata": {},
   "outputs": [
    {
     "data": {
      "text/html": [
       "<div>\n",
       "<style scoped>\n",
       "    .dataframe tbody tr th:only-of-type {\n",
       "        vertical-align: middle;\n",
       "    }\n",
       "\n",
       "    .dataframe tbody tr th {\n",
       "        vertical-align: top;\n",
       "    }\n",
       "\n",
       "    .dataframe thead th {\n",
       "        text-align: right;\n",
       "    }\n",
       "</style>\n",
       "<table border=\"1\" class=\"dataframe\">\n",
       "  <thead>\n",
       "    <tr style=\"text-align: right;\">\n",
       "      <th></th>\n",
       "      <th>message to examine</th>\n",
       "    </tr>\n",
       "  </thead>\n",
       "  <tbody>\n",
       "    <tr>\n",
       "      <th>count</th>\n",
       "      <td>10314</td>\n",
       "    </tr>\n",
       "    <tr>\n",
       "      <th>unique</th>\n",
       "      <td>10282</td>\n",
       "    </tr>\n",
       "    <tr>\n",
       "      <th>top</th>\n",
       "      <td>Mom's depression tied to kids' emotional, inte...</td>\n",
       "    </tr>\n",
       "    <tr>\n",
       "      <th>freq</th>\n",
       "      <td>11</td>\n",
       "    </tr>\n",
       "  </tbody>\n",
       "</table>\n",
       "</div>"
      ],
      "text/plain": [
       "                                       message to examine\n",
       "count                                               10314\n",
       "unique                                              10282\n",
       "top     Mom's depression tied to kids' emotional, inte...\n",
       "freq                                                   11"
      ]
     },
     "execution_count": 8,
     "metadata": {},
     "output_type": "execute_result"
    }
   ],
   "source": [
    "df.describe(include=['object'])"
   ]
  },
  {
   "cell_type": "markdown",
   "id": "0a0e73d4",
   "metadata": {},
   "source": [
    "#### Checking for class imbalance"
   ]
  },
  {
   "cell_type": "code",
   "execution_count": 9,
   "id": "7ae63bbd",
   "metadata": {},
   "outputs": [
    {
     "data": {
      "text/plain": [
       "0    8000\n",
       "1    2314\n",
       "Name: label (depression result), dtype: int64"
      ]
     },
     "execution_count": 9,
     "metadata": {},
     "output_type": "execute_result"
    }
   ],
   "source": [
    "df['label (depression result)'].value_counts()"
   ]
  },
  {
   "cell_type": "code",
   "execution_count": 10,
   "id": "a08bf8ea",
   "metadata": {},
   "outputs": [
    {
     "data": {
      "text/plain": [
       "0    0.78\n",
       "1    0.22\n",
       "Name: label (depression result), dtype: float64"
      ]
     },
     "execution_count": 10,
     "metadata": {},
     "output_type": "execute_result"
    }
   ],
   "source": [
    "df['label (depression result)'].value_counts(normalize = True)"
   ]
  },
  {
   "cell_type": "markdown",
   "id": "bf7bf68a",
   "metadata": {},
   "source": [
    "From the result above, it can be observed that this dataset has **class imbalance**. For `label (depression result)` the value of `1` has much less values than the value `0`. This seems logical as the data set may reflect the actual proportion of people depressed in the population. Since, in general we can expect that majority of the population to be not depressed, this class imbalance can be expected"
   ]
  },
  {
   "cell_type": "code",
   "execution_count": 11,
   "id": "4ee23320",
   "metadata": {},
   "outputs": [],
   "source": [
    "#  set up plotting \n",
    "import matplotlib.pyplot as plt\n",
    "import seaborn as sns\n",
    "# Graphics in retina format are sharper and more legible\n",
    "%config InlineBackend.figure_format = 'retina'"
   ]
  },
  {
   "cell_type": "code",
   "execution_count": 12,
   "id": "fa7e3076",
   "metadata": {},
   "outputs": [
    {
     "data": {
      "image/png": "[encoded data removed]",
      "text/plain": [
       "<Figure size 432x288 with 1 Axes>"
      ]
     },
     "metadata": {
      "image/png": {
       "height": 261,
       "width": 395
      },
      "needs_background": "light"
     },
     "output_type": "display_data"
    }
   ],
   "source": [
    "sns.countplot(x='label (depression result)', data=df);"
   ]
  },
  {
   "cell_type": "markdown",
   "id": "f3d35e1f",
   "metadata": {},
   "source": [
    "#### Introducing a new column called `length`"
   ]
  },
  {
   "cell_type": "code",
   "execution_count": 13,
   "id": "d22bd832",
   "metadata": {},
   "outputs": [
    {
     "data": {
      "text/html": [
       "<div>\n",
       "<style scoped>\n",
       "    .dataframe tbody tr th:only-of-type {\n",
       "        vertical-align: middle;\n",
       "    }\n",
       "\n",
       "    .dataframe tbody tr th {\n",
       "        vertical-align: top;\n",
       "    }\n",
       "\n",
       "    .dataframe thead th {\n",
       "        text-align: right;\n",
       "    }\n",
       "</style>\n",
       "<table border=\"1\" class=\"dataframe\">\n",
       "  <thead>\n",
       "    <tr style=\"text-align: right;\">\n",
       "      <th></th>\n",
       "      <th>Index</th>\n",
       "      <th>message to examine</th>\n",
       "      <th>label (depression result)</th>\n",
       "      <th>length</th>\n",
       "    </tr>\n",
       "  </thead>\n",
       "  <tbody>\n",
       "    <tr>\n",
       "      <th>0</th>\n",
       "      <td>106</td>\n",
       "      <td>just had a real good moment. i missssssssss hi...</td>\n",
       "      <td>0</td>\n",
       "      <td>57</td>\n",
       "    </tr>\n",
       "    <tr>\n",
       "      <th>1</th>\n",
       "      <td>217</td>\n",
       "      <td>is reading manga  http://plurk.com/p/mzp1e</td>\n",
       "      <td>0</td>\n",
       "      <td>42</td>\n",
       "    </tr>\n",
       "    <tr>\n",
       "      <th>2</th>\n",
       "      <td>220</td>\n",
       "      <td>@comeagainjen http://twitpic.com/2y2lx - http:...</td>\n",
       "      <td>0</td>\n",
       "      <td>84</td>\n",
       "    </tr>\n",
       "    <tr>\n",
       "      <th>3</th>\n",
       "      <td>288</td>\n",
       "      <td>@lapcat Need to send 'em to my accountant tomo...</td>\n",
       "      <td>0</td>\n",
       "      <td>135</td>\n",
       "    </tr>\n",
       "    <tr>\n",
       "      <th>4</th>\n",
       "      <td>540</td>\n",
       "      <td>ADD ME ON MYSPACE!!!  myspace.com/LookThunder</td>\n",
       "      <td>0</td>\n",
       "      <td>45</td>\n",
       "    </tr>\n",
       "  </tbody>\n",
       "</table>\n",
       "</div>"
      ],
      "text/plain": [
       "   Index                                 message to examine  \\\n",
       "0    106  just had a real good moment. i missssssssss hi...   \n",
       "1    217         is reading manga  http://plurk.com/p/mzp1e   \n",
       "2    220  @comeagainjen http://twitpic.com/2y2lx - http:...   \n",
       "3    288  @lapcat Need to send 'em to my accountant tomo...   \n",
       "4    540      ADD ME ON MYSPACE!!!  myspace.com/LookThunder   \n",
       "\n",
       "   label (depression result)  length  \n",
       "0                          0      57  \n",
       "1                          0      42  \n",
       "2                          0      84  \n",
       "3                          0     135  \n",
       "4                          0      45  "
      ]
     },
     "execution_count": 13,
     "metadata": {},
     "output_type": "execute_result"
    }
   ],
   "source": [
    "df['length'] = df['message to examine'].apply(len)\n",
    "df.head()"
   ]
  },
  {
   "cell_type": "code",
   "execution_count": 14,
   "id": "9c4da14a",
   "metadata": {},
   "outputs": [
    {
     "name": "stdout",
     "output_type": "stream",
     "text": [
      "Maximum length of a Tweet is 874\n"
     ]
    }
   ],
   "source": [
    "print (f\"Maximum length of a Tweet is {max(df['length'])}\")"
   ]
  },
  {
   "cell_type": "code",
   "execution_count": 15,
   "id": "1a69c140",
   "metadata": {},
   "outputs": [
    {
     "name": "stdout",
     "output_type": "stream",
     "text": [
      "Minimum length of a Tweet is 1\n"
     ]
    }
   ],
   "source": [
    "print (f\"Minimum length of a Tweet is {min(df['length'])}\")"
   ]
  },
  {
   "cell_type": "code",
   "execution_count": 16,
   "id": "0bfaab45",
   "metadata": {},
   "outputs": [
    {
     "data": {
      "text/plain": [
       "array([<AxesSubplot:title={'center':'0'}>,\n",
       "       <AxesSubplot:title={'center':'1'}>], dtype=object)"
      ]
     },
     "execution_count": 16,
     "metadata": {},
     "output_type": "execute_result"
    },
    {
     "data": {
      "image/png": "[encoded data removed]",
      "text/plain": [
       "<Figure size 1008x288 with 2 Axes>"
      ]
     },
     "metadata": {
      "image/png": {
       "height": 272,
       "width": 846
      },
      "needs_background": "light"
     },
     "output_type": "display_data"
    }
   ],
   "source": [
    "df.hist(column='length', by='label (depression result)', bins=100,figsize=(14,4))"
   ]
  },
  {
   "cell_type": "markdown",
   "id": "e25b908a",
   "metadata": {},
   "source": [
    "### Bag of Words Approach"
   ]
  },
  {
   "cell_type": "code",
   "execution_count": 17,
   "id": "aef36f6e",
   "metadata": {},
   "outputs": [],
   "source": [
    "from sklearn.feature_extraction.text import CountVectorizer\n",
    "# Instantiate the CountVectorizer method\n",
    "count_vector = CountVectorizer()"
   ]
  },
  {
   "cell_type": "code",
   "execution_count": 19,
   "id": "a2e3ffd6",
   "metadata": {},
   "outputs": [],
   "source": [
    "from sklearn.model_selection import train_test_split\n",
    "X_train, X_test, y_train, y_test = train_test_split(df['message to examine'], \n",
    "                                                    df['label (depression result)'],test_size=0.20, \n",
    "                                                    random_state=1)"
   ]
  },
  {
   "cell_type": "code",
   "execution_count": 21,
   "id": "81d4f4df",
   "metadata": {},
   "outputs": [],
   "source": [
    "# Fit the training data and then return the matrix\n",
    "training_data = count_vector.fit_transform(X_train)\n",
    "\n",
    "# Transform testing data and return the matrix. \n",
    "testing_data = count_vector.transform(X_test)"
   ]
  }
 ],
 "metadata": {
  "kernelspec": {
   "display_name": "Python 3",
   "language": "python",
   "name": "python3"
  },
  "language_info": {
   "codemirror_mode": {
    "name": "ipython",
    "version": 3
   },
   "file_extension": ".py",
   "mimetype": "text/x-python",
   "name": "python",
   "nbconvert_exporter": "python",
   "pygments_lexer": "ipython3",
   "version": "3.8.8"
  }
 },
 "nbformat": 4,
 "nbformat_minor": 5
}
