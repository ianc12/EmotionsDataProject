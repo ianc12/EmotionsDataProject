{
 "cells": [
  {
   "cell_type": "markdown",
   "id": "b40e1d9d",
   "metadata": {},
   "source": [
    "# Naive Bayes"
   ]
  },
  {
   "cell_type": "code",
   "execution_count": 1,
   "id": "62d47362",
   "metadata": {},
   "outputs": [],
   "source": [
    "import numpy as np\n",
    "import pandas as pd\n",
    "import sklearn\n",
    "import nltk"
   ]
  },
  {
   "cell_type": "code",
   "execution_count": 2,
   "id": "77dc5d00",
   "metadata": {},
   "outputs": [
    {
     "data": {
      "text/html": [
       "<div>\n",
       "<style scoped>\n",
       "    .dataframe tbody tr th:only-of-type {\n",
       "        vertical-align: middle;\n",
       "    }\n",
       "\n",
       "    .dataframe tbody tr th {\n",
       "        vertical-align: top;\n",
       "    }\n",
       "\n",
       "    .dataframe thead th {\n",
       "        text-align: right;\n",
       "    }\n",
       "</style>\n",
       "<table border=\"1\" class=\"dataframe\">\n",
       "  <thead>\n",
       "    <tr style=\"text-align: right;\">\n",
       "      <th></th>\n",
       "      <th>sentiment</th>\n",
       "      <th>Text</th>\n",
       "    </tr>\n",
       "  </thead>\n",
       "  <tbody>\n",
       "    <tr>\n",
       "      <th>0</th>\n",
       "      <td>sadness</td>\n",
       "      <td>@tiffanylue i know  i was listenin to bad habi...</td>\n",
       "    </tr>\n",
       "    <tr>\n",
       "      <th>1</th>\n",
       "      <td>sadness</td>\n",
       "      <td>Layin n bed with a headache  ughhhh...waitin o...</td>\n",
       "    </tr>\n",
       "    <tr>\n",
       "      <th>2</th>\n",
       "      <td>sadness</td>\n",
       "      <td>Funeral ceremony...gloomy friday...</td>\n",
       "    </tr>\n",
       "    <tr>\n",
       "      <th>3</th>\n",
       "      <td>happy</td>\n",
       "      <td>wants to hang out with friends SOON!</td>\n",
       "    </tr>\n",
       "    <tr>\n",
       "      <th>4</th>\n",
       "      <td>neutral</td>\n",
       "      <td>@dannycastillo We want to trade with someone w...</td>\n",
       "    </tr>\n",
       "    <tr>\n",
       "      <th>...</th>\n",
       "      <td>...</td>\n",
       "      <td>...</td>\n",
       "    </tr>\n",
       "    <tr>\n",
       "      <th>61454</th>\n",
       "      <td>fear</td>\n",
       "      <td>Melissa stared at her friend in dism</td>\n",
       "    </tr>\n",
       "    <tr>\n",
       "      <th>61455</th>\n",
       "      <td>happy</td>\n",
       "      <td>Successive state elections have seen the gover...</td>\n",
       "    </tr>\n",
       "    <tr>\n",
       "      <th>61456</th>\n",
       "      <td>fear</td>\n",
       "      <td>Vincent was irritated but not dismay</td>\n",
       "    </tr>\n",
       "    <tr>\n",
       "      <th>61457</th>\n",
       "      <td>happy</td>\n",
       "      <td>Kendall-Hume turned back to face the dismayed ...</td>\n",
       "    </tr>\n",
       "    <tr>\n",
       "      <th>61458</th>\n",
       "      <td>happy</td>\n",
       "      <td>I am dismayed , but not surpris</td>\n",
       "    </tr>\n",
       "  </tbody>\n",
       "</table>\n",
       "<p>61459 rows × 2 columns</p>\n",
       "</div>"
      ],
      "text/plain": [
       "      sentiment                                               Text\n",
       "0       sadness  @tiffanylue i know  i was listenin to bad habi...\n",
       "1       sadness  Layin n bed with a headache  ughhhh...waitin o...\n",
       "2       sadness                Funeral ceremony...gloomy friday...\n",
       "3         happy               wants to hang out with friends SOON!\n",
       "4       neutral  @dannycastillo We want to trade with someone w...\n",
       "...         ...                                                ...\n",
       "61454      fear               Melissa stared at her friend in dism\n",
       "61455     happy  Successive state elections have seen the gover...\n",
       "61456      fear               Vincent was irritated but not dismay\n",
       "61457     happy  Kendall-Hume turned back to face the dismayed ...\n",
       "61458     happy                    I am dismayed , but not surpris\n",
       "\n",
       "[61459 rows x 2 columns]"
      ]
     },
     "execution_count": 2,
     "metadata": {},
     "output_type": "execute_result"
    }
   ],
   "source": [
    "data = pd.read_csv(\"combined_data.csv\")\n",
    "data"
   ]
  },
  {
   "cell_type": "code",
   "execution_count": 3,
   "id": "5546ca0f",
   "metadata": {},
   "outputs": [
    {
     "data": {
      "text/plain": [
       "fear        16241\n",
       "happy       13508\n",
       "sadness      9796\n",
       "neutral      8960\n",
       "love         4720\n",
       "anger        4069\n",
       "surprise     2639\n",
       "relief       1526\n",
       "Name: sentiment, dtype: int64"
      ]
     },
     "execution_count": 3,
     "metadata": {},
     "output_type": "execute_result"
    }
   ],
   "source": [
    "data[\"sentiment\"].value_counts()"
   ]
  },
  {
   "cell_type": "code",
   "execution_count": 4,
   "id": "3af54bee",
   "metadata": {},
   "outputs": [],
   "source": [
    "# Removing punctuation, URL, and tags\n",
    "import re\n",
    "data['Text'] = data['Text'].apply(lambda x: re.sub(\"(@[A-Za-z0-9]+)|([^A-Za-z \\t])|(\\w+:\\/\\/\\S+)\",'',x))\n"
   ]
  },
  {
   "cell_type": "code",
   "execution_count": 5,
   "id": "f2aa8032",
   "metadata": {},
   "outputs": [],
   "source": [
    "data.dropna(inplace=True)"
   ]
  },
  {
   "cell_type": "code",
   "execution_count": 6,
   "id": "7a0e0d5b",
   "metadata": {},
   "outputs": [
    {
     "name": "stdout",
     "output_type": "stream",
     "text": [
      "(61459, 2)\n",
      "      sentiment                                               Text\n",
      "61454      fear               Melissa stared at her friend in dism\n",
      "61455     happy  Successive state elections have seen the gover...\n",
      "61456      fear               Vincent was irritated but not dismay\n",
      "61457     happy  KendallHume turned back to face the dismayed coup\n",
      "61458     happy                     I am dismayed  but not surpris\n"
     ]
    }
   ],
   "source": [
    "print(data.shape)\n",
    "data.head()\n",
    "print(data.tail())"
   ]
  },
  {
   "cell_type": "code",
   "execution_count": 7,
   "id": "7ecc35e2",
   "metadata": {},
   "outputs": [
    {
     "data": {
      "text/html": [
       "<div>\n",
       "<style scoped>\n",
       "    .dataframe tbody tr th:only-of-type {\n",
       "        vertical-align: middle;\n",
       "    }\n",
       "\n",
       "    .dataframe tbody tr th {\n",
       "        vertical-align: top;\n",
       "    }\n",
       "\n",
       "    .dataframe thead th {\n",
       "        text-align: right;\n",
       "    }\n",
       "</style>\n",
       "<table border=\"1\" class=\"dataframe\">\n",
       "  <thead>\n",
       "    <tr style=\"text-align: right;\">\n",
       "      <th></th>\n",
       "      <th>sentiment</th>\n",
       "      <th>Text</th>\n",
       "    </tr>\n",
       "  </thead>\n",
       "  <tbody>\n",
       "    <tr>\n",
       "      <th>0</th>\n",
       "      <td>sadness</td>\n",
       "      <td>i know i was listenin to bad habit earlier and...</td>\n",
       "    </tr>\n",
       "    <tr>\n",
       "      <th>1</th>\n",
       "      <td>sadness</td>\n",
       "      <td>Layin n bed with a headach ughhhhwaitin on you...</td>\n",
       "    </tr>\n",
       "    <tr>\n",
       "      <th>2</th>\n",
       "      <td>sadness</td>\n",
       "      <td>Funer ceremonygloomi friday</td>\n",
       "    </tr>\n",
       "    <tr>\n",
       "      <th>3</th>\n",
       "      <td>happy</td>\n",
       "      <td>want to hang out with friend SOON</td>\n",
       "    </tr>\n",
       "    <tr>\n",
       "      <th>4</th>\n",
       "      <td>neutral</td>\n",
       "      <td>We want to trade with someon who has Houston t...</td>\n",
       "    </tr>\n",
       "  </tbody>\n",
       "</table>\n",
       "</div>"
      ],
      "text/plain": [
       "  sentiment                                               Text\n",
       "0   sadness  i know i was listenin to bad habit earlier and...\n",
       "1   sadness  Layin n bed with a headach ughhhhwaitin on you...\n",
       "2   sadness                       Funer ceremonygloomi friday \n",
       "3     happy                 want to hang out with friend SOON \n",
       "4   neutral  We want to trade with someon who has Houston t..."
      ]
     },
     "execution_count": 7,
     "metadata": {},
     "output_type": "execute_result"
    }
   ],
   "source": [
    "import snowballstemmer\n",
    "ss = snowballstemmer.stemmer('english')\n",
    "def replace(x):\n",
    "    words = x.split()\n",
    "    newtext = ''\n",
    "    for w in words:\n",
    "        n = ss.stemWord(w)\n",
    "        newtext += n\n",
    "        newtext += \" \"\n",
    "    return newtext\n",
    "# stem the text\n",
    "data['Text'] = data['Text'].apply(lambda x: replace(x))\n",
    "data.head()"
   ]
  },
  {
   "cell_type": "code",
   "execution_count": 8,
   "id": "3a28f6ca",
   "metadata": {},
   "outputs": [
    {
     "data": {
      "text/plain": [
       "fear        16241\n",
       "happy       13508\n",
       "sadness      9796\n",
       "neutral      8960\n",
       "love         4720\n",
       "anger        4069\n",
       "surprise     2639\n",
       "relief       1526\n",
       "Name: sentiment, dtype: int64"
      ]
     },
     "execution_count": 8,
     "metadata": {},
     "output_type": "execute_result"
    }
   ],
   "source": [
    "data['sentiment'].value_counts()"
   ]
  },
  {
   "cell_type": "code",
   "execution_count": 9,
   "id": "44b0e010",
   "metadata": {},
   "outputs": [],
   "source": [
    "#function to build a new non-skewed dataset\n",
    "\n",
    "#sample with replacement\n",
    "def stratify(data, N):\n",
    "    rows = []\n",
    "    fear = data[data['sentiment'] == 'fear']\n",
    "    happy = data[data['sentiment'] == 'happy']\n",
    "    sad = data[data['sentiment'] == 'sadness']\n",
    "    neutral = data[data['sentiment'] == 'neutral']\n",
    "    love = data[data['sentiment'] == 'love']\n",
    "    anger = data[data['sentiment'] == 'anger']\n",
    "    surprise = data[data['sentiment'] == 'surprise']\n",
    "    relief = data[data['sentiment'] == 'relief']\n",
    "    \n",
    "    for i in range(N):\n",
    "        #print(fear.loc[np.random.choice(fear.index)])\n",
    "        rows.append(fear.loc[np.random.choice(fear.index)])\n",
    "        rows.append(happy.loc[np.random.choice(happy.index)])\n",
    "        rows.append(sad.loc[np.random.choice(sad.index)])\n",
    "        rows.append(neutral.loc[np.random.choice(neutral.index)])\n",
    "        rows.append(love.loc[np.random.choice(love.index)])\n",
    "        rows.append(anger.loc[np.random.choice(anger.index)])\n",
    "        rows.append(surprise.loc[np.random.choice(surprise.index)])\n",
    "        rows.append(relief.loc[np.random.choice(relief.index)])\n",
    "    sentiments = [x['sentiment'] for x in rows]\n",
    "    texts = [x['Text'] for x in rows]\n",
    "    d = {'sentiment': sentiments, 'Text': texts}\n",
    "    return pd.DataFrame(d)\n"
   ]
  },
  {
   "cell_type": "markdown",
   "id": "b00647cb",
   "metadata": {},
   "source": [
    "#### Split Train and Test sets:"
   ]
  },
  {
   "cell_type": "code",
   "execution_count": 10,
   "id": "b0566088",
   "metadata": {},
   "outputs": [],
   "source": [
    "from sklearn.model_selection import train_test_split\n",
    "\n",
    "X_train, X_test, y_train, y_test = train_test_split(data['Text'], \n",
    "                                                    data['sentiment'],test_size=0.10, \n",
    "                                                    random_state=1)\n"
   ]
  },
  {
   "cell_type": "code",
   "execution_count": 11,
   "id": "1efde620",
   "metadata": {},
   "outputs": [
    {
     "data": {
      "text/plain": [
       "fear        14543\n",
       "happy       12239\n",
       "sadness      8795\n",
       "neutral      8040\n",
       "love         4278\n",
       "anger        3669\n",
       "surprise     2374\n",
       "relief       1375\n",
       "Name: sentiment, dtype: int64"
      ]
     },
     "execution_count": 11,
     "metadata": {},
     "output_type": "execute_result"
    }
   ],
   "source": [
    "y_train.value_counts()"
   ]
  },
  {
   "cell_type": "code",
   "execution_count": 12,
   "id": "fb658627",
   "metadata": {},
   "outputs": [
    {
     "data": {
      "text/plain": [
       "fear        1698\n",
       "happy       1269\n",
       "sadness     1001\n",
       "neutral      920\n",
       "love         442\n",
       "anger        400\n",
       "surprise     265\n",
       "relief       151\n",
       "Name: sentiment, dtype: int64"
      ]
     },
     "execution_count": 12,
     "metadata": {},
     "output_type": "execute_result"
    }
   ],
   "source": [
    "y_test.value_counts()"
   ]
  },
  {
   "cell_type": "markdown",
   "id": "88028744",
   "metadata": {},
   "source": [
    "#### Stratification (oversampling) of train and test sets\n",
    "Creation of balanced train and test sets"
   ]
  },
  {
   "cell_type": "code",
   "execution_count": 13,
   "id": "231aa5e0",
   "metadata": {},
   "outputs": [],
   "source": [
    "# join test and train X and y's together to stratify\n",
    "data_train = pd.concat([X_train,y_train],axis=1)\n",
    "data_test =  pd.concat([X_test,y_test],axis=1)\n",
    "train_balanced = stratify(data_train, 8000)\n",
    "test_balanced  = stratify(data_test, 2000)"
   ]
  },
  {
   "cell_type": "code",
   "execution_count": 14,
   "id": "8cd180cf",
   "metadata": {},
   "outputs": [
    {
     "data": {
      "text/plain": [
       "neutral     8000\n",
       "sadness     8000\n",
       "happy       8000\n",
       "fear        8000\n",
       "anger       8000\n",
       "relief      8000\n",
       "surprise    8000\n",
       "love        8000\n",
       "Name: sentiment, dtype: int64"
      ]
     },
     "execution_count": 14,
     "metadata": {},
     "output_type": "execute_result"
    }
   ],
   "source": [
    "train_balanced[\"sentiment\"].value_counts()"
   ]
  },
  {
   "cell_type": "code",
   "execution_count": 15,
   "id": "3fa4dafa",
   "metadata": {},
   "outputs": [
    {
     "data": {
      "text/plain": [
       "happy       2000\n",
       "love        2000\n",
       "neutral     2000\n",
       "sadness     2000\n",
       "fear        2000\n",
       "anger       2000\n",
       "relief      2000\n",
       "surprise    2000\n",
       "Name: sentiment, dtype: int64"
      ]
     },
     "execution_count": 15,
     "metadata": {},
     "output_type": "execute_result"
    }
   ],
   "source": [
    "test_balanced[\"sentiment\"].value_counts()"
   ]
  },
  {
   "cell_type": "code",
   "execution_count": 16,
   "id": "555409f9",
   "metadata": {},
   "outputs": [],
   "source": [
    "# create X and y vectors for balanced training set\n",
    "strat_X_train = train_balanced[\"Text\"]\n",
    "strat_y_train = train_balanced[\"sentiment\"]"
   ]
  },
  {
   "cell_type": "code",
   "execution_count": 17,
   "id": "ea4a39aa",
   "metadata": {},
   "outputs": [],
   "source": [
    "# create X and y vectors for balanced test set\n",
    "strat_X_test = test_balanced[\"Text\"]\n",
    "strat_y_test = test_balanced[\"sentiment\"]"
   ]
  },
  {
   "cell_type": "markdown",
   "id": "e7fdc71b",
   "metadata": {},
   "source": [
    "## Creating a document matrix"
   ]
  },
  {
   "cell_type": "markdown",
   "id": "b9beff0f",
   "metadata": {},
   "source": [
    "#### Training set"
   ]
  },
  {
   "cell_type": "code",
   "execution_count": 18,
   "id": "1992eb02",
   "metadata": {},
   "outputs": [],
   "source": [
    "# Applying the count vectorizer\n",
    "from sklearn.feature_extraction.text import CountVectorizer\n",
    "count_vect = CountVectorizer(stop_words='english', max_features = 10000)\n",
    "# unbalanced train\n",
    "X_train_counts = count_vect.fit_transform(X_train)\n",
    "# balanced train\n",
    "X_train_strat_counts = count_vect.fit_transform(strat_X_train)"
   ]
  },
  {
   "cell_type": "code",
   "execution_count": 19,
   "id": "856c30d4",
   "metadata": {},
   "outputs": [],
   "source": [
    "# Applying the TFidf vectorizer\n",
    "from sklearn.feature_extraction.text import TfidfTransformer\n",
    "tfidf_transformer = TfidfTransformer()\n",
    "# unbalanced train\n",
    "X_train_tfidf = tfidf_transformer.fit_transform(X_train_counts)\n",
    "# balanced train\n",
    "X_train_strat_tfidf = tfidf_transformer.fit_transform(X_train_strat_counts)"
   ]
  },
  {
   "cell_type": "markdown",
   "id": "35db5a97",
   "metadata": {},
   "source": [
    "#### Test set"
   ]
  },
  {
   "cell_type": "code",
   "execution_count": 20,
   "id": "63ded7df",
   "metadata": {},
   "outputs": [],
   "source": [
    "# unbalanced testset\n",
    "# count vectorizer\n",
    "X_test_counts = count_vect.transform(X_test)\n",
    "# Tfidf transformer\n",
    "X_test_tfidf = tfidf_transformer.transform(X_test_counts)\n",
    "\n",
    "# balanced testset\n",
    "# count vectorizer\n",
    "X_test_strat_counts = count_vect.transform(strat_X_test)\n",
    "# Tfidf transformer\n",
    "X_test_strat_tfidf = tfidf_transformer.transform(X_test_strat_counts)"
   ]
  },
  {
   "cell_type": "markdown",
   "id": "3d57437c",
   "metadata": {},
   "source": [
    "## Multinomial Naive Bayes"
   ]
  },
  {
   "cell_type": "code",
   "execution_count": 21,
   "id": "5c3aa17a",
   "metadata": {},
   "outputs": [],
   "source": [
    "from sklearn.naive_bayes import MultinomialNB"
   ]
  },
  {
   "cell_type": "markdown",
   "id": "885e5865",
   "metadata": {},
   "source": [
    "#### Training on unbalanced data set"
   ]
  },
  {
   "cell_type": "code",
   "execution_count": 22,
   "id": "a835787c",
   "metadata": {},
   "outputs": [],
   "source": [
    "clf1 = MultinomialNB().fit(X_train_tfidf, y_train)"
   ]
  },
  {
   "cell_type": "markdown",
   "id": "7c839177",
   "metadata": {},
   "source": [
    "#### Training on a balanced dataset"
   ]
  },
  {
   "cell_type": "code",
   "execution_count": 23,
   "id": "7266db4d",
   "metadata": {},
   "outputs": [],
   "source": [
    "clf2 = MultinomialNB().fit(X_train_strat_tfidf, strat_y_train)"
   ]
  },
  {
   "cell_type": "markdown",
   "id": "6bf78fc1",
   "metadata": {},
   "source": [
    "#### Applying the models"
   ]
  },
  {
   "cell_type": "code",
   "execution_count": 24,
   "id": "81e0e10b",
   "metadata": {},
   "outputs": [],
   "source": [
    "prediction1 = clf1.predict(X_test_tfidf)\n",
    "prediction2 = clf2.predict(X_test_strat_tfidf)\n",
    "prediction3 = clf1.predict(X_test_strat_tfidf)\n",
    "prediction4 = clf2.predict(X_test_tfidf)"
   ]
  },
  {
   "cell_type": "code",
   "execution_count": 25,
   "id": "2b6fe893",
   "metadata": {},
   "outputs": [
    {
     "name": "stdout",
     "output_type": "stream",
     "text": [
      "Skewed training and skewed test data:\n",
      "Accuracy score: 0.19166937845753335\n",
      "precision score: 0.11800763140649356\n",
      "recall score: 0.12125000440788507\n",
      "f1 score: 0.1152046264338105\n",
      "Balanced training and balanced test data:\n",
      "Accuracy score: 0.3183125\n",
      "precision score: 0.32014977529847\n",
      "recall score: 0.3183125\n",
      "f1 score: 0.3172290706060352\n",
      "Skewed training and balanced test data:\n",
      "Accuracy score: 0.1195625\n",
      "precision score: 0.10855570433805978\n",
      "recall score: 0.1195625\n",
      "f1 score: 0.09058121219336607\n",
      "Balanced training and skewed test data:\n",
      "Accuracy score: 0.3042629352424341\n",
      "precision score: 0.2812125208523259\n",
      "recall score: 0.32100334631623134\n",
      "f1 score: 0.2798283970821942\n"
     ]
    }
   ],
   "source": [
    "from sklearn.metrics import accuracy_score, precision_score, recall_score, f1_score\n",
    "print('Skewed training and skewed test data:')\n",
    "print('Accuracy score: {}'.format(accuracy_score(y_test, prediction1)))\n",
    "print('precision score: {}'.format(precision_score(y_test, prediction1, average='macro')))\n",
    "print('recall score: {}'.format(recall_score(y_test, prediction1,average='macro')))\n",
    "print('f1 score: {}'.format(f1_score(y_test, prediction1,average='macro')))\n",
    "\n",
    "print('Balanced training and balanced test data:')\n",
    "print('Accuracy score: {}'.format(accuracy_score(strat_y_test, prediction2)))\n",
    "print('precision score: {}'.format(precision_score(strat_y_test, prediction2, average='macro')))\n",
    "print('recall score: {}'.format(recall_score(strat_y_test, prediction2,average='macro')))\n",
    "print('f1 score: {}'.format(f1_score(strat_y_test, prediction2,average='macro')))\n",
    "\n",
    "print('Skewed training and balanced test data:')\n",
    "print('Accuracy score: {}'.format(accuracy_score(strat_y_test, prediction3)))\n",
    "print('precision score: {}'.format(precision_score(strat_y_test, prediction3, average='macro')))\n",
    "print('recall score: {}'.format(recall_score(strat_y_test, prediction3,average='macro')))\n",
    "print('f1 score: {}'.format(f1_score(strat_y_test, prediction3,average='macro')))\n",
    "\n",
    "print('Balanced training and skewed test data:')\n",
    "print('Accuracy score: {}'.format(accuracy_score(y_test, prediction4)))\n",
    "print('precision score: {}'.format(precision_score(y_test, prediction4, average='macro')))\n",
    "print('recall score: {}'.format(recall_score(y_test, prediction4,average='macro')))\n",
    "print('f1 score: {}'.format(f1_score(y_test, prediction4,average='macro')))"
   ]
  },
  {
   "cell_type": "markdown",
   "id": "f3fe2c54",
   "metadata": {},
   "source": [
    "## Generalization on unseen real world data"
   ]
  },
  {
   "cell_type": "code",
   "execution_count": 26,
   "id": "9c1036a6",
   "metadata": {},
   "outputs": [],
   "source": [
    "dfReal = pd.read_csv('realWorldEmotions.csv')"
   ]
  },
  {
   "cell_type": "code",
   "execution_count": 27,
   "id": "b067b537",
   "metadata": {},
   "outputs": [],
   "source": [
    "# Removing punctuation, URL, and tags\n",
    "dfReal['Text'] = dfReal['Text'].apply(lambda x: re.sub(\"(@[A-Za-z0-9]+)|([^A-Za-z \\t])|(\\w+:\\/\\/\\S+)\",'',x))"
   ]
  },
  {
   "cell_type": "code",
   "execution_count": 28,
   "id": "3fa31246",
   "metadata": {},
   "outputs": [],
   "source": [
    "dfReal.dropna(inplace=True)"
   ]
  },
  {
   "cell_type": "code",
   "execution_count": 29,
   "id": "45f609e5",
   "metadata": {},
   "outputs": [],
   "source": [
    "# stem the text\n",
    "dfReal['Text'] = dfReal['Text'].apply(lambda x: replace(x))"
   ]
  },
  {
   "cell_type": "code",
   "execution_count": 30,
   "id": "d341c1e0",
   "metadata": {},
   "outputs": [
    {
     "data": {
      "text/plain": [
       "joy         695\n",
       "sadness     581\n",
       "anger       275\n",
       "fear        224\n",
       "love        159\n",
       "surprise     66\n",
       "Name: Sentiment, dtype: int64"
      ]
     },
     "execution_count": 30,
     "metadata": {},
     "output_type": "execute_result"
    }
   ],
   "source": [
    "# check class imbalance\n",
    "dfReal['Sentiment'].value_counts()"
   ]
  },
  {
   "cell_type": "code",
   "execution_count": 31,
   "id": "7f5fbb5f",
   "metadata": {},
   "outputs": [],
   "source": [
    "#Change \"joy\" to \"happy\" to match categories\n",
    "for i,s in enumerate(dfReal['Sentiment']):\n",
    "    if s == 'joy':\n",
    "        dfReal.loc[i,'Sentiment'] = 'happy'"
   ]
  },
  {
   "cell_type": "code",
   "execution_count": 32,
   "id": "243ac63c",
   "metadata": {},
   "outputs": [
    {
     "data": {
      "text/plain": [
       "happy       695\n",
       "sadness     581\n",
       "anger       275\n",
       "fear        224\n",
       "love        159\n",
       "surprise     66\n",
       "Name: Sentiment, dtype: int64"
      ]
     },
     "execution_count": 32,
     "metadata": {},
     "output_type": "execute_result"
    }
   ],
   "source": [
    "dfReal[\"Sentiment\"].value_counts()"
   ]
  },
  {
   "cell_type": "code",
   "execution_count": 33,
   "id": "1181579d",
   "metadata": {},
   "outputs": [],
   "source": [
    "# Conversion to document matrix \n",
    "X = dfReal[\"Text\"]\n",
    "y = dfReal[\"Sentiment\"]\n",
    "# count vectorizer\n",
    "X_count = count_vect.transform(X)\n",
    "# Tfidf transformer\n",
    "X_tfidf = tfidf_transformer.transform(X_count)"
   ]
  },
  {
   "cell_type": "code",
   "execution_count": 34,
   "id": "64171ce2",
   "metadata": {},
   "outputs": [],
   "source": [
    "# prediction on unbalanced trained model\n",
    "prediction_real1 = clf1.predict(X_tfidf)"
   ]
  },
  {
   "cell_type": "code",
   "execution_count": 35,
   "id": "06640cf1",
   "metadata": {},
   "outputs": [],
   "source": [
    "# prediction on balanced trained model\n",
    "prediction_real2 = clf2.predict(X_tfidf)"
   ]
  },
  {
   "cell_type": "code",
   "execution_count": 36,
   "id": "7cfed847",
   "metadata": {},
   "outputs": [
    {
     "name": "stdout",
     "output_type": "stream",
     "text": [
      "Skewed training model tested on real data:\n",
      "Accuracy score: 0.1675\n",
      "precision score: 0.1280475983580936\n",
      "recall score: 0.0994087626008256\n",
      "f1 score: 0.09811740192174975\n",
      "Balanced training model tested on real data:\n",
      "Accuracy score: 0.613\n",
      "precision score: 0.47339887880257336\n",
      "recall score: 0.44917001200263795\n",
      "f1 score: 0.43344096454824915\n"
     ]
    },
    {
     "name": "stderr",
     "output_type": "stream",
     "text": [
      "C:\\Users\\aditi\\anaconda3\\lib\\site-packages\\sklearn\\metrics\\_classification.py:1245: UndefinedMetricWarning: Recall is ill-defined and being set to 0.0 in labels with no true samples. Use `zero_division` parameter to control this behavior.\n",
      "  _warn_prf(average, modifier, msg_start, len(result))\n",
      "C:\\Users\\aditi\\anaconda3\\lib\\site-packages\\sklearn\\metrics\\_classification.py:1245: UndefinedMetricWarning: Recall is ill-defined and being set to 0.0 in labels with no true samples. Use `zero_division` parameter to control this behavior.\n",
      "  _warn_prf(average, modifier, msg_start, len(result))\n"
     ]
    }
   ],
   "source": [
    "print('Skewed training model tested on real data:')\n",
    "print('Accuracy score: {}'.format(accuracy_score(y, prediction_real1)))\n",
    "print('precision score: {}'.format(precision_score(y, prediction_real1, average='macro')))\n",
    "print('recall score: {}'.format(recall_score(y, prediction_real1,average='macro')))\n",
    "print('f1 score: {}'.format(f1_score(y, prediction_real1,average='macro')))\n",
    "\n",
    "print('Balanced training model tested on real data:')\n",
    "print('Accuracy score: {}'.format(accuracy_score(y, prediction_real2)))\n",
    "print('precision score: {}'.format(precision_score(y, prediction_real2, average='macro')))\n",
    "print('recall score: {}'.format(recall_score(y, prediction_real2,average='macro')))\n",
    "print('f1 score: {}'.format(f1_score(y, prediction_real2,average='macro')))"
   ]
  },
  {
   "cell_type": "markdown",
   "id": "4f0e4851",
   "metadata": {},
   "source": [
    "I noticed that some predictions were categories which weren't in the real dataset (like \"neutral\"). This is why we see the error above."
   ]
  }
 ],
 "metadata": {
  "kernelspec": {
   "display_name": "Python 3",
   "language": "python",
   "name": "python3"
  },
  "language_info": {
   "codemirror_mode": {
    "name": "ipython",
    "version": 3
   },
   "file_extension": ".py",
   "mimetype": "text/x-python",
   "name": "python",
   "nbconvert_exporter": "python",
   "pygments_lexer": "ipython3",
   "version": "3.8.8"
  }
 },
 "nbformat": 4,
 "nbformat_minor": 5
}
