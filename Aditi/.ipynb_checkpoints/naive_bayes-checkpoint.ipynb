{
 "cells": [
  {
   "cell_type": "code",
   "execution_count": 15,
   "id": "62d47362",
   "metadata": {},
   "outputs": [],
   "source": [
    "import numpy as np\n",
    "import pandas as pd\n",
    "import sklearn\n",
    "import nltk"
   ]
  },
  {
   "cell_type": "code",
   "execution_count": 16,
   "id": "77dc5d00",
   "metadata": {
    "scrolled": true
   },
   "outputs": [
    {
     "data": {
      "text/html": [
       "<div>\n",
       "<style scoped>\n",
       "    .dataframe tbody tr th:only-of-type {\n",
       "        vertical-align: middle;\n",
       "    }\n",
       "\n",
       "    .dataframe tbody tr th {\n",
       "        vertical-align: top;\n",
       "    }\n",
       "\n",
       "    .dataframe thead th {\n",
       "        text-align: right;\n",
       "    }\n",
       "</style>\n",
       "<table border=\"1\" class=\"dataframe\">\n",
       "  <thead>\n",
       "    <tr style=\"text-align: right;\">\n",
       "      <th></th>\n",
       "      <th>sentiment</th>\n",
       "      <th>Text</th>\n",
       "    </tr>\n",
       "  </thead>\n",
       "  <tbody>\n",
       "    <tr>\n",
       "      <th>0</th>\n",
       "      <td>sadness</td>\n",
       "      <td>@tiffanylue i know  i was listenin to bad habi...</td>\n",
       "    </tr>\n",
       "    <tr>\n",
       "      <th>1</th>\n",
       "      <td>sadness</td>\n",
       "      <td>Layin n bed with a headache  ughhhh...waitin o...</td>\n",
       "    </tr>\n",
       "    <tr>\n",
       "      <th>2</th>\n",
       "      <td>sadness</td>\n",
       "      <td>Funeral ceremony...gloomy friday...</td>\n",
       "    </tr>\n",
       "    <tr>\n",
       "      <th>3</th>\n",
       "      <td>happy</td>\n",
       "      <td>wants to hang out with friends SOON!</td>\n",
       "    </tr>\n",
       "    <tr>\n",
       "      <th>4</th>\n",
       "      <td>neutral</td>\n",
       "      <td>@dannycastillo We want to trade with someone w...</td>\n",
       "    </tr>\n",
       "    <tr>\n",
       "      <th>...</th>\n",
       "      <td>...</td>\n",
       "      <td>...</td>\n",
       "    </tr>\n",
       "    <tr>\n",
       "      <th>61454</th>\n",
       "      <td>fear</td>\n",
       "      <td>Melissa stared at her friend in dism</td>\n",
       "    </tr>\n",
       "    <tr>\n",
       "      <th>61455</th>\n",
       "      <td>happy</td>\n",
       "      <td>Successive state elections have seen the gover...</td>\n",
       "    </tr>\n",
       "    <tr>\n",
       "      <th>61456</th>\n",
       "      <td>fear</td>\n",
       "      <td>Vincent was irritated but not dismay</td>\n",
       "    </tr>\n",
       "    <tr>\n",
       "      <th>61457</th>\n",
       "      <td>happy</td>\n",
       "      <td>Kendall-Hume turned back to face the dismayed ...</td>\n",
       "    </tr>\n",
       "    <tr>\n",
       "      <th>61458</th>\n",
       "      <td>happy</td>\n",
       "      <td>I am dismayed , but not surpris</td>\n",
       "    </tr>\n",
       "  </tbody>\n",
       "</table>\n",
       "<p>61459 rows × 2 columns</p>\n",
       "</div>"
      ],
      "text/plain": [
       "      sentiment                                               Text\n",
       "0       sadness  @tiffanylue i know  i was listenin to bad habi...\n",
       "1       sadness  Layin n bed with a headache  ughhhh...waitin o...\n",
       "2       sadness                Funeral ceremony...gloomy friday...\n",
       "3         happy               wants to hang out with friends SOON!\n",
       "4       neutral  @dannycastillo We want to trade with someone w...\n",
       "...         ...                                                ...\n",
       "61454      fear               Melissa stared at her friend in dism\n",
       "61455     happy  Successive state elections have seen the gover...\n",
       "61456      fear               Vincent was irritated but not dismay\n",
       "61457     happy  Kendall-Hume turned back to face the dismayed ...\n",
       "61458     happy                    I am dismayed , but not surpris\n",
       "\n",
       "[61459 rows x 2 columns]"
      ]
     },
     "execution_count": 16,
     "metadata": {},
     "output_type": "execute_result"
    }
   ],
   "source": [
    "data = pd.read_csv(\"combined_data.csv\")\n",
    "data"
   ]
  },
  {
   "cell_type": "code",
   "execution_count": 17,
   "id": "5546ca0f",
   "metadata": {},
   "outputs": [
    {
     "data": {
      "text/plain": [
       "fear        16241\n",
       "happy       13508\n",
       "sadness      9796\n",
       "neutral      8960\n",
       "love         4720\n",
       "anger        4069\n",
       "surprise     2639\n",
       "relief       1526\n",
       "Name: sentiment, dtype: int64"
      ]
     },
     "execution_count": 17,
     "metadata": {},
     "output_type": "execute_result"
    }
   ],
   "source": [
    "data[\"sentiment\"].value_counts()"
   ]
  },
  {
   "cell_type": "code",
   "execution_count": 18,
   "id": "3af54bee",
   "metadata": {},
   "outputs": [],
   "source": [
    "# Removing punctuation, URL, and tags\n",
    "import re\n",
    "data['Text'] = data['Text'].apply(lambda x: re.sub(\"(@[A-Za-z0-9]+)|([^A-Za-z \\t])|(\\w+:\\/\\/\\S+)\",'',x))"
   ]
  },
  {
   "cell_type": "code",
   "execution_count": 19,
   "id": "f2aa8032",
   "metadata": {},
   "outputs": [],
   "source": [
    "data.dropna(inplace=True)"
   ]
  },
  {
   "cell_type": "code",
   "execution_count": 20,
   "id": "7a0e0d5b",
   "metadata": {},
   "outputs": [
    {
     "name": "stdout",
     "output_type": "stream",
     "text": [
      "(61459, 2)\n"
     ]
    },
    {
     "data": {
      "text/html": [
       "<div>\n",
       "<style scoped>\n",
       "    .dataframe tbody tr th:only-of-type {\n",
       "        vertical-align: middle;\n",
       "    }\n",
       "\n",
       "    .dataframe tbody tr th {\n",
       "        vertical-align: top;\n",
       "    }\n",
       "\n",
       "    .dataframe thead th {\n",
       "        text-align: right;\n",
       "    }\n",
       "</style>\n",
       "<table border=\"1\" class=\"dataframe\">\n",
       "  <thead>\n",
       "    <tr style=\"text-align: right;\">\n",
       "      <th></th>\n",
       "      <th>sentiment</th>\n",
       "      <th>Text</th>\n",
       "    </tr>\n",
       "  </thead>\n",
       "  <tbody>\n",
       "    <tr>\n",
       "      <th>0</th>\n",
       "      <td>sadness</td>\n",
       "      <td>i know  i was listenin to bad habit earlier a...</td>\n",
       "    </tr>\n",
       "    <tr>\n",
       "      <th>1</th>\n",
       "      <td>sadness</td>\n",
       "      <td>Layin n bed with a headache  ughhhhwaitin on y...</td>\n",
       "    </tr>\n",
       "    <tr>\n",
       "      <th>2</th>\n",
       "      <td>sadness</td>\n",
       "      <td>Funeral ceremonygloomy friday</td>\n",
       "    </tr>\n",
       "    <tr>\n",
       "      <th>3</th>\n",
       "      <td>happy</td>\n",
       "      <td>wants to hang out with friends SOON</td>\n",
       "    </tr>\n",
       "    <tr>\n",
       "      <th>4</th>\n",
       "      <td>neutral</td>\n",
       "      <td>We want to trade with someone who has Houston...</td>\n",
       "    </tr>\n",
       "  </tbody>\n",
       "</table>\n",
       "</div>"
      ],
      "text/plain": [
       "  sentiment                                               Text\n",
       "0   sadness   i know  i was listenin to bad habit earlier a...\n",
       "1   sadness  Layin n bed with a headache  ughhhhwaitin on y...\n",
       "2   sadness                      Funeral ceremonygloomy friday\n",
       "3     happy                wants to hang out with friends SOON\n",
       "4   neutral   We want to trade with someone who has Houston..."
      ]
     },
     "execution_count": 20,
     "metadata": {},
     "output_type": "execute_result"
    }
   ],
   "source": [
    "print(data.shape)\n",
    "data.head()"
   ]
  },
  {
   "cell_type": "code",
   "execution_count": 22,
   "id": "2ed94bd4",
   "metadata": {},
   "outputs": [],
   "source": [
    "from nltk.stem import SnowballStemmer"
   ]
  },
  {
   "cell_type": "code",
   "execution_count": 23,
   "id": "630493a5",
   "metadata": {},
   "outputs": [
    {
     "data": {
      "text/html": [
       "<div>\n",
       "<style scoped>\n",
       "    .dataframe tbody tr th:only-of-type {\n",
       "        vertical-align: middle;\n",
       "    }\n",
       "\n",
       "    .dataframe tbody tr th {\n",
       "        vertical-align: top;\n",
       "    }\n",
       "\n",
       "    .dataframe thead th {\n",
       "        text-align: right;\n",
       "    }\n",
       "</style>\n",
       "<table border=\"1\" class=\"dataframe\">\n",
       "  <thead>\n",
       "    <tr style=\"text-align: right;\">\n",
       "      <th></th>\n",
       "      <th>sentiment</th>\n",
       "      <th>Text</th>\n",
       "    </tr>\n",
       "  </thead>\n",
       "  <tbody>\n",
       "    <tr>\n",
       "      <th>0</th>\n",
       "      <td>sadness</td>\n",
       "      <td>i know  i was listenin to bad habit earlier a...</td>\n",
       "    </tr>\n",
       "    <tr>\n",
       "      <th>1</th>\n",
       "      <td>sadness</td>\n",
       "      <td>layin n bed with a headach  ughhhhwaitin on yo...</td>\n",
       "    </tr>\n",
       "    <tr>\n",
       "      <th>2</th>\n",
       "      <td>sadness</td>\n",
       "      <td>funer ceremonygloomi friday</td>\n",
       "    </tr>\n",
       "    <tr>\n",
       "      <th>3</th>\n",
       "      <td>happy</td>\n",
       "      <td>want to hang out with friend soon</td>\n",
       "    </tr>\n",
       "    <tr>\n",
       "      <th>4</th>\n",
       "      <td>neutral</td>\n",
       "      <td>we want to trade with someon who has houston ...</td>\n",
       "    </tr>\n",
       "    <tr>\n",
       "      <th>...</th>\n",
       "      <td>...</td>\n",
       "      <td>...</td>\n",
       "    </tr>\n",
       "    <tr>\n",
       "      <th>61454</th>\n",
       "      <td>fear</td>\n",
       "      <td>melissa stare at her friend in dism</td>\n",
       "    </tr>\n",
       "    <tr>\n",
       "      <th>61455</th>\n",
       "      <td>happy</td>\n",
       "      <td>success state elect have seen the govern parti...</td>\n",
       "    </tr>\n",
       "    <tr>\n",
       "      <th>61456</th>\n",
       "      <td>fear</td>\n",
       "      <td>vincent was irrit but not dismay</td>\n",
       "    </tr>\n",
       "    <tr>\n",
       "      <th>61457</th>\n",
       "      <td>happy</td>\n",
       "      <td>kendallhum turn back to face the dismay coup</td>\n",
       "    </tr>\n",
       "    <tr>\n",
       "      <th>61458</th>\n",
       "      <td>happy</td>\n",
       "      <td>i am dismay  but not surpri</td>\n",
       "    </tr>\n",
       "  </tbody>\n",
       "</table>\n",
       "<p>61459 rows × 2 columns</p>\n",
       "</div>"
      ],
      "text/plain": [
       "      sentiment                                               Text\n",
       "0       sadness   i know  i was listenin to bad habit earlier a...\n",
       "1       sadness  layin n bed with a headach  ughhhhwaitin on yo...\n",
       "2       sadness                        funer ceremonygloomi friday\n",
       "3         happy                  want to hang out with friend soon\n",
       "4       neutral   we want to trade with someon who has houston ...\n",
       "...         ...                                                ...\n",
       "61454      fear                melissa stare at her friend in dism\n",
       "61455     happy  success state elect have seen the govern parti...\n",
       "61456      fear                   vincent was irrit but not dismay\n",
       "61457     happy       kendallhum turn back to face the dismay coup\n",
       "61458     happy                        i am dismay  but not surpri\n",
       "\n",
       "[61459 rows x 2 columns]"
      ]
     },
     "execution_count": 23,
     "metadata": {},
     "output_type": "execute_result"
    }
   ],
   "source": [
    "stemmer = SnowballStemmer(\"english\") \n",
    "# Split string on each row into a list of words\n",
    "data['Text'] = data.apply(lambda x : x['Text'].split(\" \"),axis=1)\n",
    "# Apply the stemmer on each word\n",
    "data['Text'] = data['Text'].apply(lambda x: [stemmer.stem(y) for y in x])\n",
    "# Join list of words into a single string for each row\n",
    "data['Text'] = data['Text'].apply(' '.join)   # join list of strings into one string for each row\n",
    "data"
   ]
  },
  {
   "cell_type": "code",
   "execution_count": 24,
   "id": "b9e1c888",
   "metadata": {},
   "outputs": [],
   "source": [
    "#build new non-skewed dataset\n",
    "\n",
    "#sample with replacement\n",
    "def stratify(data, N):\n",
    "    rows = []\n",
    "    fear = data[data['sentiment'] == 'fear']\n",
    "    happy = data[data['sentiment'] == 'happy']\n",
    "    sad = data[data['sentiment'] == 'sadness']\n",
    "    neutral = data[data['sentiment'] == 'neutral']\n",
    "    love = data[data['sentiment'] == 'love']\n",
    "    anger = data[data['sentiment'] == 'anger']\n",
    "    surprise = data[data['sentiment'] == 'surprise']\n",
    "    relief = data[data['sentiment'] == 'relief']\n",
    "    \n",
    "    for i in range(N):\n",
    "        #print(fear.loc[np.random.choice(fear.index)])\n",
    "        rows.append(fear.loc[np.random.choice(fear.index)])\n",
    "        rows.append(happy.loc[np.random.choice(happy.index)])\n",
    "        rows.append(sad.loc[np.random.choice(sad.index)])\n",
    "        rows.append(neutral.loc[np.random.choice(neutral.index)])\n",
    "        rows.append(love.loc[np.random.choice(love.index)])\n",
    "        rows.append(anger.loc[np.random.choice(anger.index)])\n",
    "        rows.append(surprise.loc[np.random.choice(surprise.index)])\n",
    "        rows.append(relief.loc[np.random.choice(relief.index)])\n",
    "    sentiments = [x['sentiment'] for x in rows]\n",
    "    texts = [x['Text'] for x in rows]\n",
    "    d = {'sentiment': sentiments, 'Text': texts}\n",
    "    return pd.DataFrame(d)"
   ]
  },
  {
   "cell_type": "code",
   "execution_count": 25,
   "id": "b757df49",
   "metadata": {},
   "outputs": [
    {
     "ename": "NameError",
     "evalue": "name 'df' is not defined",
     "output_type": "error",
     "traceback": [
      "\u001b[1;31m---------------------------------------------------------------------------\u001b[0m",
      "\u001b[1;31mNameError\u001b[0m                                 Traceback (most recent call last)",
      "\u001b[1;32m<ipython-input-25-6215edc66bd8>\u001b[0m in \u001b[0;36m<module>\u001b[1;34m\u001b[0m\n\u001b[1;32m----> 1\u001b[1;33m \u001b[0mstrat_df\u001b[0m \u001b[1;33m=\u001b[0m \u001b[0mstratify\u001b[0m\u001b[1;33m(\u001b[0m\u001b[0mdf\u001b[0m\u001b[1;33m,\u001b[0m \u001b[1;36m10000\u001b[0m\u001b[1;33m)\u001b[0m\u001b[1;33m\u001b[0m\u001b[1;33m\u001b[0m\u001b[0m\n\u001b[0m\u001b[0;32m      2\u001b[0m \u001b[0mstrat_df\u001b[0m\u001b[1;33m[\u001b[0m\u001b[1;34m'sentiment'\u001b[0m\u001b[1;33m]\u001b[0m\u001b[1;33m.\u001b[0m\u001b[0mvalue_counts\u001b[0m\u001b[1;33m(\u001b[0m\u001b[1;33m)\u001b[0m\u001b[1;33m\u001b[0m\u001b[1;33m\u001b[0m\u001b[0m\n",
      "\u001b[1;31mNameError\u001b[0m: name 'df' is not defined"
     ]
    }
   ],
   "source": [
    "strat_df = stratify(df, 10000)\n",
    "strat_df['sentiment'].value_counts()"
   ]
  },
  {
   "cell_type": "markdown",
   "id": "b00647cb",
   "metadata": {},
   "source": [
    "#### Split Train and Test sets:"
   ]
  },
  {
   "cell_type": "code",
   "execution_count": null,
   "id": "b0566088",
   "metadata": {},
   "outputs": [],
   "source": [
    "from sklearn.model_selection import train_test_split\n",
    "\n",
    "X_train, X_test, y_train, y_test = train_test_split(df['Text'], \n",
    "                                                    df['sentiment'],test_size=0.10, \n",
    "                                                    random_state=1)\n"
   ]
  },
  {
   "cell_type": "code",
   "execution_count": null,
   "id": "1594ddc6",
   "metadata": {},
   "outputs": [],
   "source": [
    "X_train_strat, X_test_strat, y_train_strat, y_test_strat = train_test_split(strat_df['Text'], \n",
    "                                                    strat_df['sentiment'],test_size=0.10, \n",
    "                                                    random_state=1)"
   ]
  },
  {
   "cell_type": "markdown",
   "id": "c7ac313e",
   "metadata": {},
   "source": [
    "#### Word of Bags: Preprocessing"
   ]
  },
  {
   "cell_type": "code",
   "execution_count": 12,
   "id": "01b4dcdc",
   "metadata": {},
   "outputs": [],
   "source": [
    "# from sklearn.feature_extraction.text import CountVectorizer\n",
    "# from sklearn.feature_extraction.text import TfidfVectorizer\n",
    "# # Instantiate the CountVectorizer method\n",
    "# tf_idf = TfidfVectorizer(stop_words='english',max_features=5000, min_df = 10, max_df = 0.1)\n",
    "# tf_idf.fit(data['Text'])\n",
    "# # Fit the training data and then return the matrix\n",
    "# training_data = tf_idf.transform(X_train)\n",
    "# # Transform testing data and return the matrix. \n",
    "# testing_data = tf_idf.transform(X_test)"
   ]
  },
  {
   "cell_type": "code",
   "execution_count": null,
   "id": "f7e5dea8",
   "metadata": {},
   "outputs": [],
   "source": [
    "from sklearn.feature_extraction.text import CountVectorizer\n",
    "count_vect = CountVectorizer(stop_words='english', max_features = 10000)\n",
    "X_train_counts = count_vect.fit_transform(X_train)\n",
    "X_train_strat_counts = count_vect.fit_transform(X_train_strat)"
   ]
  },
  {
   "cell_type": "code",
   "execution_count": null,
   "id": "dab636ff",
   "metadata": {},
   "outputs": [],
   "source": [
    "from sklearn.feature_extraction.text import TfidfTransformer\n",
    "tfidf_transformer = TfidfTransformer()\n",
    "X_train_tfidf = tfidf_transformer.fit_transform(X_train_counts)\n",
    "X_train_strat_tfidf = tfidf_transformer.fit_transform(X_train_"
   ]
  },
  {
   "cell_type": "markdown",
   "id": "43ec38c1",
   "metadata": {},
   "source": [
    "### Multinomial Naive Bayes"
   ]
  },
  {
   "cell_type": "code",
   "execution_count": null,
   "id": "924798ae",
   "metadata": {},
   "outputs": [],
   "source": [
    "from sklearn.naive_bayes import MultinomialNB\n",
    "naive_bayes = MultinomialNB()"
   ]
  },
  {
   "cell_type": "markdown",
   "id": "f9455bd7",
   "metadata": {},
   "source": [
    "Training for unbalanced data set"
   ]
  },
  {
   "cell_type": "code",
   "execution_count": null,
   "id": "9443b009",
   "metadata": {},
   "outputs": [],
   "source": [
    "naive_bayes.fit(training_data,y_train)\n",
    "predictions = naive_bayes.predict(testing_data)\n",
    "from sklearn.metrics import accuracy_score, precision_score, recall_score, f1_score\n",
    "print('Accuracy score: {}'.format(accuracy_score(y_test, predictions)))"
   ]
  },
  {
   "cell_type": "markdown",
   "id": "d4a66f53",
   "metadata": {},
   "source": [
    "Training the balanced (stratified) dataset"
   ]
  },
  {
   "cell_type": "code",
   "execution_count": null,
   "id": "2856e7d5",
   "metadata": {},
   "outputs": [],
   "source": [
    "clf1 = naive_bayes(X_train_tfidf, y_train)"
   ]
  }
 ],
 "metadata": {
  "kernelspec": {
   "display_name": "Python 3",
   "language": "python",
   "name": "python3"
  },
  "language_info": {
   "codemirror_mode": {
    "name": "ipython",
    "version": 3
   },
   "file_extension": ".py",
   "mimetype": "text/x-python",
   "name": "python",
   "nbconvert_exporter": "python",
   "pygments_lexer": "ipython3",
   "version": "3.8.8"
  }
 },
 "nbformat": 4,
 "nbformat_minor": 5
}
