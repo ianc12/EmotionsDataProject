{
 "cells": [
  {
   "cell_type": "code",
   "execution_count": 1,
   "id": "02cfddeb",
   "metadata": {},
   "outputs": [],
   "source": [
    "from sklearn import datasets\n",
    "import numpy as np # linear algebra\n",
    "import pandas as pd # data processing, CSV file I/O (e.g. pd.read_csv)\n",
    "import nltk"
   ]
  },
  {
   "cell_type": "code",
   "execution_count": 2,
   "id": "43fa0dca",
   "metadata": {},
   "outputs": [
    {
     "data": {
      "text/html": [
       "<div>\n",
       "<style scoped>\n",
       "    .dataframe tbody tr th:only-of-type {\n",
       "        vertical-align: middle;\n",
       "    }\n",
       "\n",
       "    .dataframe tbody tr th {\n",
       "        vertical-align: top;\n",
       "    }\n",
       "\n",
       "    .dataframe thead th {\n",
       "        text-align: right;\n",
       "    }\n",
       "</style>\n",
       "<table border=\"1\" class=\"dataframe\">\n",
       "  <thead>\n",
       "    <tr style=\"text-align: right;\">\n",
       "      <th></th>\n",
       "      <th>sentiment</th>\n",
       "      <th>Text</th>\n",
       "    </tr>\n",
       "  </thead>\n",
       "  <tbody>\n",
       "    <tr>\n",
       "      <th>0</th>\n",
       "      <td>sadness</td>\n",
       "      <td>@tiffanylue i know  i was listenin to bad habi...</td>\n",
       "    </tr>\n",
       "    <tr>\n",
       "      <th>1</th>\n",
       "      <td>sadness</td>\n",
       "      <td>Layin n bed with a headache  ughhhh...waitin o...</td>\n",
       "    </tr>\n",
       "    <tr>\n",
       "      <th>2</th>\n",
       "      <td>sadness</td>\n",
       "      <td>Funeral ceremony...gloomy friday...</td>\n",
       "    </tr>\n",
       "    <tr>\n",
       "      <th>3</th>\n",
       "      <td>happy</td>\n",
       "      <td>wants to hang out with friends SOON!</td>\n",
       "    </tr>\n",
       "    <tr>\n",
       "      <th>4</th>\n",
       "      <td>neutral</td>\n",
       "      <td>@dannycastillo We want to trade with someone w...</td>\n",
       "    </tr>\n",
       "  </tbody>\n",
       "</table>\n",
       "</div>"
      ],
      "text/plain": [
       "  sentiment                                               Text\n",
       "0   sadness  @tiffanylue i know  i was listenin to bad habi...\n",
       "1   sadness  Layin n bed with a headache  ughhhh...waitin o...\n",
       "2   sadness                Funeral ceremony...gloomy friday...\n",
       "3     happy               wants to hang out with friends SOON!\n",
       "4   neutral  @dannycastillo We want to trade with someone w..."
      ]
     },
     "execution_count": 2,
     "metadata": {},
     "output_type": "execute_result"
    }
   ],
   "source": [
    "emotions = pd.read_csv('combined_data.csv', index_col=False)\n",
    "emotions.head()"
   ]
  },
  {
   "cell_type": "code",
   "execution_count": 3,
   "id": "ccfc427d",
   "metadata": {},
   "outputs": [],
   "source": [
    "for i,s in enumerate(emotions['sentiment']):\n",
    "    if s == 'happy':\n",
    "        emotions.loc[i,'sentiment'] = '1'\n",
    "    if s == 'love':\n",
    "        emotions.loc[i,'sentiment'] = '1'\n",
    "    if s == 'surprise':\n",
    "        emotions.loc[i,'sentiment'] = '1'\n",
    "    if s == 'relief':\n",
    "        emotions.loc[i,'sentiment'] = '1'\n",
    "    if s == 'fear':\n",
    "        emotions.loc[i,'sentiment'] = '0'\n",
    "    if s == 'sadness':\n",
    "        emotions.loc[i,'sentiment'] = '0'\n",
    "    if s == 'neutral':\n",
    "        emotions.loc[i,'sentiment'] = '0'\n",
    "    if s == 'anger':\n",
    "        emotions.loc[i,'sentiment'] = '0'\n"
   ]
  },
  {
   "cell_type": "code",
   "execution_count": 4,
   "id": "58fae16f",
   "metadata": {},
   "outputs": [],
   "source": [
    "from sklearn.tree import DecisionTreeClassifier # Import Decision Tree Classifier\n",
    "from sklearn.model_selection import train_test_split # Import train_test_split function\n",
    "from sklearn import metrics #Import scikit-learn metrics module for accuracy calculation"
   ]
  },
  {
   "cell_type": "code",
   "execution_count": 5,
   "id": "807993ee",
   "metadata": {},
   "outputs": [],
   "source": [
    "X_train, X_test, y_train, y_test = train_test_split(emotions['Text'],emotions['sentiment'],test_size=0.2) "
   ]
  },
  {
   "cell_type": "code",
   "execution_count": 6,
   "id": "041bf9ba",
   "metadata": {},
   "outputs": [],
   "source": [
    "from sklearn.feature_extraction.text import TfidfVectorizer\n",
    "Tfidf_vect = TfidfVectorizer(max_features=50000000)\n",
    "Tfidf_vect.fit(emotions['Text'])\n",
    "Train_X_Tfidf = Tfidf_vect.transform(X_train)\n",
    "Test_X_Tfidf = Tfidf_vect.transform(X_test)"
   ]
  },
  {
   "cell_type": "code",
   "execution_count": 7,
   "id": "08e1cdac",
   "metadata": {},
   "outputs": [],
   "source": [
    "# Create Decision Tree classifer object\n",
    "clf = DecisionTreeClassifier()\n",
    "\n",
    "# Train Decision Tree Classifer\n",
    "clf = clf.fit(Train_X_Tfidf,y_train)\n",
    "\n",
    "#Predict the response for test dataset\n",
    "y_pred = clf.predict(Test_X_Tfidf)"
   ]
  },
  {
   "cell_type": "code",
   "execution_count": 9,
   "id": "8a6daeb0",
   "metadata": {},
   "outputs": [
    {
     "name": "stdout",
     "output_type": "stream",
     "text": [
      "Accuracy: 66.124308493329\n",
      "positive:  {'precision': 0.5345987506006727, 'recall': 0.4997753818508536, 'f1-score': 0.5166008822846528, 'support': 4452}\n",
      "negative:  {'precision': 0.7260762607626077, 'recall': 0.7529336734693878, 'f1-score': 0.739261114589856, 'support': 7840}\n"
     ]
    }
   ],
   "source": [
    "from sklearn.metrics import accuracy_score\n",
    "from sklearn.metrics import classification_report\n",
    "print(\"Accuracy:\", accuracy_score(y_test, y_pred)*100)\n",
    "report = classification_report(y_test, y_pred, output_dict=True)\n",
    "print('positive: ', report['1'])\n",
    "print('negative: ', report['0'])"
   ]
  },
  {
   "cell_type": "code",
   "execution_count": null,
   "id": "21a0dc54",
   "metadata": {},
   "outputs": [],
   "source": []
  }
 ],
 "metadata": {
  "kernelspec": {
   "display_name": "Python 3",
   "language": "python",
   "name": "python3"
  },
  "language_info": {
   "codemirror_mode": {
    "name": "ipython",
    "version": 3
   },
   "file_extension": ".py",
   "mimetype": "text/x-python",
   "name": "python",
   "nbconvert_exporter": "python",
   "pygments_lexer": "ipython3",
   "version": "3.8.8"
  }
 },
 "nbformat": 4,
 "nbformat_minor": 5
}
