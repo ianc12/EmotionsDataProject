{
 "cells": [
  {
   "cell_type": "code",
   "execution_count": 1,
   "id": "13a917c8",
   "metadata": {},
   "outputs": [],
   "source": [
    "#Import scikit-learn dataset library\n",
    "from sklearn import datasets"
   ]
  },
  {
   "cell_type": "code",
   "execution_count": 2,
   "id": "3aa96f00",
   "metadata": {},
   "outputs": [],
   "source": [
    "import numpy as np # linear algebra\n",
    "import pandas as pd # data processing, CSV file I/O (e.g. pd.read_csv)\n",
    "import nltk"
   ]
  },
  {
   "cell_type": "code",
   "execution_count": 3,
   "id": "9283d812",
   "metadata": {},
   "outputs": [
    {
     "data": {
      "text/html": [
       "<div>\n",
       "<style scoped>\n",
       "    .dataframe tbody tr th:only-of-type {\n",
       "        vertical-align: middle;\n",
       "    }\n",
       "\n",
       "    .dataframe tbody tr th {\n",
       "        vertical-align: top;\n",
       "    }\n",
       "\n",
       "    .dataframe thead th {\n",
       "        text-align: right;\n",
       "    }\n",
       "</style>\n",
       "<table border=\"1\" class=\"dataframe\">\n",
       "  <thead>\n",
       "    <tr style=\"text-align: right;\">\n",
       "      <th></th>\n",
       "      <th>sentiment</th>\n",
       "      <th>Text</th>\n",
       "    </tr>\n",
       "  </thead>\n",
       "  <tbody>\n",
       "    <tr>\n",
       "      <th>0</th>\n",
       "      <td>sadness</td>\n",
       "      <td>@tiffanylue i know  i was listenin to bad habi...</td>\n",
       "    </tr>\n",
       "    <tr>\n",
       "      <th>1</th>\n",
       "      <td>sadness</td>\n",
       "      <td>Layin n bed with a headache  ughhhh...waitin o...</td>\n",
       "    </tr>\n",
       "    <tr>\n",
       "      <th>2</th>\n",
       "      <td>sadness</td>\n",
       "      <td>Funeral ceremony...gloomy friday...</td>\n",
       "    </tr>\n",
       "    <tr>\n",
       "      <th>3</th>\n",
       "      <td>happy</td>\n",
       "      <td>wants to hang out with friends SOON!</td>\n",
       "    </tr>\n",
       "    <tr>\n",
       "      <th>4</th>\n",
       "      <td>neutral</td>\n",
       "      <td>@dannycastillo We want to trade with someone w...</td>\n",
       "    </tr>\n",
       "  </tbody>\n",
       "</table>\n",
       "</div>"
      ],
      "text/plain": [
       "  sentiment                                               Text\n",
       "0   sadness  @tiffanylue i know  i was listenin to bad habi...\n",
       "1   sadness  Layin n bed with a headache  ughhhh...waitin o...\n",
       "2   sadness                Funeral ceremony...gloomy friday...\n",
       "3     happy               wants to hang out with friends SOON!\n",
       "4   neutral  @dannycastillo We want to trade with someone w..."
      ]
     },
     "execution_count": 3,
     "metadata": {},
     "output_type": "execute_result"
    }
   ],
   "source": [
    "emotions = pd.read_csv('combined_data.csv', index_col=False)\n",
    "emotions.head()"
   ]
  },
  {
   "cell_type": "code",
   "execution_count": 4,
   "id": "c2ead01c",
   "metadata": {},
   "outputs": [
    {
     "name": "stdout",
     "output_type": "stream",
     "text": [
      "Emotions:  0        sadness\n",
      "1        sadness\n",
      "2        sadness\n",
      "3          happy\n",
      "4        neutral\n",
      "          ...   \n",
      "61454       fear\n",
      "61455      happy\n",
      "61456       fear\n",
      "61457      happy\n",
      "61458      happy\n",
      "Name: sentiment, Length: 61459, dtype: object\n"
     ]
    }
   ],
   "source": [
    "print(\"Emotions: \", emotions.sentiment)"
   ]
  },
  {
   "cell_type": "code",
   "execution_count": 5,
   "id": "2699ceab",
   "metadata": {},
   "outputs": [],
   "source": [
    "positive_emotions = ['happy', 'love', 'surprise', 'relief']"
   ]
  },
  {
   "cell_type": "code",
   "execution_count": 6,
   "id": "f42a5a85",
   "metadata": {},
   "outputs": [],
   "source": [
    "negative_emotions = ['fear', 'sadness', 'neutral', 'anger']"
   ]
  },
  {
   "cell_type": "code",
   "execution_count": 7,
   "id": "b041e465",
   "metadata": {},
   "outputs": [],
   "source": [
    "for i,s in enumerate(emotions['sentiment']):\n",
    "    if s == 'happy':\n",
    "        emotions.loc[i,'sentiment'] = '1'\n",
    "    if s == 'love':\n",
    "        emotions.loc[i,'sentiment'] = '1'\n",
    "    if s == 'surprise':\n",
    "        emotions.loc[i,'sentiment'] = '1'\n",
    "    if s == 'relief':\n",
    "        emotions.loc[i,'sentiment'] = '1'\n",
    "    if s == 'fear':\n",
    "        emotions.loc[i,'sentiment'] = '0'\n",
    "    if s == 'sadness':\n",
    "        emotions.loc[i,'sentiment'] = '0'\n",
    "    if s == 'neutral':\n",
    "        emotions.loc[i,'sentiment'] = '0'\n",
    "    if s == 'anger':\n",
    "        emotions.loc[i,'sentiment'] = '0'\n"
   ]
  },
  {
   "cell_type": "code",
   "execution_count": 8,
   "id": "4c903450",
   "metadata": {},
   "outputs": [
    {
     "data": {
      "text/html": [
       "<div>\n",
       "<style scoped>\n",
       "    .dataframe tbody tr th:only-of-type {\n",
       "        vertical-align: middle;\n",
       "    }\n",
       "\n",
       "    .dataframe tbody tr th {\n",
       "        vertical-align: top;\n",
       "    }\n",
       "\n",
       "    .dataframe thead th {\n",
       "        text-align: right;\n",
       "    }\n",
       "</style>\n",
       "<table border=\"1\" class=\"dataframe\">\n",
       "  <thead>\n",
       "    <tr style=\"text-align: right;\">\n",
       "      <th></th>\n",
       "      <th>sentiment</th>\n",
       "      <th>Text</th>\n",
       "    </tr>\n",
       "  </thead>\n",
       "  <tbody>\n",
       "    <tr>\n",
       "      <th>0</th>\n",
       "      <td>0</td>\n",
       "      <td>@tiffanylue i know  i was listenin to bad habi...</td>\n",
       "    </tr>\n",
       "    <tr>\n",
       "      <th>1</th>\n",
       "      <td>0</td>\n",
       "      <td>Layin n bed with a headache  ughhhh...waitin o...</td>\n",
       "    </tr>\n",
       "    <tr>\n",
       "      <th>2</th>\n",
       "      <td>0</td>\n",
       "      <td>Funeral ceremony...gloomy friday...</td>\n",
       "    </tr>\n",
       "    <tr>\n",
       "      <th>3</th>\n",
       "      <td>1</td>\n",
       "      <td>wants to hang out with friends SOON!</td>\n",
       "    </tr>\n",
       "    <tr>\n",
       "      <th>4</th>\n",
       "      <td>0</td>\n",
       "      <td>@dannycastillo We want to trade with someone w...</td>\n",
       "    </tr>\n",
       "  </tbody>\n",
       "</table>\n",
       "</div>"
      ],
      "text/plain": [
       "  sentiment                                               Text\n",
       "0         0  @tiffanylue i know  i was listenin to bad habi...\n",
       "1         0  Layin n bed with a headache  ughhhh...waitin o...\n",
       "2         0                Funeral ceremony...gloomy friday...\n",
       "3         1               wants to hang out with friends SOON!\n",
       "4         0  @dannycastillo We want to trade with someone w..."
      ]
     },
     "execution_count": 8,
     "metadata": {},
     "output_type": "execute_result"
    }
   ],
   "source": [
    "emotions.head()"
   ]
  },
  {
   "cell_type": "code",
   "execution_count": 9,
   "id": "8df5d6af",
   "metadata": {},
   "outputs": [],
   "source": [
    "from sklearn.model_selection import train_test_split\n",
    "X_train, X_test, y_train, y_test = train_test_split(emotions['Text'],emotions['sentiment'],test_size=0.2)"
   ]
  },
  {
   "cell_type": "code",
   "execution_count": 10,
   "id": "8f505a26",
   "metadata": {},
   "outputs": [],
   "source": [
    "from sklearn.feature_extraction.text import TfidfVectorizer\n",
    "Tfidf_vect = TfidfVectorizer(max_features=50000000)\n",
    "Tfidf_vect.fit(emotions['Text'])\n",
    "Train_X_Tfidf = Tfidf_vect.transform(X_train)\n",
    "Test_X_Tfidf = Tfidf_vect.transform(X_test)"
   ]
  },
  {
   "cell_type": "code",
   "execution_count": 11,
   "id": "7d0f6ba0",
   "metadata": {},
   "outputs": [
    {
     "name": "stdout",
     "output_type": "stream",
     "text": [
      "(49167, 57128)\n"
     ]
    }
   ],
   "source": [
    "print(Train_X_Tfidf.shape)"
   ]
  },
  {
   "cell_type": "code",
   "execution_count": 12,
   "id": "d501addf",
   "metadata": {},
   "outputs": [
    {
     "name": "stdout",
     "output_type": "stream",
     "text": [
      "(49167,)\n"
     ]
    }
   ],
   "source": [
    "print(y_train.shape)"
   ]
  },
  {
   "cell_type": "code",
   "execution_count": 13,
   "id": "29b8d37e",
   "metadata": {},
   "outputs": [],
   "source": [
    "from sklearn import svm"
   ]
  },
  {
   "cell_type": "code",
   "execution_count": 14,
   "id": "b398b123",
   "metadata": {},
   "outputs": [
    {
     "data": {
      "text/plain": [
       "SVC(gamma='auto', kernel='linear')"
      ]
     },
     "execution_count": 14,
     "metadata": {},
     "output_type": "execute_result"
    }
   ],
   "source": [
    "model = svm.SVC(C=1.0, kernel='linear', degree=3, gamma='auto')\n",
    "model.fit(Train_X_Tfidf, y_train)"
   ]
  },
  {
   "cell_type": "code",
   "execution_count": 15,
   "id": "8b886f96",
   "metadata": {},
   "outputs": [
    {
     "name": "stdout",
     "output_type": "stream",
     "text": [
      "SVM Accuracy Score before removing stop words:  72.46176374877969\n",
      "positive:  {'precision': 0.6660589486478274, 'recall': 0.4895042429656096, 'f1-score': 0.5642939889303643, 'support': 4478}\n",
      "negative:  {'precision': 0.7460282190867681, 'recall': 0.8593550038392629, 'f1-score': 0.7986916443651502, 'support': 7814}\n"
     ]
    }
   ],
   "source": [
    "from sklearn.metrics import accuracy_score\n",
    "from sklearn.metrics import classification_report\n",
    "predict = model.predict(Test_X_Tfidf)\n",
    "print(\"SVM Accuracy Score before removing stop words: \", accuracy_score(predict, y_test)*100)\n",
    "report = classification_report(y_test, predict, output_dict=True)\n",
    "print('positive: ', report['1'])\n",
    "print('negative: ', report['0'])"
   ]
  },
  {
   "cell_type": "code",
   "execution_count": 16,
   "id": "cd3568d7",
   "metadata": {},
   "outputs": [],
   "source": [
    "#The section below is to check SVM without the stop words"
   ]
  },
  {
   "cell_type": "code",
   "execution_count": 17,
   "id": "73089c34",
   "metadata": {},
   "outputs": [
    {
     "name": "stderr",
     "output_type": "stream",
     "text": [
      "[nltk_data] Downloading package stopwords to\n",
      "[nltk_data]     /Users/snehapatri/nltk_data...\n",
      "[nltk_data]   Package stopwords is already up-to-date!\n"
     ]
    }
   ],
   "source": [
    "from nltk.corpus import stopwords\n",
    "import nltk\n",
    "\n",
    "nltk.download('stopwords')\n",
    "\n",
    "stop = stopwords.words('english')\n",
    "\n",
    "emotions['tweet_without_stopwords'] = emotions['Text'].apply(lambda x: ' '.join([word for word in x.split() if word not in (stop)]))\n"
   ]
  },
  {
   "cell_type": "code",
   "execution_count": 18,
   "id": "818c8087",
   "metadata": {},
   "outputs": [
    {
     "data": {
      "text/html": [
       "<div>\n",
       "<style scoped>\n",
       "    .dataframe tbody tr th:only-of-type {\n",
       "        vertical-align: middle;\n",
       "    }\n",
       "\n",
       "    .dataframe tbody tr th {\n",
       "        vertical-align: top;\n",
       "    }\n",
       "\n",
       "    .dataframe thead th {\n",
       "        text-align: right;\n",
       "    }\n",
       "</style>\n",
       "<table border=\"1\" class=\"dataframe\">\n",
       "  <thead>\n",
       "    <tr style=\"text-align: right;\">\n",
       "      <th></th>\n",
       "      <th>sentiment</th>\n",
       "      <th>Text</th>\n",
       "      <th>tweet_without_stopwords</th>\n",
       "    </tr>\n",
       "  </thead>\n",
       "  <tbody>\n",
       "    <tr>\n",
       "      <th>0</th>\n",
       "      <td>0</td>\n",
       "      <td>@tiffanylue i know  i was listenin to bad habi...</td>\n",
       "      <td>@tiffanylue know listenin bad habit earlier st...</td>\n",
       "    </tr>\n",
       "    <tr>\n",
       "      <th>1</th>\n",
       "      <td>0</td>\n",
       "      <td>Layin n bed with a headache  ughhhh...waitin o...</td>\n",
       "      <td>Layin n bed headache ughhhh...waitin call...</td>\n",
       "    </tr>\n",
       "    <tr>\n",
       "      <th>2</th>\n",
       "      <td>0</td>\n",
       "      <td>Funeral ceremony...gloomy friday...</td>\n",
       "      <td>Funeral ceremony...gloomy friday...</td>\n",
       "    </tr>\n",
       "    <tr>\n",
       "      <th>3</th>\n",
       "      <td>1</td>\n",
       "      <td>wants to hang out with friends SOON!</td>\n",
       "      <td>wants hang friends SOON!</td>\n",
       "    </tr>\n",
       "    <tr>\n",
       "      <th>4</th>\n",
       "      <td>0</td>\n",
       "      <td>@dannycastillo We want to trade with someone w...</td>\n",
       "      <td>@dannycastillo We want trade someone Houston t...</td>\n",
       "    </tr>\n",
       "  </tbody>\n",
       "</table>\n",
       "</div>"
      ],
      "text/plain": [
       "  sentiment                                               Text  \\\n",
       "0         0  @tiffanylue i know  i was listenin to bad habi...   \n",
       "1         0  Layin n bed with a headache  ughhhh...waitin o...   \n",
       "2         0                Funeral ceremony...gloomy friday...   \n",
       "3         1               wants to hang out with friends SOON!   \n",
       "4         0  @dannycastillo We want to trade with someone w...   \n",
       "\n",
       "                             tweet_without_stopwords  \n",
       "0  @tiffanylue know listenin bad habit earlier st...  \n",
       "1       Layin n bed headache ughhhh...waitin call...  \n",
       "2                Funeral ceremony...gloomy friday...  \n",
       "3                           wants hang friends SOON!  \n",
       "4  @dannycastillo We want trade someone Houston t...  "
      ]
     },
     "execution_count": 18,
     "metadata": {},
     "output_type": "execute_result"
    }
   ],
   "source": [
    "emotions.head()"
   ]
  },
  {
   "cell_type": "code",
   "execution_count": 19,
   "id": "dcdccc97",
   "metadata": {},
   "outputs": [],
   "source": [
    "from sklearn.model_selection import train_test_split\n",
    "X_train, X_test, y_train, y_test = train_test_split(emotions['tweet_without_stopwords'],emotions['sentiment'],test_size=0.2)"
   ]
  },
  {
   "cell_type": "code",
   "execution_count": 20,
   "id": "b222567b",
   "metadata": {},
   "outputs": [],
   "source": [
    "from sklearn.feature_extraction.text import TfidfVectorizer\n",
    "Tfidf_vect = TfidfVectorizer(max_features=50000000)\n",
    "Tfidf_vect.fit(emotions['tweet_without_stopwords'])\n",
    "Train_X_Tfidf_stopwords = Tfidf_vect.transform(X_train)\n",
    "Test_X_Tfidf_stopwords = Tfidf_vect.transform(X_test)"
   ]
  },
  {
   "cell_type": "code",
   "execution_count": 21,
   "id": "fd48eec0",
   "metadata": {},
   "outputs": [],
   "source": [
    "from sklearn import svm"
   ]
  },
  {
   "cell_type": "code",
   "execution_count": 22,
   "id": "46c3674b",
   "metadata": {},
   "outputs": [
    {
     "data": {
      "text/plain": [
       "SVC(gamma='auto', kernel='linear')"
      ]
     },
     "execution_count": 22,
     "metadata": {},
     "output_type": "execute_result"
    }
   ],
   "source": [
    "model = svm.SVC(C=1.0, kernel='linear', degree=3, gamma='auto')\n",
    "model.fit(Train_X_Tfidf_stopwords, y_train)"
   ]
  },
  {
   "cell_type": "code",
   "execution_count": 23,
   "id": "180ee4ec",
   "metadata": {},
   "outputs": [
    {
     "name": "stdout",
     "output_type": "stream",
     "text": [
      "SVM Accuracy Score after stopwords:  71.73771558737391\n",
      "positive:  {'precision': 0.6581402347276557, 'recall': 0.4833149171270718, 'f1-score': 0.5573394495412843, 'support': 4525}\n",
      "negative:  {'precision': 0.7393243393912364, 'recall': 0.8537401828247715, 'f1-score': 0.7924235181644359, 'support': 7767}\n"
     ]
    }
   ],
   "source": [
    "from sklearn.metrics import accuracy_score\n",
    "from sklearn.metrics import classification_report\n",
    "predict = model.predict(Test_X_Tfidf_stopwords)\n",
    "print(\"SVM Accuracy Score after stopwords: \", accuracy_score(predict, y_test)*100)\n",
    "report = classification_report(y_test, predict, output_dict=True)\n",
    "print('positive: ', report['1'])\n",
    "print('negative: ', report['0'])"
   ]
  },
  {
   "cell_type": "code",
   "execution_count": null,
   "id": "75c9a77b",
   "metadata": {},
   "outputs": [],
   "source": []
  }
 ],
 "metadata": {
  "kernelspec": {
   "display_name": "Python 3",
   "language": "python",
   "name": "python3"
  },
  "language_info": {
   "codemirror_mode": {
    "name": "ipython",
    "version": 3
   },
   "file_extension": ".py",
   "mimetype": "text/x-python",
   "name": "python",
   "nbconvert_exporter": "python",
   "pygments_lexer": "ipython3",
   "version": "3.8.8"
  }
 },
 "nbformat": 4,
 "nbformat_minor": 5
}
