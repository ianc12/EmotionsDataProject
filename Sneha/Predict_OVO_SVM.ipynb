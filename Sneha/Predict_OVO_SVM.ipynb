{
 "cells": [
  {
   "cell_type": "code",
   "execution_count": 105,
   "id": "41d0e190",
   "metadata": {},
   "outputs": [],
   "source": [
    "import pandas as pd\n",
    "import numpy as np\n",
    "import matplotlib.pyplot as plt"
   ]
  },
  {
   "cell_type": "code",
   "execution_count": 106,
   "id": "2458a7dd",
   "metadata": {},
   "outputs": [
    {
     "data": {
      "text/html": [
       "<div>\n",
       "<style scoped>\n",
       "    .dataframe tbody tr th:only-of-type {\n",
       "        vertical-align: middle;\n",
       "    }\n",
       "\n",
       "    .dataframe tbody tr th {\n",
       "        vertical-align: top;\n",
       "    }\n",
       "\n",
       "    .dataframe thead th {\n",
       "        text-align: right;\n",
       "    }\n",
       "</style>\n",
       "<table border=\"1\" class=\"dataframe\">\n",
       "  <thead>\n",
       "    <tr style=\"text-align: right;\">\n",
       "      <th></th>\n",
       "      <th>sentiment</th>\n",
       "      <th>Text</th>\n",
       "    </tr>\n",
       "  </thead>\n",
       "  <tbody>\n",
       "    <tr>\n",
       "      <th>0</th>\n",
       "      <td>sadness</td>\n",
       "      <td>@tiffanylue i know  i was listenin to bad habi...</td>\n",
       "    </tr>\n",
       "    <tr>\n",
       "      <th>1</th>\n",
       "      <td>sadness</td>\n",
       "      <td>Layin n bed with a headache  ughhhh...waitin o...</td>\n",
       "    </tr>\n",
       "    <tr>\n",
       "      <th>2</th>\n",
       "      <td>sadness</td>\n",
       "      <td>Funeral ceremony...gloomy friday...</td>\n",
       "    </tr>\n",
       "    <tr>\n",
       "      <th>3</th>\n",
       "      <td>happy</td>\n",
       "      <td>wants to hang out with friends SOON!</td>\n",
       "    </tr>\n",
       "    <tr>\n",
       "      <th>4</th>\n",
       "      <td>neutral</td>\n",
       "      <td>@dannycastillo We want to trade with someone w...</td>\n",
       "    </tr>\n",
       "  </tbody>\n",
       "</table>\n",
       "</div>"
      ],
      "text/plain": [
       "  sentiment                                               Text\n",
       "0   sadness  @tiffanylue i know  i was listenin to bad habi...\n",
       "1   sadness  Layin n bed with a headache  ughhhh...waitin o...\n",
       "2   sadness                Funeral ceremony...gloomy friday...\n",
       "3     happy               wants to hang out with friends SOON!\n",
       "4   neutral  @dannycastillo We want to trade with someone w..."
      ]
     },
     "execution_count": 106,
     "metadata": {},
     "output_type": "execute_result"
    }
   ],
   "source": [
    "df = pd.read_csv('combined_data.csv')\n",
    "df.head()"
   ]
  },
  {
   "cell_type": "code",
   "execution_count": 107,
   "id": "554fe7f4",
   "metadata": {},
   "outputs": [],
   "source": [
    "import nltk\n",
    "from nltk.corpus import stopwords\n",
    "from nltk.tokenize import word_tokenize\n",
    "import re\n",
    "\n",
    "stopWords = stopwords.words(\"english\")\n",
    "\n",
    "def cleanText(text):\n",
    "    \n",
    "    output = \"\"\n",
    "    \n",
    "    \n",
    "    for word in text.split():\n",
    "        cleanWord = re.sub(\"[^a-zA-Z]\",  # Search for all non-letters\n",
    "                          \" \",          # Replace all non-letters with spaces\n",
    "                          str(word))\n",
    "        if cleanWord in stopWords:\n",
    "            pass\n",
    "        else:\n",
    "            output = output + \" \" + cleanWord\n",
    "    return output"
   ]
  },
  {
   "cell_type": "code",
   "execution_count": 108,
   "id": "b43b32d7",
   "metadata": {},
   "outputs": [],
   "source": [
    "df.Text = df.Text.apply(lambda x: cleanText(x))"
   ]
  },
  {
   "cell_type": "code",
   "execution_count": 109,
   "id": "5692ae13",
   "metadata": {},
   "outputs": [],
   "source": [
    "import re\n",
    "df['Text'] = df['Text'].apply(lambda x: re.sub(\"(@[A-Za-z0-9]+)|([^A-Za-z \\t])|(\\w+:\\/\\/\\S+)\",'',x))\n",
    "df.dropna(inplace=True)"
   ]
  },
  {
   "cell_type": "code",
   "execution_count": 110,
   "id": "e5b472f8",
   "metadata": {},
   "outputs": [
    {
     "data": {
      "text/html": [
       "<div>\n",
       "<style scoped>\n",
       "    .dataframe tbody tr th:only-of-type {\n",
       "        vertical-align: middle;\n",
       "    }\n",
       "\n",
       "    .dataframe tbody tr th {\n",
       "        vertical-align: top;\n",
       "    }\n",
       "\n",
       "    .dataframe thead th {\n",
       "        text-align: right;\n",
       "    }\n",
       "</style>\n",
       "<table border=\"1\" class=\"dataframe\">\n",
       "  <thead>\n",
       "    <tr style=\"text-align: right;\">\n",
       "      <th></th>\n",
       "      <th>sentiment</th>\n",
       "      <th>Text</th>\n",
       "    </tr>\n",
       "  </thead>\n",
       "  <tbody>\n",
       "    <tr>\n",
       "      <th>0</th>\n",
       "      <td>sadness</td>\n",
       "      <td>tiffanylu know listenin bad habit earlier star...</td>\n",
       "    </tr>\n",
       "    <tr>\n",
       "      <th>1</th>\n",
       "      <td>sadness</td>\n",
       "      <td>Layin n bed headach ughhhh waitin call</td>\n",
       "    </tr>\n",
       "    <tr>\n",
       "      <th>2</th>\n",
       "      <td>sadness</td>\n",
       "      <td>Funer ceremoni gloomi friday</td>\n",
       "    </tr>\n",
       "    <tr>\n",
       "      <th>3</th>\n",
       "      <td>happy</td>\n",
       "      <td>want hang friend SOON</td>\n",
       "    </tr>\n",
       "    <tr>\n",
       "      <th>4</th>\n",
       "      <td>neutral</td>\n",
       "      <td>dannycastillo We want trade someon Houston tic...</td>\n",
       "    </tr>\n",
       "  </tbody>\n",
       "</table>\n",
       "</div>"
      ],
      "text/plain": [
       "  sentiment                                               Text\n",
       "0   sadness  tiffanylu know listenin bad habit earlier star...\n",
       "1   sadness            Layin n bed headach ughhhh waitin call \n",
       "2   sadness                      Funer ceremoni gloomi friday \n",
       "3     happy                             want hang friend SOON \n",
       "4   neutral  dannycastillo We want trade someon Houston tic..."
      ]
     },
     "execution_count": 110,
     "metadata": {},
     "output_type": "execute_result"
    }
   ],
   "source": [
    "import snowballstemmer\n",
    "ss = snowballstemmer.stemmer('english')\n",
    "def replace(x):\n",
    "    words = x.split()\n",
    "    newtext = ''\n",
    "    for w in words:\n",
    "        n = ss.stemWord(w)\n",
    "        newtext += n\n",
    "        newtext += \" \"\n",
    "    return newtext\n",
    "df['Text'] = df['Text'].apply(lambda x: replace(x))\n",
    "df.head()"
   ]
  },
  {
   "cell_type": "code",
   "execution_count": 111,
   "id": "ec2193f2",
   "metadata": {},
   "outputs": [],
   "source": [
    "def stratify(data, N):\n",
    "    rows = []\n",
    "    fear = data[data['sentiment'] == 'fear']\n",
    "    happy = data[data['sentiment'] == 'happy']\n",
    "    sad = data[data['sentiment'] == 'sadness']\n",
    "    neutral = data[data['sentiment'] == 'neutral']\n",
    "    love = data[data['sentiment'] == 'love']\n",
    "    anger = data[data['sentiment'] == 'anger']\n",
    "    surprise = data[data['sentiment'] == 'surprise']\n",
    "    relief = data[data['sentiment'] == 'relief']\n",
    "    \n",
    "    for i in range(N):\n",
    "        #print(fear.loc[np.random.choice(fear.index)])\n",
    "        rows.append(fear.loc[np.random.choice(fear.index)])\n",
    "        rows.append(happy.loc[np.random.choice(happy.index)])\n",
    "        rows.append(sad.loc[np.random.choice(sad.index)])\n",
    "        rows.append(neutral.loc[np.random.choice(neutral.index)])\n",
    "        rows.append(love.loc[np.random.choice(love.index)])\n",
    "        rows.append(anger.loc[np.random.choice(anger.index)])\n",
    "        rows.append(surprise.loc[np.random.choice(surprise.index)])\n",
    "        rows.append(relief.loc[np.random.choice(relief.index)])\n",
    "    sentiments = [x['sentiment'] for x in rows]\n",
    "    texts = [x['Text'] for x in rows]\n",
    "    d = {'sentiment': sentiments, 'Text': texts}\n",
    "    return pd.DataFrame(d)"
   ]
  },
  {
   "cell_type": "code",
   "execution_count": 119,
   "id": "f8269d61",
   "metadata": {},
   "outputs": [
    {
     "data": {
      "text/plain": [
       "relief      10000\n",
       "neutral     10000\n",
       "surprise    10000\n",
       "fear        10000\n",
       "anger       10000\n",
       "sadness     10000\n",
       "love        10000\n",
       "happy       10000\n",
       "Name: sentiment, dtype: int64"
      ]
     },
     "execution_count": 119,
     "metadata": {},
     "output_type": "execute_result"
    }
   ],
   "source": [
    "balanced_df = stratify(df, 10000)\n",
    "balanced_df['sentiment'].value_counts()"
   ]
  },
  {
   "cell_type": "code",
   "execution_count": null,
   "id": "dba4dce0",
   "metadata": {},
   "outputs": [],
   "source": [
    "not_fear_stratify = "
   ]
  },
  {
   "cell_type": "code",
   "execution_count": 113,
   "id": "b59d014d",
   "metadata": {},
   "outputs": [],
   "source": [
    "from sklearn.model_selection import train_test_split\n",
    "\n",
    "#overall train and test\n",
    "X_train, X_test = train_test_split(df, test_size=0.2, random_state=42)"
   ]
  },
  {
   "cell_type": "code",
   "execution_count": 114,
   "id": "ef965e49",
   "metadata": {},
   "outputs": [],
   "source": [
    "#fear df\n",
    "fearDf = df[df['sentiment'] == 'fear']\n",
    "\n",
    "#happy df \n",
    "happyDf = df[df['sentiment'] == 'happy']\n",
    "\n",
    "\n",
    "#sadness df\n",
    "sadDf = df[df['sentiment'] == 'sadness']\n",
    "\n",
    "\n",
    "#anger df\n",
    "angerDf = df[df['sentiment'] == 'anger']\n"
   ]
  },
  {
   "cell_type": "code",
   "execution_count": 115,
   "id": "540f9721",
   "metadata": {},
   "outputs": [],
   "source": [
    "from sklearn import svm\n",
    "from sklearn.feature_extraction.text import TfidfVectorizer\n",
    "from sklearn.metrics import classification_report\n",
    "from sklearn.tree import DecisionTreeClassifier\n",
    "\n",
    "clf = svm.SVC(kernel='linear')"
   ]
  },
  {
   "cell_type": "code",
   "execution_count": 8,
   "id": "2b8017a4",
   "metadata": {},
   "outputs": [
    {
     "data": {
      "text/html": [
       "<div>\n",
       "<style scoped>\n",
       "    .dataframe tbody tr th:only-of-type {\n",
       "        vertical-align: middle;\n",
       "    }\n",
       "\n",
       "    .dataframe tbody tr th {\n",
       "        vertical-align: top;\n",
       "    }\n",
       "\n",
       "    .dataframe thead th {\n",
       "        text-align: right;\n",
       "    }\n",
       "</style>\n",
       "<table border=\"1\" class=\"dataframe\">\n",
       "  <thead>\n",
       "    <tr style=\"text-align: right;\">\n",
       "      <th></th>\n",
       "      <th>sentiment</th>\n",
       "      <th>Text</th>\n",
       "    </tr>\n",
       "  </thead>\n",
       "  <tbody>\n",
       "    <tr>\n",
       "      <th>0</th>\n",
       "      <td>not happy</td>\n",
       "      <td>@tiffanylue i know  i was listenin to bad habi...</td>\n",
       "    </tr>\n",
       "    <tr>\n",
       "      <th>1</th>\n",
       "      <td>not happy</td>\n",
       "      <td>Layin n bed with a headache  ughhhh...waitin o...</td>\n",
       "    </tr>\n",
       "    <tr>\n",
       "      <th>2</th>\n",
       "      <td>not happy</td>\n",
       "      <td>Funeral ceremony...gloomy friday...</td>\n",
       "    </tr>\n",
       "    <tr>\n",
       "      <th>3</th>\n",
       "      <td>happy</td>\n",
       "      <td>wants to hang out with friends SOON!</td>\n",
       "    </tr>\n",
       "    <tr>\n",
       "      <th>4</th>\n",
       "      <td>not happy</td>\n",
       "      <td>@dannycastillo We want to trade with someone w...</td>\n",
       "    </tr>\n",
       "  </tbody>\n",
       "</table>\n",
       "</div>"
      ],
      "text/plain": [
       "   sentiment                                               Text\n",
       "0  not happy  @tiffanylue i know  i was listenin to bad habi...\n",
       "1  not happy  Layin n bed with a headache  ughhhh...waitin o...\n",
       "2  not happy                Funeral ceremony...gloomy friday...\n",
       "3      happy               wants to hang out with friends SOON!\n",
       "4  not happy  @dannycastillo We want to trade with someone w..."
      ]
     },
     "execution_count": 8,
     "metadata": {},
     "output_type": "execute_result"
    }
   ],
   "source": [
    "happyVsRest = pd.read_csv('combined_data.csv')\n",
    "\n",
    "happyVsRest['sentiment'] = np.where((happyVsRest.sentiment != 'happy'),'not happy', happyVsRest.sentiment)\n",
    "\n",
    "happyVsRest.head()"
   ]
  },
  {
   "cell_type": "code",
   "execution_count": 9,
   "id": "d0128b4d",
   "metadata": {},
   "outputs": [],
   "source": [
    "for i,s in enumerate(happyVsRest['sentiment']):\n",
    "    if s == 'not happy':\n",
    "        happyVsRest.loc[i,'sentiment'] = '0'\n",
    "    if s == 'happy':\n",
    "        happyVsRest.loc[i,'sentiment'] = '1'"
   ]
  },
  {
   "cell_type": "code",
   "execution_count": 10,
   "id": "5c55d1fe",
   "metadata": {},
   "outputs": [
    {
     "name": "stdout",
     "output_type": "stream",
     "text": [
      "Training time: 1835.984945s; Prediction time: 35.943700s\n",
      "not happy:  {'precision': 0.7950749829584185, 'recall': 0.9780922431865828, 'f1-score': 0.8771385598796766, 'support': 9540}\n",
      "happy:  {'precision': 0.6241007194244604, 'recall': 0.12609011627906977, 'f1-score': 0.2097944377267231, 'support': 2752}\n"
     ]
    }
   ],
   "source": [
    "#Non Happy vs Happy df\n",
    "import time\n",
    "hnh_train, hnh_test = train_test_split(happyVsRest, test_size=0.2, random_state=42)\n",
    "\n",
    "vectorizer = TfidfVectorizer(min_df = 5,\n",
    "                             max_df = 0.8,\n",
    "                             sublinear_tf = True,\n",
    "                             use_idf = True)\n",
    "train_vectors = vectorizer.fit_transform(hnh_train['Text'])\n",
    "test_vectors = vectorizer.transform(hnh_test['Text'])\n",
    "\n",
    "# Perform classification with SVM, kernel=linear\n",
    "classifier_linear = svm.SVC(kernel='linear', probability = True)\n",
    "t0 = time.time()\n",
    "classifier_linear.fit(train_vectors, hnh_train['sentiment'])\n",
    "t1 = time.time()\n",
    "prediction_linear = classifier_linear.predict(test_vectors)\n",
    "t2 = time.time()\n",
    "time_linear_train = t1-t0\n",
    "time_linear_predict = t2-t1\n",
    "\n",
    "# results\n",
    "print(\"Training time: %fs; Prediction time: %fs\" % (time_linear_train, time_linear_predict))\n",
    "report = classification_report(hnh_test['sentiment'], prediction_linear, output_dict=True)\n",
    "print('not happy: ', report['0'])\n",
    "print('happy: ', report['1'])"
   ]
  },
  {
   "cell_type": "code",
   "execution_count": 11,
   "id": "57aa843c",
   "metadata": {},
   "outputs": [
    {
     "data": {
      "text/plain": [
       "0    47951\n",
       "1    13508\n",
       "Name: sentiment, dtype: int64"
      ]
     },
     "execution_count": 11,
     "metadata": {},
     "output_type": "execute_result"
    }
   ],
   "source": [
    "#skew\n",
    "happyVsRest['sentiment'].value_counts()"
   ]
  },
  {
   "cell_type": "code",
   "execution_count": 12,
   "id": "0e192b8e",
   "metadata": {
    "scrolled": true
   },
   "outputs": [
    {
     "data": {
      "text/plain": [
       "0    38411\n",
       "1    10756\n",
       "Name: sentiment, dtype: int64"
      ]
     },
     "execution_count": 12,
     "metadata": {},
     "output_type": "execute_result"
    }
   ],
   "source": [
    "hnh_train['sentiment'].value_counts()"
   ]
  },
  {
   "cell_type": "code",
   "execution_count": 13,
   "id": "4a169039",
   "metadata": {},
   "outputs": [
    {
     "data": {
      "text/plain": [
       "0    9540\n",
       "1    2752\n",
       "Name: sentiment, dtype: int64"
      ]
     },
     "execution_count": 13,
     "metadata": {},
     "output_type": "execute_result"
    }
   ],
   "source": [
    "hnh_test['sentiment'].value_counts()"
   ]
  },
  {
   "cell_type": "code",
   "execution_count": 99,
   "id": "16d60735",
   "metadata": {},
   "outputs": [
    {
     "name": "stdout",
     "output_type": "stream",
     "text": [
      "(array([], dtype=int64),)\n"
     ]
    }
   ],
   "source": [
    "#import numpy as np\n",
    "\n",
    "classifier_linear.predict(test_vectors)\n",
    "\n",
    "result = np.where(arr == 1)\n",
    "print(result)"
   ]
  },
  {
   "cell_type": "code",
   "execution_count": 102,
   "id": "2229500b",
   "metadata": {},
   "outputs": [
    {
     "name": "stdout",
     "output_type": "stream",
     "text": [
      "(array([    8,    13,    59,    90,   136,   192,   193,   212,   234,\n",
      "         239,   248,   251,   268,   289,   350,   358,   365,   425,\n",
      "         442,   504,   509,   560,   576,   583,   648,   684,   700,\n",
      "         733,   799,   843,   927,   946,  1027,  1056,  1086,  1169,\n",
      "        1176,  1197,  1202,  1226,  1300,  1302,  1303,  1340,  1365,\n",
      "        1418,  1435,  1442,  1445,  1449,  1497,  1502,  1584,  1650,\n",
      "        1703,  1723,  1729,  1757,  1821,  1851,  1976,  2008,  2059,\n",
      "        2064,  2095,  2154,  2240,  2249,  2264,  2308,  2333,  2432,\n",
      "        2450,  2478,  2562,  2650,  2768,  2802,  2834,  2844,  2878,\n",
      "        2926,  2928,  2944,  2961,  3034,  3046,  3109,  3280,  3286,\n",
      "        3317,  3338,  3432,  3439,  3523,  3615,  3632,  3748,  3759,\n",
      "        3788,  3822,  3825,  3839,  3982,  4003,  4026,  4037,  4116,\n",
      "        4123,  4173,  4207,  4223,  4356,  4516,  4592,  4615,  4666,\n",
      "        4671,  4686,  4722,  4737,  4794,  4826,  4854,  4875,  4882,\n",
      "        4908,  4935,  4983,  4992,  4998,  5073,  5158,  5207,  5212,\n",
      "        5235,  5342,  5386,  5412,  5416,  5432,  5434,  5438,  5444,\n",
      "        5445,  5513,  5581,  5587,  5602,  5611,  5613,  5724,  5755,\n",
      "        5876,  5899,  5931,  5997,  6041,  6143,  6170,  6273,  6329,\n",
      "        6340,  6430,  6605,  6624,  6634,  6657,  6662,  6690,  6701,\n",
      "        6712,  6739,  6851,  6937,  6971,  6977,  6985,  7014,  7045,\n",
      "        7051,  7061,  7069,  7124,  7184,  7228,  7234,  7305,  7317,\n",
      "        7370,  7399,  7403,  7410,  7434,  7480,  7537,  7544,  7566,\n",
      "        7645,  7648,  7667,  7770,  7782,  7785,  7787,  7805,  7809,\n",
      "        7987,  8046,  8073,  8183,  8237,  8483,  8492,  8540,  8570,\n",
      "        8693,  8728,  8767,  8808,  8820,  8908,  9003,  9021,  9060,\n",
      "        9184,  9262,  9281,  9285,  9293,  9335,  9370,  9389,  9439,\n",
      "        9455,  9579,  9609,  9630,  9752,  9776,  9794,  9826,  9851,\n",
      "        9878,  9892,  9964, 10102, 10117, 10118, 10163, 10179, 10197,\n",
      "       10200, 10208, 10231, 10240, 10368, 10434, 10439, 10477, 10521,\n",
      "       10585, 10656, 10660, 10737, 10766, 10770, 10782, 10796, 10835,\n",
      "       10985, 11050, 11064, 11270, 11341, 11360, 11390, 11432, 11523,\n",
      "       11573, 11618, 11659, 11662, 11675, 11702, 11714, 11720, 11788,\n",
      "       11823, 11825, 11836, 11842, 11950, 12049, 12153, 12230, 12243,\n",
      "       12257, 12277]),)\n"
     ]
    }
   ],
   "source": [
    "arr = classifier_linear.predict(test_vectors)\n",
    "\n",
    "x = np.where(arr == '1')\n",
    "print(x)\n",
    "#'1' in arr"
   ]
  },
  {
   "cell_type": "code",
   "execution_count": 15,
   "id": "8f80bad6",
   "metadata": {
    "scrolled": true
   },
   "outputs": [
    {
     "data": {
      "text/plain": [
       "array([[0.82856456, 0.17143544],\n",
       "       [0.80560594, 0.19439406],\n",
       "       [0.88822456, 0.11177544],\n",
       "       ...,\n",
       "       [0.88360942, 0.11639058],\n",
       "       [0.83371015, 0.16628985],\n",
       "       [0.80368258, 0.19631742]])"
      ]
     },
     "execution_count": 15,
     "metadata": {},
     "output_type": "execute_result"
    }
   ],
   "source": [
    "classifier_linear.predict_proba(test_vectors)"
   ]
  },
  {
   "cell_type": "code",
   "execution_count": 116,
   "id": "b5f14d99",
   "metadata": {},
   "outputs": [
    {
     "data": {
      "text/html": [
       "<div>\n",
       "<style scoped>\n",
       "    .dataframe tbody tr th:only-of-type {\n",
       "        vertical-align: middle;\n",
       "    }\n",
       "\n",
       "    .dataframe tbody tr th {\n",
       "        vertical-align: top;\n",
       "    }\n",
       "\n",
       "    .dataframe thead th {\n",
       "        text-align: right;\n",
       "    }\n",
       "</style>\n",
       "<table border=\"1\" class=\"dataframe\">\n",
       "  <thead>\n",
       "    <tr style=\"text-align: right;\">\n",
       "      <th></th>\n",
       "      <th>sentiment</th>\n",
       "      <th>Text</th>\n",
       "    </tr>\n",
       "  </thead>\n",
       "  <tbody>\n",
       "    <tr>\n",
       "      <th>0</th>\n",
       "      <td>not fear</td>\n",
       "      <td>@tiffanylue i know  i was listenin to bad habi...</td>\n",
       "    </tr>\n",
       "    <tr>\n",
       "      <th>1</th>\n",
       "      <td>not fear</td>\n",
       "      <td>Layin n bed with a headache  ughhhh...waitin o...</td>\n",
       "    </tr>\n",
       "    <tr>\n",
       "      <th>2</th>\n",
       "      <td>not fear</td>\n",
       "      <td>Funeral ceremony...gloomy friday...</td>\n",
       "    </tr>\n",
       "    <tr>\n",
       "      <th>3</th>\n",
       "      <td>not fear</td>\n",
       "      <td>wants to hang out with friends SOON!</td>\n",
       "    </tr>\n",
       "    <tr>\n",
       "      <th>4</th>\n",
       "      <td>not fear</td>\n",
       "      <td>@dannycastillo We want to trade with someone w...</td>\n",
       "    </tr>\n",
       "  </tbody>\n",
       "</table>\n",
       "</div>"
      ],
      "text/plain": [
       "  sentiment                                               Text\n",
       "0  not fear  @tiffanylue i know  i was listenin to bad habi...\n",
       "1  not fear  Layin n bed with a headache  ughhhh...waitin o...\n",
       "2  not fear                Funeral ceremony...gloomy friday...\n",
       "3  not fear               wants to hang out with friends SOON!\n",
       "4  not fear  @dannycastillo We want to trade with someone w..."
      ]
     },
     "execution_count": 116,
     "metadata": {},
     "output_type": "execute_result"
    }
   ],
   "source": [
    "fearVsRest = pd.read_csv('combined_data.csv')\n",
    "\n",
    "fearVsRest['sentiment'] = np.where((fearVsRest.sentiment != 'fear'),'not fear', fearVsRest.sentiment)\n",
    "\n",
    "fearVsRest.head()"
   ]
  },
  {
   "cell_type": "code",
   "execution_count": 117,
   "id": "e872f6af",
   "metadata": {},
   "outputs": [],
   "source": [
    "for i,s in enumerate(fearVsRest['sentiment']):\n",
    "    if s == 'not fear':\n",
    "        fearVsRest.loc[i,'sentiment'] = '0'\n",
    "    if s == 'fear':\n",
    "        fearVsRest.loc[i,'sentiment'] = '1'"
   ]
  },
  {
   "cell_type": "code",
   "execution_count": 118,
   "id": "7c794e04",
   "metadata": {},
   "outputs": [
    {
     "ename": "KeyboardInterrupt",
     "evalue": "",
     "output_type": "error",
     "traceback": [
      "\u001b[0;31m---------------------------------------------------------------------------\u001b[0m",
      "\u001b[0;31mKeyboardInterrupt\u001b[0m                         Traceback (most recent call last)",
      "\u001b[0;32m<ipython-input-118-a33a5bc42afa>\u001b[0m in \u001b[0;36m<module>\u001b[0;34m\u001b[0m\n\u001b[1;32m     13\u001b[0m \u001b[0mclassifier_linear\u001b[0m \u001b[0;34m=\u001b[0m \u001b[0msvm\u001b[0m\u001b[0;34m.\u001b[0m\u001b[0mSVC\u001b[0m\u001b[0;34m(\u001b[0m\u001b[0mkernel\u001b[0m\u001b[0;34m=\u001b[0m\u001b[0;34m'linear'\u001b[0m\u001b[0;34m)\u001b[0m\u001b[0;34m\u001b[0m\u001b[0;34m\u001b[0m\u001b[0m\n\u001b[1;32m     14\u001b[0m \u001b[0mt0\u001b[0m \u001b[0;34m=\u001b[0m \u001b[0mtime\u001b[0m\u001b[0;34m.\u001b[0m\u001b[0mtime\u001b[0m\u001b[0;34m(\u001b[0m\u001b[0;34m)\u001b[0m\u001b[0;34m\u001b[0m\u001b[0;34m\u001b[0m\u001b[0m\n\u001b[0;32m---> 15\u001b[0;31m \u001b[0mclassifier_linear\u001b[0m\u001b[0;34m.\u001b[0m\u001b[0mfit\u001b[0m\u001b[0;34m(\u001b[0m\u001b[0mtrain_vectors\u001b[0m\u001b[0;34m,\u001b[0m \u001b[0mfnf_train\u001b[0m\u001b[0;34m[\u001b[0m\u001b[0;34m'sentiment'\u001b[0m\u001b[0;34m]\u001b[0m\u001b[0;34m)\u001b[0m\u001b[0;34m\u001b[0m\u001b[0;34m\u001b[0m\u001b[0m\n\u001b[0m\u001b[1;32m     16\u001b[0m \u001b[0mt1\u001b[0m \u001b[0;34m=\u001b[0m \u001b[0mtime\u001b[0m\u001b[0;34m.\u001b[0m\u001b[0mtime\u001b[0m\u001b[0;34m(\u001b[0m\u001b[0;34m)\u001b[0m\u001b[0;34m\u001b[0m\u001b[0;34m\u001b[0m\u001b[0m\n\u001b[1;32m     17\u001b[0m \u001b[0mprediction_linear\u001b[0m \u001b[0;34m=\u001b[0m \u001b[0mclassifier_linear\u001b[0m\u001b[0;34m.\u001b[0m\u001b[0mpredict\u001b[0m\u001b[0;34m(\u001b[0m\u001b[0mtest_vectors\u001b[0m\u001b[0;34m)\u001b[0m\u001b[0;34m\u001b[0m\u001b[0;34m\u001b[0m\u001b[0m\n",
      "\u001b[0;32m/opt/anaconda3/lib/python3.8/site-packages/sklearn/svm/_base.py\u001b[0m in \u001b[0;36mfit\u001b[0;34m(self, X, y, sample_weight)\u001b[0m\n\u001b[1;32m    224\u001b[0m \u001b[0;34m\u001b[0m\u001b[0m\n\u001b[1;32m    225\u001b[0m         \u001b[0mseed\u001b[0m \u001b[0;34m=\u001b[0m \u001b[0mrnd\u001b[0m\u001b[0;34m.\u001b[0m\u001b[0mrandint\u001b[0m\u001b[0;34m(\u001b[0m\u001b[0mnp\u001b[0m\u001b[0;34m.\u001b[0m\u001b[0miinfo\u001b[0m\u001b[0;34m(\u001b[0m\u001b[0;34m'i'\u001b[0m\u001b[0;34m)\u001b[0m\u001b[0;34m.\u001b[0m\u001b[0mmax\u001b[0m\u001b[0;34m)\u001b[0m\u001b[0;34m\u001b[0m\u001b[0;34m\u001b[0m\u001b[0m\n\u001b[0;32m--> 226\u001b[0;31m         \u001b[0mfit\u001b[0m\u001b[0;34m(\u001b[0m\u001b[0mX\u001b[0m\u001b[0;34m,\u001b[0m \u001b[0my\u001b[0m\u001b[0;34m,\u001b[0m \u001b[0msample_weight\u001b[0m\u001b[0;34m,\u001b[0m \u001b[0msolver_type\u001b[0m\u001b[0;34m,\u001b[0m \u001b[0mkernel\u001b[0m\u001b[0;34m,\u001b[0m \u001b[0mrandom_seed\u001b[0m\u001b[0;34m=\u001b[0m\u001b[0mseed\u001b[0m\u001b[0;34m)\u001b[0m\u001b[0;34m\u001b[0m\u001b[0;34m\u001b[0m\u001b[0m\n\u001b[0m\u001b[1;32m    227\u001b[0m         \u001b[0;31m# see comment on the other call to np.iinfo in this file\u001b[0m\u001b[0;34m\u001b[0m\u001b[0;34m\u001b[0m\u001b[0;34m\u001b[0m\u001b[0m\n\u001b[1;32m    228\u001b[0m \u001b[0;34m\u001b[0m\u001b[0m\n",
      "\u001b[0;32m/opt/anaconda3/lib/python3.8/site-packages/sklearn/svm/_base.py\u001b[0m in \u001b[0;36m_sparse_fit\u001b[0;34m(self, X, y, sample_weight, solver_type, kernel, random_seed)\u001b[0m\n\u001b[1;32m    299\u001b[0m             \u001b[0mself\u001b[0m\u001b[0;34m.\u001b[0m\u001b[0mintercept_\u001b[0m\u001b[0;34m,\u001b[0m \u001b[0mself\u001b[0m\u001b[0;34m.\u001b[0m\u001b[0m_n_support\u001b[0m\u001b[0;34m,\u001b[0m\u001b[0;31m \u001b[0m\u001b[0;31m\\\u001b[0m\u001b[0;34m\u001b[0m\u001b[0;34m\u001b[0m\u001b[0m\n\u001b[1;32m    300\u001b[0m             \u001b[0mself\u001b[0m\u001b[0;34m.\u001b[0m\u001b[0m_probA\u001b[0m\u001b[0;34m,\u001b[0m \u001b[0mself\u001b[0m\u001b[0;34m.\u001b[0m\u001b[0m_probB\u001b[0m\u001b[0;34m,\u001b[0m \u001b[0mself\u001b[0m\u001b[0;34m.\u001b[0m\u001b[0mfit_status_\u001b[0m \u001b[0;34m=\u001b[0m\u001b[0;31m \u001b[0m\u001b[0;31m\\\u001b[0m\u001b[0;34m\u001b[0m\u001b[0;34m\u001b[0m\u001b[0m\n\u001b[0;32m--> 301\u001b[0;31m             libsvm_sparse.libsvm_sparse_train(\n\u001b[0m\u001b[1;32m    302\u001b[0m                 \u001b[0mX\u001b[0m\u001b[0;34m.\u001b[0m\u001b[0mshape\u001b[0m\u001b[0;34m[\u001b[0m\u001b[0;36m1\u001b[0m\u001b[0;34m]\u001b[0m\u001b[0;34m,\u001b[0m \u001b[0mX\u001b[0m\u001b[0;34m.\u001b[0m\u001b[0mdata\u001b[0m\u001b[0;34m,\u001b[0m \u001b[0mX\u001b[0m\u001b[0;34m.\u001b[0m\u001b[0mindices\u001b[0m\u001b[0;34m,\u001b[0m \u001b[0mX\u001b[0m\u001b[0;34m.\u001b[0m\u001b[0mindptr\u001b[0m\u001b[0;34m,\u001b[0m \u001b[0my\u001b[0m\u001b[0;34m,\u001b[0m \u001b[0msolver_type\u001b[0m\u001b[0;34m,\u001b[0m\u001b[0;34m\u001b[0m\u001b[0;34m\u001b[0m\u001b[0m\n\u001b[1;32m    303\u001b[0m                 \u001b[0mkernel_type\u001b[0m\u001b[0;34m,\u001b[0m \u001b[0mself\u001b[0m\u001b[0;34m.\u001b[0m\u001b[0mdegree\u001b[0m\u001b[0;34m,\u001b[0m \u001b[0mself\u001b[0m\u001b[0;34m.\u001b[0m\u001b[0m_gamma\u001b[0m\u001b[0;34m,\u001b[0m \u001b[0mself\u001b[0m\u001b[0;34m.\u001b[0m\u001b[0mcoef0\u001b[0m\u001b[0;34m,\u001b[0m \u001b[0mself\u001b[0m\u001b[0;34m.\u001b[0m\u001b[0mtol\u001b[0m\u001b[0;34m,\u001b[0m\u001b[0;34m\u001b[0m\u001b[0;34m\u001b[0m\u001b[0m\n",
      "\u001b[0;32msklearn/svm/_libsvm_sparse.pyx\u001b[0m in \u001b[0;36msklearn.svm._libsvm_sparse.libsvm_sparse_train\u001b[0;34m()\u001b[0m\n",
      "\u001b[0;32m/opt/anaconda3/lib/python3.8/site-packages/scipy/sparse/compressed.py\u001b[0m in \u001b[0;36m__init__\u001b[0;34m(self, arg1, shape, dtype, copy)\u001b[0m\n\u001b[1;32m     25\u001b[0m     \u001b[0;34m\"\"\"base matrix class for compressed row- and column-oriented matrices\"\"\"\u001b[0m\u001b[0;34m\u001b[0m\u001b[0;34m\u001b[0m\u001b[0m\n\u001b[1;32m     26\u001b[0m \u001b[0;34m\u001b[0m\u001b[0m\n\u001b[0;32m---> 27\u001b[0;31m     \u001b[0;32mdef\u001b[0m \u001b[0m__init__\u001b[0m\u001b[0;34m(\u001b[0m\u001b[0mself\u001b[0m\u001b[0;34m,\u001b[0m \u001b[0marg1\u001b[0m\u001b[0;34m,\u001b[0m \u001b[0mshape\u001b[0m\u001b[0;34m=\u001b[0m\u001b[0;32mNone\u001b[0m\u001b[0;34m,\u001b[0m \u001b[0mdtype\u001b[0m\u001b[0;34m=\u001b[0m\u001b[0;32mNone\u001b[0m\u001b[0;34m,\u001b[0m \u001b[0mcopy\u001b[0m\u001b[0;34m=\u001b[0m\u001b[0;32mFalse\u001b[0m\u001b[0;34m)\u001b[0m\u001b[0;34m:\u001b[0m\u001b[0;34m\u001b[0m\u001b[0;34m\u001b[0m\u001b[0m\n\u001b[0m\u001b[1;32m     28\u001b[0m         \u001b[0m_data_matrix\u001b[0m\u001b[0;34m.\u001b[0m\u001b[0m__init__\u001b[0m\u001b[0;34m(\u001b[0m\u001b[0mself\u001b[0m\u001b[0;34m)\u001b[0m\u001b[0;34m\u001b[0m\u001b[0;34m\u001b[0m\u001b[0m\n\u001b[1;32m     29\u001b[0m \u001b[0;34m\u001b[0m\u001b[0m\n",
      "\u001b[0;31mKeyboardInterrupt\u001b[0m: "
     ]
    }
   ],
   "source": [
    "#Non Fear vs Fear df\n",
    "import time\n",
    "fnf_train, fnf_test = train_test_split(fearVsRest, test_size=0.2, random_state=42)\n",
    "\n",
    "vectorizer = TfidfVectorizer(min_df = 5,\n",
    "                             max_df = 0.8,\n",
    "                             sublinear_tf = True,\n",
    "                             use_idf = True)\n",
    "train_vectors = vectorizer.fit_transform(fnf_train['Text'])\n",
    "test_vectors = vectorizer.transform(fnf_test['Text'])\n",
    "\n",
    "# Perform classification with SVM, kernel=linear\n",
    "classifier_linear = svm.SVC(kernel='linear')\n",
    "t0 = time.time()\n",
    "classifier_linear.fit(train_vectors, fnf_train['sentiment'])\n",
    "t1 = time.time()\n",
    "prediction_linear = classifier_linear.predict(test_vectors)\n",
    "t2 = time.time()\n",
    "time_linear_train = t1-t0\n",
    "time_linear_predict = t2-t1\n",
    "\n",
    "# results\n",
    "print(\"Training time: %fs; Prediction time: %fs\" % (time_linear_train, time_linear_predict))\n",
    "report = classification_report(fnf_test['sentiment'], prediction_linear, output_dict=True)\n",
    "print('not fear: ', report['0'])\n",
    "print('fear: ', report['1'])"
   ]
  },
  {
   "cell_type": "code",
   "execution_count": 19,
   "id": "4c931b06",
   "metadata": {},
   "outputs": [
    {
     "data": {
      "text/plain": [
       "0    45218\n",
       "1    16241\n",
       "Name: sentiment, dtype: int64"
      ]
     },
     "execution_count": 19,
     "metadata": {},
     "output_type": "execute_result"
    }
   ],
   "source": [
    "#skew\n",
    "fearVsRest['sentiment'].value_counts()"
   ]
  },
  {
   "cell_type": "code",
   "execution_count": 20,
   "id": "5916dfa4",
   "metadata": {},
   "outputs": [
    {
     "data": {
      "text/plain": [
       "0    36196\n",
       "1    12971\n",
       "Name: sentiment, dtype: int64"
      ]
     },
     "execution_count": 20,
     "metadata": {},
     "output_type": "execute_result"
    }
   ],
   "source": [
    "#skew\n",
    "fnf_train['sentiment'].value_counts()"
   ]
  },
  {
   "cell_type": "code",
   "execution_count": 21,
   "id": "3f9be970",
   "metadata": {},
   "outputs": [
    {
     "data": {
      "text/plain": [
       "0    9022\n",
       "1    3270\n",
       "Name: sentiment, dtype: int64"
      ]
     },
     "execution_count": 21,
     "metadata": {},
     "output_type": "execute_result"
    }
   ],
   "source": [
    "#skew\n",
    "fnf_test['sentiment'].value_counts()"
   ]
  },
  {
   "cell_type": "code",
   "execution_count": 22,
   "id": "690477c5",
   "metadata": {},
   "outputs": [
    {
     "data": {
      "text/plain": [
       "array(['0', '0', '0', ..., '0', '0', '0'], dtype=object)"
      ]
     },
     "execution_count": 22,
     "metadata": {},
     "output_type": "execute_result"
    }
   ],
   "source": [
    "classifier_linear.predict(test_vectors)"
   ]
  },
  {
   "cell_type": "code",
   "execution_count": 97,
   "id": "fe3bc003",
   "metadata": {},
   "outputs": [
    {
     "data": {
      "text/plain": [
       "True"
      ]
     },
     "execution_count": 97,
     "metadata": {},
     "output_type": "execute_result"
    }
   ],
   "source": [
    "arr = classifier_linear.predict(test_vectors)\n",
    "\n",
    "'1' in arr"
   ]
  },
  {
   "cell_type": "code",
   "execution_count": 23,
   "id": "526725f6",
   "metadata": {},
   "outputs": [
    {
     "data": {
      "text/plain": [
       "array([[0.75428952, 0.24571048],\n",
       "       [0.76354219, 0.23645781],\n",
       "       [0.73119597, 0.26880403],\n",
       "       ...,\n",
       "       [0.75522863, 0.24477137],\n",
       "       [0.73453884, 0.26546116],\n",
       "       [0.79897007, 0.20102993]])"
      ]
     },
     "execution_count": 23,
     "metadata": {},
     "output_type": "execute_result"
    }
   ],
   "source": [
    "classifier_linear.predict_proba(test_vectors)"
   ]
  },
  {
   "cell_type": "code",
   "execution_count": 30,
   "id": "d673d8ed",
   "metadata": {},
   "outputs": [
    {
     "data": {
      "text/html": [
       "<div>\n",
       "<style scoped>\n",
       "    .dataframe tbody tr th:only-of-type {\n",
       "        vertical-align: middle;\n",
       "    }\n",
       "\n",
       "    .dataframe tbody tr th {\n",
       "        vertical-align: top;\n",
       "    }\n",
       "\n",
       "    .dataframe thead th {\n",
       "        text-align: right;\n",
       "    }\n",
       "</style>\n",
       "<table border=\"1\" class=\"dataframe\">\n",
       "  <thead>\n",
       "    <tr style=\"text-align: right;\">\n",
       "      <th></th>\n",
       "      <th>sentiment</th>\n",
       "      <th>Text</th>\n",
       "    </tr>\n",
       "  </thead>\n",
       "  <tbody>\n",
       "    <tr>\n",
       "      <th>0</th>\n",
       "      <td>sadness</td>\n",
       "      <td>@tiffanylue i know  i was listenin to bad habi...</td>\n",
       "    </tr>\n",
       "    <tr>\n",
       "      <th>1</th>\n",
       "      <td>sadness</td>\n",
       "      <td>Layin n bed with a headache  ughhhh...waitin o...</td>\n",
       "    </tr>\n",
       "    <tr>\n",
       "      <th>2</th>\n",
       "      <td>sadness</td>\n",
       "      <td>Funeral ceremony...gloomy friday...</td>\n",
       "    </tr>\n",
       "    <tr>\n",
       "      <th>3</th>\n",
       "      <td>not sadness</td>\n",
       "      <td>wants to hang out with friends SOON!</td>\n",
       "    </tr>\n",
       "    <tr>\n",
       "      <th>4</th>\n",
       "      <td>not sadness</td>\n",
       "      <td>@dannycastillo We want to trade with someone w...</td>\n",
       "    </tr>\n",
       "  </tbody>\n",
       "</table>\n",
       "</div>"
      ],
      "text/plain": [
       "     sentiment                                               Text\n",
       "0      sadness  @tiffanylue i know  i was listenin to bad habi...\n",
       "1      sadness  Layin n bed with a headache  ughhhh...waitin o...\n",
       "2      sadness                Funeral ceremony...gloomy friday...\n",
       "3  not sadness               wants to hang out with friends SOON!\n",
       "4  not sadness  @dannycastillo We want to trade with someone w..."
      ]
     },
     "execution_count": 30,
     "metadata": {},
     "output_type": "execute_result"
    }
   ],
   "source": [
    "sadVsRest = pd.read_csv('combined_data.csv')\n",
    "\n",
    "sadVsRest['sentiment'] = np.where((sadVsRest.sentiment != 'sadness'),'not sadness', sadVsRest.sentiment)\n",
    "\n",
    "sadVsRest.head()"
   ]
  },
  {
   "cell_type": "code",
   "execution_count": 33,
   "id": "9570fbe7",
   "metadata": {},
   "outputs": [],
   "source": [
    "for i,s in enumerate(sadVsRest['sentiment']):\n",
    "    if s == 'not sadness':\n",
    "        sadVsRest.loc[i,'sentiment'] = '0'\n",
    "    if s == 'sadness':\n",
    "        sadVsRest.loc[i,'sentiment'] = '1'"
   ]
  },
  {
   "cell_type": "code",
   "execution_count": 37,
   "id": "c7e70ec2",
   "metadata": {},
   "outputs": [
    {
     "name": "stdout",
     "output_type": "stream",
     "text": [
      "Training time: 2042.213552s; Prediction time: 25.836786s\n",
      "not sadness:  {'precision': 0.8498290669557241, 'recall': 0.9852102464958917, 'f1-score': 0.9125257408899633, 'support': 10345}\n",
      "sadness:  {'precision': 0.4882943143812709, 'recall': 0.07498715973292244, 'f1-score': 0.13000890471950133, 'support': 1947}\n"
     ]
    }
   ],
   "source": [
    "#Non Sadness vs Sadness df\n",
    "sns_train, sns_test = train_test_split(sadVsRest, test_size=0.2, random_state=42)\n",
    "\n",
    "vectorizer = TfidfVectorizer(min_df = 5,\n",
    "                             max_df = 0.8,\n",
    "                             sublinear_tf = True,\n",
    "                             use_idf = True)\n",
    "train_vectors = vectorizer.fit_transform(sns_train['Text'])\n",
    "test_vectors = vectorizer.transform(sns_test['Text'])\n",
    "\n",
    "# Perform classification with SVM, kernel=linear\n",
    "classifier_linear = svm.SVC(kernel='linear', probability = True)\n",
    "t0 = time.time()\n",
    "classifier_linear.fit(train_vectors, sns_train['sentiment'])\n",
    "t1 = time.time()\n",
    "prediction_linear = classifier_linear.predict(test_vectors)\n",
    "t2 = time.time()\n",
    "time_linear_train = t1-t0\n",
    "time_linear_predict = t2-t1\n",
    "\n",
    "# results\n",
    "print(\"Training time: %fs; Prediction time: %fs\" % (time_linear_train, time_linear_predict))\n",
    "report = classification_report(sns_test['sentiment'], prediction_linear, output_dict=True)\n",
    "print('not sadness: ', report['0'])\n",
    "print('sadness: ', report['1'])"
   ]
  },
  {
   "cell_type": "code",
   "execution_count": 38,
   "id": "22a2706e",
   "metadata": {},
   "outputs": [
    {
     "data": {
      "text/plain": [
       "0    51663\n",
       "1     9796\n",
       "Name: sentiment, dtype: int64"
      ]
     },
     "execution_count": 38,
     "metadata": {},
     "output_type": "execute_result"
    }
   ],
   "source": [
    "sadVsRest['sentiment'].value_counts()"
   ]
  },
  {
   "cell_type": "code",
   "execution_count": 39,
   "id": "023e4315",
   "metadata": {},
   "outputs": [
    {
     "data": {
      "text/plain": [
       "0    41318\n",
       "1     7849\n",
       "Name: sentiment, dtype: int64"
      ]
     },
     "execution_count": 39,
     "metadata": {},
     "output_type": "execute_result"
    }
   ],
   "source": [
    "sns_train['sentiment'].value_counts()"
   ]
  },
  {
   "cell_type": "code",
   "execution_count": 40,
   "id": "91223d98",
   "metadata": {},
   "outputs": [
    {
     "data": {
      "text/plain": [
       "0    10345\n",
       "1     1947\n",
       "Name: sentiment, dtype: int64"
      ]
     },
     "execution_count": 40,
     "metadata": {},
     "output_type": "execute_result"
    }
   ],
   "source": [
    "sns_test['sentiment'].value_counts()"
   ]
  },
  {
   "cell_type": "code",
   "execution_count": 41,
   "id": "337baf16",
   "metadata": {},
   "outputs": [
    {
     "data": {
      "text/plain": [
       "array(['0', '0', '0', ..., '0', '0', '0'], dtype=object)"
      ]
     },
     "execution_count": 41,
     "metadata": {},
     "output_type": "execute_result"
    }
   ],
   "source": [
    "classifier_linear.predict(test_vectors)"
   ]
  },
  {
   "cell_type": "code",
   "execution_count": 42,
   "id": "655a4b03",
   "metadata": {},
   "outputs": [
    {
     "data": {
      "text/plain": [
       "array([[0.48290831, 0.51709169],\n",
       "       [0.84903321, 0.15096679],\n",
       "       [0.87472023, 0.12527977],\n",
       "       ...,\n",
       "       [0.83823718, 0.16176282],\n",
       "       [0.90115009, 0.09884991],\n",
       "       [0.89518101, 0.10481899]])"
      ]
     },
     "execution_count": 42,
     "metadata": {},
     "output_type": "execute_result"
    }
   ],
   "source": [
    "classifier_linear.predict_proba(test_vectors)"
   ]
  },
  {
   "cell_type": "code",
   "execution_count": 31,
   "id": "ebf70a0c",
   "metadata": {},
   "outputs": [
    {
     "data": {
      "text/html": [
       "<div>\n",
       "<style scoped>\n",
       "    .dataframe tbody tr th:only-of-type {\n",
       "        vertical-align: middle;\n",
       "    }\n",
       "\n",
       "    .dataframe tbody tr th {\n",
       "        vertical-align: top;\n",
       "    }\n",
       "\n",
       "    .dataframe thead th {\n",
       "        text-align: right;\n",
       "    }\n",
       "</style>\n",
       "<table border=\"1\" class=\"dataframe\">\n",
       "  <thead>\n",
       "    <tr style=\"text-align: right;\">\n",
       "      <th></th>\n",
       "      <th>sentiment</th>\n",
       "      <th>Text</th>\n",
       "    </tr>\n",
       "  </thead>\n",
       "  <tbody>\n",
       "    <tr>\n",
       "      <th>0</th>\n",
       "      <td>not anger</td>\n",
       "      <td>@tiffanylue i know  i was listenin to bad habi...</td>\n",
       "    </tr>\n",
       "    <tr>\n",
       "      <th>1</th>\n",
       "      <td>not anger</td>\n",
       "      <td>Layin n bed with a headache  ughhhh...waitin o...</td>\n",
       "    </tr>\n",
       "    <tr>\n",
       "      <th>2</th>\n",
       "      <td>not anger</td>\n",
       "      <td>Funeral ceremony...gloomy friday...</td>\n",
       "    </tr>\n",
       "    <tr>\n",
       "      <th>3</th>\n",
       "      <td>not anger</td>\n",
       "      <td>wants to hang out with friends SOON!</td>\n",
       "    </tr>\n",
       "    <tr>\n",
       "      <th>4</th>\n",
       "      <td>not anger</td>\n",
       "      <td>@dannycastillo We want to trade with someone w...</td>\n",
       "    </tr>\n",
       "  </tbody>\n",
       "</table>\n",
       "</div>"
      ],
      "text/plain": [
       "   sentiment                                               Text\n",
       "0  not anger  @tiffanylue i know  i was listenin to bad habi...\n",
       "1  not anger  Layin n bed with a headache  ughhhh...waitin o...\n",
       "2  not anger                Funeral ceremony...gloomy friday...\n",
       "3  not anger               wants to hang out with friends SOON!\n",
       "4  not anger  @dannycastillo We want to trade with someone w..."
      ]
     },
     "execution_count": 31,
     "metadata": {},
     "output_type": "execute_result"
    }
   ],
   "source": [
    "angerVsRest = pd.read_csv('combined_data.csv')\n",
    "\n",
    "angerVsRest['sentiment'] = np.where((angerVsRest.sentiment != 'anger'),'not anger', angerVsRest.sentiment)\n",
    "\n",
    "angerVsRest.head()"
   ]
  },
  {
   "cell_type": "code",
   "execution_count": 32,
   "id": "6f609c12",
   "metadata": {},
   "outputs": [],
   "source": [
    "for i,s in enumerate(angerVsRest['sentiment']):\n",
    "    if s == 'not anger':\n",
    "        angerVsRest.loc[i,'sentiment'] = '0'\n",
    "    if s == 'anger':\n",
    "        angerVsRest.loc[i,'sentiment'] = '1'"
   ]
  },
  {
   "cell_type": "code",
   "execution_count": null,
   "id": "7f173395",
   "metadata": {},
   "outputs": [],
   "source": [
    "ana_train, ana_test = train_test_split(angerVsRest, test_size=0.2, random_state=42)\n",
    "\n",
    "vectorizer = TfidfVectorizer(min_df = 5,\n",
    "                             max_df = 0.8,\n",
    "                             sublinear_tf = True,\n",
    "                             use_idf = True)\n",
    "train_vectors = vectorizer.fit_transform(ana_train['Text'])\n",
    "test_vectors = vectorizer.transform(ana_test['Text'])\n",
    "\n",
    "# Perform classification with SVM, kernel=linear\n",
    "classifier_linear = svm.SVC(kernel='linear', probability = True)\n",
    "t0 = time.time()\n",
    "classifier_linear.fit(train_vectors, ana_train['sentiment'])\n",
    "t1 = time.time()\n",
    "prediction_linear = classifier_linear.predict(test_vectors)\n",
    "t2 = time.time()\n",
    "time_linear_train = t1-t0\n",
    "time_linear_predict = t2-t1\n",
    "\n",
    "# results\n",
    "print(\"Training time: %fs; Prediction time: %fs\" % (time_linear_train, time_linear_predict))\n",
    "report = classification_report(ana_test['sentiment'], prediction_linear, output_dict=True)\n",
    "\n",
    "print('not anger: ', report['0'])\n",
    "print('anger: ', report['1'])"
   ]
  },
  {
   "cell_type": "code",
   "execution_count": null,
   "id": "8ad93d5e",
   "metadata": {},
   "outputs": [],
   "source": [
    "angerVsRest['sentiment'].value_counts()"
   ]
  },
  {
   "cell_type": "code",
   "execution_count": null,
   "id": "229b3ad0",
   "metadata": {},
   "outputs": [],
   "source": [
    "ana_train['sentiment'].value_counts()"
   ]
  },
  {
   "cell_type": "code",
   "execution_count": null,
   "id": "91047f16",
   "metadata": {},
   "outputs": [],
   "source": [
    "ana_test['sentiment'].value_counts()"
   ]
  },
  {
   "cell_type": "code",
   "execution_count": null,
   "id": "e41ba7e2",
   "metadata": {},
   "outputs": [],
   "source": [
    "classifier_linear.predict(test_vectors)"
   ]
  },
  {
   "cell_type": "code",
   "execution_count": null,
   "id": "f35085cc",
   "metadata": {},
   "outputs": [],
   "source": [
    "classifier_linear.predict_proba(test_vectors)"
   ]
  },
  {
   "cell_type": "code",
   "execution_count": 120,
   "id": "bf87c808",
   "metadata": {},
   "outputs": [
    {
     "name": "stdout",
     "output_type": "stream",
     "text": [
      "Training time: 1284.515022s; Prediction time: 84.628109s\n",
      "happy:  {'precision': 0.6423629590207557, 'recall': 0.6108299595141701, 'f1-score': 0.6261997405966278, 'support': 1976}\n",
      "fear:  {'precision': 0.6288156288156288, 'recall': 0.5093966369930761, 'f1-score': 0.5628415300546448, 'support': 2022}\n",
      "sadness:  {'precision': 0.7088422081094284, 'recall': 0.7095354523227384, 'f1-score': 0.7091886608015642, 'support': 2045}\n",
      "neutral:  {'precision': 0.6074912212251268, 'recall': 0.7769461077844312, 'f1-score': 0.68184804028903, 'support': 2004}\n",
      "love:  {'precision': 0.8369292523833417, 'recall': 0.8310911808669657, 'f1-score': 0.834, 'support': 2007}\n",
      "anger:  {'precision': 0.86302780638517, 'recall': 0.8405215646940822, 'f1-score': 0.8516260162601627, 'support': 1994}\n",
      "surprise:  {'precision': 0.9102630221763796, 'recall': 0.889616935483871, 'f1-score': 0.899821565128728, 'support': 1984}\n",
      "relief:  {'precision': 0.9549774887443722, 'recall': 0.970020325203252, 'f1-score': 0.9624401310814217, 'support': 1968}\n"
     ]
    }
   ],
   "source": [
    "for i,s in enumerate(balanced_df['sentiment']):\n",
    "    if s == 'happy':\n",
    "        balanced_df.loc[i,'sentiment'] = '1'\n",
    "    if s == 'fear':\n",
    "        balanced_df.loc[i,'sentiment'] = '2'\n",
    "    if s == 'sadness':\n",
    "        balanced_df.loc[i,'sentiment'] = '3'\n",
    "    if s == 'neutral':\n",
    "        balanced_df.loc[i,'sentiment'] = '4'\n",
    "    if s == 'love':\n",
    "        balanced_df.loc[i,'sentiment'] = '5'\n",
    "    if s == 'anger':\n",
    "        balanced_df.loc[i,'sentiment'] = '6'\n",
    "    if s == 'surprise':\n",
    "        balanced_df.loc[i,'sentiment'] = '7'\n",
    "    if s == 'relief':\n",
    "        balanced_df.loc[i,'sentiment'] = '8'\n",
    "\n",
    "#1.4.1.1. Multi-class classification\n",
    "#SVC and NuSVC implement the “one-versus-one” approach for multi-class classification. \n",
    "#In total, n_classes * (n_classes - 1) / 2 classifiers are constructed and each one trains data from two classes. \n",
    "#To provide a consistent interface with other classifiers, the decision_function_shape option allows to \n",
    "#monotonically transform the results of the “one-versus-one” classifiers to a “one-vs-rest” decision \n",
    "#function of shape (n_samples, n_classes).\n",
    "\n",
    "#We have 8 Classes ==> 8*(8-1)/2 = 28 classifiers.\n",
    "\n",
    "X_train, X_test = train_test_split(balanced_df, test_size=0.2, random_state=42)\n",
    "\n",
    "vectorizer = TfidfVectorizer(min_df = 5,\n",
    "                             max_df = 0.8,\n",
    "                             sublinear_tf = True,\n",
    "                             use_idf = True)\n",
    "train_vectors_ovo = vectorizer.fit_transform(X_train['Text'])\n",
    "test_vectors_ovo = vectorizer.transform(X_test['Text'])\n",
    "\n",
    "classifier_ovo = svm.SVC(decision_function_shape='ovo')\n",
    "t0 = time.time()\n",
    "classifier_ovo.fit(train_vectors_ovo, X_train['sentiment'])\n",
    "t1 = time.time()\n",
    "#svm.SVC(decision_function_shape='ovo')\n",
    "prediction_ovo = classifier_ovo.predict(test_vectors_ovo)\n",
    "t2 = time.time()\n",
    "time_ovo_train = t1-t0\n",
    "time_ovo_predict = t2-t1\n",
    "\n",
    "print(\"Training time: %fs; Prediction time: %fs\" % (time_ovo_train, time_ovo_predict))\n",
    "report = classification_report(X_test['sentiment'], prediction_ovo, output_dict=True)\n",
    "print('happy: ', report['1'])\n",
    "print('fear: ', report['2'])\n",
    "print('sadness: ', report['3'])\n",
    "print('neutral: ', report['4'])\n",
    "print('love: ', report['5'])\n",
    "print('anger: ', report['6'])\n",
    "print('surprise: ', report['7'])\n",
    "print('relief: ', report['8'])\n",
    "\n",
    "\n",
    "#dec = classifier_multi.decision_function([[1]])\n",
    "#dec.shape[1] # 4 classes: 4*3/2 = 6\n",
    "\n",
    "#clf.decision_function_shape = \"ovr\"\n",
    "#dec = clf.decision_function([[1]])\n",
    "#dec.shape[1] # 4 classes"
   ]
  },
  {
   "cell_type": "code",
   "execution_count": 36,
   "id": "b8e2a17e",
   "metadata": {},
   "outputs": [
    {
     "data": {
      "text/plain": [
       "array(['3', '1', '6', ..., '2', '2', '4'], dtype=object)"
      ]
     },
     "execution_count": 36,
     "metadata": {},
     "output_type": "execute_result"
    }
   ],
   "source": [
    "classifier_ovo.predict(test_vectors_ovo)"
   ]
  },
  {
   "cell_type": "code",
   "execution_count": 121,
   "id": "8aacb0ba",
   "metadata": {},
   "outputs": [
    {
     "data": {
      "image/png": "[encoded data removed]",
      "text/plain": [
       "<Figure size 432x288 with 2 Axes>"
      ]
     },
     "metadata": {
      "needs_background": "light"
     },
     "output_type": "display_data"
    }
   ],
   "source": [
    "from sklearn.metrics import plot_confusion_matrix\n",
    "from mlxtend.plotting import plot_decision_regions\n",
    "matrix = plot_confusion_matrix(classifier_ovo, test_vectors_ovo, X_test['sentiment'],\n",
    "                                 cmap=plt.cm.Blues,\n",
    "                                 normalize='true')\n",
    "plt.title('Confusion matrix for OvO classifier')\n",
    "plt.show(matrix)\n",
    "plt.show()"
   ]
  },
  {
   "cell_type": "code",
   "execution_count": 96,
   "id": "732419b4",
   "metadata": {},
   "outputs": [
    {
     "ename": "TypeError",
     "evalue": "list indices must be integers or slices, not tuple",
     "output_type": "error",
     "traceback": [
      "\u001b[0;31m---------------------------------------------------------------------------\u001b[0m",
      "\u001b[0;31mTypeError\u001b[0m                                 Traceback (most recent call last)",
      "\u001b[0;32m<ipython-input-96-7ddde3874b1b>\u001b[0m in \u001b[0;36m<module>\u001b[0;34m\u001b[0m\n\u001b[1;32m      9\u001b[0m \u001b[0mb\u001b[0m \u001b[0;34m=\u001b[0m \u001b[0;34m[\u001b[0m\u001b[0mfloat\u001b[0m\u001b[0;34m(\u001b[0m\u001b[0mx\u001b[0m\u001b[0;34m)\u001b[0m \u001b[0;32mfor\u001b[0m \u001b[0mx\u001b[0m \u001b[0;32min\u001b[0m \u001b[0mnp_arr\u001b[0m\u001b[0;34m[\u001b[0m\u001b[0;34m:\u001b[0m\u001b[0;34m,\u001b[0m\u001b[0;36m0\u001b[0m\u001b[0;34m]\u001b[0m\u001b[0;34m]\u001b[0m\u001b[0;34m\u001b[0m\u001b[0;34m\u001b[0m\u001b[0m\n\u001b[1;32m     10\u001b[0m \u001b[0;34m\u001b[0m\u001b[0m\n\u001b[0;32m---> 11\u001b[0;31m \u001b[0mplot_decision_regions\u001b[0m\u001b[0;34m(\u001b[0m\u001b[0mnp_arr\u001b[0m\u001b[0;34m,\u001b[0m \u001b[0mb\u001b[0m\u001b[0;34m[\u001b[0m\u001b[0;34m:\u001b[0m\u001b[0;34m,\u001b[0m\u001b[0;36m0\u001b[0m\u001b[0;34m]\u001b[0m\u001b[0;34m,\u001b[0m \u001b[0mclf\u001b[0m\u001b[0;34m=\u001b[0m\u001b[0mclassifier_ovo\u001b[0m\u001b[0;34m,\u001b[0m \u001b[0mlegend\u001b[0m\u001b[0;34m=\u001b[0m\u001b[0;36m2\u001b[0m\u001b[0;34m)\u001b[0m\u001b[0;34m\u001b[0m\u001b[0;34m\u001b[0m\u001b[0m\n\u001b[0m\u001b[1;32m     12\u001b[0m \u001b[0mplt\u001b[0m\u001b[0;34m.\u001b[0m\u001b[0mshow\u001b[0m\u001b[0;34m(\u001b[0m\u001b[0;34m)\u001b[0m\u001b[0;34m\u001b[0m\u001b[0;34m\u001b[0m\u001b[0m\n",
      "\u001b[0;31mTypeError\u001b[0m: list indices must be integers or slices, not tuple"
     ]
    }
   ],
   "source": [
    "# Plot decision boundary\n",
    "import numpy as np\n",
    "import pandas as pd\n",
    "\n",
    "np_arr = X_test.values\n",
    "\n",
    "length = len(np_arr)\n",
    "\n",
    "b = [float(x) for x in np_arr[:,0]]\n",
    "\n",
    "plot_decision_regions(np_arr, b[:,0], clf=classifier_ovo, legend=2)\n",
    "plt.show()"
   ]
  },
  {
   "cell_type": "code",
   "execution_count": 95,
   "id": "fd24af21",
   "metadata": {},
   "outputs": [
    {
     "name": "stdout",
     "output_type": "stream",
     "text": [
      "2.0\n"
     ]
    }
   ],
   "source": [
    "np_arr = X_test.values\n",
    "\n",
    "length = len(np_arr)\n",
    "\n",
    "b = [float(x) for x in np_arr[:,0]]\n",
    "print(b[0])"
   ]
  },
  {
   "cell_type": "code",
   "execution_count": null,
   "id": "8f3b9819",
   "metadata": {},
   "outputs": [],
   "source": []
  }
 ],
 "metadata": {
  "hide_input": false,
  "kernelspec": {
   "display_name": "Python 3",
   "language": "python",
   "name": "python3"
  },
  "language_info": {
   "codemirror_mode": {
    "name": "ipython",
    "version": 3
   },
   "file_extension": ".py",
   "mimetype": "text/x-python",
   "name": "python",
   "nbconvert_exporter": "python",
   "pygments_lexer": "ipython3",
   "version": "3.8.8"
  }
 },
 "nbformat": 4,
 "nbformat_minor": 5
}
