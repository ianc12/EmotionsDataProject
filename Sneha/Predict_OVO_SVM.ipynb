{
 "cells": [
  {
   "cell_type": "code",
   "execution_count": 1,
   "id": "41d0e190",
   "metadata": {},
   "outputs": [],
   "source": [
    "import pandas as pd\n",
    "import numpy as np\n",
    "import matplotlib.pyplot as plt"
   ]
  },
  {
   "cell_type": "code",
   "execution_count": 2,
   "id": "2458a7dd",
   "metadata": {},
   "outputs": [
    {
     "data": {
      "text/html": [
       "<div>\n",
       "<style scoped>\n",
       "    .dataframe tbody tr th:only-of-type {\n",
       "        vertical-align: middle;\n",
       "    }\n",
       "\n",
       "    .dataframe tbody tr th {\n",
       "        vertical-align: top;\n",
       "    }\n",
       "\n",
       "    .dataframe thead th {\n",
       "        text-align: right;\n",
       "    }\n",
       "</style>\n",
       "<table border=\"1\" class=\"dataframe\">\n",
       "  <thead>\n",
       "    <tr style=\"text-align: right;\">\n",
       "      <th></th>\n",
       "      <th>sentiment</th>\n",
       "      <th>Text</th>\n",
       "    </tr>\n",
       "  </thead>\n",
       "  <tbody>\n",
       "    <tr>\n",
       "      <th>0</th>\n",
       "      <td>sadness</td>\n",
       "      <td>@tiffanylue i know  i was listenin to bad habi...</td>\n",
       "    </tr>\n",
       "    <tr>\n",
       "      <th>1</th>\n",
       "      <td>sadness</td>\n",
       "      <td>Layin n bed with a headache  ughhhh...waitin o...</td>\n",
       "    </tr>\n",
       "    <tr>\n",
       "      <th>2</th>\n",
       "      <td>sadness</td>\n",
       "      <td>Funeral ceremony...gloomy friday...</td>\n",
       "    </tr>\n",
       "    <tr>\n",
       "      <th>3</th>\n",
       "      <td>happy</td>\n",
       "      <td>wants to hang out with friends SOON!</td>\n",
       "    </tr>\n",
       "    <tr>\n",
       "      <th>4</th>\n",
       "      <td>neutral</td>\n",
       "      <td>@dannycastillo We want to trade with someone w...</td>\n",
       "    </tr>\n",
       "  </tbody>\n",
       "</table>\n",
       "</div>"
      ],
      "text/plain": [
       "  sentiment                                               Text\n",
       "0   sadness  @tiffanylue i know  i was listenin to bad habi...\n",
       "1   sadness  Layin n bed with a headache  ughhhh...waitin o...\n",
       "2   sadness                Funeral ceremony...gloomy friday...\n",
       "3     happy               wants to hang out with friends SOON!\n",
       "4   neutral  @dannycastillo We want to trade with someone w..."
      ]
     },
     "execution_count": 2,
     "metadata": {},
     "output_type": "execute_result"
    }
   ],
   "source": [
    "df = pd.read_csv('combined_data.csv')\n",
    "df.head()"
   ]
  },
  {
   "cell_type": "code",
   "execution_count": 3,
   "id": "554fe7f4",
   "metadata": {},
   "outputs": [],
   "source": [
    "import nltk\n",
    "from nltk.corpus import stopwords\n",
    "from nltk.tokenize import word_tokenize\n",
    "import re\n",
    "\n",
    "stopWords = stopwords.words(\"english\")\n",
    "\n",
    "def cleanText(text):\n",
    "    \n",
    "    output = \"\"\n",
    "    \n",
    "    \n",
    "    for word in text.split():\n",
    "        cleanWord = re.sub(\"[^a-zA-Z]\",  # Search for all non-letters\n",
    "                          \" \",          # Replace all non-letters with spaces\n",
    "                          str(word))\n",
    "        if cleanWord in stopWords:\n",
    "            pass\n",
    "        else:\n",
    "            output = output + \" \" + cleanWord\n",
    "    return output"
   ]
  },
  {
   "cell_type": "code",
   "execution_count": 4,
   "id": "b43b32d7",
   "metadata": {},
   "outputs": [],
   "source": [
    "df.Text = df.Text.apply(lambda x: cleanText(x))"
   ]
  },
  {
   "cell_type": "code",
   "execution_count": 5,
   "id": "b59d014d",
   "metadata": {},
   "outputs": [],
   "source": [
    "from sklearn.model_selection import train_test_split\n",
    "\n",
    "#overall train and test\n",
    "X_train, X_test = train_test_split(df, test_size=0.2, random_state=42)"
   ]
  },
  {
   "cell_type": "code",
   "execution_count": 6,
   "id": "ef965e49",
   "metadata": {},
   "outputs": [],
   "source": [
    "#fear df\n",
    "fearDf = df[df['sentiment'] == 'fear']\n",
    "\n",
    "#happy df \n",
    "happyDf = df[df['sentiment'] == 'happy']\n",
    "\n",
    "\n",
    "#sadness df\n",
    "sadDf = df[df['sentiment'] == 'sadness']\n",
    "\n",
    "\n",
    "#anger df\n",
    "angerDf = df[df['sentiment'] == 'anger']\n"
   ]
  },
  {
   "cell_type": "code",
   "execution_count": 7,
   "id": "540f9721",
   "metadata": {},
   "outputs": [],
   "source": [
    "from sklearn import svm\n",
    "from sklearn.feature_extraction.text import TfidfVectorizer\n",
    "from sklearn.metrics import classification_report\n",
    "from sklearn.tree import DecisionTreeClassifier\n",
    "\n",
    "clf = svm.SVC(kernel='linear')"
   ]
  },
  {
   "cell_type": "code",
   "execution_count": 8,
   "id": "2b8017a4",
   "metadata": {},
   "outputs": [
    {
     "data": {
      "text/html": [
       "<div>\n",
       "<style scoped>\n",
       "    .dataframe tbody tr th:only-of-type {\n",
       "        vertical-align: middle;\n",
       "    }\n",
       "\n",
       "    .dataframe tbody tr th {\n",
       "        vertical-align: top;\n",
       "    }\n",
       "\n",
       "    .dataframe thead th {\n",
       "        text-align: right;\n",
       "    }\n",
       "</style>\n",
       "<table border=\"1\" class=\"dataframe\">\n",
       "  <thead>\n",
       "    <tr style=\"text-align: right;\">\n",
       "      <th></th>\n",
       "      <th>sentiment</th>\n",
       "      <th>Text</th>\n",
       "    </tr>\n",
       "  </thead>\n",
       "  <tbody>\n",
       "    <tr>\n",
       "      <th>0</th>\n",
       "      <td>not happy</td>\n",
       "      <td>@tiffanylue i know  i was listenin to bad habi...</td>\n",
       "    </tr>\n",
       "    <tr>\n",
       "      <th>1</th>\n",
       "      <td>not happy</td>\n",
       "      <td>Layin n bed with a headache  ughhhh...waitin o...</td>\n",
       "    </tr>\n",
       "    <tr>\n",
       "      <th>2</th>\n",
       "      <td>not happy</td>\n",
       "      <td>Funeral ceremony...gloomy friday...</td>\n",
       "    </tr>\n",
       "    <tr>\n",
       "      <th>3</th>\n",
       "      <td>happy</td>\n",
       "      <td>wants to hang out with friends SOON!</td>\n",
       "    </tr>\n",
       "    <tr>\n",
       "      <th>4</th>\n",
       "      <td>not happy</td>\n",
       "      <td>@dannycastillo We want to trade with someone w...</td>\n",
       "    </tr>\n",
       "  </tbody>\n",
       "</table>\n",
       "</div>"
      ],
      "text/plain": [
       "   sentiment                                               Text\n",
       "0  not happy  @tiffanylue i know  i was listenin to bad habi...\n",
       "1  not happy  Layin n bed with a headache  ughhhh...waitin o...\n",
       "2  not happy                Funeral ceremony...gloomy friday...\n",
       "3      happy               wants to hang out with friends SOON!\n",
       "4  not happy  @dannycastillo We want to trade with someone w..."
      ]
     },
     "execution_count": 8,
     "metadata": {},
     "output_type": "execute_result"
    }
   ],
   "source": [
    "happyVsRest = pd.read_csv('combined_data.csv')\n",
    "\n",
    "happyVsRest['sentiment'] = np.where((happyVsRest.sentiment != 'happy'),'not happy', happyVsRest.sentiment)\n",
    "\n",
    "happyVsRest.head()"
   ]
  },
  {
   "cell_type": "code",
   "execution_count": 9,
   "id": "d0128b4d",
   "metadata": {},
   "outputs": [],
   "source": [
    "for i,s in enumerate(happyVsRest['sentiment']):\n",
    "    if s == 'not happy':\n",
    "        happyVsRest.loc[i,'sentiment'] = '0'\n",
    "    if s == 'happy':\n",
    "        happyVsRest.loc[i,'sentiment'] = '1'"
   ]
  },
  {
   "cell_type": "code",
   "execution_count": 10,
   "id": "5c55d1fe",
   "metadata": {},
   "outputs": [
    {
     "name": "stdout",
     "output_type": "stream",
     "text": [
      "Training time: 1835.984945s; Prediction time: 35.943700s\n",
      "not happy:  {'precision': 0.7950749829584185, 'recall': 0.9780922431865828, 'f1-score': 0.8771385598796766, 'support': 9540}\n",
      "happy:  {'precision': 0.6241007194244604, 'recall': 0.12609011627906977, 'f1-score': 0.2097944377267231, 'support': 2752}\n"
     ]
    }
   ],
   "source": [
    "#Non Happy vs Happy df\n",
    "import time\n",
    "hnh_train, hnh_test = train_test_split(happyVsRest, test_size=0.2, random_state=42)\n",
    "\n",
    "vectorizer = TfidfVectorizer(min_df = 5,\n",
    "                             max_df = 0.8,\n",
    "                             sublinear_tf = True,\n",
    "                             use_idf = True)\n",
    "train_vectors = vectorizer.fit_transform(hnh_train['Text'])\n",
    "test_vectors = vectorizer.transform(hnh_test['Text'])\n",
    "\n",
    "# Perform classification with SVM, kernel=linear\n",
    "classifier_linear = svm.SVC(kernel='linear', probability = True)\n",
    "t0 = time.time()\n",
    "classifier_linear.fit(train_vectors, hnh_train['sentiment'])\n",
    "t1 = time.time()\n",
    "prediction_linear = classifier_linear.predict(test_vectors)\n",
    "t2 = time.time()\n",
    "time_linear_train = t1-t0\n",
    "time_linear_predict = t2-t1\n",
    "\n",
    "# results\n",
    "print(\"Training time: %fs; Prediction time: %fs\" % (time_linear_train, time_linear_predict))\n",
    "report = classification_report(hnh_test['sentiment'], prediction_linear, output_dict=True)\n",
    "print('not happy: ', report['0'])\n",
    "print('happy: ', report['1'])"
   ]
  },
  {
   "cell_type": "code",
   "execution_count": 11,
   "id": "57aa843c",
   "metadata": {},
   "outputs": [
    {
     "data": {
      "text/plain": [
       "0    47951\n",
       "1    13508\n",
       "Name: sentiment, dtype: int64"
      ]
     },
     "execution_count": 11,
     "metadata": {},
     "output_type": "execute_result"
    }
   ],
   "source": [
    "#skew\n",
    "happyVsRest['sentiment'].value_counts()"
   ]
  },
  {
   "cell_type": "code",
   "execution_count": 12,
   "id": "0e192b8e",
   "metadata": {
    "scrolled": true
   },
   "outputs": [
    {
     "data": {
      "text/plain": [
       "0    38411\n",
       "1    10756\n",
       "Name: sentiment, dtype: int64"
      ]
     },
     "execution_count": 12,
     "metadata": {},
     "output_type": "execute_result"
    }
   ],
   "source": [
    "hnh_train['sentiment'].value_counts()"
   ]
  },
  {
   "cell_type": "code",
   "execution_count": 13,
   "id": "4a169039",
   "metadata": {},
   "outputs": [
    {
     "data": {
      "text/plain": [
       "0    9540\n",
       "1    2752\n",
       "Name: sentiment, dtype: int64"
      ]
     },
     "execution_count": 13,
     "metadata": {},
     "output_type": "execute_result"
    }
   ],
   "source": [
    "hnh_test['sentiment'].value_counts()"
   ]
  },
  {
   "cell_type": "code",
   "execution_count": 14,
   "id": "16d60735",
   "metadata": {},
   "outputs": [
    {
     "data": {
      "text/plain": [
       "array(['0', '0', '0', ..., '0', '0', '0'], dtype=object)"
      ]
     },
     "execution_count": 14,
     "metadata": {},
     "output_type": "execute_result"
    }
   ],
   "source": [
    "#import numpy as np\n",
    "\n",
    "classifier_linear.predict(test_vectors)\n",
    "\n",
    "#result = np.where(arr == 1)\n",
    "#print(result)"
   ]
  },
  {
   "cell_type": "code",
   "execution_count": 15,
   "id": "8f80bad6",
   "metadata": {
    "scrolled": true
   },
   "outputs": [
    {
     "data": {
      "text/plain": [
       "array([[0.82856456, 0.17143544],\n",
       "       [0.80560594, 0.19439406],\n",
       "       [0.88822456, 0.11177544],\n",
       "       ...,\n",
       "       [0.88360942, 0.11639058],\n",
       "       [0.83371015, 0.16628985],\n",
       "       [0.80368258, 0.19631742]])"
      ]
     },
     "execution_count": 15,
     "metadata": {},
     "output_type": "execute_result"
    }
   ],
   "source": [
    "classifier_linear.predict_proba(test_vectors)"
   ]
  },
  {
   "cell_type": "code",
   "execution_count": 16,
   "id": "b5f14d99",
   "metadata": {},
   "outputs": [
    {
     "data": {
      "text/html": [
       "<div>\n",
       "<style scoped>\n",
       "    .dataframe tbody tr th:only-of-type {\n",
       "        vertical-align: middle;\n",
       "    }\n",
       "\n",
       "    .dataframe tbody tr th {\n",
       "        vertical-align: top;\n",
       "    }\n",
       "\n",
       "    .dataframe thead th {\n",
       "        text-align: right;\n",
       "    }\n",
       "</style>\n",
       "<table border=\"1\" class=\"dataframe\">\n",
       "  <thead>\n",
       "    <tr style=\"text-align: right;\">\n",
       "      <th></th>\n",
       "      <th>sentiment</th>\n",
       "      <th>Text</th>\n",
       "    </tr>\n",
       "  </thead>\n",
       "  <tbody>\n",
       "    <tr>\n",
       "      <th>0</th>\n",
       "      <td>not fear</td>\n",
       "      <td>@tiffanylue i know  i was listenin to bad habi...</td>\n",
       "    </tr>\n",
       "    <tr>\n",
       "      <th>1</th>\n",
       "      <td>not fear</td>\n",
       "      <td>Layin n bed with a headache  ughhhh...waitin o...</td>\n",
       "    </tr>\n",
       "    <tr>\n",
       "      <th>2</th>\n",
       "      <td>not fear</td>\n",
       "      <td>Funeral ceremony...gloomy friday...</td>\n",
       "    </tr>\n",
       "    <tr>\n",
       "      <th>3</th>\n",
       "      <td>not fear</td>\n",
       "      <td>wants to hang out with friends SOON!</td>\n",
       "    </tr>\n",
       "    <tr>\n",
       "      <th>4</th>\n",
       "      <td>not fear</td>\n",
       "      <td>@dannycastillo We want to trade with someone w...</td>\n",
       "    </tr>\n",
       "  </tbody>\n",
       "</table>\n",
       "</div>"
      ],
      "text/plain": [
       "  sentiment                                               Text\n",
       "0  not fear  @tiffanylue i know  i was listenin to bad habi...\n",
       "1  not fear  Layin n bed with a headache  ughhhh...waitin o...\n",
       "2  not fear                Funeral ceremony...gloomy friday...\n",
       "3  not fear               wants to hang out with friends SOON!\n",
       "4  not fear  @dannycastillo We want to trade with someone w..."
      ]
     },
     "execution_count": 16,
     "metadata": {},
     "output_type": "execute_result"
    }
   ],
   "source": [
    "fearVsRest = pd.read_csv('combined_data.csv')\n",
    "\n",
    "fearVsRest['sentiment'] = np.where((fearVsRest.sentiment != 'fear'),'not fear', fearVsRest.sentiment)\n",
    "\n",
    "fearVsRest.head()"
   ]
  },
  {
   "cell_type": "code",
   "execution_count": 17,
   "id": "e872f6af",
   "metadata": {},
   "outputs": [],
   "source": [
    "for i,s in enumerate(fearVsRest['sentiment']):\n",
    "    if s == 'not fear':\n",
    "        fearVsRest.loc[i,'sentiment'] = '0'\n",
    "    if s == 'fear':\n",
    "        fearVsRest.loc[i,'sentiment'] = '1'"
   ]
  },
  {
   "cell_type": "code",
   "execution_count": 18,
   "id": "7c794e04",
   "metadata": {},
   "outputs": [
    {
     "name": "stdout",
     "output_type": "stream",
     "text": [
      "Training time: 2836.219104s; Prediction time: 37.601819s\n",
      "not fear:  {'precision': 0.7567336468576314, 'recall': 0.9809354910219463, 'f1-score': 0.8543708065839647, 'support': 9022}\n",
      "fear:  {'precision': 0.711892797319933, 'recall': 0.12996941896024464, 'f1-score': 0.21980863718644944, 'support': 3270}\n"
     ]
    }
   ],
   "source": [
    "#Non Fear vs Fear df\n",
    "import time\n",
    "fnf_train, fnf_test = train_test_split(fearVsRest, test_size=0.2, random_state=42)\n",
    "\n",
    "vectorizer = TfidfVectorizer(min_df = 5,\n",
    "                             max_df = 0.8,\n",
    "                             sublinear_tf = True,\n",
    "                             use_idf = True)\n",
    "train_vectors = vectorizer.fit_transform(fnf_train['Text'])\n",
    "test_vectors = vectorizer.transform(fnf_test['Text'])\n",
    "\n",
    "# Perform classification with SVM, kernel=linear\n",
    "classifier_linear = svm.SVC(kernel='linear', probability = True)\n",
    "t0 = time.time()\n",
    "classifier_linear.fit(train_vectors, fnf_train['sentiment'])\n",
    "t1 = time.time()\n",
    "prediction_linear = classifier_linear.predict(test_vectors)\n",
    "t2 = time.time()\n",
    "time_linear_train = t1-t0\n",
    "time_linear_predict = t2-t1\n",
    "\n",
    "# results\n",
    "print(\"Training time: %fs; Prediction time: %fs\" % (time_linear_train, time_linear_predict))\n",
    "report = classification_report(fnf_test['sentiment'], prediction_linear, output_dict=True)\n",
    "print('not fear: ', report['0'])\n",
    "print('fear: ', report['1'])"
   ]
  },
  {
   "cell_type": "code",
   "execution_count": 19,
   "id": "4c931b06",
   "metadata": {},
   "outputs": [
    {
     "data": {
      "text/plain": [
       "0    45218\n",
       "1    16241\n",
       "Name: sentiment, dtype: int64"
      ]
     },
     "execution_count": 19,
     "metadata": {},
     "output_type": "execute_result"
    }
   ],
   "source": [
    "#skew\n",
    "fearVsRest['sentiment'].value_counts()"
   ]
  },
  {
   "cell_type": "code",
   "execution_count": 20,
   "id": "5916dfa4",
   "metadata": {},
   "outputs": [
    {
     "data": {
      "text/plain": [
       "0    36196\n",
       "1    12971\n",
       "Name: sentiment, dtype: int64"
      ]
     },
     "execution_count": 20,
     "metadata": {},
     "output_type": "execute_result"
    }
   ],
   "source": [
    "#skew\n",
    "fnf_train['sentiment'].value_counts()"
   ]
  },
  {
   "cell_type": "code",
   "execution_count": 21,
   "id": "3f9be970",
   "metadata": {},
   "outputs": [
    {
     "data": {
      "text/plain": [
       "0    9022\n",
       "1    3270\n",
       "Name: sentiment, dtype: int64"
      ]
     },
     "execution_count": 21,
     "metadata": {},
     "output_type": "execute_result"
    }
   ],
   "source": [
    "#skew\n",
    "fnf_test['sentiment'].value_counts()"
   ]
  },
  {
   "cell_type": "code",
   "execution_count": 22,
   "id": "690477c5",
   "metadata": {},
   "outputs": [
    {
     "data": {
      "text/plain": [
       "array(['0', '0', '0', ..., '0', '0', '0'], dtype=object)"
      ]
     },
     "execution_count": 22,
     "metadata": {},
     "output_type": "execute_result"
    }
   ],
   "source": [
    "classifier_linear.predict(test_vectors)"
   ]
  },
  {
   "cell_type": "code",
   "execution_count": 23,
   "id": "526725f6",
   "metadata": {},
   "outputs": [
    {
     "data": {
      "text/plain": [
       "array([[0.75428952, 0.24571048],\n",
       "       [0.76354219, 0.23645781],\n",
       "       [0.73119597, 0.26880403],\n",
       "       ...,\n",
       "       [0.75522863, 0.24477137],\n",
       "       [0.73453884, 0.26546116],\n",
       "       [0.79897007, 0.20102993]])"
      ]
     },
     "execution_count": 23,
     "metadata": {},
     "output_type": "execute_result"
    }
   ],
   "source": [
    "classifier_linear.predict_proba(test_vectors)"
   ]
  },
  {
   "cell_type": "code",
   "execution_count": 30,
   "id": "1ccc379d",
   "metadata": {},
   "outputs": [
    {
     "data": {
      "text/html": [
       "<div>\n",
       "<style scoped>\n",
       "    .dataframe tbody tr th:only-of-type {\n",
       "        vertical-align: middle;\n",
       "    }\n",
       "\n",
       "    .dataframe tbody tr th {\n",
       "        vertical-align: top;\n",
       "    }\n",
       "\n",
       "    .dataframe thead th {\n",
       "        text-align: right;\n",
       "    }\n",
       "</style>\n",
       "<table border=\"1\" class=\"dataframe\">\n",
       "  <thead>\n",
       "    <tr style=\"text-align: right;\">\n",
       "      <th></th>\n",
       "      <th>sentiment</th>\n",
       "      <th>Text</th>\n",
       "    </tr>\n",
       "  </thead>\n",
       "  <tbody>\n",
       "    <tr>\n",
       "      <th>0</th>\n",
       "      <td>sadness</td>\n",
       "      <td>@tiffanylue i know  i was listenin to bad habi...</td>\n",
       "    </tr>\n",
       "    <tr>\n",
       "      <th>1</th>\n",
       "      <td>sadness</td>\n",
       "      <td>Layin n bed with a headache  ughhhh...waitin o...</td>\n",
       "    </tr>\n",
       "    <tr>\n",
       "      <th>2</th>\n",
       "      <td>sadness</td>\n",
       "      <td>Funeral ceremony...gloomy friday...</td>\n",
       "    </tr>\n",
       "    <tr>\n",
       "      <th>3</th>\n",
       "      <td>not sadness</td>\n",
       "      <td>wants to hang out with friends SOON!</td>\n",
       "    </tr>\n",
       "    <tr>\n",
       "      <th>4</th>\n",
       "      <td>not sadness</td>\n",
       "      <td>@dannycastillo We want to trade with someone w...</td>\n",
       "    </tr>\n",
       "  </tbody>\n",
       "</table>\n",
       "</div>"
      ],
      "text/plain": [
       "     sentiment                                               Text\n",
       "0      sadness  @tiffanylue i know  i was listenin to bad habi...\n",
       "1      sadness  Layin n bed with a headache  ughhhh...waitin o...\n",
       "2      sadness                Funeral ceremony...gloomy friday...\n",
       "3  not sadness               wants to hang out with friends SOON!\n",
       "4  not sadness  @dannycastillo We want to trade with someone w..."
      ]
     },
     "execution_count": 30,
     "metadata": {},
     "output_type": "execute_result"
    }
   ],
   "source": [
    "sadVsRest = pd.read_csv('combined_data.csv')\n",
    "\n",
    "sadVsRest['sentiment'] = np.where((sadVsRest.sentiment != 'sadness'),'not sadness', sadVsRest.sentiment)\n",
    "\n",
    "sadVsRest.head()"
   ]
  },
  {
   "cell_type": "code",
   "execution_count": 33,
   "id": "881bcebc",
   "metadata": {},
   "outputs": [],
   "source": [
    "for i,s in enumerate(sadVsRest['sentiment']):\n",
    "    if s == 'not sadness':\n",
    "        sadVsRest.loc[i,'sentiment'] = '0'\n",
    "    if s == 'sadness':\n",
    "        sadVsRest.loc[i,'sentiment'] = '1'"
   ]
  },
  {
   "cell_type": "code",
   "execution_count": 37,
   "id": "c7e70ec2",
   "metadata": {},
   "outputs": [
    {
     "name": "stdout",
     "output_type": "stream",
     "text": [
      "Training time: 2042.213552s; Prediction time: 25.836786s\n",
      "not sadness:  {'precision': 0.8498290669557241, 'recall': 0.9852102464958917, 'f1-score': 0.9125257408899633, 'support': 10345}\n",
      "sadness:  {'precision': 0.4882943143812709, 'recall': 0.07498715973292244, 'f1-score': 0.13000890471950133, 'support': 1947}\n"
     ]
    }
   ],
   "source": [
    "#Non Sadness vs Sadness df\n",
    "sns_train, sns_test = train_test_split(sadVsRest, test_size=0.2, random_state=42)\n",
    "\n",
    "vectorizer = TfidfVectorizer(min_df = 5,\n",
    "                             max_df = 0.8,\n",
    "                             sublinear_tf = True,\n",
    "                             use_idf = True)\n",
    "train_vectors = vectorizer.fit_transform(sns_train['Text'])\n",
    "test_vectors = vectorizer.transform(sns_test['Text'])\n",
    "\n",
    "# Perform classification with SVM, kernel=linear\n",
    "classifier_linear = svm.SVC(kernel='linear', probability = True)\n",
    "t0 = time.time()\n",
    "classifier_linear.fit(train_vectors, sns_train['sentiment'])\n",
    "t1 = time.time()\n",
    "prediction_linear = classifier_linear.predict(test_vectors)\n",
    "t2 = time.time()\n",
    "time_linear_train = t1-t0\n",
    "time_linear_predict = t2-t1\n",
    "\n",
    "# results\n",
    "print(\"Training time: %fs; Prediction time: %fs\" % (time_linear_train, time_linear_predict))\n",
    "report = classification_report(sns_test['sentiment'], prediction_linear, output_dict=True)\n",
    "print('not sadness: ', report['0'])\n",
    "print('sadness: ', report['1'])"
   ]
  },
  {
   "cell_type": "code",
   "execution_count": 38,
   "id": "22a2706e",
   "metadata": {},
   "outputs": [
    {
     "data": {
      "text/plain": [
       "0    51663\n",
       "1     9796\n",
       "Name: sentiment, dtype: int64"
      ]
     },
     "execution_count": 38,
     "metadata": {},
     "output_type": "execute_result"
    }
   ],
   "source": [
    "sadVsRest['sentiment'].value_counts()"
   ]
  },
  {
   "cell_type": "code",
   "execution_count": 39,
   "id": "023e4315",
   "metadata": {},
   "outputs": [
    {
     "data": {
      "text/plain": [
       "0    41318\n",
       "1     7849\n",
       "Name: sentiment, dtype: int64"
      ]
     },
     "execution_count": 39,
     "metadata": {},
     "output_type": "execute_result"
    }
   ],
   "source": [
    "sns_train['sentiment'].value_counts()"
   ]
  },
  {
   "cell_type": "code",
   "execution_count": 40,
   "id": "91223d98",
   "metadata": {},
   "outputs": [
    {
     "data": {
      "text/plain": [
       "0    10345\n",
       "1     1947\n",
       "Name: sentiment, dtype: int64"
      ]
     },
     "execution_count": 40,
     "metadata": {},
     "output_type": "execute_result"
    }
   ],
   "source": [
    "sns_test['sentiment'].value_counts()"
   ]
  },
  {
   "cell_type": "code",
   "execution_count": 41,
   "id": "337baf16",
   "metadata": {},
   "outputs": [
    {
     "data": {
      "text/plain": [
       "array(['0', '0', '0', ..., '0', '0', '0'], dtype=object)"
      ]
     },
     "execution_count": 41,
     "metadata": {},
     "output_type": "execute_result"
    }
   ],
   "source": [
    "classifier_linear.predict(test_vectors)"
   ]
  },
  {
   "cell_type": "code",
   "execution_count": 42,
   "id": "655a4b03",
   "metadata": {},
   "outputs": [
    {
     "data": {
      "text/plain": [
       "array([[0.48290831, 0.51709169],\n",
       "       [0.84903321, 0.15096679],\n",
       "       [0.87472023, 0.12527977],\n",
       "       ...,\n",
       "       [0.83823718, 0.16176282],\n",
       "       [0.90115009, 0.09884991],\n",
       "       [0.89518101, 0.10481899]])"
      ]
     },
     "execution_count": 42,
     "metadata": {},
     "output_type": "execute_result"
    }
   ],
   "source": [
    "classifier_linear.predict_proba(test_vectors)"
   ]
  },
  {
   "cell_type": "code",
   "execution_count": 31,
   "id": "8f48a8f1",
   "metadata": {},
   "outputs": [
    {
     "data": {
      "text/html": [
       "<div>\n",
       "<style scoped>\n",
       "    .dataframe tbody tr th:only-of-type {\n",
       "        vertical-align: middle;\n",
       "    }\n",
       "\n",
       "    .dataframe tbody tr th {\n",
       "        vertical-align: top;\n",
       "    }\n",
       "\n",
       "    .dataframe thead th {\n",
       "        text-align: right;\n",
       "    }\n",
       "</style>\n",
       "<table border=\"1\" class=\"dataframe\">\n",
       "  <thead>\n",
       "    <tr style=\"text-align: right;\">\n",
       "      <th></th>\n",
       "      <th>sentiment</th>\n",
       "      <th>Text</th>\n",
       "    </tr>\n",
       "  </thead>\n",
       "  <tbody>\n",
       "    <tr>\n",
       "      <th>0</th>\n",
       "      <td>not anger</td>\n",
       "      <td>@tiffanylue i know  i was listenin to bad habi...</td>\n",
       "    </tr>\n",
       "    <tr>\n",
       "      <th>1</th>\n",
       "      <td>not anger</td>\n",
       "      <td>Layin n bed with a headache  ughhhh...waitin o...</td>\n",
       "    </tr>\n",
       "    <tr>\n",
       "      <th>2</th>\n",
       "      <td>not anger</td>\n",
       "      <td>Funeral ceremony...gloomy friday...</td>\n",
       "    </tr>\n",
       "    <tr>\n",
       "      <th>3</th>\n",
       "      <td>not anger</td>\n",
       "      <td>wants to hang out with friends SOON!</td>\n",
       "    </tr>\n",
       "    <tr>\n",
       "      <th>4</th>\n",
       "      <td>not anger</td>\n",
       "      <td>@dannycastillo We want to trade with someone w...</td>\n",
       "    </tr>\n",
       "  </tbody>\n",
       "</table>\n",
       "</div>"
      ],
      "text/plain": [
       "   sentiment                                               Text\n",
       "0  not anger  @tiffanylue i know  i was listenin to bad habi...\n",
       "1  not anger  Layin n bed with a headache  ughhhh...waitin o...\n",
       "2  not anger                Funeral ceremony...gloomy friday...\n",
       "3  not anger               wants to hang out with friends SOON!\n",
       "4  not anger  @dannycastillo We want to trade with someone w..."
      ]
     },
     "execution_count": 31,
     "metadata": {},
     "output_type": "execute_result"
    }
   ],
   "source": [
    "angerVsRest = pd.read_csv('combined_data.csv')\n",
    "\n",
    "angerVsRest['sentiment'] = np.where((angerVsRest.sentiment != 'anger'),'not anger', angerVsRest.sentiment)\n",
    "\n",
    "angerVsRest.head()"
   ]
  },
  {
   "cell_type": "code",
   "execution_count": 32,
   "id": "37f75802",
   "metadata": {},
   "outputs": [],
   "source": [
    "for i,s in enumerate(angerVsRest['sentiment']):\n",
    "    if s == 'not anger':\n",
    "        angerVsRest.loc[i,'sentiment'] = '0'\n",
    "    if s == 'anger':\n",
    "        angerVsRest.loc[i,'sentiment'] = '1'"
   ]
  },
  {
   "cell_type": "code",
   "execution_count": null,
   "id": "7f173395",
   "metadata": {},
   "outputs": [],
   "source": [
    "ana_train, ana_test = train_test_split(angerVsRest, test_size=0.2, random_state=42)\n",
    "\n",
    "vectorizer = TfidfVectorizer(min_df = 5,\n",
    "                             max_df = 0.8,\n",
    "                             sublinear_tf = True,\n",
    "                             use_idf = True)\n",
    "train_vectors = vectorizer.fit_transform(ana_train['Text'])\n",
    "test_vectors = vectorizer.transform(ana_test['Text'])\n",
    "\n",
    "# Perform classification with SVM, kernel=linear\n",
    "classifier_linear = svm.SVC(kernel='linear', probability = True)\n",
    "t0 = time.time()\n",
    "classifier_linear.fit(train_vectors, ana_train['sentiment'])\n",
    "t1 = time.time()\n",
    "prediction_linear = classifier_linear.predict(test_vectors)\n",
    "t2 = time.time()\n",
    "time_linear_train = t1-t0\n",
    "time_linear_predict = t2-t1\n",
    "\n",
    "# results\n",
    "print(\"Training time: %fs; Prediction time: %fs\" % (time_linear_train, time_linear_predict))\n",
    "report = classification_report(ana_test['sentiment'], prediction_linear, output_dict=True)\n",
    "\n",
    "print('not anger: ', report['0'])\n",
    "print('anger: ', report['1'])"
   ]
  },
  {
   "cell_type": "code",
   "execution_count": null,
   "id": "8ad93d5e",
   "metadata": {},
   "outputs": [],
   "source": [
    "angerVsRest['sentiment'].value_counts()"
   ]
  },
  {
   "cell_type": "code",
   "execution_count": null,
   "id": "229b3ad0",
   "metadata": {},
   "outputs": [],
   "source": [
    "ana_train['sentiment'].value_counts()"
   ]
  },
  {
   "cell_type": "code",
   "execution_count": null,
   "id": "91047f16",
   "metadata": {},
   "outputs": [],
   "source": [
    "ana_test['sentiment'].value_counts()"
   ]
  },
  {
   "cell_type": "code",
   "execution_count": null,
   "id": "e41ba7e2",
   "metadata": {},
   "outputs": [],
   "source": [
    "classifier_linear.predict(test_vectors)"
   ]
  },
  {
   "cell_type": "code",
   "execution_count": null,
   "id": "f35085cc",
   "metadata": {},
   "outputs": [],
   "source": [
    "classifier_linear.predict_proba(test_vectors)"
   ]
  },
  {
   "cell_type": "code",
   "execution_count": 34,
   "id": "bf87c808",
   "metadata": {},
   "outputs": [
    {
     "name": "stdout",
     "output_type": "stream",
     "text": [
      "Training time: 874.402996s; Prediction time: 58.871242s\n",
      "happy:  {'precision': 0.4421117628897808, 'recall': 0.5203488372093024, 'f1-score': 0.4780504089467535, 'support': 2752}\n",
      "fear:  {'precision': 0.3843401389181225, 'recall': 0.5584097859327217, 'f1-score': 0.45530482483480866, 'support': 3270}\n",
      "sadness:  {'precision': 0.4574290484140234, 'recall': 0.2814586543400103, 'f1-score': 0.34848966613672494, 'support': 1947}\n",
      "neutral:  {'precision': 0.3615794143744454, 'recall': 0.46359499431171786, 'f1-score': 0.40628115653040875, 'support': 1758}\n",
      "love:  {'precision': 0.532608695652174, 'recall': 0.3049792531120332, 'f1-score': 0.3878627968337731, 'support': 964}\n",
      "anger:  {'precision': 0.5269230769230769, 'recall': 0.17407878017789072, 'f1-score': 0.2617000955109838, 'support': 787}\n",
      "surprise:  {'precision': 0.3333333333333333, 'recall': 0.019762845849802372, 'f1-score': 0.0373134328358209, 'support': 506}\n",
      "relief:  {'precision': 0.25, 'recall': 0.006493506493506494, 'f1-score': 0.012658227848101267, 'support': 308}\n"
     ]
    }
   ],
   "source": [
    "for i,s in enumerate(df['sentiment']):\n",
    "    if s == 'happy':\n",
    "        df.loc[i,'sentiment'] = '1'\n",
    "    if s == 'fear':\n",
    "        df.loc[i,'sentiment'] = '2'\n",
    "    if s == 'sadness':\n",
    "        df.loc[i,'sentiment'] = '3'\n",
    "    if s == 'neutral':\n",
    "        df.loc[i,'sentiment'] = '4'\n",
    "    if s == 'love':\n",
    "        df.loc[i,'sentiment'] = '5'\n",
    "    if s == 'anger':\n",
    "        df.loc[i,'sentiment'] = '6'\n",
    "    if s == 'surprise':\n",
    "        df.loc[i,'sentiment'] = '7'\n",
    "    if s == 'relief':\n",
    "        df.loc[i,'sentiment'] = '8'\n",
    "\n",
    "#1.4.1.1. Multi-class classification\n",
    "#SVC and NuSVC implement the “one-versus-one” approach for multi-class classification. \n",
    "#In total, n_classes * (n_classes - 1) / 2 classifiers are constructed and each one trains data from two classes. \n",
    "#To provide a consistent interface with other classifiers, the decision_function_shape option allows to \n",
    "#monotonically transform the results of the “one-versus-one” classifiers to a “one-vs-rest” decision \n",
    "#function of shape (n_samples, n_classes).\n",
    "\n",
    "#We have 8 Classes ==> 8*(8-1)/2 = 28 classifiers.\n",
    "\n",
    "X_train, X_test = train_test_split(df, test_size=0.2, random_state=42)\n",
    "\n",
    "vectorizer = TfidfVectorizer(min_df = 5,\n",
    "                             max_df = 0.8,\n",
    "                             sublinear_tf = True,\n",
    "                             use_idf = True)\n",
    "train_vectors_ovo = vectorizer.fit_transform(X_train['Text'])\n",
    "test_vectors_ovo = vectorizer.transform(X_test['Text'])\n",
    "\n",
    "classifier_ovo = svm.SVC(decision_function_shape='ovo')\n",
    "t0 = time.time()\n",
    "classifier_ovo.fit(train_vectors_ovo, X_train['sentiment'])\n",
    "t1 = time.time()\n",
    "#svm.SVC(decision_function_shape='ovo')\n",
    "prediction_ovo = classifier_ovo.predict(test_vectors_ovo)\n",
    "t2 = time.time()\n",
    "time_ovo_train = t1-t0\n",
    "time_ovo_predict = t2-t1\n",
    "\n",
    "print(\"Training time: %fs; Prediction time: %fs\" % (time_ovo_train, time_ovo_predict))\n",
    "report = classification_report(X_test['sentiment'], prediction_ovo, output_dict=True)\n",
    "print('happy: ', report['1'])\n",
    "print('fear: ', report['2'])\n",
    "print('sadness: ', report['3'])\n",
    "print('neutral: ', report['4'])\n",
    "print('love: ', report['5'])\n",
    "print('anger: ', report['6'])\n",
    "print('surprise: ', report['7'])\n",
    "print('relief: ', report['8'])\n",
    "\n",
    "\n",
    "#dec = classifier_multi.decision_function([[1]])\n",
    "#dec.shape[1] # 4 classes: 4*3/2 = 6\n",
    "\n",
    "#clf.decision_function_shape = \"ovr\"\n",
    "#dec = clf.decision_function([[1]])\n",
    "#dec.shape[1] # 4 classes"
   ]
  },
  {
   "cell_type": "code",
   "execution_count": 36,
   "id": "4718243d",
   "metadata": {},
   "outputs": [
    {
     "data": {
      "text/plain": [
       "array(['3', '1', '6', ..., '2', '2', '4'], dtype=object)"
      ]
     },
     "execution_count": 36,
     "metadata": {},
     "output_type": "execute_result"
    }
   ],
   "source": [
    "classifier_ovo.predict(test_vectors_ovo)"
   ]
  },
  {
   "cell_type": "code",
   "execution_count": 50,
   "id": "22f825aa",
   "metadata": {},
   "outputs": [
    {
     "data": {
      "image/png": "[encoded data removed]",
      "text/plain": [
       "<Figure size 432x288 with 2 Axes>"
      ]
     },
     "metadata": {
      "needs_background": "light"
     },
     "output_type": "display_data"
    }
   ],
   "source": [
    "from sklearn.metrics import plot_confusion_matrix\n",
    "from mlxtend.plotting import plot_decision_regions\n",
    "matrix = plot_confusion_matrix(classifier_ovo, test_vectors_ovo, X_test['sentiment'],\n",
    "                                 cmap=plt.cm.Blues,\n",
    "                                 normalize='true')\n",
    "plt.title('Confusion matrix for OvO classifier')\n",
    "plt.show(matrix)\n",
    "plt.show()"
   ]
  },
  {
   "cell_type": "code",
   "execution_count": 96,
   "id": "e7a8dbff",
   "metadata": {},
   "outputs": [
    {
     "ename": "TypeError",
     "evalue": "list indices must be integers or slices, not tuple",
     "output_type": "error",
     "traceback": [
      "\u001b[0;31m---------------------------------------------------------------------------\u001b[0m",
      "\u001b[0;31mTypeError\u001b[0m                                 Traceback (most recent call last)",
      "\u001b[0;32m<ipython-input-96-7ddde3874b1b>\u001b[0m in \u001b[0;36m<module>\u001b[0;34m\u001b[0m\n\u001b[1;32m      9\u001b[0m \u001b[0mb\u001b[0m \u001b[0;34m=\u001b[0m \u001b[0;34m[\u001b[0m\u001b[0mfloat\u001b[0m\u001b[0;34m(\u001b[0m\u001b[0mx\u001b[0m\u001b[0;34m)\u001b[0m \u001b[0;32mfor\u001b[0m \u001b[0mx\u001b[0m \u001b[0;32min\u001b[0m \u001b[0mnp_arr\u001b[0m\u001b[0;34m[\u001b[0m\u001b[0;34m:\u001b[0m\u001b[0;34m,\u001b[0m\u001b[0;36m0\u001b[0m\u001b[0;34m]\u001b[0m\u001b[0;34m]\u001b[0m\u001b[0;34m\u001b[0m\u001b[0;34m\u001b[0m\u001b[0m\n\u001b[1;32m     10\u001b[0m \u001b[0;34m\u001b[0m\u001b[0m\n\u001b[0;32m---> 11\u001b[0;31m \u001b[0mplot_decision_regions\u001b[0m\u001b[0;34m(\u001b[0m\u001b[0mnp_arr\u001b[0m\u001b[0;34m,\u001b[0m \u001b[0mb\u001b[0m\u001b[0;34m[\u001b[0m\u001b[0;34m:\u001b[0m\u001b[0;34m,\u001b[0m\u001b[0;36m0\u001b[0m\u001b[0;34m]\u001b[0m\u001b[0;34m,\u001b[0m \u001b[0mclf\u001b[0m\u001b[0;34m=\u001b[0m\u001b[0mclassifier_ovo\u001b[0m\u001b[0;34m,\u001b[0m \u001b[0mlegend\u001b[0m\u001b[0;34m=\u001b[0m\u001b[0;36m2\u001b[0m\u001b[0;34m)\u001b[0m\u001b[0;34m\u001b[0m\u001b[0;34m\u001b[0m\u001b[0m\n\u001b[0m\u001b[1;32m     12\u001b[0m \u001b[0mplt\u001b[0m\u001b[0;34m.\u001b[0m\u001b[0mshow\u001b[0m\u001b[0;34m(\u001b[0m\u001b[0;34m)\u001b[0m\u001b[0;34m\u001b[0m\u001b[0;34m\u001b[0m\u001b[0m\n",
      "\u001b[0;31mTypeError\u001b[0m: list indices must be integers or slices, not tuple"
     ]
    }
   ],
   "source": [
    "# Plot decision boundary\n",
    "import numpy as np\n",
    "import pandas as pd\n",
    "\n",
    "np_arr = X_test.values\n",
    "\n",
    "length = len(np_arr)\n",
    "\n",
    "b = [float(x) for x in np_arr[:,0]]\n",
    "\n",
    "plot_decision_regions(np_arr, b[:,0], clf=classifier_ovo, legend=2)\n",
    "plt.show()"
   ]
  },
  {
   "cell_type": "code",
   "execution_count": 95,
   "id": "744f2742",
   "metadata": {},
   "outputs": [
    {
     "name": "stdout",
     "output_type": "stream",
     "text": [
      "2.0\n"
     ]
    }
   ],
   "source": [
    "np_arr = X_test.values\n",
    "\n",
    "length = len(np_arr)\n",
    "\n",
    "b = [float(x) for x in np_arr[:,0]]\n",
    "print(b[0])"
   ]
  },
  {
   "cell_type": "code",
   "execution_count": null,
   "id": "60975dcd",
   "metadata": {},
   "outputs": [],
   "source": []
  }
 ],
 "metadata": {
  "hide_input": false,
  "kernelspec": {
   "display_name": "Python 3",
   "language": "python",
   "name": "python3"
  },
  "language_info": {
   "codemirror_mode": {
    "name": "ipython",
    "version": 3
   },
   "file_extension": ".py",
   "mimetype": "text/x-python",
   "name": "python",
   "nbconvert_exporter": "python",
   "pygments_lexer": "ipython3",
   "version": "3.8.8"
  }
 },
 "nbformat": 4,
 "nbformat_minor": 5
}
