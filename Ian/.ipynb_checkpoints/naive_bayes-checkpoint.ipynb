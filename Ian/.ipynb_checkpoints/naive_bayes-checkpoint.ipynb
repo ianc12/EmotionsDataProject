{
 "cells": [
  {
   "cell_type": "code",
   "execution_count": 1,
   "id": "62d47362",
   "metadata": {},
   "outputs": [],
   "source": [
    "import numpy as np\n",
    "import pandas as pd\n",
    "import sklearn\n",
    "import nltk"
   ]
  },
  {
   "cell_type": "code",
   "execution_count": 2,
   "id": "77dc5d00",
   "metadata": {},
   "outputs": [
    {
     "data": {
      "text/html": [
       "<div>\n",
       "<style scoped>\n",
       "    .dataframe tbody tr th:only-of-type {\n",
       "        vertical-align: middle;\n",
       "    }\n",
       "\n",
       "    .dataframe tbody tr th {\n",
       "        vertical-align: top;\n",
       "    }\n",
       "\n",
       "    .dataframe thead th {\n",
       "        text-align: right;\n",
       "    }\n",
       "</style>\n",
       "<table border=\"1\" class=\"dataframe\">\n",
       "  <thead>\n",
       "    <tr style=\"text-align: right;\">\n",
       "      <th></th>\n",
       "      <th>sentiment</th>\n",
       "      <th>Text</th>\n",
       "    </tr>\n",
       "  </thead>\n",
       "  <tbody>\n",
       "    <tr>\n",
       "      <th>0</th>\n",
       "      <td>sadness</td>\n",
       "      <td>@tiffanylue i know  i was listenin to bad habi...</td>\n",
       "    </tr>\n",
       "    <tr>\n",
       "      <th>1</th>\n",
       "      <td>sadness</td>\n",
       "      <td>Layin n bed with a headache  ughhhh...waitin o...</td>\n",
       "    </tr>\n",
       "    <tr>\n",
       "      <th>2</th>\n",
       "      <td>sadness</td>\n",
       "      <td>Funeral ceremony...gloomy friday...</td>\n",
       "    </tr>\n",
       "    <tr>\n",
       "      <th>3</th>\n",
       "      <td>happy</td>\n",
       "      <td>wants to hang out with friends SOON!</td>\n",
       "    </tr>\n",
       "    <tr>\n",
       "      <th>4</th>\n",
       "      <td>neutral</td>\n",
       "      <td>@dannycastillo We want to trade with someone w...</td>\n",
       "    </tr>\n",
       "    <tr>\n",
       "      <th>...</th>\n",
       "      <td>...</td>\n",
       "      <td>...</td>\n",
       "    </tr>\n",
       "    <tr>\n",
       "      <th>61454</th>\n",
       "      <td>fear</td>\n",
       "      <td>Melissa stared at her friend in dism</td>\n",
       "    </tr>\n",
       "    <tr>\n",
       "      <th>61455</th>\n",
       "      <td>happy</td>\n",
       "      <td>Successive state elections have seen the gover...</td>\n",
       "    </tr>\n",
       "    <tr>\n",
       "      <th>61456</th>\n",
       "      <td>fear</td>\n",
       "      <td>Vincent was irritated but not dismay</td>\n",
       "    </tr>\n",
       "    <tr>\n",
       "      <th>61457</th>\n",
       "      <td>happy</td>\n",
       "      <td>Kendall-Hume turned back to face the dismayed ...</td>\n",
       "    </tr>\n",
       "    <tr>\n",
       "      <th>61458</th>\n",
       "      <td>happy</td>\n",
       "      <td>I am dismayed , but not surpris</td>\n",
       "    </tr>\n",
       "  </tbody>\n",
       "</table>\n",
       "<p>61459 rows × 2 columns</p>\n",
       "</div>"
      ],
      "text/plain": [
       "      sentiment                                               Text\n",
       "0       sadness  @tiffanylue i know  i was listenin to bad habi...\n",
       "1       sadness  Layin n bed with a headache  ughhhh...waitin o...\n",
       "2       sadness                Funeral ceremony...gloomy friday...\n",
       "3         happy               wants to hang out with friends SOON!\n",
       "4       neutral  @dannycastillo We want to trade with someone w...\n",
       "...         ...                                                ...\n",
       "61454      fear               Melissa stared at her friend in dism\n",
       "61455     happy  Successive state elections have seen the gover...\n",
       "61456      fear               Vincent was irritated but not dismay\n",
       "61457     happy  Kendall-Hume turned back to face the dismayed ...\n",
       "61458     happy                    I am dismayed , but not surpris\n",
       "\n",
       "[61459 rows x 2 columns]"
      ]
     },
     "execution_count": 2,
     "metadata": {},
     "output_type": "execute_result"
    }
   ],
   "source": [
    "data = pd.read_csv(\"combined_data.csv\")\n",
    "data"
   ]
  },
  {
   "cell_type": "code",
   "execution_count": 3,
   "id": "5546ca0f",
   "metadata": {},
   "outputs": [
    {
     "data": {
      "text/plain": [
       "fear        16241\n",
       "happy       13508\n",
       "sadness      9796\n",
       "neutral      8960\n",
       "love         4720\n",
       "anger        4069\n",
       "surprise     2639\n",
       "relief       1526\n",
       "Name: sentiment, dtype: int64"
      ]
     },
     "execution_count": 3,
     "metadata": {},
     "output_type": "execute_result"
    }
   ],
   "source": [
    "data[\"sentiment\"].value_counts()"
   ]
  },
  {
   "cell_type": "code",
   "execution_count": 4,
   "id": "3af54bee",
   "metadata": {},
   "outputs": [],
   "source": [
    "# Removing punctuation, URL, and tags\n",
    "import re\n",
    "data['Text'] = data['Text'].apply(lambda x: re.sub(\"(@[A-Za-z0-9]+)|([^A-Za-z \\t])|(\\w+:\\/\\/\\S+)\",'',x))\n"
   ]
  },
  {
   "cell_type": "code",
   "execution_count": 5,
   "id": "f2aa8032",
   "metadata": {},
   "outputs": [],
   "source": [
    "data.dropna(inplace=True)"
   ]
  },
  {
   "cell_type": "code",
   "execution_count": 6,
   "id": "7a0e0d5b",
   "metadata": {},
   "outputs": [
    {
     "name": "stdout",
     "output_type": "stream",
     "text": [
      "(61459, 2)\n",
      "      sentiment                                               Text\n",
      "61454      fear               Melissa stared at her friend in dism\n",
      "61455     happy  Successive state elections have seen the gover...\n",
      "61456      fear               Vincent was irritated but not dismay\n",
      "61457     happy  KendallHume turned back to face the dismayed coup\n",
      "61458     happy                     I am dismayed  but not surpris\n"
     ]
    }
   ],
   "source": [
    "print(data.shape)\n",
    "print(data.tail())"
   ]
  },
  {
   "cell_type": "code",
   "execution_count": null,
   "id": "7ecc35e2",
   "metadata": {},
   "outputs": [],
   "source": [
    "import snowballstemmer\n",
    "ss = snowballstemmer.stemmer('english')\n",
    "def replace(x):\n",
    "    words = x.split()\n",
    "    newtext = ''\n",
    "    for w in words:\n",
    "        n = ss.stemWord(w)\n",
    "        newtext += n\n",
    "        newtext += \" \"\n",
    "    return newtext\n",
    "data['Text'] = data['Text'].apply(lambda x: replace(x))\n",
    "data.head()"
   ]
  },
  {
   "cell_type": "code",
   "execution_count": null,
   "id": "44b0e010",
   "metadata": {},
   "outputs": [],
   "source": [
    "#build new non-skewed dataset\n",
    "\n",
    "#sample with replacement\n",
    "def stratify(data, N):\n",
    "    rows = []\n",
    "    fear = data[data['sentiment'] == 'fear']\n",
    "    happy = data[data['sentiment'] == 'happy']\n",
    "    sad = data[data['sentiment'] == 'sadness']\n",
    "    neutral = data[data['sentiment'] == 'neutral']\n",
    "    love = data[data['sentiment'] == 'love']\n",
    "    anger = data[data['sentiment'] == 'anger']\n",
    "    surprise = data[data['sentiment'] == 'surprise']\n",
    "    relief = data[data['sentiment'] == 'relief']\n",
    "    \n",
    "    for i in range(N):\n",
    "        #print(fear.loc[np.random.choice(fear.index)])\n",
    "        rows.append(fear.loc[np.random.choice(fear.index)])\n",
    "        rows.append(happy.loc[np.random.choice(happy.index)])\n",
    "        rows.append(sad.loc[np.random.choice(sad.index)])\n",
    "        rows.append(neutral.loc[np.random.choice(neutral.index)])\n",
    "        rows.append(love.loc[np.random.choice(love.index)])\n",
    "        rows.append(anger.loc[np.random.choice(anger.index)])\n",
    "        rows.append(surprise.loc[np.random.choice(surprise.index)])\n",
    "        rows.append(relief.loc[np.random.choice(relief.index)])\n",
    "    sentiments = [x['sentiment'] for x in rows]\n",
    "    texts = [x['Text'] for x in rows]\n",
    "    d = {'sentiment': sentiments, 'Text': texts}\n",
    "    return pd.DataFrame(d)\n",
    "    \n",
    "\n"
   ]
  },
  {
   "cell_type": "code",
   "execution_count": null,
   "id": "190ee4dc",
   "metadata": {},
   "outputs": [],
   "source": [
    "\n",
    "#strat_df = stratify(data, 10000)\n",
    "data['sentiment'].value_counts()"
   ]
  },
  {
   "cell_type": "markdown",
   "id": "b00647cb",
   "metadata": {},
   "source": [
    "#### Split Train and Test sets:"
   ]
  },
  {
   "cell_type": "code",
   "execution_count": null,
   "id": "b0566088",
   "metadata": {},
   "outputs": [],
   "source": [
    "from sklearn.model_selection import train_test_split\n",
    "\n",
    "\n",
    "X_train, X_test, y_train, y_test = train_test_split(data['Text'], \n",
    "                                                    data['sentiment'],test_size=.1, \n",
    "                                                    random_state=1)\n",
    "#y_train = y_train.astype('int')\n",
    "#y_test = y_test.astype('int')\n",
    "\n"
   ]
  },
  {
   "cell_type": "code",
   "execution_count": null,
   "id": "1055884e",
   "metadata": {},
   "outputs": [],
   "source": [
    "# X_train_strat,y_train_strat = stratify(X_train, y_train, test_size*10000)\n",
    "\n",
    "# X_test_strat, y_train_strat, y_test_strat = train_test_split(strat_df['Text'], \n",
    "#                                                     strat_df['sentiment'],test_size=0.10, \n",
    "#                                                     random_state=1)\n",
    "#y_train_strat = y_train_strat.astype('int')\n",
    "#y_test_strat = y_test_strat.astype('int')"
   ]
  },
  {
   "cell_type": "markdown",
   "id": "41ca1f4e",
   "metadata": {},
   "source": [
    "Stratify the Dataset"
   ]
  },
  {
   "cell_type": "code",
   "execution_count": null,
   "id": "ba76e2fa",
   "metadata": {},
   "outputs": [],
   "source": [
    "# join test and train X and y's together to stratify\n",
    "data_train = pd.concat([X_train,y_train],axis=1)\n",
    "data_test =  pd.concat([X_test,y_test],axis=1)\n",
    "train_balanced = stratify(data_train, 8000)\n",
    "test_balanced  = stratify(data_test, 2000)\n",
    "\n",
    "# create X and y vectors for balanced training set\n",
    "X_train_strat = train_balanced[\"Text\"]\n",
    "y_train_strat = train_balanced[\"sentiment\"]\n",
    "\n",
    "# create X and y vectors for balanced test set\n",
    "X_test_strat = test_balanced[\"Text\"]\n",
    "y_test_strat = test_balanced[\"sentiment\"]"
   ]
  },
  {
   "cell_type": "markdown",
   "id": "c7ac313e",
   "metadata": {},
   "source": [
    "#### Word of Bags: Preprocessing"
   ]
  },
  {
   "cell_type": "code",
   "execution_count": null,
   "id": "01b4dcdc",
   "metadata": {},
   "outputs": [],
   "source": [
    "from sklearn.feature_extraction.text import CountVectorizer\n",
    "count_vect = CountVectorizer(stop_words='english', max_features=8000)\n",
    "X_train_counts = count_vect.fit_transform(X_train)\n",
    "X_train_strat_counts = count_vect.fit_transform(X_train_strat)\n",
    "\n",
    "from sklearn.feature_extraction.text import TfidfTransformer\n",
    "tfidf_transformer = TfidfTransformer()\n",
    "X_train_tfidf = tfidf_transformer.fit_transform(X_train_counts)\n",
    "X_train_strat_tfidf = tfidf_transformer.fit_transform(X_train_strat_counts)\n"
   ]
  },
  {
   "cell_type": "markdown",
   "id": "43ec38c1",
   "metadata": {},
   "source": [
    "### Multinomial Naive Bayes"
   ]
  },
  {
   "cell_type": "markdown",
   "id": "c47705f4",
   "metadata": {},
   "source": [
    "Turn the Dataset into a list of P(sentiment | word) = P(word | sentiment) * p(sentiment) / p(word)"
   ]
  },
  {
   "cell_type": "code",
   "execution_count": null,
   "id": "9443b009",
   "metadata": {},
   "outputs": [],
   "source": [
    "from sklearn.naive_bayes import MultinomialNB\n",
    "from sklearn.metrics import accuracy_score, precision_score, recall_score, f1_score\n",
    "naive_bayes_unbalanced = MultinomialNB()\n",
    "naive_bayes_balanced = MultinomialNB()"
   ]
  },
  {
   "cell_type": "code",
   "execution_count": null,
   "id": "c940f35e",
   "metadata": {},
   "outputs": [],
   "source": [
    "naive_bayes_unbalanced.fit(X_train_tfidf, y_train)\n",
    "naive_bayes_balanced.fit(X_train_strat_tfidf, y_train_strat)"
   ]
  },
  {
   "cell_type": "code",
   "execution_count": null,
   "id": "d4103f55",
   "metadata": {},
   "outputs": [],
   "source": [
    "X_test_counts = count_vect.transform(X_test)\n",
    "X_test_tfidf = tfidf_transformer.transform(X_test_counts)\n",
    "\n",
    "X_test_strat_counts = count_vect.transform(X_test_strat)\n",
    "X_test_strat_tfidf = tfidf_transformer.transform(X_test_strat_counts)\n"
   ]
  },
  {
   "cell_type": "code",
   "execution_count": null,
   "id": "512ebc77",
   "metadata": {},
   "outputs": [],
   "source": [
    "prediction1 = naive_bayes_unbalanced.predict(X_test_tfidf)\n",
    "prediction2 = naive_bayes_balanced.predict(X_test_strat_tfidf)\n",
    "prediction3 = naive_bayes_unbalanced.predict(X_test_strat_tfidf)\n",
    "prediction4 = naive_bayes_balanced.predict(X_test_tfidf)"
   ]
  },
  {
   "cell_type": "code",
   "execution_count": null,
   "id": "7a617dd4",
   "metadata": {},
   "outputs": [],
   "source": [
    "from sklearn.metrics import accuracy_score, precision_score, recall_score, f1_score\n",
    "print('Skewed training on skewed data:')\n",
    "print('Accuracy score: {}'.format(accuracy_score(y_test, prediction1)))\n",
    "print('precision score: {}'.format(precision_score(y_test, prediction1, average='macro')))\n",
    "print('recall score: {}'.format(recall_score(y_test, prediction1,average='macro')))\n",
    "print('f1 score: {}'.format(f1_score(y_test, prediction1,average='macro')))\n",
    "print()\n",
    "print('Balanced training on balanced data:')\n",
    "print('Accuracy score: {}'.format(accuracy_score(y_test_strat, prediction2)))\n",
    "print('precision score: {}'.format(precision_score(y_test_strat, prediction2, average='macro')))\n",
    "print('recall score: {}'.format(recall_score(y_test_strat, prediction2,average='macro')))\n",
    "print('f1 score: {}'.format(f1_score(y_test_strat, prediction2,average='macro')))\n",
    "print()\n",
    "print('Skewed training on balanced data:')\n",
    "print('Accuracy score: {}'.format(accuracy_score(y_test_strat, prediction3)))\n",
    "print('precision score: {}'.format(precision_score(y_test_strat, prediction3, average='macro')))\n",
    "print('recall score: {}'.format(recall_score(y_test_strat, prediction3,average='macro')))\n",
    "print('f1 score: {}'.format(f1_score(y_test_strat, prediction3,average='macro')))\n",
    "print()\n",
    "print('Balanced training on skewed data:')\n",
    "print('Accuracy score: {}'.format(accuracy_score(y_test, prediction4)))\n",
    "print('precision score: {}'.format(precision_score(y_test, prediction4, average='macro')))\n",
    "print('recall score: {}'.format(recall_score(y_test, prediction4,average='macro')))\n",
    "print('f1 score: {}'.format(f1_score(y_test, prediction4,average='macro')))"
   ]
  },
  {
   "cell_type": "markdown",
   "id": "bcc3c3a6",
   "metadata": {},
   "source": [
    "# Unseen Data"
   ]
  },
  {
   "cell_type": "code",
   "execution_count": null,
   "id": "828820e2",
   "metadata": {},
   "outputs": [],
   "source": [
    "real = pd.read_csv('realWorldEmotions.csv')\n",
    "\n",
    "#do same preprocessing\n",
    "real['Text'] = real['Text'].apply(lambda x: re.sub(\"(@[A-Za-z0-9]+)|([^A-Za-z \\t])|(\\w+:\\/\\/\\S+)\",'',x))\n",
    "real.dropna(inplace=True)\n",
    "\n",
    "\n",
    "real.head()\n"
   ]
  },
  {
   "cell_type": "code",
   "execution_count": null,
   "id": "5093faf2",
   "metadata": {},
   "outputs": [],
   "source": [
    "real['Sentiment'].value_counts()"
   ]
  },
  {
   "cell_type": "code",
   "execution_count": null,
   "id": "98184cc9",
   "metadata": {},
   "outputs": [],
   "source": [
    "data[\"sentiment\"].value_counts()"
   ]
  },
  {
   "cell_type": "code",
   "execution_count": null,
   "id": "1f013cc9",
   "metadata": {},
   "outputs": [],
   "source": [
    "for i,s in enumerate(real['Sentiment']):\n",
    "    if s == 'joy':\n",
    "        real.loc[i,'Sentiment'] = 'happy'"
   ]
  },
  {
   "cell_type": "code",
   "execution_count": null,
   "id": "8075476e",
   "metadata": {},
   "outputs": [],
   "source": [
    "real['Sentiment'].value_counts()\n"
   ]
  },
  {
   "cell_type": "code",
   "execution_count": null,
   "id": "af826685",
   "metadata": {},
   "outputs": [],
   "source": [
    "real['Text'] = real['Text'].apply(lambda x: replace(x))\n",
    "real.head()"
   ]
  },
  {
   "cell_type": "code",
   "execution_count": null,
   "id": "63e1f815",
   "metadata": {},
   "outputs": [],
   "source": [
    "# get document vectors\n",
    "X = real[\"Text\"]\n",
    "y = real[\"Sentiment\"]\n",
    "# count vectorizer\n",
    "X_count = count_vect.transform(X)\n",
    "# Tfidf transformer\n",
    "X_tfidf = tfidf_transformer.transform(X_count)"
   ]
  },
  {
   "cell_type": "code",
   "execution_count": null,
   "id": "0460702f",
   "metadata": {},
   "outputs": [],
   "source": [
    "pred_balanced = naive_bayes_balanced.predict(X_tfidf)\n",
    "pred_unbalanced = naive_bayes_unbalanced.predict(X_tfidf)\n"
   ]
  },
  {
   "cell_type": "code",
   "execution_count": null,
   "id": "50fc5f85",
   "metadata": {},
   "outputs": [],
   "source": [
    "print('Skewed training on real data:')\n",
    "print('Accuracy score: {}'.format(accuracy_score(y, pred_unbalanced)))\n",
    "print('precision score: {}'.format(precision_score(y, pred_unbalanced, average='macro')))\n",
    "print('recall score: {}'.format(recall_score(y, pred_unbalanced,average='macro')))\n",
    "print('f1 score: {}'.format(f1_score(y, pred_unbalanced,average='macro')))\n",
    "print('\\n\\n')\n",
    "print('Balanced training on real data:')\n",
    "print('Accuracy score: {}'.format(accuracy_score(y, pred_balanced)))\n",
    "print('precision score: {}'.format(precision_score(y, pred_balanced, average='macro')))\n",
    "print('recall score: {}'.format(recall_score(y, pred_balanced,average='macro')))\n",
    "print('f1 score: {}'.format(f1_score(y, pred_balanced,average='macro')))"
   ]
  },
  {
   "cell_type": "code",
   "execution_count": null,
   "id": "c80ac6a9",
   "metadata": {},
   "outputs": [],
   "source": []
  }
 ],
 "metadata": {
  "kernelspec": {
   "display_name": "Python 3 (ipykernel)",
   "language": "python",
   "name": "python3"
  },
  "language_info": {
   "codemirror_mode": {
    "name": "ipython",
    "version": 3
   },
   "file_extension": ".py",
   "mimetype": "text/x-python",
   "name": "python",
   "nbconvert_exporter": "python",
   "pygments_lexer": "ipython3",
   "version": "3.7.0"
  }
 },
 "nbformat": 4,
 "nbformat_minor": 5
}
