{
 "cells": [
  {
   "cell_type": "code",
   "execution_count": 3,
   "id": "44d39fe4",
   "metadata": {},
   "outputs": [],
   "source": [
    "import numpy as np\n",
    "import pandas as pd\n",
    "pd.set_option(\"display.precision\", 4)\n",
    "pd.set_option('display.max_columns',None)\n",
    "emoFinal = pd.read_csv('Emotion_final.csv')\n",
    "textEmo = pd.read_csv('text_emotion.csv')\n"
   ]
  },
  {
   "cell_type": "code",
   "execution_count": 14,
   "id": "97724223",
   "metadata": {},
   "outputs": [
    {
     "data": {
      "text/plain": [
       "Index(['Text', 'Emotion'], dtype='object')"
      ]
     },
     "execution_count": 14,
     "metadata": {},
     "output_type": "execute_result"
    }
   ],
   "source": [
    "emoFinal.columns\n"
   ]
  },
  {
   "cell_type": "code",
   "execution_count": 13,
   "id": "555da0ca",
   "metadata": {},
   "outputs": [
    {
     "data": {
      "text/plain": [
       "Index(['tweet_id', 'sentiment', 'author', 'content'], dtype='object')"
      ]
     },
     "execution_count": 13,
     "metadata": {},
     "output_type": "execute_result"
    }
   ],
   "source": [
    "textEmo.columns"
   ]
  },
  {
   "cell_type": "code",
   "execution_count": 11,
   "id": "5aacf80c",
   "metadata": {},
   "outputs": [
    {
     "data": {
      "text/plain": [
       "Emotion\n",
       "happy       7029\n",
       "sadness     6265\n",
       "anger       2993\n",
       "fear        2652\n",
       "love        1641\n",
       "surprise     879\n",
       "dtype: int64"
      ]
     },
     "execution_count": 11,
     "metadata": {},
     "output_type": "execute_result"
    }
   ],
   "source": [
    "emoFinal.value_counts('Emotion')"
   ]
  },
  {
   "cell_type": "code",
   "execution_count": 37,
   "id": "4627c9f7",
   "metadata": {},
   "outputs": [
    {
     "data": {
      "text/plain": [
       "sentiment\n",
       "neutral       8638\n",
       "fear          8459\n",
       "happy         6985\n",
       "sadness       5992\n",
       "love          3842\n",
       "surprise      2187\n",
       "relief        1526\n",
       "anger         1433\n",
       "enthusiasm     759\n",
       "boredom        179\n",
       "dtype: int64"
      ]
     },
     "execution_count": 37,
     "metadata": {},
     "output_type": "execute_result"
    }
   ],
   "source": [
    "textEmo.value_counts(\"sentiment\")\n"
   ]
  },
  {
   "cell_type": "code",
   "execution_count": 39,
   "id": "c6704daa",
   "metadata": {},
   "outputs": [],
   "source": [
    "for i,s in enumerate(textEmo['sentiment']):\n",
    "    if s == 'worry':\n",
    "        textEmo.loc[i,'sentiment'] = 'fear'\n",
    "    if s == 'happiness':\n",
    "        textEmo.loc[i,'sentiment'] = 'happy'\n",
    "    if s == 'fun':\n",
    "        textEmo.loc[i,'sentiment'] = 'happy'\n",
    "    if s == 'hate':\n",
    "        textEmo.loc[i,'sentiment'] = 'anger'\n",
    "    if s == 'empty':\n",
    "        textEmo.loc[i,'sentiment'] = 'sadness'\n",
    "    #drop relief, enthusiasm, boredom\n",
    "    if s == \"relief\" or s == 'enthusiasm' or s == 'boredom':\n",
    "        textEmo.drop(index=[i])\n",
    "        \n",
    "    \n",
    "    "
   ]
  },
  {
   "cell_type": "code",
   "execution_count": 40,
   "id": "483da0b2",
   "metadata": {},
   "outputs": [
    {
     "data": {
      "text/plain": [
       "sentiment\n",
       "neutral       8638\n",
       "fear          8459\n",
       "happy         6985\n",
       "sadness       5992\n",
       "love          3842\n",
       "surprise      2187\n",
       "relief        1526\n",
       "anger         1433\n",
       "enthusiasm     759\n",
       "boredom        179\n",
       "dtype: int64"
      ]
     },
     "execution_count": 40,
     "metadata": {},
     "output_type": "execute_result"
    }
   ],
   "source": [
    "textEmo.value_counts(\"sentiment\")"
   ]
  },
  {
   "cell_type": "code",
   "execution_count": 41,
   "id": "e86763a1",
   "metadata": {},
   "outputs": [],
   "source": [
    "textEmo['Emotion'] = textEmo['sentiment']"
   ]
  },
  {
   "cell_type": "code",
   "execution_count": 42,
   "id": "7bc0d1ef",
   "metadata": {},
   "outputs": [],
   "source": [
    "textEmo['Text'] = textEmo['content']"
   ]
  },
  {
   "cell_type": "code",
   "execution_count": 44,
   "id": "0cfeb3fb",
   "metadata": {},
   "outputs": [
    {
     "data": {
      "text/html": [
       "<div>\n",
       "<style scoped>\n",
       "    .dataframe tbody tr th:only-of-type {\n",
       "        vertical-align: middle;\n",
       "    }\n",
       "\n",
       "    .dataframe tbody tr th {\n",
       "        vertical-align: top;\n",
       "    }\n",
       "\n",
       "    .dataframe thead th {\n",
       "        text-align: right;\n",
       "    }\n",
       "</style>\n",
       "<table border=\"1\" class=\"dataframe\">\n",
       "  <thead>\n",
       "    <tr style=\"text-align: right;\">\n",
       "      <th></th>\n",
       "      <th>Emotion</th>\n",
       "      <th>Text</th>\n",
       "    </tr>\n",
       "  </thead>\n",
       "  <tbody>\n",
       "    <tr>\n",
       "      <th>0</th>\n",
       "      <td>sadness</td>\n",
       "      <td>@tiffanylue i know  i was listenin to bad habi...</td>\n",
       "    </tr>\n",
       "    <tr>\n",
       "      <th>1</th>\n",
       "      <td>sadness</td>\n",
       "      <td>Layin n bed with a headache  ughhhh...waitin o...</td>\n",
       "    </tr>\n",
       "    <tr>\n",
       "      <th>2</th>\n",
       "      <td>sadness</td>\n",
       "      <td>Funeral ceremony...gloomy friday...</td>\n",
       "    </tr>\n",
       "    <tr>\n",
       "      <th>3</th>\n",
       "      <td>enthusiasm</td>\n",
       "      <td>wants to hang out with friends SOON!</td>\n",
       "    </tr>\n",
       "    <tr>\n",
       "      <th>4</th>\n",
       "      <td>neutral</td>\n",
       "      <td>@dannycastillo We want to trade with someone w...</td>\n",
       "    </tr>\n",
       "    <tr>\n",
       "      <th>...</th>\n",
       "      <td>...</td>\n",
       "      <td>...</td>\n",
       "    </tr>\n",
       "    <tr>\n",
       "      <th>39995</th>\n",
       "      <td>neutral</td>\n",
       "      <td>@JohnLloydTaylor</td>\n",
       "    </tr>\n",
       "    <tr>\n",
       "      <th>39996</th>\n",
       "      <td>love</td>\n",
       "      <td>Happy Mothers Day  All my love</td>\n",
       "    </tr>\n",
       "    <tr>\n",
       "      <th>39997</th>\n",
       "      <td>love</td>\n",
       "      <td>Happy Mother's Day to all the mommies out ther...</td>\n",
       "    </tr>\n",
       "    <tr>\n",
       "      <th>39998</th>\n",
       "      <td>happy</td>\n",
       "      <td>@niariley WASSUP BEAUTIFUL!!! FOLLOW ME!!  PEE...</td>\n",
       "    </tr>\n",
       "    <tr>\n",
       "      <th>39999</th>\n",
       "      <td>love</td>\n",
       "      <td>@mopedronin bullet train from tokyo    the gf ...</td>\n",
       "    </tr>\n",
       "  </tbody>\n",
       "</table>\n",
       "<p>40000 rows × 2 columns</p>\n",
       "</div>"
      ],
      "text/plain": [
       "          Emotion                                               Text\n",
       "0         sadness  @tiffanylue i know  i was listenin to bad habi...\n",
       "1         sadness  Layin n bed with a headache  ughhhh...waitin o...\n",
       "2         sadness                Funeral ceremony...gloomy friday...\n",
       "3      enthusiasm               wants to hang out with friends SOON!\n",
       "4         neutral  @dannycastillo We want to trade with someone w...\n",
       "...           ...                                                ...\n",
       "39995     neutral                                   @JohnLloydTaylor\n",
       "39996        love                     Happy Mothers Day  All my love\n",
       "39997        love  Happy Mother's Day to all the mommies out ther...\n",
       "39998       happy  @niariley WASSUP BEAUTIFUL!!! FOLLOW ME!!  PEE...\n",
       "39999        love  @mopedronin bullet train from tokyo    the gf ...\n",
       "\n",
       "[40000 rows x 2 columns]"
      ]
     },
     "execution_count": 44,
     "metadata": {},
     "output_type": "execute_result"
    }
   ],
   "source": [
    "textEmo.drop(columns=['tweet_id', 'sentiment', 'author', 'content'])"
   ]
  },
  {
   "cell_type": "code",
   "execution_count": 49,
   "id": "1968c5bf",
   "metadata": {},
   "outputs": [],
   "source": [
    "ds3 = pd.DataFrame()"
   ]
  },
  {
   "cell_type": "code",
   "execution_count": 50,
   "id": "45a6dfe2",
   "metadata": {},
   "outputs": [],
   "source": [
    "ds3['Emotion'] = textEmo['Emotion'] + emoFinal['Emotion']\n",
    "ds3['Text'] = textEmo['Text'] + emoFinal['Text']\n",
    "\n"
   ]
  },
  {
   "cell_type": "code",
   "execution_count": 52,
   "id": "d3cd5aba",
   "metadata": {},
   "outputs": [
    {
     "data": {
      "text/plain": [
       "(40000, 2)"
      ]
     },
     "execution_count": 52,
     "metadata": {},
     "output_type": "execute_result"
    }
   ],
   "source": [
    "ds3.shape"
   ]
  },
  {
   "cell_type": "code",
   "execution_count": null,
   "id": "b51e02e9",
   "metadata": {},
   "outputs": [],
   "source": []
  }
 ],
 "metadata": {
  "kernelspec": {
   "display_name": "Python 3 (ipykernel)",
   "language": "python",
   "name": "python3"
  },
  "language_info": {
   "codemirror_mode": {
    "name": "ipython",
    "version": 3
   },
   "file_extension": ".py",
   "mimetype": "text/x-python",
   "name": "python",
   "nbconvert_exporter": "python",
   "pygments_lexer": "ipython3",
   "version": "3.7.0"
  }
 },
 "nbformat": 4,
 "nbformat_minor": 5
}
