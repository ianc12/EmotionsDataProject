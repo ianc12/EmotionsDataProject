{
 "cells": [
  {
   "cell_type": "code",
   "execution_count": 1,
   "id": "41d0e190",
   "metadata": {},
   "outputs": [],
   "source": [
    "import pandas as pd\n",
    "import numpy as np\n",
    "import matplotlib.pyplot as plt"
   ]
  },
  {
   "cell_type": "code",
   "execution_count": 54,
   "id": "2458a7dd",
   "metadata": {},
   "outputs": [
    {
     "data": {
      "text/plain": [
       "fear        16241\n",
       "happy       13508\n",
       "sadness      9796\n",
       "neutral      8960\n",
       "love         4720\n",
       "anger        4069\n",
       "surprise     2639\n",
       "relief       1526\n",
       "Name: sentiment, dtype: int64"
      ]
     },
     "execution_count": 54,
     "metadata": {},
     "output_type": "execute_result"
    }
   ],
   "source": [
    "df = pd.read_csv('combined_data.csv')\n",
    "df.head()\n",
    "df['sentiment'].value_counts()"
   ]
  },
  {
   "cell_type": "code",
   "execution_count": 4,
   "id": "554fe7f4",
   "metadata": {},
   "outputs": [],
   "source": [
    "import nltk\n",
    "from nltk.corpus import stopwords\n",
    "from nltk.tokenize import word_tokenize\n",
    "import re\n",
    "\n",
    "stopWords = stopwords.words(\"english\")\n",
    "\n",
    "def cleanText(text):\n",
    "    \n",
    "    output = \"\"\n",
    "    \n",
    "    \n",
    "    for word in text.split():\n",
    "        cleanWord = re.sub(\"[^a-zA-Z]\",  # Search for all non-letters\n",
    "                          \" \",          # Replace all non-letters with spaces\n",
    "                          str(word))\n",
    "        if cleanWord in stopWords:\n",
    "            pass\n",
    "        else:\n",
    "            output = output + \" \" + cleanWord\n",
    "    return output"
   ]
  },
  {
   "cell_type": "code",
   "execution_count": 5,
   "id": "b43b32d7",
   "metadata": {},
   "outputs": [],
   "source": [
    "df.Text = df.Text.apply(lambda x: cleanText(x))"
   ]
  },
  {
   "cell_type": "code",
   "execution_count": 22,
   "id": "b59d014d",
   "metadata": {},
   "outputs": [],
   "source": [
    "from sklearn.model_selection import train_test_split"
   ]
  },
  {
   "cell_type": "code",
   "execution_count": 6,
   "id": "40400a2f",
   "metadata": {},
   "outputs": [],
   "source": [
    "def stratify(data, N):\n",
    "    rows = []\n",
    "    fear = data[data['sentiment'] == 'fear']\n",
    "    happy = data[data['sentiment'] == 'happy']\n",
    "    sad = data[data['sentiment'] == 'sadness']\n",
    "    neutral = data[data['sentiment'] == 'neutral']\n",
    "    love = data[data['sentiment'] == 'love']\n",
    "    anger = data[data['sentiment'] == 'anger']\n",
    "    surprise = data[data['sentiment'] == 'surprise']\n",
    "    relief = data[data['sentiment'] == 'relief']\n",
    "    \n",
    "    for i in range(N):\n",
    "        #print(fear.loc[np.random.choice(fear.index)])\n",
    "        rows.append(fear.loc[np.random.choice(fear.index)])\n",
    "        rows.append(happy.loc[np.random.choice(happy.index)])\n",
    "        rows.append(sad.loc[np.random.choice(sad.index)])\n",
    "        rows.append(neutral.loc[np.random.choice(neutral.index)])\n",
    "        rows.append(love.loc[np.random.choice(love.index)])\n",
    "        rows.append(anger.loc[np.random.choice(anger.index)])\n",
    "        rows.append(surprise.loc[np.random.choice(surprise.index)])\n",
    "        rows.append(relief.loc[np.random.choice(relief.index)])\n",
    "    sentiments = [x['sentiment'] for x in rows]\n",
    "    texts = [x['Text'] for x in rows]\n",
    "    d = {'sentiment': sentiments, 'Text': texts}\n",
    "    return pd.DataFrame(d)"
   ]
  },
  {
   "cell_type": "code",
   "execution_count": 8,
   "id": "beb02bf4",
   "metadata": {},
   "outputs": [
    {
     "data": {
      "text/plain": [
       "surprise    10000\n",
       "neutral     10000\n",
       "sadness     10000\n",
       "relief      10000\n",
       "love        10000\n",
       "anger       10000\n",
       "happy       10000\n",
       "fear        10000\n",
       "Name: sentiment, dtype: int64"
      ]
     },
     "execution_count": 8,
     "metadata": {},
     "output_type": "execute_result"
    }
   ],
   "source": [
    "#Creating a balanced dataset with 10000 records for each emotion\n",
    "balancedDf = stratify(df, 10000)\n",
    "balancedDf['sentiment'].value_counts()"
   ]
  },
  {
   "cell_type": "code",
   "execution_count": 15,
   "id": "eb177387",
   "metadata": {
    "scrolled": true
   },
   "outputs": [
    {
     "name": "stdout",
     "output_type": "stream",
     "text": [
      "(10000, 2)\n",
      "anger       1496\n",
      "sadness     1456\n",
      "surprise    1432\n",
      "love        1418\n",
      "neutral     1408\n",
      "fear        1407\n",
      "relief      1383\n",
      "Name: sentiment, dtype: int64\n"
     ]
    }
   ],
   "source": [
    "happy10k = balancedDf[balancedDf['sentiment'] == 'happy']\n",
    "nonHappyDf = balancedDf[balancedDf['sentiment'] != 'happy']\n",
    "nonHappy10k = nonHappyDf.sample(n=10000)\n",
    "print(nonHappy10k.shape)\n",
    "print(nonHappy10k['sentiment'].value_counts())"
   ]
  },
  {
   "cell_type": "code",
   "execution_count": 20,
   "id": "91c0f1df",
   "metadata": {},
   "outputs": [
    {
     "name": "stdout",
     "output_type": "stream",
     "text": [
      "happy        10000\n",
      "not happy    10000\n",
      "Name: sentiment, dtype: int64\n"
     ]
    }
   ],
   "source": [
    "balancedHappyVsRest = pd.concat([happy10k, nonHappy10k], axis=0)\n",
    "\n",
    "balancedHappyVsRest['sentiment'] = np.where((balancedHappyVsRest.sentiment != 'happy'),'not happy', balancedHappyVsRest.sentiment)\n",
    "print(balancedHappyVsRest['sentiment'].value_counts())"
   ]
  },
  {
   "cell_type": "code",
   "execution_count": 23,
   "id": "e3d65303",
   "metadata": {},
   "outputs": [
    {
     "name": "stdout",
     "output_type": "stream",
     "text": [
      "Training time: 45.677044s; Prediction time: 6.466196s\n",
      "not happy:  {'precision': 0.6845703125, 'recall': 0.7077233720343261, 'f1-score': 0.6959543310995284, 'support': 1981}\n",
      "happy:  {'precision': 0.7033811475409836, 'recall': 0.6800396235760278, 'f1-score': 0.6915134726769077, 'support': 2019}\n"
     ]
    }
   ],
   "source": [
    "import time\n",
    "\n",
    "#Balanced Happy Vs Rest\n",
    "bhr_train, bhr_test = train_test_split(balancedHappyVsRest, test_size=0.2, random_state=42)\n",
    "\n",
    "vectorizer = TfidfVectorizer(min_df = 5,\n",
    "                             max_df = 0.8,\n",
    "                             sublinear_tf = True,\n",
    "                             use_idf = True)\n",
    "train_vectors = vectorizer.fit_transform(bhr_train['Text'])\n",
    "test_vectors = vectorizer.transform(bhr_test['Text'])\n",
    "\n",
    "# Perform classification with SVM, kernel=linear\n",
    "classifier_linear = svm.SVC(kernel='linear')\n",
    "t0 = time.time()\n",
    "classifier_linear.fit(train_vectors, bhr_train['sentiment'])\n",
    "t1 = time.time()\n",
    "prediction_linear = classifier_linear.predict(test_vectors)\n",
    "t2 = time.time()\n",
    "time_linear_train = t1-t0\n",
    "time_linear_predict = t2-t1\n",
    "\n",
    "# results\n",
    "print(\"Training time: %fs; Prediction time: %fs\" % (time_linear_train, time_linear_predict))\n",
    "report = classification_report(bhr_test['sentiment'], prediction_linear, output_dict=True)\n",
    "print('not happy: ', report['not happy'])\n",
    "print('happy: ', report['happy'])"
   ]
  },
  {
   "cell_type": "code",
   "execution_count": 26,
   "id": "ad8c9ee3",
   "metadata": {},
   "outputs": [
    {
     "name": "stdout",
     "output_type": "stream",
     "text": [
      "(10000, 2)\n",
      "anger       1491\n",
      "neutral     1451\n",
      "happy       1432\n",
      "surprise    1425\n",
      "sadness     1422\n",
      "love        1413\n",
      "relief      1366\n",
      "Name: sentiment, dtype: int64\n",
      "fear    10000\n",
      "Name: sentiment, dtype: int64\n",
      "not fear    10000\n",
      "fear        10000\n",
      "Name: sentiment, dtype: int64\n"
     ]
    }
   ],
   "source": [
    "fear10k = balancedDf[balancedDf['sentiment'] == 'fear']\n",
    "nonFearDf = balancedDf[balancedDf['sentiment'] != 'fear']\n",
    "nonFear10k = nonFearDf.sample(n=10000)\n",
    "print(nonFear10k.shape)\n",
    "print(nonFear10k['sentiment'].value_counts())\n",
    "print(fear10k['sentiment'].value_counts())\n",
    "\n",
    "balancedFearVsRest = pd.concat([fear10k, nonFear10k], axis=0)\n",
    "\n",
    "balancedFearVsRest['sentiment'] = np.where((balancedFearVsRest.sentiment != 'fear'),'not fear', balancedFearVsRest.sentiment)\n",
    "print(balancedFearVsRest['sentiment'].value_counts())"
   ]
  },
  {
   "cell_type": "code",
   "execution_count": 28,
   "id": "f5b4b0f6",
   "metadata": {},
   "outputs": [
    {
     "name": "stdout",
     "output_type": "stream",
     "text": [
      "Training time: 40.611597s; Prediction time: 6.254709s\n",
      "not fear:  {'precision': 0.6623762376237624, 'recall': 0.6754164563351842, 'f1-score': 0.6688327918020495, 'support': 1981}\n",
      "fear:  {'precision': 0.6752525252525252, 'recall': 0.6622090143635463, 'f1-score': 0.6686671667916978, 'support': 2019}\n"
     ]
    }
   ],
   "source": [
    "#Balanced Fear Vs Rest\n",
    "bfr_train, bfr_test = train_test_split(balancedFearVsRest, test_size=0.2, random_state=42)\n",
    "\n",
    "vectorizer = TfidfVectorizer(min_df = 5,\n",
    "                             max_df = 0.8,\n",
    "                             sublinear_tf = True,\n",
    "                             use_idf = True)\n",
    "train_vectors = vectorizer.fit_transform(bfr_train['Text'])\n",
    "test_vectors = vectorizer.transform(bfr_test['Text'])\n",
    "\n",
    "# Perform classification with SVM, kernel=linear\n",
    "classifier_linear = svm.SVC(kernel='linear')\n",
    "t0 = time.time()\n",
    "classifier_linear.fit(train_vectors, bfr_train['sentiment'])\n",
    "t1 = time.time()\n",
    "prediction_linear = classifier_linear.predict(test_vectors)\n",
    "t2 = time.time()\n",
    "time_linear_train = t1-t0\n",
    "time_linear_predict = t2-t1\n",
    "\n",
    "# results\n",
    "print(\"Training time: %fs; Prediction time: %fs\" % (time_linear_train, time_linear_predict))\n",
    "report = classification_report(bfr_test['sentiment'], prediction_linear, output_dict=True)\n",
    "print('not fear: ', report['not fear'])\n",
    "print('fear: ', report['fear'])"
   ]
  },
  {
   "cell_type": "code",
   "execution_count": 29,
   "id": "29a1336b",
   "metadata": {},
   "outputs": [
    {
     "name": "stdout",
     "output_type": "stream",
     "text": [
      "(10000, 2)\n",
      "surprise    1484\n",
      "love        1473\n",
      "happy       1456\n",
      "anger       1454\n",
      "relief      1386\n",
      "fear        1383\n",
      "neutral     1364\n",
      "Name: sentiment, dtype: int64\n",
      "sadness    10000\n",
      "Name: sentiment, dtype: int64\n",
      "not sadness    10000\n",
      "sadness        10000\n",
      "Name: sentiment, dtype: int64\n"
     ]
    }
   ],
   "source": [
    "sadness10k = balancedDf[balancedDf['sentiment'] == 'sadness']\n",
    "nonSadnessDf = balancedDf[balancedDf['sentiment'] != 'sadness']\n",
    "nonSadness10k = nonSadnessDf.sample(n=10000)\n",
    "print(nonSadness10k.shape)\n",
    "print(nonSadness10k['sentiment'].value_counts())\n",
    "print(sadness10k['sentiment'].value_counts())\n",
    "\n",
    "balancedSadVsRest = pd.concat([sadness10k, nonSadness10k], axis=0)\n",
    "\n",
    "balancedSadVsRest['sentiment'] = np.where((balancedSadVsRest.sentiment != 'sadness'),'not sadness', balancedSadVsRest.sentiment)\n",
    "print(balancedSadVsRest['sentiment'].value_counts())"
   ]
  },
  {
   "cell_type": "code",
   "execution_count": 31,
   "id": "ac8962e8",
   "metadata": {},
   "outputs": [
    {
     "name": "stdout",
     "output_type": "stream",
     "text": [
      "Training time: 29.018380s; Prediction time: 4.301528s\n",
      "not sadness:  {'precision': 0.7164750957854407, 'recall': 0.7551741544674407, 'f1-score': 0.7353158024084543, 'support': 1981}\n",
      "sadness:  {'precision': 0.7463389121338913, 'recall': 0.7067855373947499, 'f1-score': 0.7260239124904605, 'support': 2019}\n"
     ]
    }
   ],
   "source": [
    "#Balanced Sad Vs Rest\n",
    "bsr_train, bsr_test = train_test_split(balancedSadVsRest, test_size=0.2, random_state=42)\n",
    "\n",
    "vectorizer = TfidfVectorizer(min_df = 5,\n",
    "                             max_df = 0.8,\n",
    "                             sublinear_tf = True,\n",
    "                             use_idf = True)\n",
    "train_vectors = vectorizer.fit_transform(bsr_train['Text'])\n",
    "test_vectors = vectorizer.transform(bsr_test['Text'])\n",
    "\n",
    "# Perform classification with SVM, kernel=linear\n",
    "classifier_linear = svm.SVC(kernel='linear')\n",
    "t0 = time.time()\n",
    "classifier_linear.fit(train_vectors, bsr_train['sentiment'])\n",
    "t1 = time.time()\n",
    "prediction_linear = classifier_linear.predict(test_vectors)\n",
    "t2 = time.time()\n",
    "time_linear_train = t1-t0\n",
    "time_linear_predict = t2-t1\n",
    "\n",
    "# results\n",
    "print(\"Training time: %fs; Prediction time: %fs\" % (time_linear_train, time_linear_predict))\n",
    "report = classification_report(bsr_test['sentiment'], prediction_linear, output_dict=True)\n",
    "print('not sadness: ', report['not sadness'])\n",
    "print('sadness: ', report['sadness'])"
   ]
  },
  {
   "cell_type": "code",
   "execution_count": 50,
   "id": "291030f3",
   "metadata": {},
   "outputs": [],
   "source": [
    "X_train, X_test, y_train, y_test = train_test_split(df['Text'], \n",
    "                                                    df['sentiment'],test_size=0.20, \n",
    "                                                    random_state=42)\n",
    "\n",
    "X_train_strat, X_test_strat, y_train_strat, y_test_strat = train_test_split(balancedDf['Text'], \n",
    "                                                    balancedDf['sentiment'],test_size=0.20, \n",
    "                                                    random_state=42)"
   ]
  },
  {
   "cell_type": "code",
   "execution_count": 53,
   "id": "fdd7d4a7",
   "metadata": {},
   "outputs": [
    {
     "name": "stdout",
     "output_type": "stream",
     "text": [
      "         sentiment                                               Text\n",
      "27700  not sadness    smiley   thanks reviews today feel like idk ...\n",
      "16330      sadness   still feeling pretty lousy allergy induced st...\n",
      "69346      sadness   secretary called fran landed dublin whim much...\n",
      "8914       sadness    Skewp    We miss babies together  haha  I m ...\n",
      "10096  not sadness        Really wish I could gone  bikeradar weekend\n",
      "...            ...                                                ...\n",
      "32586      sadness   ive feeling bit remorseful decision kicking c...\n",
      "59538      sadness   i m still full buffet palms  stomach actually...\n",
      "79994      sadness                                   feel fake lashes\n",
      "14962      sadness                         aw lose guy ten days  lt  \n",
      "47525  not sadness   grappled guilt relatives friends usually comm...\n",
      "\n",
      "[4000 rows x 2 columns]\n"
     ]
    }
   ],
   "source": [
    "#Train balanced, test unbalanced for Sad vs rest\n",
    "sadVsRestUnbalancedDf = df\n",
    "sadVsRestUnbalancedDf['sentiment'] = np.where((sadVsRestUnbalancedDf.sentiment != 'sadness'),'not sadness', sadVsRestUnbalancedDf.sentiment)\n",
    "sadU_train, sadU_test, ySadU_train, ySadU_test = train_test_split(sadVsRestUnbalancedDf['Text'], \n",
    "                                                    sadVsRestUnbalancedDf['sentiment'],test_size=0.20, \n",
    "                                                    random_state=42)\n",
    "\n",
    "# vectorizer = TfidfVectorizer(min_df = 5,\n",
    "#                              max_df = 0.8,\n",
    "#                              sublinear_tf = True,\n",
    "#                              use_idf = True)\n",
    "# train_vectors = vectorizer.fit_transform(bsr_train['Text'])\n",
    "# test_vectors = vectorizer.transform(sadU_test['Text'])\n",
    "\n",
    "# # Perform classification with SVM, kernel=linear\n",
    "# classifier_linear = svm.SVC(kernel='linear')\n",
    "# t0 = time.time()\n",
    "# classifier_linear.fit(train_vectors, bsr_train['sentiment'])\n",
    "# t1 = time.time()\n",
    "# prediction_linear = classifier_linear.predict(test_vectors)\n",
    "# t2 = time.time()\n",
    "# time_linear_train = t1-t0\n",
    "# time_linear_predict = t2-t1\n",
    "\n",
    "# # results\n",
    "# print(\"Training time: %fs; Prediction time: %fs\" % (time_linear_train, time_linear_predict))\n",
    "# report = classification_report(sadU_test['sentiment'], prediction_linear, output_dict=True)\n",
    "# print('not sadness: ', report['not sadness'])\n",
    "# print('sadness: ', report['sadness'])\n",
    "\n",
    "print(bsr_test)"
   ]
  },
  {
   "cell_type": "code",
   "execution_count": 18,
   "id": "540f9721",
   "metadata": {},
   "outputs": [],
   "source": [
    "from sklearn import svm\n",
    "from sklearn.feature_extraction.text import TfidfVectorizer\n",
    "from sklearn.metrics import classification_report\n",
    "\n",
    "\n",
    "clf = svm.SVC(kernel='linear')"
   ]
  },
  {
   "cell_type": "code",
   "execution_count": 7,
   "id": "2b8017a4",
   "metadata": {},
   "outputs": [
    {
     "data": {
      "text/html": [
       "<div>\n",
       "<style scoped>\n",
       "    .dataframe tbody tr th:only-of-type {\n",
       "        vertical-align: middle;\n",
       "    }\n",
       "\n",
       "    .dataframe tbody tr th {\n",
       "        vertical-align: top;\n",
       "    }\n",
       "\n",
       "    .dataframe thead th {\n",
       "        text-align: right;\n",
       "    }\n",
       "</style>\n",
       "<table border=\"1\" class=\"dataframe\">\n",
       "  <thead>\n",
       "    <tr style=\"text-align: right;\">\n",
       "      <th></th>\n",
       "      <th>sentiment</th>\n",
       "      <th>Text</th>\n",
       "    </tr>\n",
       "  </thead>\n",
       "  <tbody>\n",
       "    <tr>\n",
       "      <th>0</th>\n",
       "      <td>0</td>\n",
       "      <td>@tiffanylue i know  i was listenin to bad habi...</td>\n",
       "    </tr>\n",
       "    <tr>\n",
       "      <th>1</th>\n",
       "      <td>0</td>\n",
       "      <td>Layin n bed with a headache  ughhhh...waitin o...</td>\n",
       "    </tr>\n",
       "    <tr>\n",
       "      <th>2</th>\n",
       "      <td>0</td>\n",
       "      <td>Funeral ceremony...gloomy friday...</td>\n",
       "    </tr>\n",
       "    <tr>\n",
       "      <th>3</th>\n",
       "      <td>1</td>\n",
       "      <td>wants to hang out with friends SOON!</td>\n",
       "    </tr>\n",
       "    <tr>\n",
       "      <th>4</th>\n",
       "      <td>0</td>\n",
       "      <td>@dannycastillo We want to trade with someone w...</td>\n",
       "    </tr>\n",
       "  </tbody>\n",
       "</table>\n",
       "</div>"
      ],
      "text/plain": [
       "  sentiment                                               Text\n",
       "0         0  @tiffanylue i know  i was listenin to bad habi...\n",
       "1         0  Layin n bed with a headache  ughhhh...waitin o...\n",
       "2         0                Funeral ceremony...gloomy friday...\n",
       "3         1               wants to hang out with friends SOON!\n",
       "4         0  @dannycastillo We want to trade with someone w..."
      ]
     },
     "execution_count": 7,
     "metadata": {},
     "output_type": "execute_result"
    }
   ],
   "source": [
    "happyVsRest = pd.read_csv('combined_data.csv')\n",
    "\n",
    "happyVsRest['sentiment'] = np.where((happyVsRest.sentiment != 'happy'),'0', happyVsRest.sentiment)\n",
    "happyVsRest['sentiment'] = np.where((happyVsRest.sentiment == 'happy'),'1', happyVsRest.sentiment)\n",
    "\n",
    "happyVsRest.head()"
   ]
  },
  {
   "cell_type": "code",
   "execution_count": 13,
   "id": "5c55d1fe",
   "metadata": {},
   "outputs": [
    {
     "name": "stdout",
     "output_type": "stream",
     "text": [
      "Training time: 1906.666283s; Prediction time: 36.344294s\n",
      "not happy:  {'precision': 0.7950749829584185, 'recall': 0.9780922431865828, 'f1-score': 0.8771385598796766, 'support': 9540}\n",
      "happy:  {'precision': 0.6241007194244604, 'recall': 0.12609011627906977, 'f1-score': 0.2097944377267231, 'support': 2752}\n",
      "Probability estimates\n",
      "0: [0.82846148 0.17153852]\n",
      "1: [0.80542524 0.19457476]\n"
     ]
    }
   ],
   "source": [
    "#TRAIN UNBALANCED, TEST UNBALANCED SCENARIOS ARE OUTLINED BELOW\n",
    "import time\n",
    "#Non Happy vs Happy df\n",
    "hnh_train, hnh_test = train_test_split(happyVsRest, test_size=0.2, random_state=42)\n",
    "\n",
    "vectorizer = TfidfVectorizer(min_df = 5,\n",
    "                             max_df = 0.8,\n",
    "                             sublinear_tf = True,\n",
    "                             use_idf = True)\n",
    "train_vectors = vectorizer.fit_transform(hnh_train['Text'])\n",
    "test_vectors = vectorizer.transform(hnh_test['Text'])\n",
    "\n",
    "# Perform classification with SVM, kernel=linear\n",
    "classifier_linear = svm.SVC(kernel='linear', probability = True)\n",
    "t0 = time.time()\n",
    "classifier_linear.fit(train_vectors, hnh_train['sentiment'])\n",
    "t1 = time.time()\n",
    "prediction_linear = classifier_linear.predict(test_vectors)\n",
    "t2 = time.time()\n",
    "time_linear_train = t1-t0\n",
    "time_linear_predict = t2-t1\n",
    "\n",
    "# results\n",
    "print(\"Training time: %fs; Prediction time: %fs\" % (time_linear_train, time_linear_predict))\n",
    "report = classification_report(hnh_test['sentiment'], prediction_linear, output_dict=True)\n",
    "print('not happy: ', report['0'])\n",
    "print('happy: ', report['1'])\n",
    "\n",
    "\n",
    "results = classifier_linear.predict_proba(test_vectors)\n",
    "classes = classifier_linear.classes_\n",
    "\n",
    "# results_ordered_by_probability = map(lambda x: x[0], sorted(zip(classifier_linear.classes_, results), key=lambda x: x[1], reverse=True))\n",
    "\n",
    "print(\"Probability estimates\")\n",
    "# print(results)\n",
    "for class_name, result in zip(classes, results):\n",
    "    print(f\"{class_name}: {result}\")"
   ]
  },
  {
   "cell_type": "code",
   "execution_count": 17,
   "id": "256f8811",
   "metadata": {},
   "outputs": [
    {
     "name": "stdout",
     "output_type": "stream",
     "text": [
      "0: 0.8054252356817724\n",
      "1: 0.19457476431822754\n"
     ]
    }
   ],
   "source": [
    "results2 = results[1]\n",
    "for class_name, result in zip(classes, results2):\n",
    "    print(f\"{class_name}: {result}\")"
   ]
  },
  {
   "cell_type": "code",
   "execution_count": 15,
   "id": "b5f14d99",
   "metadata": {},
   "outputs": [
    {
     "data": {
      "text/html": [
       "<div>\n",
       "<style scoped>\n",
       "    .dataframe tbody tr th:only-of-type {\n",
       "        vertical-align: middle;\n",
       "    }\n",
       "\n",
       "    .dataframe tbody tr th {\n",
       "        vertical-align: top;\n",
       "    }\n",
       "\n",
       "    .dataframe thead th {\n",
       "        text-align: right;\n",
       "    }\n",
       "</style>\n",
       "<table border=\"1\" class=\"dataframe\">\n",
       "  <thead>\n",
       "    <tr style=\"text-align: right;\">\n",
       "      <th></th>\n",
       "      <th>sentiment</th>\n",
       "      <th>Text</th>\n",
       "    </tr>\n",
       "  </thead>\n",
       "  <tbody>\n",
       "    <tr>\n",
       "      <th>0</th>\n",
       "      <td>not fear</td>\n",
       "      <td>@tiffanylue i know  i was listenin to bad habi...</td>\n",
       "    </tr>\n",
       "    <tr>\n",
       "      <th>1</th>\n",
       "      <td>not fear</td>\n",
       "      <td>Layin n bed with a headache  ughhhh...waitin o...</td>\n",
       "    </tr>\n",
       "    <tr>\n",
       "      <th>2</th>\n",
       "      <td>not fear</td>\n",
       "      <td>Funeral ceremony...gloomy friday...</td>\n",
       "    </tr>\n",
       "    <tr>\n",
       "      <th>3</th>\n",
       "      <td>not fear</td>\n",
       "      <td>wants to hang out with friends SOON!</td>\n",
       "    </tr>\n",
       "    <tr>\n",
       "      <th>4</th>\n",
       "      <td>not fear</td>\n",
       "      <td>@dannycastillo We want to trade with someone w...</td>\n",
       "    </tr>\n",
       "  </tbody>\n",
       "</table>\n",
       "</div>"
      ],
      "text/plain": [
       "  sentiment                                               Text\n",
       "0  not fear  @tiffanylue i know  i was listenin to bad habi...\n",
       "1  not fear  Layin n bed with a headache  ughhhh...waitin o...\n",
       "2  not fear                Funeral ceremony...gloomy friday...\n",
       "3  not fear               wants to hang out with friends SOON!\n",
       "4  not fear  @dannycastillo We want to trade with someone w..."
      ]
     },
     "execution_count": 15,
     "metadata": {},
     "output_type": "execute_result"
    }
   ],
   "source": [
    "fearVsRest = pd.read_csv('combined_data.csv')\n",
    "\n",
    "fearVsRest['sentiment'] = np.where((fearVsRest.sentiment != 'fear'),'not fear', fearVsRest.sentiment)\n",
    "\n",
    "fearVsRest.head()"
   ]
  },
  {
   "cell_type": "code",
   "execution_count": 16,
   "id": "7c794e04",
   "metadata": {},
   "outputs": [
    {
     "name": "stdout",
     "output_type": "stream",
     "text": [
      "Training time: 502.315996s; Prediction time: 34.620466s\n",
      "not fear:  {'precision': 0.7567336468576314, 'recall': 0.9809354910219463, 'f1-score': 0.8543708065839647, 'support': 9022}\n",
      "fear:  {'precision': 0.711892797319933, 'recall': 0.12996941896024464, 'f1-score': 0.21980863718644944, 'support': 3270}\n"
     ]
    }
   ],
   "source": [
    "#Non Fear vs Fear df\n",
    "fnf_train, fnf_test = train_test_split(fearVsRest, test_size=0.2, random_state=42)\n",
    "\n",
    "vectorizer = TfidfVectorizer(min_df = 5,\n",
    "                             max_df = 0.8,\n",
    "                             sublinear_tf = True,\n",
    "                             use_idf = True)\n",
    "train_vectors = vectorizer.fit_transform(fnf_train['Text'])\n",
    "test_vectors = vectorizer.transform(fnf_test['Text'])\n",
    "\n",
    "# Perform classification with SVM, kernel=linear\n",
    "classifier_linear = svm.SVC(kernel='linear')\n",
    "t0 = time.time()\n",
    "classifier_linear.fit(train_vectors, fnf_train['sentiment'])\n",
    "t1 = time.time()\n",
    "prediction_linear = classifier_linear.predict(test_vectors)\n",
    "t2 = time.time()\n",
    "time_linear_train = t1-t0\n",
    "time_linear_predict = t2-t1\n",
    "\n",
    "# results\n",
    "print(\"Training time: %fs; Prediction time: %fs\" % (time_linear_train, time_linear_predict))\n",
    "report = classification_report(fnf_test['sentiment'], prediction_linear, output_dict=True)\n",
    "print('not fear: ', report['not fear'])\n",
    "print('fear: ', report['fear'])"
   ]
  },
  {
   "cell_type": "code",
   "execution_count": 19,
   "id": "18eae009",
   "metadata": {},
   "outputs": [
    {
     "name": "stdout",
     "output_type": "stream",
     "text": [
      "Training time: 406.767569s; Prediction time: 61.910850s\n",
      "sadness:  {'precision': 0.4468814256339959, 'recall': 0.33487416538264, 'f1-score': 0.3828537874339401, 'support': 1947}\n"
     ]
    }
   ],
   "source": [
    "sadVsRest = pd.read_csv('combined_data.csv')\n",
    "\n",
    "sadVsRest['sadness'] = np.where((sadVsRest.sentiment != 'sadness'),'not sadness', sadVsRest.sentiment)\n",
    "\n",
    "sadVsRest.head()\n",
    "\n",
    "#Non Sadness vs Sadness df\n",
    "sns_train, sns_test = train_test_split(sadVsRest, test_size=0.2, random_state=42)\n",
    "\n",
    "vectorizer = TfidfVectorizer(min_df = 5,\n",
    "                             max_df = 0.8,\n",
    "                             sublinear_tf = True,\n",
    "                             use_idf = True)\n",
    "train_vectors = vectorizer.fit_transform(sns_train['Text'])\n",
    "test_vectors = vectorizer.transform(sns_test['Text'])\n",
    "\n",
    "# Perform classification with SVM, kernel=linear\n",
    "classifier_linear = svm.SVC(kernel='linear')\n",
    "t0 = time.time()\n",
    "classifier_linear.fit(train_vectors, sns_train['sentiment'])\n",
    "t1 = time.time()\n",
    "prediction_linear = classifier_linear.predict(test_vectors)\n",
    "t2 = time.time()\n",
    "time_linear_train = t1-t0\n",
    "time_linear_predict = t2-t1\n",
    "\n",
    "# results\n",
    "print(\"Training time: %fs; Prediction time: %fs\" % (time_linear_train, time_linear_predict))\n",
    "report = classification_report(sns_test['sentiment'], prediction_linear, output_dict=True)\n",
    "\n",
    "print('sadness: ', report['sadness'])"
   ]
  },
  {
   "cell_type": "code",
   "execution_count": 21,
   "id": "669f8a67",
   "metadata": {},
   "outputs": [
    {
     "name": "stdout",
     "output_type": "stream",
     "text": [
      "Training time: 439.986216s; Prediction time: 69.803237s\n",
      "anger:  {'precision': 0.48905109489051096, 'recall': 0.2554002541296061, 'f1-score': 0.33555926544240405, 'support': 787}\n"
     ]
    }
   ],
   "source": [
    "angerVsRest = pd.read_csv('combined_data.csv')\n",
    "\n",
    "angerVsRest['anger'] = np.where((angerVsRest.sentiment != 'anger'),'not anger', angerVsRest.sentiment)\n",
    "\n",
    "angerVsRest.head()\n",
    "\n",
    "ana_train, ana_test = train_test_split(angerVsRest, test_size=0.2, random_state=42)\n",
    "\n",
    "vectorizer = TfidfVectorizer(min_df = 5,\n",
    "                             max_df = 0.8,\n",
    "                             sublinear_tf = True,\n",
    "                             use_idf = True)\n",
    "train_vectors = vectorizer.fit_transform(ana_train['Text'])\n",
    "test_vectors = vectorizer.transform(ana_test['Text'])\n",
    "\n",
    "# Perform classification with SVM, kernel=linear\n",
    "classifier_linear = svm.SVC(kernel='linear')\n",
    "t0 = time.time()\n",
    "classifier_linear.fit(train_vectors, ana_train['sentiment'])\n",
    "t1 = time.time()\n",
    "prediction_linear = classifier_linear.predict(test_vectors)\n",
    "t2 = time.time()\n",
    "time_linear_train = t1-t0\n",
    "time_linear_predict = t2-t1\n",
    "\n",
    "# results\n",
    "print(\"Training time: %fs; Prediction time: %fs\" % (time_linear_train, time_linear_predict))\n",
    "report = classification_report(ana_test['sentiment'], prediction_linear, output_dict=True)\n",
    "\n",
    "print('anger: ', report['anger'])"
   ]
  }
 ],
 "metadata": {
  "hide_input": false,
  "kernelspec": {
   "display_name": "Python 3",
   "language": "python",
   "name": "python3"
  },
  "language_info": {
   "codemirror_mode": {
    "name": "ipython",
    "version": 3
   },
   "file_extension": ".py",
   "mimetype": "text/x-python",
   "name": "python",
   "nbconvert_exporter": "python",
   "pygments_lexer": "ipython3",
   "version": "3.8.8"
  }
 },
 "nbformat": 4,
 "nbformat_minor": 5
}
