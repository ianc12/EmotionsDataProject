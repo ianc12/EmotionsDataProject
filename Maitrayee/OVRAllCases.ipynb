{
 "cells": [
  {
   "cell_type": "code",
   "execution_count": 43,
   "id": "41d0e190",
   "metadata": {},
   "outputs": [],
   "source": [
    "import pandas as pd\n",
    "import numpy as np\n",
    "import matplotlib.pyplot as plt"
   ]
  },
  {
   "cell_type": "code",
   "execution_count": 44,
   "id": "2458a7dd",
   "metadata": {},
   "outputs": [
    {
     "data": {
      "text/plain": [
       "fear        16241\n",
       "happy       13508\n",
       "sadness      9796\n",
       "neutral      8960\n",
       "love         4720\n",
       "anger        4069\n",
       "surprise     2639\n",
       "relief       1526\n",
       "Name: sentiment, dtype: int64"
      ]
     },
     "execution_count": 44,
     "metadata": {},
     "output_type": "execute_result"
    }
   ],
   "source": [
    "df = pd.read_csv('combined_data.csv')\n",
    "df.head()\n",
    "df['sentiment'].value_counts()"
   ]
  },
  {
   "cell_type": "code",
   "execution_count": 45,
   "id": "554fe7f4",
   "metadata": {},
   "outputs": [],
   "source": [
    "import nltk\n",
    "from nltk.corpus import stopwords\n",
    "from nltk.tokenize import word_tokenize\n",
    "import re\n",
    "\n",
    "stopWords = stopwords.words(\"english\")\n",
    "\n",
    "def cleanText(text):\n",
    "    \n",
    "    output = \"\"\n",
    "    \n",
    "    \n",
    "    for word in text.split():\n",
    "        cleanWord = re.sub(\"[^a-zA-Z]\",  # Search for all non-letters\n",
    "                          \" \",          # Replace all non-letters with spaces\n",
    "                          str(word))\n",
    "        if cleanWord in stopWords:\n",
    "            pass\n",
    "        else:\n",
    "            output = output + \" \" + cleanWord\n",
    "    return output"
   ]
  },
  {
   "cell_type": "code",
   "execution_count": 46,
   "id": "b43b32d7",
   "metadata": {},
   "outputs": [],
   "source": [
    "df.Text = df.Text.apply(lambda x: cleanText(x))"
   ]
  },
  {
   "cell_type": "code",
   "execution_count": 47,
   "id": "b59d014d",
   "metadata": {},
   "outputs": [],
   "source": [
    "from sklearn.model_selection import train_test_split\n",
    "from sklearn.feature_extraction.text import TfidfVectorizer,CountVectorizer\n",
    "from sklearn import svm\n",
    "from sklearn.metrics import classification_report"
   ]
  },
  {
   "cell_type": "code",
   "execution_count": 48,
   "id": "40400a2f",
   "metadata": {},
   "outputs": [],
   "source": [
    "def stratify(data, N):\n",
    "    rows = []\n",
    "    fear = data[data['sentiment'] == 'fear']\n",
    "    happy = data[data['sentiment'] == 'happy']\n",
    "    sad = data[data['sentiment'] == 'sadness']\n",
    "    neutral = data[data['sentiment'] == 'neutral']\n",
    "    love = data[data['sentiment'] == 'love']\n",
    "    anger = data[data['sentiment'] == 'anger']\n",
    "    surprise = data[data['sentiment'] == 'surprise']\n",
    "    relief = data[data['sentiment'] == 'relief']\n",
    "    \n",
    "    for i in range(N):\n",
    "        #print(fear.loc[np.random.choice(fear.index)])\n",
    "        rows.append(fear.loc[np.random.choice(fear.index)])\n",
    "        rows.append(happy.loc[np.random.choice(happy.index)])\n",
    "        rows.append(sad.loc[np.random.choice(sad.index)])\n",
    "        rows.append(neutral.loc[np.random.choice(neutral.index)])\n",
    "        rows.append(love.loc[np.random.choice(love.index)])\n",
    "        rows.append(anger.loc[np.random.choice(anger.index)])\n",
    "        rows.append(surprise.loc[np.random.choice(surprise.index)])\n",
    "        rows.append(relief.loc[np.random.choice(relief.index)])\n",
    "    sentiments = [x['sentiment'] for x in rows]\n",
    "    texts = [x['Text'] for x in rows]\n",
    "    d = {'sentiment': sentiments, 'Text': texts}\n",
    "    return pd.DataFrame(d)"
   ]
  },
  {
   "cell_type": "code",
   "execution_count": 49,
   "id": "beb02bf4",
   "metadata": {},
   "outputs": [
    {
     "data": {
      "text/plain": [
       "fear        10000\n",
       "relief      10000\n",
       "anger       10000\n",
       "happy       10000\n",
       "neutral     10000\n",
       "sadness     10000\n",
       "surprise    10000\n",
       "love        10000\n",
       "Name: sentiment, dtype: int64"
      ]
     },
     "execution_count": 49,
     "metadata": {},
     "output_type": "execute_result"
    }
   ],
   "source": [
    "#Creating a balanced dataset with 10000 records for each emotion\n",
    "balancedDf = stratify(df, 10000)\n",
    "balancedDf['sentiment'].value_counts()"
   ]
  },
  {
   "cell_type": "code",
   "execution_count": 50,
   "id": "eb177387",
   "metadata": {
    "scrolled": true
   },
   "outputs": [
    {
     "name": "stdout",
     "output_type": "stream",
     "text": [
      "(10000, 2)\n",
      "sadness     1489\n",
      "relief      1452\n",
      "love        1440\n",
      "fear        1423\n",
      "anger       1421\n",
      "surprise    1420\n",
      "neutral     1355\n",
      "Name: sentiment, dtype: int64\n"
     ]
    }
   ],
   "source": [
    "happy10k = balancedDf[balancedDf['sentiment'] == 'happy']\n",
    "nonHappyDf = balancedDf[balancedDf['sentiment'] != 'happy']\n",
    "nonHappy10k = nonHappyDf.sample(n=10000)\n",
    "print(nonHappy10k.shape)\n",
    "print(nonHappy10k['sentiment'].value_counts())"
   ]
  },
  {
   "cell_type": "code",
   "execution_count": 51,
   "id": "91c0f1df",
   "metadata": {},
   "outputs": [
    {
     "name": "stdout",
     "output_type": "stream",
     "text": [
      "not happy    10000\n",
      "happy        10000\n",
      "Name: sentiment, dtype: int64\n"
     ]
    }
   ],
   "source": [
    "balancedHappyVsRest = pd.concat([happy10k, nonHappy10k], axis=0)\n",
    "\n",
    "balancedHappyVsRest['sentiment'] = np.where((balancedHappyVsRest.sentiment != 'happy'),'not happy', balancedHappyVsRest.sentiment)\n",
    "print(balancedHappyVsRest['sentiment'].value_counts())"
   ]
  },
  {
   "cell_type": "code",
   "execution_count": 52,
   "id": "e3d65303",
   "metadata": {},
   "outputs": [
    {
     "name": "stdout",
     "output_type": "stream",
     "text": [
      "Training time: 14.645315s; Prediction time: 2.371131s\n",
      "not happy:  {'precision': 0.6789940828402367, 'recall': 0.6951034830893488, 'f1-score': 0.6869543527064106, 'support': 1981}\n",
      "happy:  {'precision': 0.6937119675456389, 'recall': 0.6775631500742942, 'f1-score': 0.6855424705587572, 'support': 2019}\n"
     ]
    }
   ],
   "source": [
    "import time\n",
    "\n",
    "#Balanced Happy Vs Rest\n",
    "bhr_train, bhr_test = train_test_split(balancedHappyVsRest, test_size=0.2, random_state=42)\n",
    "\n",
    "vectorizer = TfidfVectorizer(min_df = 5,\n",
    "                             max_df = 0.8,\n",
    "                             sublinear_tf = True,\n",
    "                             use_idf = True)\n",
    "train_vectors = vectorizer.fit_transform(bhr_train['Text'])\n",
    "test_vectors = vectorizer.transform(bhr_test['Text'])\n",
    "\n",
    "# Perform classification with SVM, kernel=linear\n",
    "classifier_linear = svm.SVC(kernel='linear')\n",
    "t0 = time.time()\n",
    "classifier_linear.fit(train_vectors, bhr_train['sentiment'])\n",
    "t1 = time.time()\n",
    "prediction_linear = classifier_linear.predict(test_vectors)\n",
    "t2 = time.time()\n",
    "time_linear_train = t1-t0\n",
    "time_linear_predict = t2-t1\n",
    "\n",
    "# results\n",
    "print(\"Training time: %fs; Prediction time: %fs\" % (time_linear_train, time_linear_predict))\n",
    "report = classification_report(bhr_test['sentiment'], prediction_linear, output_dict=True)\n",
    "print('not happy: ', report['not happy'])\n",
    "print('happy: ', report['happy'])"
   ]
  },
  {
   "cell_type": "code",
   "execution_count": 53,
   "id": "ad8c9ee3",
   "metadata": {},
   "outputs": [
    {
     "name": "stdout",
     "output_type": "stream",
     "text": [
      "(10000, 2)\n",
      "sadness     1493\n",
      "surprise    1458\n",
      "love        1454\n",
      "neutral     1441\n",
      "anger       1436\n",
      "happy       1386\n",
      "relief      1332\n",
      "Name: sentiment, dtype: int64\n",
      "fear    10000\n",
      "Name: sentiment, dtype: int64\n",
      "fear        10000\n",
      "not fear    10000\n",
      "Name: sentiment, dtype: int64\n"
     ]
    }
   ],
   "source": [
    "fear10k = balancedDf[balancedDf['sentiment'] == 'fear']\n",
    "nonFearDf = balancedDf[balancedDf['sentiment'] != 'fear']\n",
    "nonFear10k = nonFearDf.sample(n=10000)\n",
    "print(nonFear10k.shape)\n",
    "print(nonFear10k['sentiment'].value_counts())\n",
    "print(fear10k['sentiment'].value_counts())\n",
    "\n",
    "balancedFearVsRest = pd.concat([fear10k, nonFear10k], axis=0)\n",
    "\n",
    "balancedFearVsRest['sentiment'] = np.where((balancedFearVsRest.sentiment != 'fear'),'not fear', balancedFearVsRest.sentiment)\n",
    "print(balancedFearVsRest['sentiment'].value_counts())"
   ]
  },
  {
   "cell_type": "code",
   "execution_count": 54,
   "id": "f5b4b0f6",
   "metadata": {},
   "outputs": [
    {
     "name": "stdout",
     "output_type": "stream",
     "text": [
      "Training time: 15.614387s; Prediction time: 2.689634s\n",
      "not fear:  {'precision': 0.6539245667686034, 'recall': 0.6476527006562343, 'f1-score': 0.6507735226984529, 'support': 1981}\n",
      "fear:  {'precision': 0.6575073601570167, 'recall': 0.6636948984645864, 'f1-score': 0.660586640374661, 'support': 2019}\n"
     ]
    }
   ],
   "source": [
    "#Balanced Fear Vs Rest\n",
    "bfr_train, bfr_test = train_test_split(balancedFearVsRest, test_size=0.2, random_state=42)\n",
    "\n",
    "vectorizer = TfidfVectorizer(min_df = 5,\n",
    "                             max_df = 0.8,\n",
    "                             sublinear_tf = True,\n",
    "                             use_idf = True)\n",
    "train_vectors = vectorizer.fit_transform(bfr_train['Text'])\n",
    "test_vectors = vectorizer.transform(bfr_test['Text'])\n",
    "\n",
    "# Perform classification with SVM, kernel=linear\n",
    "classifier_linear = svm.SVC(kernel='linear')\n",
    "t0 = time.time()\n",
    "classifier_linear.fit(train_vectors, bfr_train['sentiment'])\n",
    "t1 = time.time()\n",
    "prediction_linear = classifier_linear.predict(test_vectors)\n",
    "t2 = time.time()\n",
    "time_linear_train = t1-t0\n",
    "time_linear_predict = t2-t1\n",
    "\n",
    "# results\n",
    "print(\"Training time: %fs; Prediction time: %fs\" % (time_linear_train, time_linear_predict))\n",
    "report = classification_report(bfr_test['sentiment'], prediction_linear, output_dict=True)\n",
    "print('not fear: ', report['not fear'])\n",
    "print('fear: ', report['fear'])"
   ]
  },
  {
   "cell_type": "code",
   "execution_count": 55,
   "id": "29a1336b",
   "metadata": {},
   "outputs": [
    {
     "name": "stdout",
     "output_type": "stream",
     "text": [
      "(10000, 2)\n",
      "relief      1466\n",
      "anger       1453\n",
      "neutral     1453\n",
      "happy       1441\n",
      "surprise    1411\n",
      "fear        1400\n",
      "love        1376\n",
      "Name: sentiment, dtype: int64\n",
      "sadness    10000\n",
      "Name: sentiment, dtype: int64\n",
      "not sadness    10000\n",
      "sadness        10000\n",
      "Name: sentiment, dtype: int64\n"
     ]
    }
   ],
   "source": [
    "sadness10k = balancedDf[balancedDf['sentiment'] == 'sadness']\n",
    "nonSadnessDf = balancedDf[balancedDf['sentiment'] != 'sadness']\n",
    "nonSadness10k = nonSadnessDf.sample(n=10000)\n",
    "print(nonSadness10k.shape)\n",
    "print(nonSadness10k['sentiment'].value_counts())\n",
    "print(sadness10k['sentiment'].value_counts())\n",
    "\n",
    "balancedSadVsRest = pd.concat([sadness10k, nonSadness10k], axis=0)\n",
    "\n",
    "balancedSadVsRest['sentiment'] = np.where((balancedSadVsRest.sentiment != 'sadness'),'not sadness', balancedSadVsRest.sentiment)\n",
    "print(balancedSadVsRest['sentiment'].value_counts())"
   ]
  },
  {
   "cell_type": "code",
   "execution_count": 56,
   "id": "ac8962e8",
   "metadata": {},
   "outputs": [
    {
     "name": "stdout",
     "output_type": "stream",
     "text": [
      "Training time: 14.189356s; Prediction time: 2.277876s\n",
      "not sadness:  {'precision': 0.7353664535169699, 'recall': 0.7546693589096416, 'f1-score': 0.744892874937718, 'support': 1981}\n",
      "sadness:  {'precision': 0.7529232333502797, 'recall': 0.733531451213472, 'f1-score': 0.743100852985449, 'support': 2019}\n"
     ]
    }
   ],
   "source": [
    "#Balanced Sad Vs Rest\n",
    "bsr_train, bsr_test = train_test_split(balancedSadVsRest, test_size=0.2, random_state=42)\n",
    "\n",
    "vectorizer = TfidfVectorizer(min_df = 5,\n",
    "                             max_df = 0.8,\n",
    "                             sublinear_tf = True,\n",
    "                             use_idf = True)\n",
    "train_vectors = vectorizer.fit_transform(bsr_train['Text'])\n",
    "test_vectors = vectorizer.transform(bsr_test['Text'])\n",
    "\n",
    "# Perform classification with SVM, kernel=linear\n",
    "classifier_linear = svm.SVC(kernel='linear')\n",
    "t0 = time.time()\n",
    "classifier_linear.fit(train_vectors, bsr_train['sentiment'])\n",
    "t1 = time.time()\n",
    "prediction_linear = classifier_linear.predict(test_vectors)\n",
    "t2 = time.time()\n",
    "time_linear_train = t1-t0\n",
    "time_linear_predict = t2-t1\n",
    "\n",
    "# results\n",
    "print(\"Training time: %fs; Prediction time: %fs\" % (time_linear_train, time_linear_predict))\n",
    "report = classification_report(bsr_test['sentiment'], prediction_linear, output_dict=True)\n",
    "print('not sadness: ', report['not sadness'])\n",
    "print('sadness: ', report['sadness'])"
   ]
  },
  {
   "cell_type": "code",
   "execution_count": 61,
   "id": "fdd7d4a7",
   "metadata": {},
   "outputs": [
    {
     "name": "stdout",
     "output_type": "stream",
     "text": [
      "Training time: 13.909613s; Prediction time: 8.757547s\n",
      "not sadness:  {'precision': 0.9246455097906819, 'recall': 0.6618656355727405, 'f1-score': 0.7714929577464789, 'support': 10345}\n",
      "sadness:  {'precision': 0.2842234499693063, 'recall': 0.7134052388289677, 'f1-score': 0.4064969271290606, 'support': 1947}\n"
     ]
    }
   ],
   "source": [
    "#Train balanced, test unbalanced for Sad vs rest\n",
    "sadVsRestUnbalancedDf = pd.read_csv('combined_data.csv')\n",
    "sadVsRestUnbalancedDf['sentiment'] = np.where((sadVsRestUnbalancedDf.sentiment != 'sadness'),'not sadness', sadVsRestUnbalancedDf.sentiment)\n",
    "sadU_train, sadU_test = train_test_split(sadVsRestUnbalancedDf, test_size=0.2, random_state=42)\n",
    "\n",
    "vectorizer = TfidfVectorizer(min_df = 5,\n",
    "                             max_df = 0.8,\n",
    "                             sublinear_tf = True,\n",
    "                             use_idf = True)\n",
    "train_vectors = vectorizer.fit_transform(bsr_train['Text'])\n",
    "test_vectors = vectorizer.transform(sadU_test['Text'])\n",
    "\n",
    "# Perform classification with SVM, kernel=linear\n",
    "classifier_linear = svm.SVC(kernel='linear')\n",
    "t0 = time.time()\n",
    "classifier_linear.fit(train_vectors, bsr_train['sentiment'])\n",
    "t1 = time.time()\n",
    "prediction_linear = classifier_linear.predict(test_vectors)\n",
    "t2 = time.time()\n",
    "time_linear_train = t1-t0\n",
    "time_linear_predict = t2-t1\n",
    "\n",
    "# results\n",
    "print(\"Training time: %fs; Prediction time: %fs\" % (time_linear_train, time_linear_predict))\n",
    "report = classification_report(sadU_test['sentiment'], prediction_linear, output_dict=True)\n",
    "print('not sadness: ', report['not sadness'])\n",
    "print('sadness: ', report['sadness'])"
   ]
  },
  {
   "cell_type": "code",
   "execution_count": 62,
   "id": "2b8017a4",
   "metadata": {},
   "outputs": [
    {
     "name": "stdout",
     "output_type": "stream",
     "text": [
      "Training time: 14.661261s; Prediction time: 9.324991s\n",
      "not happy:  {'precision': 0.8438431805632247, 'recall': 0.8009433962264151, 'f1-score': 0.8218338262973917, 'support': 9540}\n",
      "happy:  {'precision': 0.41334569045412417, 'recall': 0.48619186046511625, 'f1-score': 0.4468191684755385, 'support': 2752}\n"
     ]
    }
   ],
   "source": [
    "#Train balanced, test unbalanced for Happy vs rest\n",
    "happyVsRestUnbalancedDf = pd.read_csv('combined_data.csv')\n",
    "happyVsRestUnbalancedDf['sentiment'] = np.where((happyVsRestUnbalancedDf.sentiment != 'happy'),'not happy', happyVsRestUnbalancedDf.sentiment)\n",
    "happyU_train, happyU_test = train_test_split(happyVsRestUnbalancedDf, test_size=0.2, random_state=42)\n",
    "\n",
    "vectorizer = TfidfVectorizer(min_df = 5,\n",
    "                             max_df = 0.8,\n",
    "                             sublinear_tf = True,\n",
    "                             use_idf = True)\n",
    "train_vectors = vectorizer.fit_transform(bhr_train['Text'])\n",
    "test_vectors = vectorizer.transform(happyU_test['Text'])\n",
    "\n",
    "# Perform classification with SVM, kernel=linear\n",
    "classifier_linear = svm.SVC(kernel='linear')\n",
    "t0 = time.time()\n",
    "classifier_linear.fit(train_vectors, bhr_train['sentiment'])\n",
    "t1 = time.time()\n",
    "prediction_linear = classifier_linear.predict(test_vectors)\n",
    "t2 = time.time()\n",
    "time_linear_train = t1-t0\n",
    "time_linear_predict = t2-t1\n",
    "\n",
    "# results\n",
    "print(\"Training time: %fs; Prediction time: %fs\" % (time_linear_train, time_linear_predict))\n",
    "report = classification_report(happyU_test['sentiment'], prediction_linear, output_dict=True)\n",
    "print('not happy: ', report['not happy'])\n",
    "print('happy: ', report['happy'])"
   ]
  },
  {
   "cell_type": "code",
   "execution_count": 63,
   "id": "5c55d1fe",
   "metadata": {},
   "outputs": [
    {
     "name": "stdout",
     "output_type": "stream",
     "text": [
      "Training time: 17.898834s; Prediction time: 11.710220s\n",
      "not fear:  {'precision': 0.8018028846153846, 'recall': 0.7394147639104411, 'f1-score': 0.7693460961826779, 'support': 9022}\n",
      "fear:  {'precision': 0.4081067472306143, 'recall': 0.4957186544342508, 'f1-score': 0.44766639049986195, 'support': 3270}\n"
     ]
    }
   ],
   "source": [
    "#Train balanced, test unbalanced for Fear vs rest\n",
    "fearVsRestUnbalancedDf = pd.read_csv('combined_data.csv')\n",
    "fearVsRestUnbalancedDf['sentiment'] = np.where((fearVsRestUnbalancedDf.sentiment != 'fear'),'not fear', fearVsRestUnbalancedDf.sentiment)\n",
    "fearU_train, fearU_test = train_test_split(fearVsRestUnbalancedDf, test_size=0.2, random_state=42)\n",
    "\n",
    "vectorizer = TfidfVectorizer(min_df = 5,\n",
    "                             max_df = 0.8,\n",
    "                             sublinear_tf = True,\n",
    "                             use_idf = True)\n",
    "train_vectors = vectorizer.fit_transform(bfr_train['Text'])\n",
    "test_vectors = vectorizer.transform(fearU_test['Text'])\n",
    "\n",
    "# Perform classification with SVM, kernel=linear\n",
    "classifier_linear = svm.SVC(kernel='linear')\n",
    "t0 = time.time()\n",
    "classifier_linear.fit(train_vectors, bfr_train['sentiment'])\n",
    "t1 = time.time()\n",
    "prediction_linear = classifier_linear.predict(test_vectors)\n",
    "t2 = time.time()\n",
    "time_linear_train = t1-t0\n",
    "time_linear_predict = t2-t1\n",
    "\n",
    "# results\n",
    "print(\"Training time: %fs; Prediction time: %fs\" % (time_linear_train, time_linear_predict))\n",
    "report = classification_report(fearU_test['sentiment'], prediction_linear, output_dict=True)\n",
    "print('not fear: ', report['not fear'])\n",
    "print('fear: ', report['fear'])"
   ]
  },
  {
   "cell_type": "code",
   "execution_count": 64,
   "id": "ce1cc737",
   "metadata": {},
   "outputs": [
    {
     "name": "stdout",
     "output_type": "stream",
     "text": [
      "Training time: 333.817491s; Prediction time: 6.473613s\n",
      "not sadness:  {'precision': 0.5249399839957322, 'recall': 0.9934376577486118, 'f1-score': 0.6869109947643979, 'support': 1981}\n",
      "sadness:  {'precision': 0.9482071713147411, 'recall': 0.1178801386825161, 'f1-score': 0.20969162995594712, 'support': 2019}\n"
     ]
    }
   ],
   "source": [
    "#Train unbalanced, test balanced for Sad vs rest\n",
    "\n",
    "vectorizer = TfidfVectorizer(min_df = 5,\n",
    "                             max_df = 0.8,\n",
    "                             sublinear_tf = True,\n",
    "                             use_idf = True)\n",
    "train_vectors = vectorizer.fit_transform(sadU_train['Text'])\n",
    "test_vectors = vectorizer.transform(bsr_test['Text'])\n",
    "\n",
    "# Perform classification with SVM, kernel=linear\n",
    "classifier_linear = svm.SVC(kernel='linear')\n",
    "t0 = time.time()\n",
    "classifier_linear.fit(train_vectors, sadU_train['sentiment'])\n",
    "t1 = time.time()\n",
    "prediction_linear = classifier_linear.predict(test_vectors)\n",
    "t2 = time.time()\n",
    "time_linear_train = t1-t0\n",
    "time_linear_predict = t2-t1\n",
    "\n",
    "# results\n",
    "print(\"Training time: %fs; Prediction time: %fs\" % (time_linear_train, time_linear_predict))\n",
    "report = classification_report(bsr_test['sentiment'], prediction_linear, output_dict=True)\n",
    "print('not sadness: ', report['not sadness'])\n",
    "print('sadness: ', report['sadness'])"
   ]
  },
  {
   "cell_type": "code",
   "execution_count": 65,
   "id": "6cf448a9",
   "metadata": {},
   "outputs": [
    {
     "name": "stdout",
     "output_type": "stream",
     "text": [
      "Training time: 431.555881s; Prediction time: 9.125947s\n",
      "not happy:  {'precision': 0.5425383542538355, 'recall': 0.9818273599192328, 'f1-score': 0.6988860941430112, 'support': 1981}\n",
      "happy:  {'precision': 0.9132530120481928, 'recall': 0.18771669143140168, 'f1-score': 0.3114215283483977, 'support': 2019}\n"
     ]
    }
   ],
   "source": [
    "#Train unbalanced, test balanced for Happy vs rest\n",
    "\n",
    "vectorizer = TfidfVectorizer(min_df = 5,\n",
    "                             max_df = 0.8,\n",
    "                             sublinear_tf = True,\n",
    "                             use_idf = True)\n",
    "train_vectors = vectorizer.fit_transform(happyU_train['Text'])\n",
    "test_vectors = vectorizer.transform(bhr_test['Text'])\n",
    "\n",
    "# Perform classification with SVM, kernel=linear\n",
    "classifier_linear = svm.SVC(kernel='linear')\n",
    "t0 = time.time()\n",
    "classifier_linear.fit(train_vectors, happyU_train['sentiment'])\n",
    "t1 = time.time()\n",
    "prediction_linear = classifier_linear.predict(test_vectors)\n",
    "t2 = time.time()\n",
    "time_linear_train = t1-t0\n",
    "time_linear_predict = t2-t1\n",
    "\n",
    "# results\n",
    "print(\"Training time: %fs; Prediction time: %fs\" % (time_linear_train, time_linear_predict))\n",
    "report = classification_report(bhr_test['sentiment'], prediction_linear, output_dict=True)\n",
    "print('not happy: ', report['not happy'])\n",
    "print('happy: ', report['happy'])"
   ]
  },
  {
   "cell_type": "code",
   "execution_count": 66,
   "id": "21d5c20c",
   "metadata": {},
   "outputs": [
    {
     "name": "stdout",
     "output_type": "stream",
     "text": [
      "Training time: 604.992728s; Prediction time: 10.971755s\n",
      "not fear:  {'precision': 0.5326797385620915, 'recall': 0.9873801110550228, 'f1-score': 0.6920219352556165, 'support': 1981}\n",
      "fear:  {'precision': 0.9237804878048781, 'recall': 0.150074294205052, 'f1-score': 0.2582019599488709, 'support': 2019}\n"
     ]
    }
   ],
   "source": [
    "#Train unbalanced, test balanced for Fear vs rest\n",
    "\n",
    "vectorizer = TfidfVectorizer(min_df = 5,\n",
    "                             max_df = 0.8,\n",
    "                             sublinear_tf = True,\n",
    "                             use_idf = True)\n",
    "train_vectors = vectorizer.fit_transform(fearU_train['Text'])\n",
    "test_vectors = vectorizer.transform(bfr_test['Text'])\n",
    "\n",
    "# Perform classification with SVM, kernel=linear\n",
    "classifier_linear = svm.SVC(kernel='linear')\n",
    "t0 = time.time()\n",
    "classifier_linear.fit(train_vectors, fearU_train['sentiment'])\n",
    "t1 = time.time()\n",
    "prediction_linear = classifier_linear.predict(test_vectors)\n",
    "t2 = time.time()\n",
    "time_linear_train = t1-t0\n",
    "time_linear_predict = t2-t1\n",
    "\n",
    "# results\n",
    "print(\"Training time: %fs; Prediction time: %fs\" % (time_linear_train, time_linear_predict))\n",
    "report = classification_report(bfr_test['sentiment'], prediction_linear, output_dict=True)\n",
    "print('not fear: ', report['not fear'])\n",
    "print('fear: ', report['fear'])"
   ]
  }
 ],
 "metadata": {
  "hide_input": false,
  "kernelspec": {
   "display_name": "Python 3",
   "language": "python",
   "name": "python3"
  },
  "language_info": {
   "codemirror_mode": {
    "name": "ipython",
    "version": 3
   },
   "file_extension": ".py",
   "mimetype": "text/x-python",
   "name": "python",
   "nbconvert_exporter": "python",
   "pygments_lexer": "ipython3",
   "version": "3.8.8"
  }
 },
 "nbformat": 4,
 "nbformat_minor": 5
}
