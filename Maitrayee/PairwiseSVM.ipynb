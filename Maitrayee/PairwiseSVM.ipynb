{
 "cells": [
  {
   "cell_type": "code",
   "execution_count": 1,
   "id": "41d0e190",
   "metadata": {},
   "outputs": [],
   "source": [
    "import pandas as pd\n",
    "import numpy as np\n",
    "import matplotlib.pyplot as plt"
   ]
  },
  {
   "cell_type": "code",
   "execution_count": 2,
   "id": "2458a7dd",
   "metadata": {},
   "outputs": [
    {
     "data": {
      "text/html": [
       "<div>\n",
       "<style scoped>\n",
       "    .dataframe tbody tr th:only-of-type {\n",
       "        vertical-align: middle;\n",
       "    }\n",
       "\n",
       "    .dataframe tbody tr th {\n",
       "        vertical-align: top;\n",
       "    }\n",
       "\n",
       "    .dataframe thead th {\n",
       "        text-align: right;\n",
       "    }\n",
       "</style>\n",
       "<table border=\"1\" class=\"dataframe\">\n",
       "  <thead>\n",
       "    <tr style=\"text-align: right;\">\n",
       "      <th></th>\n",
       "      <th>sentiment</th>\n",
       "      <th>Text</th>\n",
       "    </tr>\n",
       "  </thead>\n",
       "  <tbody>\n",
       "    <tr>\n",
       "      <th>0</th>\n",
       "      <td>sadness</td>\n",
       "      <td>@tiffanylue i know  i was listenin to bad habi...</td>\n",
       "    </tr>\n",
       "    <tr>\n",
       "      <th>1</th>\n",
       "      <td>sadness</td>\n",
       "      <td>Layin n bed with a headache  ughhhh...waitin o...</td>\n",
       "    </tr>\n",
       "    <tr>\n",
       "      <th>2</th>\n",
       "      <td>sadness</td>\n",
       "      <td>Funeral ceremony...gloomy friday...</td>\n",
       "    </tr>\n",
       "    <tr>\n",
       "      <th>3</th>\n",
       "      <td>happy</td>\n",
       "      <td>wants to hang out with friends SOON!</td>\n",
       "    </tr>\n",
       "    <tr>\n",
       "      <th>4</th>\n",
       "      <td>neutral</td>\n",
       "      <td>@dannycastillo We want to trade with someone w...</td>\n",
       "    </tr>\n",
       "  </tbody>\n",
       "</table>\n",
       "</div>"
      ],
      "text/plain": [
       "  sentiment                                               Text\n",
       "0   sadness  @tiffanylue i know  i was listenin to bad habi...\n",
       "1   sadness  Layin n bed with a headache  ughhhh...waitin o...\n",
       "2   sadness                Funeral ceremony...gloomy friday...\n",
       "3     happy               wants to hang out with friends SOON!\n",
       "4   neutral  @dannycastillo We want to trade with someone w..."
      ]
     },
     "execution_count": 2,
     "metadata": {},
     "output_type": "execute_result"
    }
   ],
   "source": [
    "df = pd.read_csv('combined_data.csv')\n",
    "df.head()"
   ]
  },
  {
   "cell_type": "code",
   "execution_count": 3,
   "id": "554fe7f4",
   "metadata": {},
   "outputs": [],
   "source": [
    "import nltk\n",
    "from nltk.corpus import stopwords\n",
    "from nltk.tokenize import word_tokenize\n",
    "import re\n",
    "\n",
    "stopWords = stopwords.words(\"english\")\n",
    "\n",
    "def cleanText(text):\n",
    "    \n",
    "    output = \"\"\n",
    "    \n",
    "    \n",
    "    for word in text.split():\n",
    "        cleanWord = re.sub(\"[^a-zA-Z]\",  # Search for all non-letters\n",
    "                          \" \",          # Replace all non-letters with spaces\n",
    "                          str(word))\n",
    "        if cleanWord in stopWords:\n",
    "            pass\n",
    "        else:\n",
    "            output = output + \" \" + cleanWord\n",
    "    return output"
   ]
  },
  {
   "cell_type": "code",
   "execution_count": 4,
   "id": "b43b32d7",
   "metadata": {},
   "outputs": [],
   "source": [
    "df.Text = df.Text.apply(lambda x: cleanText(x))"
   ]
  },
  {
   "cell_type": "code",
   "execution_count": 5,
   "id": "b59d014d",
   "metadata": {},
   "outputs": [],
   "source": [
    "from sklearn.model_selection import train_test_split\n",
    "\n",
    "#overall train and test\n",
    "X_train, X_test = train_test_split(df, test_size=0.2, random_state=42)"
   ]
  },
  {
   "cell_type": "code",
   "execution_count": 6,
   "id": "ef965e49",
   "metadata": {},
   "outputs": [],
   "source": [
    "#fear df\n",
    "fearDf = df[df['sentiment'] == 'fear']\n",
    "\n",
    "#happy df \n",
    "happyDf = df[df['sentiment'] == 'happy']\n",
    "\n",
    "\n",
    "#sadness df\n",
    "sadDf = df[df['sentiment'] == 'sadness']\n",
    "\n",
    "\n",
    "#anger df\n",
    "angerDf = df[df['sentiment'] == 'anger']\n"
   ]
  },
  {
   "cell_type": "code",
   "execution_count": 7,
   "id": "540f9721",
   "metadata": {},
   "outputs": [],
   "source": [
    "from sklearn import svm\n",
    "from sklearn.feature_extraction.text import TfidfVectorizer\n",
    "from sklearn.metrics import classification_report\n",
    "from sklearn.tree import DecisionTreeClassifier\n",
    "\n",
    "clf = svm.SVC(kernel='linear')"
   ]
  },
  {
   "cell_type": "code",
   "execution_count": 8,
   "id": "ccd20267",
   "metadata": {},
   "outputs": [
    {
     "name": "stdout",
     "output_type": "stream",
     "text": [
      "Training time: 41.703556s; Prediction time: 5.628467s\n",
      "fear:  {'precision': 0.7274909963985594, 'recall': 0.7406049495875344, 'f1-score': 0.733989401968206, 'support': 3273}\n",
      "happy:  {'precision': 0.6757066462948816, 'recall': 0.6608143444153903, 'f1-score': 0.6681775259678943, 'support': 2677}\n"
     ]
    }
   ],
   "source": [
    "import time\n",
    "\n",
    "#Fear vs Happy df\n",
    "fearHappyDf = pd.concat([fearDf, happyDf], axis=0)\n",
    "fh_train, fh_test = train_test_split(fearHappyDf, test_size=0.2, random_state=42)\n",
    "\n",
    "vectorizer = TfidfVectorizer(min_df = 5,\n",
    "                             max_df = 0.8,\n",
    "                             sublinear_tf = True,\n",
    "                             use_idf = True)\n",
    "train_vectors = vectorizer.fit_transform(fh_train['Text'])\n",
    "test_vectors = vectorizer.transform(fh_test['Text'])\n",
    "\n",
    "# Perform classification with SVM, kernel=linear\n",
    "classifier_linear = svm.SVC(kernel='linear')\n",
    "t0 = time.time()\n",
    "classifier_linear.fit(train_vectors, fh_train['sentiment'])\n",
    "t1 = time.time()\n",
    "prediction_linear = classifier_linear.predict(test_vectors)\n",
    "t2 = time.time()\n",
    "time_linear_train = t1-t0\n",
    "time_linear_predict = t2-t1\n",
    "\n",
    "# results\n",
    "print(\"Training time: %fs; Prediction time: %fs\" % (time_linear_train, time_linear_predict))\n",
    "report = classification_report(fh_test['sentiment'], prediction_linear, output_dict=True)\n",
    "print('fear: ', report['fear'])\n",
    "print('happy: ', report['happy'])\n",
    "\n",
    "\n",
    "\n",
    "\n"
   ]
  },
  {
   "cell_type": "code",
   "execution_count": 9,
   "id": "d2bd05b2",
   "metadata": {},
   "outputs": [
    {
     "name": "stdout",
     "output_type": "stream",
     "text": [
      "  (0, 757)\t0.5574552518645396\n",
      "  (0, 1474)\t0.13794736567791144\n",
      "  (0, 1493)\t0.45184057647492926\n",
      "  (0, 1593)\t0.4609231373578298\n",
      "  (0, 2391)\t0.20648217510612077\n",
      "  (0, 3228)\t0.45931387169737353\n",
      "  (1, 132)\t0.2580909629977318\n",
      "  (1, 647)\t0.268300325401973\n",
      "  (1, 1727)\t0.22937034368949272\n",
      "  (1, 1740)\t0.37616425650418966\n",
      "  (1, 2062)\t0.14836162054488716\n",
      "  (1, 2313)\t0.20596169347501156\n",
      "  (1, 2391)\t0.13729428289678108\n",
      "  (1, 2962)\t0.35066355668103155\n",
      "  (1, 3077)\t0.3033471952604451\n",
      "  (1, 3906)\t0.27429436449159145\n",
      "  (1, 4097)\t0.20760003328694396\n",
      "  (1, 4468)\t0.3921288043090607\n",
      "  (1, 4573)\t0.1871113601110105\n",
      "  (1, 4625)\t0.24883186031127622\n",
      "  (2, 1566)\t0.6015599968409576\n",
      "  (2, 2287)\t0.3201704145069095\n",
      "  (2, 2339)\t0.6217442782349224\n",
      "  (2, 3391)\t0.38607062612599324\n",
      "  (3, 1476)\t0.21872513481831346\n",
      "  :\t:\n",
      "  (23796, 2085)\t0.2728466283604734\n",
      "  (23796, 2336)\t0.3250677143436125\n",
      "  (23796, 3260)\t0.2957194020467564\n",
      "  (23796, 3403)\t0.33401181379810435\n",
      "  (23796, 4144)\t0.19715051434419506\n",
      "  (23796, 4227)\t0.35398073684949244\n",
      "  (23797, 1128)\t0.5334667694281466\n",
      "  (23797, 1351)\t0.19693343729824175\n",
      "  (23797, 1474)\t0.090578962264694\n",
      "  (23797, 1664)\t0.31364656255765955\n",
      "  (23797, 2021)\t0.3196842472238986\n",
      "  (23797, 2062)\t0.14650944099290328\n",
      "  (23797, 2168)\t0.20984826223173653\n",
      "  (23797, 2391)\t0.13558027045574836\n",
      "  (23797, 2550)\t0.25388861614913777\n",
      "  (23797, 2684)\t0.3248844733415559\n",
      "  (23797, 3228)\t0.30159455128173346\n",
      "  (23797, 3724)\t0.20376535274394086\n",
      "  (23797, 4349)\t0.2854495273926313\n",
      "  (23798, 422)\t0.37129556227508864\n",
      "  (23798, 2162)\t0.25210517307620184\n",
      "  (23798, 2467)\t0.29313269491166294\n",
      "  (23798, 2531)\t0.5292895856887292\n",
      "  (23798, 2865)\t0.39650656648300964\n",
      "  (23798, 4331)\t0.5246817011619314\n"
     ]
    }
   ],
   "source": [
    "print(train_vectors)"
   ]
  },
  {
   "cell_type": "code",
   "execution_count": 10,
   "id": "50bc26fc",
   "metadata": {},
   "outputs": [
    {
     "name": "stdout",
     "output_type": "stream",
     "text": [
      "Training time: 17.637299s; Prediction time: 2.869711s\n",
      "sadness:  {'precision': 0.7838765008576329, 'recall': 0.6984207845134998, 'f1-score': 0.7386853448275863, 'support': 1963}\n",
      "happy:  {'precision': 0.7967032967032966, 'recall': 0.859896219421794, 'f1-score': 0.8270944741532976, 'support': 2698}\n"
     ]
    }
   ],
   "source": [
    "import time\n",
    "\n",
    "#Sadness vs Happy df\n",
    "sadHappyDf = pd.concat([sadDf, happyDf], axis=0)\n",
    "sh_train, sh_test = train_test_split(sadHappyDf, test_size=0.2, random_state=42)\n",
    "\n",
    "vectorizer = TfidfVectorizer(min_df = 5,\n",
    "                             max_df = 0.8,\n",
    "                             sublinear_tf = True,\n",
    "                             use_idf = True)\n",
    "train_vectors = vectorizer.fit_transform(sh_train['Text'])\n",
    "test_vectors = vectorizer.transform(sh_test['Text'])\n",
    "\n",
    "# Perform classification with SVM, kernel=linear\n",
    "classifier_linear = svm.SVC(kernel='linear')\n",
    "t0 = time.time()\n",
    "classifier_linear.fit(train_vectors, sh_train['sentiment'])\n",
    "t1 = time.time()\n",
    "prediction_linear = classifier_linear.predict(test_vectors)\n",
    "t2 = time.time()\n",
    "time_linear_train = t1-t0\n",
    "time_linear_predict = t2-t1\n",
    "\n",
    "# results\n",
    "print(\"Training time: %fs; Prediction time: %fs\" % (time_linear_train, time_linear_predict))\n",
    "report = classification_report(sh_test['sentiment'], prediction_linear, output_dict=True)\n",
    "print('sadness: ', report['sadness'])\n",
    "print('happy: ', report['happy'])"
   ]
  },
  {
   "cell_type": "code",
   "execution_count": 11,
   "id": "e6f1ccea",
   "metadata": {},
   "outputs": [
    {
     "name": "stdout",
     "output_type": "stream",
     "text": [
      "Training time: 5.766484s; Prediction time: 0.920254s\n",
      "sadness:  {'precision': 0.8230668414154653, 'recall': 0.9467336683417086, 'f1-score': 0.8805795746669783, 'support': 1990}\n",
      "anger:  {'precision': 0.78099173553719, 'recall': 0.4827586206896552, 'f1-score': 0.5966850828729282, 'support': 783}\n"
     ]
    }
   ],
   "source": [
    "#Sadness vs Anger df\n",
    "sadAngryDf = pd.concat([sadDf, angerDf], axis=0)\n",
    "sa_train, sa_test = train_test_split(sadAngryDf, test_size=0.2, random_state=42)\n",
    "\n",
    "vectorizer = TfidfVectorizer(min_df = 5,\n",
    "                             max_df = 0.8,\n",
    "                             sublinear_tf = True,\n",
    "                             use_idf = True)\n",
    "train_vectors = vectorizer.fit_transform(sa_train['Text'])\n",
    "test_vectors = vectorizer.transform(sa_test['Text'])\n",
    "\n",
    "# Perform classification with SVM, kernel=linear\n",
    "classifier_linear = svm.SVC(kernel='linear')\n",
    "t0 = time.time()\n",
    "classifier_linear.fit(train_vectors, sa_train['sentiment'])\n",
    "t1 = time.time()\n",
    "prediction_linear = classifier_linear.predict(test_vectors)\n",
    "t2 = time.time()\n",
    "time_linear_train = t1-t0\n",
    "time_linear_predict = t2-t1\n",
    "\n",
    "# results\n",
    "print(\"Training time: %fs; Prediction time: %fs\" % (time_linear_train, time_linear_predict))\n",
    "report = classification_report(sa_test['sentiment'], prediction_linear, output_dict=True)\n",
    "print('sadness: ', report['sadness'])\n",
    "print('anger: ', report['anger'])"
   ]
  },
  {
   "cell_type": "code",
   "execution_count": 12,
   "id": "942e4701",
   "metadata": {},
   "outputs": [
    {
     "data": {
      "text/plain": [
       "(23799, 1000)"
      ]
     },
     "execution_count": 12,
     "metadata": {},
     "output_type": "execute_result"
    }
   ],
   "source": [
    "from sklearn.feature_extraction.text import CountVectorizer\n",
    "import gensim\n",
    "\n",
    "bow_vectorizer = CountVectorizer(max_df = 0.9, min_df = 2, max_features = 1000, stop_words = 'english')\n",
    "bow = bow_vectorizer.fit_transform(fh_train['Text'])\n",
    "bow.shape"
   ]
  },
  {
   "cell_type": "code",
   "execution_count": 13,
   "id": "2b8017a4",
   "metadata": {},
   "outputs": [
    {
     "data": {
      "text/html": [
       "<div>\n",
       "<style scoped>\n",
       "    .dataframe tbody tr th:only-of-type {\n",
       "        vertical-align: middle;\n",
       "    }\n",
       "\n",
       "    .dataframe tbody tr th {\n",
       "        vertical-align: top;\n",
       "    }\n",
       "\n",
       "    .dataframe thead th {\n",
       "        text-align: right;\n",
       "    }\n",
       "</style>\n",
       "<table border=\"1\" class=\"dataframe\">\n",
       "  <thead>\n",
       "    <tr style=\"text-align: right;\">\n",
       "      <th></th>\n",
       "      <th>sentiment</th>\n",
       "      <th>Text</th>\n",
       "    </tr>\n",
       "  </thead>\n",
       "  <tbody>\n",
       "    <tr>\n",
       "      <th>0</th>\n",
       "      <td>not happy</td>\n",
       "      <td>@tiffanylue i know  i was listenin to bad habi...</td>\n",
       "    </tr>\n",
       "    <tr>\n",
       "      <th>1</th>\n",
       "      <td>not happy</td>\n",
       "      <td>Layin n bed with a headache  ughhhh...waitin o...</td>\n",
       "    </tr>\n",
       "    <tr>\n",
       "      <th>2</th>\n",
       "      <td>not happy</td>\n",
       "      <td>Funeral ceremony...gloomy friday...</td>\n",
       "    </tr>\n",
       "    <tr>\n",
       "      <th>3</th>\n",
       "      <td>happy</td>\n",
       "      <td>wants to hang out with friends SOON!</td>\n",
       "    </tr>\n",
       "    <tr>\n",
       "      <th>4</th>\n",
       "      <td>not happy</td>\n",
       "      <td>@dannycastillo We want to trade with someone w...</td>\n",
       "    </tr>\n",
       "  </tbody>\n",
       "</table>\n",
       "</div>"
      ],
      "text/plain": [
       "   sentiment                                               Text\n",
       "0  not happy  @tiffanylue i know  i was listenin to bad habi...\n",
       "1  not happy  Layin n bed with a headache  ughhhh...waitin o...\n",
       "2  not happy                Funeral ceremony...gloomy friday...\n",
       "3      happy               wants to hang out with friends SOON!\n",
       "4  not happy  @dannycastillo We want to trade with someone w..."
      ]
     },
     "execution_count": 13,
     "metadata": {},
     "output_type": "execute_result"
    }
   ],
   "source": [
    "happyVsRest = pd.read_csv('combined_data.csv')\n",
    "\n",
    "happyVsRest['sentiment'] = np.where((happyVsRest.sentiment != 'happy'),'not happy', happyVsRest.sentiment)\n",
    "\n",
    "happyVsRest.head()"
   ]
  },
  {
   "cell_type": "code",
   "execution_count": 14,
   "id": "5c55d1fe",
   "metadata": {},
   "outputs": [
    {
     "name": "stdout",
     "output_type": "stream",
     "text": [
      "Training time: 371.668643s; Prediction time: 31.592927s\n",
      "not happy:  {'precision': 0.7950072420550396, 'recall': 0.9780922431865828, 'f1-score': 0.8770973351506322, 'support': 9540}\n",
      "happy:  {'precision': 0.6234234234234234, 'recall': 0.1257267441860465, 'f1-score': 0.20925309948593893, 'support': 2752}\n"
     ]
    }
   ],
   "source": [
    "#Non Happy vs Happy df\n",
    "hnh_train, hnh_test = train_test_split(happyVsRest, test_size=0.2, random_state=42)\n",
    "\n",
    "vectorizer = TfidfVectorizer(min_df = 5,\n",
    "                             max_df = 0.8,\n",
    "                             sublinear_tf = True,\n",
    "                             use_idf = True)\n",
    "train_vectors = vectorizer.fit_transform(hnh_train['Text'])\n",
    "test_vectors = vectorizer.transform(hnh_test['Text'])\n",
    "\n",
    "# Perform classification with SVM, kernel=linear\n",
    "classifier_linear = svm.SVC(kernel='linear')\n",
    "t0 = time.time()\n",
    "classifier_linear.fit(train_vectors, hnh_train['sentiment'])\n",
    "t1 = time.time()\n",
    "prediction_linear = classifier_linear.predict(test_vectors)\n",
    "t2 = time.time()\n",
    "time_linear_train = t1-t0\n",
    "time_linear_predict = t2-t1\n",
    "\n",
    "# results\n",
    "print(\"Training time: %fs; Prediction time: %fs\" % (time_linear_train, time_linear_predict))\n",
    "report = classification_report(hnh_test['sentiment'], prediction_linear, output_dict=True)\n",
    "print('not happy: ', report['not happy'])\n",
    "print('happy: ', report['happy'])"
   ]
  },
  {
   "cell_type": "code",
   "execution_count": 15,
   "id": "b5f14d99",
   "metadata": {},
   "outputs": [
    {
     "data": {
      "text/html": [
       "<div>\n",
       "<style scoped>\n",
       "    .dataframe tbody tr th:only-of-type {\n",
       "        vertical-align: middle;\n",
       "    }\n",
       "\n",
       "    .dataframe tbody tr th {\n",
       "        vertical-align: top;\n",
       "    }\n",
       "\n",
       "    .dataframe thead th {\n",
       "        text-align: right;\n",
       "    }\n",
       "</style>\n",
       "<table border=\"1\" class=\"dataframe\">\n",
       "  <thead>\n",
       "    <tr style=\"text-align: right;\">\n",
       "      <th></th>\n",
       "      <th>sentiment</th>\n",
       "      <th>Text</th>\n",
       "    </tr>\n",
       "  </thead>\n",
       "  <tbody>\n",
       "    <tr>\n",
       "      <th>0</th>\n",
       "      <td>not fear</td>\n",
       "      <td>@tiffanylue i know  i was listenin to bad habi...</td>\n",
       "    </tr>\n",
       "    <tr>\n",
       "      <th>1</th>\n",
       "      <td>not fear</td>\n",
       "      <td>Layin n bed with a headache  ughhhh...waitin o...</td>\n",
       "    </tr>\n",
       "    <tr>\n",
       "      <th>2</th>\n",
       "      <td>not fear</td>\n",
       "      <td>Funeral ceremony...gloomy friday...</td>\n",
       "    </tr>\n",
       "    <tr>\n",
       "      <th>3</th>\n",
       "      <td>not fear</td>\n",
       "      <td>wants to hang out with friends SOON!</td>\n",
       "    </tr>\n",
       "    <tr>\n",
       "      <th>4</th>\n",
       "      <td>not fear</td>\n",
       "      <td>@dannycastillo We want to trade with someone w...</td>\n",
       "    </tr>\n",
       "  </tbody>\n",
       "</table>\n",
       "</div>"
      ],
      "text/plain": [
       "  sentiment                                               Text\n",
       "0  not fear  @tiffanylue i know  i was listenin to bad habi...\n",
       "1  not fear  Layin n bed with a headache  ughhhh...waitin o...\n",
       "2  not fear                Funeral ceremony...gloomy friday...\n",
       "3  not fear               wants to hang out with friends SOON!\n",
       "4  not fear  @dannycastillo We want to trade with someone w..."
      ]
     },
     "execution_count": 15,
     "metadata": {},
     "output_type": "execute_result"
    }
   ],
   "source": [
    "fearVsRest = pd.read_csv('combined_data.csv')\n",
    "\n",
    "fearVsRest['sentiment'] = np.where((fearVsRest.sentiment != 'fear'),'not fear', fearVsRest.sentiment)\n",
    "\n",
    "fearVsRest.head()"
   ]
  },
  {
   "cell_type": "code",
   "execution_count": 16,
   "id": "7c794e04",
   "metadata": {},
   "outputs": [
    {
     "name": "stdout",
     "output_type": "stream",
     "text": [
      "Training time: 502.315996s; Prediction time: 34.620466s\n",
      "not fear:  {'precision': 0.7567336468576314, 'recall': 0.9809354910219463, 'f1-score': 0.8543708065839647, 'support': 9022}\n",
      "fear:  {'precision': 0.711892797319933, 'recall': 0.12996941896024464, 'f1-score': 0.21980863718644944, 'support': 3270}\n"
     ]
    }
   ],
   "source": [
    "#Non Fear vs Fear df\n",
    "fnf_train, fnf_test = train_test_split(fearVsRest, test_size=0.2, random_state=42)\n",
    "\n",
    "vectorizer = TfidfVectorizer(min_df = 5,\n",
    "                             max_df = 0.8,\n",
    "                             sublinear_tf = True,\n",
    "                             use_idf = True)\n",
    "train_vectors = vectorizer.fit_transform(fnf_train['Text'])\n",
    "test_vectors = vectorizer.transform(fnf_test['Text'])\n",
    "\n",
    "# Perform classification with SVM, kernel=linear\n",
    "classifier_linear = svm.SVC(kernel='linear')\n",
    "t0 = time.time()\n",
    "classifier_linear.fit(train_vectors, fnf_train['sentiment'])\n",
    "t1 = time.time()\n",
    "prediction_linear = classifier_linear.predict(test_vectors)\n",
    "t2 = time.time()\n",
    "time_linear_train = t1-t0\n",
    "time_linear_predict = t2-t1\n",
    "\n",
    "# results\n",
    "print(\"Training time: %fs; Prediction time: %fs\" % (time_linear_train, time_linear_predict))\n",
    "report = classification_report(fnf_test['sentiment'], prediction_linear, output_dict=True)\n",
    "print('not fear: ', report['not fear'])\n",
    "print('fear: ', report['fear'])"
   ]
  },
  {
   "cell_type": "code",
   "execution_count": 19,
   "id": "18eae009",
   "metadata": {},
   "outputs": [
    {
     "name": "stdout",
     "output_type": "stream",
     "text": [
      "Training time: 406.767569s; Prediction time: 61.910850s\n",
      "sadness:  {'precision': 0.4468814256339959, 'recall': 0.33487416538264, 'f1-score': 0.3828537874339401, 'support': 1947}\n"
     ]
    }
   ],
   "source": [
    "sadVsRest = pd.read_csv('combined_data.csv')\n",
    "\n",
    "sadVsRest['sadness'] = np.where((sadVsRest.sentiment != 'sadness'),'not sadness', sadVsRest.sentiment)\n",
    "\n",
    "sadVsRest.head()\n",
    "\n",
    "#Non Sadness vs Sadness df\n",
    "sns_train, sns_test = train_test_split(sadVsRest, test_size=0.2, random_state=42)\n",
    "\n",
    "vectorizer = TfidfVectorizer(min_df = 5,\n",
    "                             max_df = 0.8,\n",
    "                             sublinear_tf = True,\n",
    "                             use_idf = True)\n",
    "train_vectors = vectorizer.fit_transform(sns_train['Text'])\n",
    "test_vectors = vectorizer.transform(sns_test['Text'])\n",
    "\n",
    "# Perform classification with SVM, kernel=linear\n",
    "classifier_linear = svm.SVC(kernel='linear')\n",
    "t0 = time.time()\n",
    "classifier_linear.fit(train_vectors, sns_train['sentiment'])\n",
    "t1 = time.time()\n",
    "prediction_linear = classifier_linear.predict(test_vectors)\n",
    "t2 = time.time()\n",
    "time_linear_train = t1-t0\n",
    "time_linear_predict = t2-t1\n",
    "\n",
    "# results\n",
    "print(\"Training time: %fs; Prediction time: %fs\" % (time_linear_train, time_linear_predict))\n",
    "report = classification_report(sns_test['sentiment'], prediction_linear, output_dict=True)\n",
    "\n",
    "print('sadness: ', report['sadness'])"
   ]
  },
  {
   "cell_type": "code",
   "execution_count": 21,
   "id": "669f8a67",
   "metadata": {},
   "outputs": [
    {
     "name": "stdout",
     "output_type": "stream",
     "text": [
      "Training time: 439.986216s; Prediction time: 69.803237s\n",
      "anger:  {'precision': 0.48905109489051096, 'recall': 0.2554002541296061, 'f1-score': 0.33555926544240405, 'support': 787}\n"
     ]
    }
   ],
   "source": [
    "angerVsRest = pd.read_csv('combined_data.csv')\n",
    "\n",
    "angerVsRest['anger'] = np.where((angerVsRest.sentiment != 'anger'),'not anger', angerVsRest.sentiment)\n",
    "\n",
    "angerVsRest.head()\n",
    "\n",
    "ana_train, ana_test = train_test_split(angerVsRest, test_size=0.2, random_state=42)\n",
    "\n",
    "vectorizer = TfidfVectorizer(min_df = 5,\n",
    "                             max_df = 0.8,\n",
    "                             sublinear_tf = True,\n",
    "                             use_idf = True)\n",
    "train_vectors = vectorizer.fit_transform(ana_train['Text'])\n",
    "test_vectors = vectorizer.transform(ana_test['Text'])\n",
    "\n",
    "# Perform classification with SVM, kernel=linear\n",
    "classifier_linear = svm.SVC(kernel='linear')\n",
    "t0 = time.time()\n",
    "classifier_linear.fit(train_vectors, ana_train['sentiment'])\n",
    "t1 = time.time()\n",
    "prediction_linear = classifier_linear.predict(test_vectors)\n",
    "t2 = time.time()\n",
    "time_linear_train = t1-t0\n",
    "time_linear_predict = t2-t1\n",
    "\n",
    "# results\n",
    "print(\"Training time: %fs; Prediction time: %fs\" % (time_linear_train, time_linear_predict))\n",
    "report = classification_report(ana_test['sentiment'], prediction_linear, output_dict=True)\n",
    "\n",
    "print('anger: ', report['anger'])"
   ]
  }
 ],
 "metadata": {
  "hide_input": false,
  "kernelspec": {
   "display_name": "Python 3",
   "language": "python",
   "name": "python3"
  },
  "language_info": {
   "codemirror_mode": {
    "name": "ipython",
    "version": 3
   },
   "file_extension": ".py",
   "mimetype": "text/x-python",
   "name": "python",
   "nbconvert_exporter": "python",
   "pygments_lexer": "ipython3",
   "version": "3.8.8"
  }
 },
 "nbformat": 4,
 "nbformat_minor": 5
}
